{
 "cells": [
  {
   "cell_type": "markdown",
   "id": "c1c3b614",
   "metadata": {
    "toc": true
   },
   "source": [
    "<h1>Table of Contents<span class=\"tocSkip\"></span></h1>\n",
    "<div class=\"toc\"><ul class=\"toc-item\"><li><span><a href=\"#JOIN-tables\" data-toc-modified-id=\"JOIN-tables-1\"><span class=\"toc-item-num\">1&nbsp;&nbsp;</span>JOIN tables</a></span></li><li><span><a href=\"#Считаем-таргет-как-pr_sales_in_units-+-pr_promo_sales_in_units\" data-toc-modified-id=\"Считаем-таргет-как-pr_sales_in_units-+-pr_promo_sales_in_units-2\"><span class=\"toc-item-num\">2&nbsp;&nbsp;</span>Считаем таргет как pr_sales_in_units + pr_promo_sales_in_units</a></span></li><li><span><a href=\"#Соответственно,-их-удаляем,-оставляем-только-сумму-как-таргет\" data-toc-modified-id=\"Соответственно,-их-удаляем,-оставляем-только-сумму-как-таргет-3\"><span class=\"toc-item-num\">3&nbsp;&nbsp;</span>Соответственно, их удаляем, оставляем только сумму как таргет</a></span></li><li><span><a href=\"#Также-удаляем-суммы-в-руб\" data-toc-modified-id=\"Также-удаляем-суммы-в-руб-4\"><span class=\"toc-item-num\">4&nbsp;&nbsp;</span>Также удаляем суммы в руб</a></span></li><li><span><a href=\"#добавляем-в-тест-признак-промо-(=0)\" data-toc-modified-id=\"добавляем-в-тест-признак-промо-(=0)-5\"><span class=\"toc-item-num\">5&nbsp;&nbsp;</span>добавляем в тест признак промо (=0)</a></span></li><li><span><a href=\"#делим-на-признаки-и-таргет\" data-toc-modified-id=\"делим-на-признаки-и-таргет-6\"><span class=\"toc-item-num\">6&nbsp;&nbsp;</span>делим на признаки и таргет</a></span></li><li><span><a href=\"#Кодируем-признаки-и-обучаем\" data-toc-modified-id=\"Кодируем-признаки-и-обучаем-7\"><span class=\"toc-item-num\">7&nbsp;&nbsp;</span>Кодируем признаки и обучаем</a></span></li></ul></div>"
   ]
  },
  {
   "cell_type": "code",
   "execution_count": 1,
   "id": "23bdcbca",
   "metadata": {},
   "outputs": [],
   "source": [
    "import pandas as pd\n",
    "import numpy as np"
   ]
  },
  {
   "cell_type": "code",
   "execution_count": 2,
   "id": "aff08180",
   "metadata": {
    "scrolled": true
   },
   "outputs": [],
   "source": [
    "#загрузка данных\n",
    "try:\n",
    "    sales_df_train = pd.read_csv(\"sales_df_train.csv\")\n",
    "    sales_submission = pd.read_csv(\"sales_submission.csv\")\n",
    "    pr_df = pd.read_csv(\"pr_df.csv\")\n",
    "    st_df = pd.read_csv(\"st_df.csv\")\n",
    "except:\n",
    "    print('Проверить путь к файлам')"
   ]
  },
  {
   "cell_type": "markdown",
   "id": "fb4bb01c",
   "metadata": {},
   "source": [
    "## JOIN tables"
   ]
  },
  {
   "cell_type": "code",
   "execution_count": 3,
   "id": "2251ce26",
   "metadata": {},
   "outputs": [],
   "source": [
    "df_train = sales_df_train.merge(pr_df, how='left', on='pr_sku_id')\n",
    "df_train = df_train.merge(st_df, how='left', on='st_id')\n",
    "\n",
    "df_test = sales_submission.merge(pr_df, how='left', on='pr_sku_id')\n",
    "df_test = df_test.merge(st_df, how='left', on='st_id')"
   ]
  },
  {
   "cell_type": "markdown",
   "id": "996542a3",
   "metadata": {},
   "source": [
    "## Считаем таргет как pr_sales_in_units + pr_promo_sales_in_units"
   ]
  },
  {
   "cell_type": "code",
   "execution_count": 4,
   "id": "667d5f79",
   "metadata": {},
   "outputs": [],
   "source": [
    "df_train['target'] = df_train['pr_sales_in_units'] + df_train['pr_promo_sales_in_units']"
   ]
  },
  {
   "cell_type": "markdown",
   "id": "1f0fa348",
   "metadata": {},
   "source": [
    "## Соответственно, их удаляем, оставляем только сумму как таргет\n",
    "## Также удаляем суммы в руб"
   ]
  },
  {
   "cell_type": "code",
   "execution_count": 5,
   "id": "09e276b8",
   "metadata": {},
   "outputs": [],
   "source": [
    "df_train = df_train.drop(columns=['pr_sales_in_units', \n",
    "                                  'pr_promo_sales_in_units','pr_sales_in_rub', 'pr_promo_sales_in_rub'])"
   ]
  },
  {
   "cell_type": "markdown",
   "id": "96e29b37",
   "metadata": {},
   "source": [
    "## добавляем в тест признак промо (=0)"
   ]
  },
  {
   "cell_type": "code",
   "execution_count": 6,
   "id": "3110ee1f",
   "metadata": {},
   "outputs": [],
   "source": [
    "df_test['pr_sales_type_id'] = 0"
   ]
  },
  {
   "cell_type": "markdown",
   "id": "b85416cd",
   "metadata": {},
   "source": [
    "## делим на признаки и таргет"
   ]
  },
  {
   "cell_type": "code",
   "execution_count": 7,
   "id": "319003e2",
   "metadata": {},
   "outputs": [],
   "source": [
    "X_train = df_train.drop(columns=['target'])\n",
    "y_train = df_train['target']\n",
    "\n",
    "X_test = df_test.drop(columns=['target'])\n",
    "y_test = df_test['target']"
   ]
  },
  {
   "cell_type": "code",
   "execution_count": 8,
   "id": "3ac120f9",
   "metadata": {},
   "outputs": [],
   "source": [
    "cc = df_train.columns.to_list()\n",
    "cc.sort()\n",
    "cc.pop()\n",
    "\n",
    "#сортируем колонки, чтобы сходились\n",
    "X_train = X_train.reindex(columns=cc)\n",
    "X_test = X_test.reindex(columns=cc)\n",
    "\n",
    "X_train['date'] = pd.to_datetime(X_train['date']).values.astype(\"float64\")\n",
    "X_test['date'] = pd.to_datetime(X_test['date']).values.astype(\"float64\")"
   ]
  },
  {
   "cell_type": "markdown",
   "id": "80168a5e",
   "metadata": {},
   "source": [
    "## Кодируем признаки и обучаем"
   ]
  },
  {
   "cell_type": "code",
   "execution_count": 9,
   "id": "a8fd3d95",
   "metadata": {},
   "outputs": [],
   "source": [
    "from sklearn.linear_model import LinearRegression\n",
    "from sklearn.preprocessing import OrdinalEncoder\n",
    "oe = OrdinalEncoder(handle_unknown='use_encoded_value', unknown_value=9999)\n",
    "\n",
    "#code features\n",
    "col = ['pr_cat_id', 'pr_group_id', 'pr_sku_id', 'pr_subcat_id', \n",
    "       'st_city_id', 'st_division_code', 'st_id']\n",
    "X_train[col] = oe.fit_transform(X_train[col])\n",
    "X_test[col] = oe.transform(X_test[col])\n",
    "\n",
    "#initialise the model\n",
    "model = LinearRegression()\n",
    "\n",
    "#fit the model on train data\n",
    "model.fit(X_train, y_train)\n",
    "\n",
    "#make predictions\n",
    "y_pred = model.predict(X_test)"
   ]
  }
 ],
 "metadata": {
  "kernelspec": {
   "display_name": "Python 3 (ipykernel)",
   "language": "python",
   "name": "python3"
  },
  "language_info": {
   "codemirror_mode": {
    "name": "ipython",
    "version": 3
   },
   "file_extension": ".py",
   "mimetype": "text/x-python",
   "name": "python",
   "nbconvert_exporter": "python",
   "pygments_lexer": "ipython3",
   "version": "3.9.18"
  },
  "toc": {
   "base_numbering": 1,
   "nav_menu": {},
   "number_sections": true,
   "sideBar": true,
   "skip_h1_title": true,
   "title_cell": "Table of Contents",
   "title_sidebar": "Contents",
   "toc_cell": true,
   "toc_position": {},
   "toc_section_display": true,
   "toc_window_display": true
  }
 },
 "nbformat": 4,
 "nbformat_minor": 5
}
