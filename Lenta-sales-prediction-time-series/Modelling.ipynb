{
 "cells": [
  {
   "cell_type": "markdown",
   "id": "77db6d85",
   "metadata": {
    "toc": true
   },
   "source": [
    "<h1>Table of Contents<span class=\"tocSkip\"></span></h1>\n",
    "<div class=\"toc\"><ul class=\"toc-item\"><li><span><a href=\"#Импорт-библиотек\" data-toc-modified-id=\"Импорт-библиотек-1\"><span class=\"toc-item-num\">1&nbsp;&nbsp;</span>Импорт библиотек</a></span></li><li><span><a href=\"#Полный-датасет-(без-разделения)---CatBoost\" data-toc-modified-id=\"Полный-датасет-(без-разделения)---CatBoost-2\"><span class=\"toc-item-num\">2&nbsp;&nbsp;</span>Полный датасет (без разделения) - CatBoost</a></span><ul class=\"toc-item\"><li><ul class=\"toc-item\"><li><span><a href=\"#Загрузка-и-обработка-данных\" data-toc-modified-id=\"Загрузка-и-обработка-данных-2.0.1\"><span class=\"toc-item-num\">2.0.1&nbsp;&nbsp;</span>Загрузка и обработка данных</a></span></li><li><span><a href=\"#Custom-функции-для-Cross-validation-и-WAPE\" data-toc-modified-id=\"Custom-функции-для-Cross-validation-и-WAPE-2.0.2\"><span class=\"toc-item-num\">2.0.2&nbsp;&nbsp;</span>Custom функции для Cross validation и WAPE</a></span></li><li><span><a href=\"#Обучение-модели\" data-toc-modified-id=\"Обучение-модели-2.0.3\"><span class=\"toc-item-num\">2.0.3&nbsp;&nbsp;</span>Обучение модели</a></span></li><li><span><a href=\"#Проверка-на-тестовых-данных\" data-toc-modified-id=\"Проверка-на-тестовых-данных-2.0.4\"><span class=\"toc-item-num\">2.0.4&nbsp;&nbsp;</span>Проверка на тестовых данных</a></span></li></ul></li></ul></li></ul></div>"
   ]
  },
  {
   "cell_type": "markdown",
   "id": "06b3dceb",
   "metadata": {},
   "source": [
    "# Построение моделей"
   ]
  },
  {
   "cell_type": "markdown",
   "id": "e27d6720",
   "metadata": {},
   "source": [
    "## Импорт библиотек"
   ]
  },
  {
   "cell_type": "code",
   "execution_count": 1,
   "id": "65594ee3",
   "metadata": {},
   "outputs": [],
   "source": [
    "import pandas as pd\n",
    "import numpy as np\n",
    "import math\n",
    "\n",
    "import seaborn as sns\n",
    "sns.set_palette(\"pastel\")\n",
    "\n",
    "import matplotlib.pyplot as plt\n",
    "\n",
    "from sklearn.preprocessing import StandardScaler, OrdinalEncoder\n",
    "from sklearn.compose import make_column_transformer\n",
    "from sklearn.metrics import make_scorer\n",
    "import catboost as cb\n",
    "from imblearn.pipeline import Pipeline, make_pipeline\n",
    "from sklearn.model_selection import cross_validate, GridSearchCV, cross_val_score\n",
    "\n",
    "import json\n",
    "import warnings"
   ]
  },
  {
   "cell_type": "markdown",
   "id": "51c301d8",
   "metadata": {},
   "source": [
    "___"
   ]
  },
  {
   "cell_type": "markdown",
   "id": "5550ff8a",
   "metadata": {},
   "source": [
    "## Полный датасет (без разделения) - CatBoost"
   ]
  },
  {
   "cell_type": "markdown",
   "id": "819f4162",
   "metadata": {},
   "source": [
    "#### Загрузка и обработка данных"
   ]
  },
  {
   "cell_type": "markdown",
   "id": "d800353d",
   "metadata": {},
   "source": [
    "Загрузим полный датасет (сохранили в notebook с EDA)"
   ]
  },
  {
   "cell_type": "code",
   "execution_count": 2,
   "id": "bb15256b",
   "metadata": {},
   "outputs": [],
   "source": [
    "#загрузка полного датасета и словаря с индексами для CV\n",
    "data_full = pd.read_csv('data_full.csv')\n",
    "data_full_dates = pd.read_csv('data_full_dates.csv')\n",
    "data_submission = pd.read_csv('data_submission.csv')\n",
    "data_test_dates = pd.read_csv('data_test_dates.csv')\n",
    "\n",
    "\n",
    "# Opening JSON file\n",
    "with open('data_full_dict.json') as json_file:\n",
    "    data_full_cv = json.load(json_file)\n",
    "json_file.close()"
   ]
  },
  {
   "cell_type": "markdown",
   "id": "94601e8e",
   "metadata": {},
   "source": [
    "Выделим train данные"
   ]
  },
  {
   "cell_type": "code",
   "execution_count": 3,
   "id": "bfe0c0ae",
   "metadata": {},
   "outputs": [],
   "source": [
    "X_train = data_full.drop(columns=['target'])\n",
    "y_train = data_full['target']"
   ]
  },
  {
   "cell_type": "markdown",
   "id": "f7d9fb35",
   "metadata": {},
   "source": [
    "Выделим фичи категориальные и числовые (категориальные далее понадобятся для Catboost)"
   ]
  },
  {
   "cell_type": "code",
   "execution_count": 4,
   "id": "204764d7",
   "metadata": {},
   "outputs": [],
   "source": [
    "%%capture\n",
    "\n",
    "#create an instance of scaling and encoding the features\n",
    "\n",
    "#data transformation objects\n",
    "#using OE (not OHE) for tree-like models (incl boosting) because two much unuique values -> \n",
    "#to many transformed columns -> longer time and OHE for linear regression\n",
    "# sc = StandardScaler()\n",
    "# oe = OrdinalEncoder(handle_unknown='use_encoded_value', unknown_value=-1)\n",
    "# ohe = OneHotEncoder(handle_unknown='ignore')\n",
    "\n",
    "#list of numeric and non-numeric features\n",
    "    #days_ny, days_paskha - not encoding      \n",
    "\n",
    "features_n = ['day',\n",
    "            'dayofweek',\n",
    "            'ma_3d',\n",
    "            'ma_6d',\n",
    "            'ma_9d',\n",
    "            'ma_12d',\n",
    "            'ma_15d',\n",
    "            'max_3d',\n",
    "            'max_6d',\n",
    "            'max_9d',\n",
    "            'max_12d',\n",
    "            'max_15d',\n",
    "            'min_3d',\n",
    "            'min_6d',\n",
    "            'min_9d',\n",
    "            'min_12d',\n",
    "            'min_15d',\n",
    "            'sales_0days_ago',\n",
    "            'sales_1days_ago',\n",
    "             'sales_2days_ago',\n",
    "             'sales_3days_ago',\n",
    "             'sales_4days_ago',\n",
    "             'sales_5days_ago',\n",
    "             'sales_6days_ago',\n",
    "             'sales_7days_ago',\n",
    "             'sales_8days_ago',\n",
    "             'sales_9days_ago',\n",
    "             'sales_10days_ago',\n",
    "             'sales_11days_ago',\n",
    "             'sales_12days_ago',\n",
    "             'sales_13days_ago',\n",
    "             'sales_14days_ago',\n",
    "             'sales_15days_ago',\n",
    "             'sales_16days_ago',\n",
    "             'sales_17days_ago',\n",
    "             'sales_18days_ago',\n",
    "             'sales_19days_ago',\n",
    "             'sales_20days_ago',\n",
    "             'sales_21days_ago']\n",
    "\n",
    "features_str = ['st_id',\n",
    "                'pr_sku_id',\n",
    "                'st_city_id',\n",
    "                'st_division_code',\n",
    "                'st_type_format_id',\n",
    "                'st_type_loc_id',\n",
    "                'st_type_size_id',\n",
    "                'pr_group_id',\n",
    "                'pr_cat_id',\n",
    "                'pr_subcat_id',\n",
    "                'pr_uom_id',\n",
    "                'holiday',\n",
    "               ]\n",
    "\n",
    "#change all categorical to string\n",
    "for col in X_train[features_str].columns:\n",
    "    X_train[col] = X_train[col].astype(str)\n",
    "\n",
    "# #combine into one single object\n",
    "# ct_oe = make_column_transformer(\n",
    "#     (sc, features_n),\n",
    "#     (oe, features_str),\n",
    "#     remainder='passthrough'\n",
    "# )\n",
    "\n",
    "# #combine into one single object\n",
    "# ct_ohe = make_column_transformer(\n",
    "#     (sc, features_n),\n",
    "#     (ohe, features_str),\n",
    "#     remainder='passthrough'\n",
    "# )\n",
    "\n",
    "\n",
    "#fit the transformers\n",
    "# ct_oe.fit(X_train)\n",
    "# ct_ohe.fit(data_full)"
   ]
  },
  {
   "cell_type": "markdown",
   "id": "b13506ad",
   "metadata": {},
   "source": [
    "#### Custom функции для Cross validation и WAPE"
   ]
  },
  {
   "cell_type": "markdown",
   "id": "8d76d9f3",
   "metadata": {},
   "source": [
    "Создадим custom cross validation для Catboost: три итерации выбора по 14 дней для прогноза в качестве валидационных данных."
   ]
  },
  {
   "cell_type": "markdown",
   "id": "374cfea6",
   "metadata": {},
   "source": [
    "Объект валидации генерирует индексы для выбора данных из полного датасета (на основании дат). Индексы были получены при сохранении файлов после препроцессинга в книге EDA and Preprocessing"
   ]
  },
  {
   "cell_type": "code",
   "execution_count": 5,
   "id": "b8c14ed5",
   "metadata": {},
   "outputs": [],
   "source": [
    "class CustomCrossValidation:\n",
    "    \n",
    "    def __init__(self, dict_cv):\n",
    "        self.dict_cv = dict_cv\n",
    "    \n",
    "    def split(self, X=None, y=None, groups=None):\n",
    "        for i in range(1, 4):\n",
    "            training_indices = self.dict_cv[f'train_{i}']\n",
    "            test_indices = self.dict_cv[f'valid_{i}']  \n",
    "\n",
    "            yield training_indices, test_indices"
   ]
  },
  {
   "cell_type": "markdown",
   "id": "2694afe2",
   "metadata": {},
   "source": [
    "Создадим метрику"
   ]
  },
  {
   "cell_type": "code",
   "execution_count": 6,
   "id": "270eeebd",
   "metadata": {},
   "outputs": [],
   "source": [
    "#функция WAPE\n",
    "def wape(y_true: np.array, y_pred: np.array):\n",
    "    return np.sum(np.abs(y_true-y_pred))/np.sum(np.abs(y_true))"
   ]
  },
  {
   "cell_type": "markdown",
   "id": "323269a5",
   "metadata": {},
   "source": [
    "WAPE в формате catboost"
   ]
  },
  {
   "cell_type": "code",
   "execution_count": 7,
   "id": "6bb6a174",
   "metadata": {},
   "outputs": [],
   "source": [
    "#функция WAPE для catboost\n",
    "class custom_wape:\n",
    "    \n",
    "    def get_final_error(self,error,weight):\n",
    "        return error\n",
    "    \n",
    "    def is_max_optimal(self):\n",
    "        return False\n",
    "    \n",
    "    def evaluate(self, approxes, target, weight):\n",
    "        y_true = target.astype(int)\n",
    "        y_pred = approxes[0].astype(float)\n",
    "        \n",
    "        return sum(abs(y_true-y_pred))/sum(abs(y_true)), 0.0"
   ]
  },
  {
   "cell_type": "markdown",
   "id": "43981ee4",
   "metadata": {},
   "source": [
    "####  Обучение модели"
   ]
  },
  {
   "cell_type": "markdown",
   "id": "0d5b7182",
   "metadata": {},
   "source": [
    "Обучим модель, перебирая различные гиперпараметры:"
   ]
  },
  {
   "cell_type": "markdown",
   "id": "0185929d",
   "metadata": {},
   "source": [
    "Для сдачи работы остановил расчет модели, так как не успевали. Ниже картинкой скопировал на текущий момент лучший показатель loss function, а также ниже обучил Catboost без тюнинга для понимания, что он работает"
   ]
  },
  {
   "cell_type": "code",
   "execution_count": 8,
   "id": "cdefec57",
   "metadata": {
    "scrolled": true
   },
   "outputs": [],
   "source": [
    "# %%time\n",
    "\n",
    "# #define CatBoost model\n",
    "# model = cb.CatBoostRegressor(random_state=99,\n",
    "#                              eval_metric=custom_wape(),\n",
    "#                              iterations=1000,\n",
    "#                              early_stopping_rounds=15)\n",
    "\n",
    "# #create catboost Pool object\n",
    "# ds = cb.Pool(X_train, label=y_train, cat_features=features_str)\n",
    "\n",
    "# #dict with hyperparameters\n",
    "# hp = {'learning_rate': [0.1, 0.01, 0.001, 0.0001],\n",
    "#             'depth': [5, 10, 20, 50, 100],\n",
    "#             'l2_leaf_reg': [1, 3, 5]}\n",
    "\n",
    "# #create instance of cross validation\n",
    "# custom_cv = CustomCrossValidation(dict_cv=data_full_cv).split()\n",
    "\n",
    "# #lauch grid search\n",
    "# grid_search_result  = model.grid_search(param_grid=hp,X=ds,cv=custom_cv, shuffle=False, verbose=True)"
   ]
  },
  {
   "attachments": {
    "image.png": {
     "image/png": "[encoded data removed]"
    }
   },
   "cell_type": "markdown",
   "id": "8e38b0ba",
   "metadata": {},
   "source": [
    "![image.png](attachment:image.png)"
   ]
  },
  {
   "cell_type": "markdown",
   "id": "b64d8016",
   "metadata": {},
   "source": [
    "Тут просто обучение быстрое для понимания"
   ]
  },
  {
   "cell_type": "code",
   "execution_count": 9,
   "id": "7803abb7",
   "metadata": {
    "scrolled": true
   },
   "outputs": [
    {
     "name": "stdout",
     "output_type": "stream",
     "text": [
      "Learning rate set to 0.5\n",
      "0:\tlearn: 0.8227829\ttotal: 1.86s\tremaining: 1m 31s\n",
      "1:\tlearn: 0.5180387\ttotal: 3.49s\tremaining: 1m 23s\n",
      "2:\tlearn: 0.2935965\ttotal: 4.87s\tremaining: 1m 16s\n",
      "3:\tlearn: 0.2002181\ttotal: 6.04s\tremaining: 1m 9s\n",
      "4:\tlearn: 0.1698138\ttotal: 7.21s\tremaining: 1m 4s\n",
      "5:\tlearn: 0.1309213\ttotal: 8.34s\tremaining: 1m 1s\n",
      "6:\tlearn: 0.1275497\ttotal: 9.5s\tremaining: 58.4s\n",
      "7:\tlearn: 0.1253644\ttotal: 10.6s\tremaining: 55.8s\n",
      "8:\tlearn: 0.1250254\ttotal: 11.8s\tremaining: 53.8s\n",
      "9:\tlearn: 0.1249938\ttotal: 13s\tremaining: 51.9s\n",
      "10:\tlearn: 0.0897787\ttotal: 14.1s\tremaining: 50.1s\n",
      "11:\tlearn: 0.0845720\ttotal: 15.5s\tremaining: 49s\n",
      "12:\tlearn: 0.0844899\ttotal: 16.8s\tremaining: 47.8s\n",
      "13:\tlearn: 0.0828491\ttotal: 18.1s\tremaining: 46.5s\n",
      "14:\tlearn: 0.0828371\ttotal: 19.2s\tremaining: 44.8s\n",
      "15:\tlearn: 0.0828232\ttotal: 20.4s\tremaining: 43.3s\n",
      "16:\tlearn: 0.0552903\ttotal: 21.6s\tremaining: 42s\n",
      "17:\tlearn: 0.0552852\ttotal: 22.8s\tremaining: 40.5s\n",
      "18:\tlearn: 0.0552733\ttotal: 23.9s\tremaining: 39s\n",
      "19:\tlearn: 0.0533059\ttotal: 25.1s\tremaining: 37.6s\n",
      "20:\tlearn: 0.0503640\ttotal: 26.5s\tremaining: 36.6s\n",
      "21:\tlearn: 0.0496831\ttotal: 28s\tremaining: 35.7s\n",
      "22:\tlearn: 0.0497060\ttotal: 29.3s\tremaining: 34.4s\n",
      "23:\tlearn: 0.0489358\ttotal: 30.6s\tremaining: 33.1s\n",
      "24:\tlearn: 0.0371190\ttotal: 32.1s\tremaining: 32.1s\n",
      "25:\tlearn: 0.0356945\ttotal: 33.7s\tremaining: 31.1s\n",
      "26:\tlearn: 0.0328953\ttotal: 35s\tremaining: 29.8s\n",
      "27:\tlearn: 0.0329121\ttotal: 36.1s\tremaining: 28.4s\n",
      "28:\tlearn: 0.0303516\ttotal: 37.3s\tremaining: 27s\n",
      "29:\tlearn: 0.0266360\ttotal: 38.5s\tremaining: 25.7s\n",
      "30:\tlearn: 0.0266273\ttotal: 39.7s\tremaining: 24.3s\n",
      "31:\tlearn: 0.0266215\ttotal: 40.9s\tremaining: 23s\n",
      "32:\tlearn: 0.0259396\ttotal: 42s\tremaining: 21.6s\n",
      "33:\tlearn: 0.0262976\ttotal: 43.1s\tremaining: 20.3s\n",
      "34:\tlearn: 0.0260434\ttotal: 44.3s\tremaining: 19s\n",
      "35:\tlearn: 0.0260090\ttotal: 45.4s\tremaining: 17.7s\n",
      "36:\tlearn: 0.0256136\ttotal: 46.7s\tremaining: 16.4s\n",
      "37:\tlearn: 0.0248743\ttotal: 48.1s\tremaining: 15.2s\n",
      "38:\tlearn: 0.0189535\ttotal: 49.7s\tremaining: 14s\n",
      "39:\tlearn: 0.0191617\ttotal: 51s\tremaining: 12.7s\n",
      "40:\tlearn: 0.0190450\ttotal: 52.2s\tremaining: 11.5s\n",
      "41:\tlearn: 0.0190035\ttotal: 53.4s\tremaining: 10.2s\n",
      "42:\tlearn: 0.0182532\ttotal: 54.6s\tremaining: 8.88s\n",
      "43:\tlearn: 0.0171986\ttotal: 55.9s\tremaining: 7.62s\n",
      "44:\tlearn: 0.0171873\ttotal: 57s\tremaining: 6.33s\n",
      "45:\tlearn: 0.0151031\ttotal: 58.4s\tremaining: 5.08s\n",
      "46:\tlearn: 0.0148363\ttotal: 1m\tremaining: 3.83s\n",
      "47:\tlearn: 0.0149898\ttotal: 1m 1s\tremaining: 2.55s\n",
      "48:\tlearn: 0.0149564\ttotal: 1m 2s\tremaining: 1.27s\n",
      "49:\tlearn: 0.0146110\ttotal: 1m 3s\tremaining: 0us\n"
     ]
    }
   ],
   "source": [
    "%%capture\n",
    "#define CatBoost model\n",
    "model = cb.CatBoostRegressor(random_state=99,\n",
    "                             eval_metric=custom_wape(),\n",
    "                             iterations=50,\n",
    "                             early_stopping_rounds=15)\n",
    "\n",
    "#create catboost Pool object\n",
    "ds = cb.Pool(X_train, label=y_train, cat_features=features_str)\n",
    "\n",
    "#create instance of cross validation\n",
    "custom_cv = CustomCrossValidation(dict_cv=data_full_cv).split()\n",
    "\n",
    "model.fit(ds)"
   ]
  },
  {
   "cell_type": "code",
   "execution_count": 10,
   "id": "f6e9eae2",
   "metadata": {},
   "outputs": [],
   "source": [
    "# cv_results = pd.DataFrame(grid_search_result[\"cv_results\"])\n",
    "\n",
    "# cv_results.head()"
   ]
  },
  {
   "cell_type": "markdown",
   "id": "3c42a834",
   "metadata": {},
   "source": [
    "####  Проверка на тестовых данных"
   ]
  },
  {
   "cell_type": "code",
   "execution_count": 11,
   "id": "663ea91e",
   "metadata": {},
   "outputs": [],
   "source": [
    "# model.get_feature_importance(train_data)"
   ]
  },
  {
   "cell_type": "code",
   "execution_count": 12,
   "id": "57574a15",
   "metadata": {},
   "outputs": [],
   "source": [
    "#тут надо переобучить на полном трейне для теста"
   ]
  },
  {
   "cell_type": "markdown",
   "id": "ce7e25f8",
   "metadata": {},
   "source": [
    "Проверим поведение лучший модели на тестовых данных"
   ]
  },
  {
   "cell_type": "code",
   "execution_count": 13,
   "id": "6cbf133e",
   "metadata": {},
   "outputs": [],
   "source": [
    "# warnings.filterwarnings('ignore')\n",
    "\n",
    "# #get test data (drop the target for correct predict with CatBoost)\n",
    "# # X_test = data_full[data_full.index.isin(data_full_cv['test'])]\n",
    "# # y_test = X_test['target']\n",
    "# # X_test = X_test.drop(columns=['target'])\n",
    "\n",
    "# X_test = data_submission.copy()\n",
    "# y_test = X_test['target']\n",
    "# X_test = X_test.drop(columns=['target'])\n",
    "\n",
    "# #predict values\n",
    "# pred = model.predict(X_test)\n",
    "\n",
    "# #get test dates\n",
    "# test_dates = data_full_dates[data_full_dates.index.isin(data_full_cv['test'])]\n",
    "# test_dates['date']= pd.to_datetime(test_dates['date'], format='%Y-%m-%d')\n",
    "\n",
    "# #add together\n",
    "# X_test['date'] = test_dates\n",
    "# X_test['pred'] = pred\n",
    "# X_test['target'] = y_test"
   ]
  },
  {
   "cell_type": "code",
   "execution_count": 14,
   "id": "c3e70d3d",
   "metadata": {},
   "outputs": [],
   "source": [
    "# wape(y_true=y_test, y_pred=pred)"
   ]
  },
  {
   "cell_type": "markdown",
   "id": "0152db3f",
   "metadata": {},
   "source": [
    "График target VS predict"
   ]
  },
  {
   "cell_type": "code",
   "execution_count": 15,
   "id": "b7cac556",
   "metadata": {},
   "outputs": [],
   "source": [
    "# pivot = pd.pivot_table(data=X_test,\n",
    "#               index='date',\n",
    "#               values=['target', 'pred'],\n",
    "#               aggfunc='sum').sort_values(by='date')"
   ]
  },
  {
   "cell_type": "code",
   "execution_count": 16,
   "id": "d1c1d366",
   "metadata": {},
   "outputs": [],
   "source": [
    "# plt.figure(figsize=(12,5))\n",
    "# sns.lineplot(data=pivot)"
   ]
  },
  {
   "cell_type": "markdown",
   "id": "522aed9b",
   "metadata": {},
   "source": [
    "График ошибки"
   ]
  },
  {
   "cell_type": "code",
   "execution_count": 17,
   "id": "45985a51",
   "metadata": {},
   "outputs": [],
   "source": [
    "# pivot = pd.pivot_table(data=X_test,\n",
    "#               index='date',\n",
    "#               values=['target', 'pred'],\n",
    "#               aggfunc='sum').sort_values(by='date')\n",
    "# pivot['diff'] = pivot['target'] - pivot['pred']\n",
    "# pivot = pivot.drop(columns=['target', 'pred'])\n",
    "\n",
    "# plt.figure(figsize=(12,5))\n",
    "# sns.lineplot(data=pivot)"
   ]
  },
  {
   "cell_type": "markdown",
   "id": "776fff94",
   "metadata": {},
   "source": [
    "Проверим поведение лучший модели на тестовых данных - выберем самый крупный магазин и самую крупную группу товаров"
   ]
  },
  {
   "cell_type": "code",
   "execution_count": 18,
   "id": "96c61cba",
   "metadata": {
    "scrolled": false
   },
   "outputs": [],
   "source": [
    "# _ = X_test[(X_test['st_id'] == 'c81e728d9d4c2f636f067f89cc14862c') & \n",
    "#        (X_test['pr_group_id'] == 'c74d97b01eae257e44aa9d5bade97baf')]\n",
    "\n",
    "# pivot = pd.pivot_table(data=_,\n",
    "#               index='date',\n",
    "#               values=['target', 'pred'],\n",
    "#               aggfunc='sum').sort_values(by='date')\n",
    "\n",
    "# plt.figure(figsize=(12,5))\n",
    "# sns.lineplot(data=pivot)"
   ]
  },
  {
   "cell_type": "markdown",
   "id": "a5f663ef",
   "metadata": {},
   "source": [
    "Формирование итогового файла с прогнозами"
   ]
  },
  {
   "cell_type": "code",
   "execution_count": 19,
   "id": "73b0066e",
   "metadata": {},
   "outputs": [],
   "source": [
    "X_test = data_submission.copy()\n",
    "y_test = X_test['target']\n",
    "X_test = X_test.drop(columns=['target'])\n",
    "\n",
    "pred=model.predict(X_test)"
   ]
  },
  {
   "cell_type": "code",
   "execution_count": 20,
   "id": "6ac41f36",
   "metadata": {},
   "outputs": [],
   "source": [
    "X_test['pred'] = pred\n",
    "X_test['date'] = data_test_dates\n",
    "\n",
    "sales_submission_ready = X_test[['st_id', 'pr_sku_id', 'date', 'pred']]"
   ]
  },
  {
   "cell_type": "code",
   "execution_count": 21,
   "id": "1b7d90a9",
   "metadata": {},
   "outputs": [],
   "source": [
    "sales_submission_ready.to_csv('sales_submission_ready.csv', index=False)"
   ]
  },
  {
   "cell_type": "code",
   "execution_count": null,
   "id": "7552b13f",
   "metadata": {},
   "outputs": [],
   "source": []
  }
 ],
 "metadata": {
  "kernelspec": {
   "display_name": "Python 3 (ipykernel)",
   "language": "python",
   "name": "python3"
  },
  "language_info": {
   "codemirror_mode": {
    "name": "ipython",
    "version": 3
   },
   "file_extension": ".py",
   "mimetype": "text/x-python",
   "name": "python",
   "nbconvert_exporter": "python",
   "pygments_lexer": "ipython3",
   "version": "3.9.18"
  },
  "toc": {
   "base_numbering": 1,
   "nav_menu": {},
   "number_sections": true,
   "sideBar": true,
   "skip_h1_title": true,
   "title_cell": "Table of Contents",
   "title_sidebar": "Contents",
   "toc_cell": true,
   "toc_position": {
    "height": "calc(100% - 180px)",
    "left": "10px",
    "top": "150px",
    "width": "307.2px"
   },
   "toc_section_display": true,
   "toc_window_display": true
  }
 },
 "nbformat": 4,
 "nbformat_minor": 5
}
