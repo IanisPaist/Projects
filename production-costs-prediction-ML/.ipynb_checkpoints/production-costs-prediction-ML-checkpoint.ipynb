{
 "cells": [
  {
   "cell_type": "markdown",
   "id": "8d1ec53e",
   "metadata": {
    "toc": true
   },
   "source": [
    "<h1>Table of Contents<span class=\"tocSkip\"></span></h1>\n",
    "<div class=\"toc\"><ul class=\"toc-item\"><li><span><a href=\"#Описание-проекта\" data-toc-modified-id=\"Описание-проекта-1\"><span class=\"toc-item-num\">1&nbsp;&nbsp;</span>Описание проекта</a></span></li><li><span><a href=\"#Анализ-данных\" data-toc-modified-id=\"Анализ-данных-2\"><span class=\"toc-item-num\">2&nbsp;&nbsp;</span>Анализ данных</a></span><ul class=\"toc-item\"><li><span><a href=\"#Загрузка-данных\" data-toc-modified-id=\"Загрузка-данных-2.1\"><span class=\"toc-item-num\">2.1&nbsp;&nbsp;</span>Загрузка данных</a></span></li><li><span><a href=\"#Общие-функции-для-анализа-данных\" data-toc-modified-id=\"Общие-функции-для-анализа-данных-2.2\"><span class=\"toc-item-num\">2.2&nbsp;&nbsp;</span>Общие функции для анализа данных</a></span></li><li><span><a href=\"#Анализ-источников\" data-toc-modified-id=\"Анализ-источников-2.3\"><span class=\"toc-item-num\">2.3&nbsp;&nbsp;</span>Анализ источников</a></span><ul class=\"toc-item\"><li><span><a href=\"#Анализ-df_arc-—-данные-об-электродах\" data-toc-modified-id=\"Анализ-df_arc-—-данные-об-электродах-2.3.1\"><span class=\"toc-item-num\">2.3.1&nbsp;&nbsp;</span>Анализ <code>df_arc</code> — данные об электродах</a></span></li><li><span><a href=\"#Анализ-df_bulk-—-данные-о-подаче-сыпучих-материалов-(объём)\" data-toc-modified-id=\"Анализ-df_bulk-—-данные-о-подаче-сыпучих-материалов-(объём)-2.3.2\"><span class=\"toc-item-num\">2.3.2&nbsp;&nbsp;</span>Анализ <code>df_bulk</code> — данные о подаче сыпучих материалов (объём)</a></span></li><li><span><a href=\"#Анализ-df_bulk_time-—-данные-о-подаче-сыпучих-материалов-(время)\" data-toc-modified-id=\"Анализ-df_bulk_time-—-данные-о-подаче-сыпучих-материалов-(время)-2.3.3\"><span class=\"toc-item-num\">2.3.3&nbsp;&nbsp;</span>Анализ <code>df_bulk_time</code> — данные о подаче сыпучих материалов (время)</a></span></li><li><span><a href=\"#Анализ-df_gas-—-данные-о-продувке-сплава-газом\" data-toc-modified-id=\"Анализ-df_gas-—-данные-о-продувке-сплава-газом-2.3.4\"><span class=\"toc-item-num\">2.3.4&nbsp;&nbsp;</span>Анализ <code>df_gas</code> — данные о продувке сплава газом</a></span></li><li><span><a href=\"#Анализ-df_temperature-—-результаты-измерения-температуры\" data-toc-modified-id=\"Анализ-df_temperature-—-результаты-измерения-температуры-2.3.5\"><span class=\"toc-item-num\">2.3.5&nbsp;&nbsp;</span>Анализ <code>df_temperature</code> — результаты измерения температуры</a></span></li><li><span><a href=\"#Анализ-df_wire-—-данные-о-проволочных-материалах-(объём);\" data-toc-modified-id=\"Анализ-df_wire-—-данные-о-проволочных-материалах-(объём);-2.3.6\"><span class=\"toc-item-num\">2.3.6&nbsp;&nbsp;</span>Анализ <code>df_wire</code> — данные о проволочных материалах (объём);</a></span></li><li><span><a href=\"#Анализ-df_wire_time-—-данные-о-проволочных-материалах-(время).\" data-toc-modified-id=\"Анализ-df_wire_time-—-данные-о-проволочных-материалах-(время).-2.3.7\"><span class=\"toc-item-num\">2.3.7&nbsp;&nbsp;</span>Анализ <code>df_wire_time</code> — данные о проволочных материалах (время).</a></span></li></ul></li><li><span><a href=\"#Общий-вывод-этапа-&quot;Анализ-данных&quot;\" data-toc-modified-id=\"Общий-вывод-этапа-&quot;Анализ-данных&quot;-2.4\"><span class=\"toc-item-num\">2.4&nbsp;&nbsp;</span>Общий вывод этапа \"Анализ данных\"</a></span></li></ul></li><li><span><a href=\"#План-проекта\" data-toc-modified-id=\"План-проекта-3\"><span class=\"toc-item-num\">3&nbsp;&nbsp;</span>План проекта</a></span></li><li><span><a href=\"#Формирование-общей-таблицы-для-построения-модели\" data-toc-modified-id=\"Формирование-общей-таблицы-для-построения-модели-4\"><span class=\"toc-item-num\">4&nbsp;&nbsp;</span>Формирование общей таблицы для построения модели</a></span><ul class=\"toc-item\"><li><span><a href=\"#Объединение-таблиц\" data-toc-modified-id=\"Объединение-таблиц-4.1\"><span class=\"toc-item-num\">4.1&nbsp;&nbsp;</span>Объединение таблиц</a></span></li><li><span><a href=\"#Анализ-общей-таблицы\" data-toc-modified-id=\"Анализ-общей-таблицы-4.2\"><span class=\"toc-item-num\">4.2&nbsp;&nbsp;</span>Анализ общей таблицы</a></span></li><li><span><a href=\"#Предобработка-данных-общей-таблицы\" data-toc-modified-id=\"Предобработка-данных-общей-таблицы-4.3\"><span class=\"toc-item-num\">4.3&nbsp;&nbsp;</span>Предобработка данных общей таблицы</a></span></li><li><span><a href=\"#Создание-дополнительных-параметров\" data-toc-modified-id=\"Создание-дополнительных-параметров-4.4\"><span class=\"toc-item-num\">4.4&nbsp;&nbsp;</span>Создание дополнительных параметров</a></span></li><li><span><a href=\"#Проверка-на-мультиколлинеарность-и-удаление-лишних-признаков\" data-toc-modified-id=\"Проверка-на-мультиколлинеарность-и-удаление-лишних-признаков-4.5\"><span class=\"toc-item-num\">4.5&nbsp;&nbsp;</span>Проверка на мультиколлинеарность и удаление лишних признаков</a></span></li><li><span><a href=\"#Общий-вывод\" data-toc-modified-id=\"Общий-вывод-4.6\"><span class=\"toc-item-num\">4.6&nbsp;&nbsp;</span>Общий вывод</a></span></li></ul></li><li><span><a href=\"#Построение-моделей\" data-toc-modified-id=\"Построение-моделей-5\"><span class=\"toc-item-num\">5&nbsp;&nbsp;</span>Построение моделей</a></span><ul class=\"toc-item\"><li><span><a href=\"#Деление-выборок,-выделение-целевого-признака\" data-toc-modified-id=\"Деление-выборок,-выделение-целевого-признака-5.1\"><span class=\"toc-item-num\">5.1&nbsp;&nbsp;</span>Деление выборок, выделение целевого признака</a></span></li><li><span><a href=\"#DummyRegressor\" data-toc-modified-id=\"DummyRegressor-5.2\"><span class=\"toc-item-num\">5.2&nbsp;&nbsp;</span>DummyRegressor</a></span></li><li><span><a href=\"#Линейная-регрессия\" data-toc-modified-id=\"Линейная-регрессия-5.3\"><span class=\"toc-item-num\">5.3&nbsp;&nbsp;</span>Линейная регрессия</a></span></li><li><span><a href=\"#Случайный-лес\" data-toc-modified-id=\"Случайный-лес-5.4\"><span class=\"toc-item-num\">5.4&nbsp;&nbsp;</span>Случайный лес</a></span></li><li><span><a href=\"#Light-GBM\" data-toc-modified-id=\"Light-GBM-5.5\"><span class=\"toc-item-num\">5.5&nbsp;&nbsp;</span>Light GBM</a></span></li><li><span><a href=\"#CatBoost\" data-toc-modified-id=\"CatBoost-5.6\"><span class=\"toc-item-num\">5.6&nbsp;&nbsp;</span>CatBoost</a></span></li><li><span><a href=\"#Общий-вывод-(построение-моделей-на-обучающей-выборке)\" data-toc-modified-id=\"Общий-вывод-(построение-моделей-на-обучающей-выборке)-5.7\"><span class=\"toc-item-num\">5.7&nbsp;&nbsp;</span>Общий вывод (построение моделей на обучающей выборке)</a></span></li></ul></li><li><span><a href=\"#Проверка-выбранной-модели-на-тестовой-выборке\" data-toc-modified-id=\"Проверка-выбранной-модели-на-тестовой-выборке-6\"><span class=\"toc-item-num\">6&nbsp;&nbsp;</span>Проверка выбранной модели на тестовой выборке</a></span></li><li><span><a href=\"#Анализ-влияния-факторов-на-предсказания-модели\" data-toc-modified-id=\"Анализ-влияния-факторов-на-предсказания-модели-7\"><span class=\"toc-item-num\">7&nbsp;&nbsp;</span>Анализ влияния факторов на предсказания модели</a></span></li><li><span><a href=\"#Общий-вывод\" data-toc-modified-id=\"Общий-вывод-8\"><span class=\"toc-item-num\">8&nbsp;&nbsp;</span>Общий вывод</a></span></li><li><span><a href=\"#Итоговый-отчет\" data-toc-modified-id=\"Итоговый-отчет-9\"><span class=\"toc-item-num\">9&nbsp;&nbsp;</span>Итоговый отчет</a></span><ul class=\"toc-item\"><li><span><a href=\"#Краткое-описание\" data-toc-modified-id=\"Краткое-описание-9.1\"><span class=\"toc-item-num\">9.1&nbsp;&nbsp;</span>Краткое описание</a></span></li><li><span><a href=\"#Часть-1.-Описание-задачи\" data-toc-modified-id=\"Часть-1.-Описание-задачи-9.2\"><span class=\"toc-item-num\">9.2&nbsp;&nbsp;</span>Часть 1. Описание задачи</a></span></li><li><span><a href=\"#Часть-2.-Анализ-процесса.-Анализ-и-обработка-данных.\" data-toc-modified-id=\"Часть-2.-Анализ-процесса.-Анализ-и-обработка-данных.-9.3\"><span class=\"toc-item-num\">9.3&nbsp;&nbsp;</span>Часть 2. Анализ процесса. Анализ и обработка данных.</a></span><ul class=\"toc-item\"><li><span><a href=\"#Анализ-данных\" data-toc-modified-id=\"Анализ-данных-9.3.1\"><span class=\"toc-item-num\">9.3.1&nbsp;&nbsp;</span>Анализ данных</a></span></li><li><span><a href=\"#Выбор-данных-для-построения-модели\" data-toc-modified-id=\"Выбор-данных-для-построения-модели-9.3.2\"><span class=\"toc-item-num\">9.3.2&nbsp;&nbsp;</span>Выбор данных для построения модели</a></span></li><li><span><a href=\"#Предобработка-данных\" data-toc-modified-id=\"Предобработка-данных-9.3.3\"><span class=\"toc-item-num\">9.3.3&nbsp;&nbsp;</span>Предобработка данных</a></span></li></ul></li><li><span><a href=\"#Часть-3.-Построение-моделей\" data-toc-modified-id=\"Часть-3.-Построение-моделей-9.4\"><span class=\"toc-item-num\">9.4&nbsp;&nbsp;</span>Часть 3. Построение моделей</a></span><ul class=\"toc-item\"><li><span><a href=\"#Описание-подхода-к-построению-моделей\" data-toc-modified-id=\"Описание-подхода-к-построению-моделей-9.4.1\"><span class=\"toc-item-num\">9.4.1&nbsp;&nbsp;</span>Описание подхода к построению моделей</a></span></li><li><span><a href=\"#Результаты-построения-моделей-на-обучающей-выборке-и-выбор-лучшей-модели\" data-toc-modified-id=\"Результаты-построения-моделей-на-обучающей-выборке-и-выбор-лучшей-модели-9.4.2\"><span class=\"toc-item-num\">9.4.2&nbsp;&nbsp;</span>Результаты построения моделей на обучающей выборке и выбор лучшей модели</a></span></li><li><span><a href=\"#Результаты-проверки-выбранной-модели-на-тестовой-выборке\" data-toc-modified-id=\"Результаты-проверки-выбранной-модели-на-тестовой-выборке-9.4.3\"><span class=\"toc-item-num\">9.4.3&nbsp;&nbsp;</span>Результаты проверки выбранной модели на тестовой выборке</a></span></li></ul></li><li><span><a href=\"#Часть-4.-Анализ-влияния-факторов-на-предскзания\" data-toc-modified-id=\"Часть-4.-Анализ-влияния-факторов-на-предскзания-9.5\"><span class=\"toc-item-num\">9.5&nbsp;&nbsp;</span>Часть 4. Анализ влияния факторов на предскзания</a></span></li><li><span><a href=\"#Часть-5.-Ограничения-и-сложности-проекта\" data-toc-modified-id=\"Часть-5.-Ограничения-и-сложности-проекта-9.6\"><span class=\"toc-item-num\">9.6&nbsp;&nbsp;</span>Часть 5. Ограничения и сложности проекта</a></span></li><li><span><a href=\"#Часть-6.-Общий-вывод\" data-toc-modified-id=\"Часть-6.-Общий-вывод-9.7\"><span class=\"toc-item-num\">9.7&nbsp;&nbsp;</span>Часть 6. Общий вывод</a></span></li></ul></li></ul></div>"
   ]
  },
  {
   "cell_type": "markdown",
   "id": "a5db5ffc",
   "metadata": {},
   "source": [
    "# Проект: оптимизация производственных расходов (промышленность)"
   ]
  },
  {
   "cell_type": "markdown",
   "id": "052a5a2b",
   "metadata": {},
   "source": [
    "## Описание проекта\n",
    "\n",
    "**Описание краткое**\n",
    "\n",
    "Необходимо построить модель, которая будет предсказывать температуру стали на одном из этапов технологического процесса для уменьшения потребления электроэнергии.\n",
    "\n",
    "___\n",
    "\n",
    "**Описание подробное**\n",
    "\n",
    "Сталь обрабатывают в металлическом ковше вместимостью около 100 тонн. Чтобы ковш выдерживал высокие температуры, изнутри его облицовывают огнеупорным кирпичом. Расплавленную сталь заливают в ковш и подогревают до нужной температуры графитовыми электродами. Они установлены в крышке ковша. \n",
    "\n",
    "Из сплава выводится сера (десульфурация), добавлением примесей корректируется химический состав и отбираются пробы. Сталь легируют — изменяют её состав — подавая куски сплава из бункера для сыпучих материалов или проволоку через специальный трайб-аппарат (англ. tribe, «масса»).\n",
    "\n",
    "Перед тем как первый раз ввести легирующие добавки, измеряют температуру стали и производят её химический анализ. Потом температуру на несколько минут повышают, добавляют легирующие материалы и продувают сплав инертным газом. Затем его перемешивают и снова проводят измерения. Такой цикл повторяется до достижения целевого химического состава и оптимальной температуры плавки.\n",
    "\n",
    "Тогда расплавленная сталь отправляется на доводку металла или поступает в машину непрерывной разливки. Оттуда готовый продукт выходит в виде заготовок-слябов (англ. *slab*, «плита»).\n",
    "\n",
    "\n",
    "> **Итого процесс**: \n",
    "> * Этап 1: залив расплавленной стали в ковш -> нагрев электродами -> измерение температуры стали и ее состава\n",
    "> * Этап 2: повышение температуры -> добавка примесей для легирования (изм. состава) -> продув инертным газом\n",
    "> * Этап 3: измерение температуры стали и ее состава ->\n",
    ">     * Если состав не целевой -> возврат к этапу 2\n",
    ">     * Если состав целевой -> переход на следующий производственный процесс (вне текущего проекта)\n",
    "\n",
    "___\n",
    "\n",
    "**Описание данных**\n",
    "\n",
    "Данные состоят из файлов, полученных из разных источников:\n",
    "\n",
    "* `data_arc.csv` — данные об электродах;\n",
    "*  `data_bulk.csv` — данные о подаче сыпучих материалов (объём);\n",
    "* `data_bulk_time.csv` — данные о подаче сыпучих материалов (время);\n",
    "* `data_gas.csv` — данные о продувке сплава газом;\n",
    "* `data_temp.csv` — результаты измерения температуры;\n",
    "* `data_wire.csv` — данные о проволочных материалах (объём);\n",
    "* `data_wire_time.csv` — данные о проволочных материалах (время).\n",
    "\n",
    "> Во всех файлах столбец `key` содержит номер партии. В файлах может быть несколько строк с одинаковым значением `key`: они соответствуют разным итерациям обработки.  \n",
    "> **Таким образом**: вся партия является объектом моделирования, так как температуру могут замерять неколько раз.  \n",
    "> **Целевой признак**: температура партии при последнем замерении \n",
    "\n",
    "\n",
    "___\n",
    "\n",
    "**План проекта:**\n",
    "\n",
    "* Анализ и предобработка данных\n",
    "* Приведение данных в нужный датасет для моделирования\n",
    "* Построение трех моделей: линейная регрессия, лес решений, CatBoost (градиентный бустинг)\n",
    "* Выбор лучшей модели на валидационной выборке\n",
    "* Тестирование выбранной модели на тестовой выборке (25% от первоначальных данных)\n",
    "\n",
    "**Критерий качества модели**\n",
    "* Метрика MAE <= 6.8\n",
    "___"
   ]
  },
  {
   "cell_type": "code",
   "execution_count": 1,
   "id": "b26f285b",
   "metadata": {},
   "outputs": [],
   "source": [
    "#!pip install -q pandas-profiling"
   ]
  },
  {
   "cell_type": "code",
   "execution_count": 2,
   "id": "91475809",
   "metadata": {},
   "outputs": [
    {
     "name": "stdout",
     "output_type": "stream",
     "text": [
      "Requirement already satisfied: imbalanced-learn in c:\\users\\yanis\\appdata\\roaming\\python\\python39\\site-packages (0.9.1)\n",
      "Requirement already satisfied: joblib>=1.0.0 in c:\\users\\yanis\\anaconda3\\envs\\ds_practicum_env\\lib\\site-packages (from imbalanced-learn) (1.1.1)\n",
      "Requirement already satisfied: scikit-learn>=1.1.0 in c:\\users\\yanis\\anaconda3\\envs\\ds_practicum_env\\lib\\site-packages (from imbalanced-learn) (1.2.0)\n",
      "Requirement already satisfied: numpy>=1.17.3 in c:\\users\\yanis\\anaconda3\\envs\\ds_practicum_env\\lib\\site-packages (from imbalanced-learn) (1.23.5)\n",
      "Requirement already satisfied: scipy>=1.3.2 in c:\\users\\yanis\\anaconda3\\envs\\ds_practicum_env\\lib\\site-packages (from imbalanced-learn) (1.10.0)\n",
      "Requirement already satisfied: threadpoolctl>=2.0.0 in c:\\users\\yanis\\anaconda3\\envs\\ds_practicum_env\\lib\\site-packages (from imbalanced-learn) (2.2.0)\n"
     ]
    }
   ],
   "source": [
    "!pip install imbalanced-learn"
   ]
  },
  {
   "cell_type": "code",
   "execution_count": 3,
   "id": "c41686f6",
   "metadata": {},
   "outputs": [],
   "source": [
    "import pandas as pd\n",
    "import numpy as np\n",
    "import os\n",
    "import seaborn as sns\n",
    "import matplotlib.pyplot as plt\n",
    "from matplotlib.cbook import boxplot_stats\n",
    "#import ydata_profiling\n",
    "from statsmodels.stats.outliers_influence import variance_inflation_factor\n",
    "from sklearn.dummy import DummyRegressor\n",
    "from sklearn.metrics import mean_absolute_error\n",
    "from sklearn.preprocessing import StandardScaler\n",
    "from sklearn.linear_model import LinearRegression, Lasso\n",
    "from imblearn.pipeline import Pipeline, make_pipeline\n",
    "from sklearn.model_selection import train_test_split, cross_val_score, GridSearchCV\n",
    "from sklearn.ensemble import RandomForestRegressor\n",
    "import lightgbm as lgbm\n",
    "import catboost as cb\n",
    "\n",
    "import warnings\n",
    "warnings.filterwarnings('ignore')"
   ]
  },
  {
   "cell_type": "markdown",
   "id": "c9e7314e",
   "metadata": {},
   "source": [
    "## Анализ данных"
   ]
  },
  {
   "cell_type": "markdown",
   "id": "a5cf4cf6",
   "metadata": {},
   "source": [
    "### Загрузка данных"
   ]
  },
  {
   "cell_type": "code",
   "execution_count": 4,
   "id": "df1119ef",
   "metadata": {},
   "outputs": [
    {
     "name": "stdout",
     "output_type": "stream",
     "text": [
      "Длина датафрейма df_arc: 14876\n",
      "Длина датафрейма df_bulk: 3129\n",
      "Длина датафрейма df_bulk_time: 3129\n",
      "Длина датафрейма df_gas: 3239\n",
      "Длина датафрейма df_temperature: 15907\n",
      "Длина датафрейма df_wire: 3081\n",
      "Длина датафрейма df_wire_time: 3081\n",
      "Все данные загружены\n"
     ]
    }
   ],
   "source": [
    "#load data into datasets\n",
    "online_path = '/datasets/final_steel/'\n",
    "\n",
    "if os.path.exists('data_arc.csv'):\n",
    "    path = ''\n",
    "elif os.path.exists(online_path + 'data_arc.csv'):\n",
    "    path = online_path\n",
    "else:\n",
    "    'check filepath'\n",
    "    \n",
    "df_arc = pd.read_csv(path + 'data_arc.csv')\n",
    "df_bulk = pd.read_csv(path + 'data_bulk.csv')\n",
    "df_bulk_time = pd.read_csv(path + 'data_bulk_time.csv')\n",
    "df_gas = pd.read_csv(path + 'data_gas.csv')\n",
    "df_temperature = pd.read_csv(path + 'data_temp.csv')\n",
    "df_wire = pd.read_csv(path + 'data_wire.csv')\n",
    "df_wire_time = pd.read_csv(path + 'data_wire_time.csv')\n",
    "\n",
    "df_arc.name = 'df_arc'\n",
    "df_bulk.name = 'df_bulk'\n",
    "df_bulk_time.name = 'df_bulk_time'\n",
    "df_gas.name = 'df_gas'\n",
    "df_temperature.name = 'df_temperature'\n",
    "df_wire.name = 'df_wire'\n",
    "df_wire_time.name = 'df_wire_time'\n",
    "\n",
    "\n",
    "dfs = [df_arc, df_bulk, df_bulk_time, df_gas, df_temperature, df_wire, df_wire_time]\n",
    "\n",
    "_ = True\n",
    "for df in dfs:\n",
    "    print(f'Длина датафрейма {df.name}:', len(df))\n",
    "    if len(df) == 0:\n",
    "        _ = False\n",
    "        break\n",
    "        \n",
    "if _ == True: print('Все данные загружены')\n",
    "if _ == False: print('Не все данные загружены')"
   ]
  },
  {
   "cell_type": "markdown",
   "id": "d22507b6",
   "metadata": {},
   "source": [
    "___"
   ]
  },
  {
   "cell_type": "markdown",
   "id": "143bf3a9",
   "metadata": {},
   "source": [
    "### Общие функции для анализа данных"
   ]
  },
  {
   "cell_type": "code",
   "execution_count": 5,
   "id": "9ff30fa6",
   "metadata": {},
   "outputs": [],
   "source": [
    "#extract outliers from boxplot\n",
    "def extract_anom(df):\n",
    "\n",
    "    #accepts a dataframe and returns number of outliers and cut-off points for boxplot whiskers \n",
    "    \n",
    "    wire_anom = {}\n",
    "    len_df = len(df)\n",
    "\n",
    "    for c in df.columns:\n",
    "        \n",
    "        #count number of outliers \n",
    "        cnt_anom = len(boxplot_stats(df[c].dropna()).pop(0)['fliers'])\n",
    "        \n",
    "        #calculate additional data and put it into a dictionary\n",
    "        wire_anom[c] = {\n",
    "                        'Количество аномалий' : cnt_anom,\n",
    "                        '% от всех данных' : round(cnt_anom / len_df,2) * 100,\n",
    "                        'lower' : boxplot_stats(df[c].dropna()).pop(0)['whislo'],\n",
    "                        'upper' : boxplot_stats(df[c].dropna()).pop(0)['whishi']\n",
    "                        }\n",
    "    return wire_anom"
   ]
  },
  {
   "cell_type": "code",
   "execution_count": 6,
   "id": "ffaa1130",
   "metadata": {},
   "outputs": [],
   "source": [
    "#exctract anomalies from df\n",
    "def idx_anom(df, dict_anom):\n",
    "    \n",
    "    idx_list = []\n",
    "    \n",
    "    for k in dict_anom.keys():\n",
    "        \n",
    "        #select slice of the dataframe with anom for one column\n",
    "        df_temp = df[(df[k] > dict_anom[k]['upper']) | (df[k] < dict_anom[k]['lower'])]\n",
    "        \n",
    "        #get indexes and add to the array\n",
    "        idx_list.append(df_temp.index.values)\n",
    "        \n",
    "    #convert list of arrays into single array\n",
    "    idx_list = np.concatenate(idx_list, axis=0)\n",
    "    \n",
    "    #get and return unique values\n",
    "    idx_list = np.unique(idx_list)\n",
    "    \n",
    "    return idx_list    "
   ]
  },
  {
   "cell_type": "code",
   "execution_count": 7,
   "id": "44290153",
   "metadata": {},
   "outputs": [],
   "source": [
    "#format columns\n",
    "def format_columns(df):\n",
    "    return [x.lower().replace(' ', '_') for x in df.columns]"
   ]
  },
  {
   "cell_type": "code",
   "execution_count": 8,
   "id": "9315b44b",
   "metadata": {},
   "outputs": [],
   "source": [
    "#function to left-merge two dataframes by `key`\n",
    "def merger_by_key(t1, t2):\n",
    "    \n",
    "    #merge dfs\n",
    "    merged = t1.merge(right=t2,\n",
    "            how='left',\n",
    "            on='key')\n",
    "    \n",
    "    return merged"
   ]
  },
  {
   "cell_type": "code",
   "execution_count": 9,
   "id": "6b83bba4",
   "metadata": {},
   "outputs": [],
   "source": [
    "#function to inner-merge two dataframes by `key`\n",
    "def merger_by_key_inner(t1, t2):\n",
    "    \n",
    "    #merge dfs\n",
    "    merged = t1.merge(right=t2,\n",
    "            how='inner',\n",
    "            on='key')\n",
    "    \n",
    "    return merged"
   ]
  },
  {
   "cell_type": "code",
   "execution_count": 10,
   "id": "7a129bff",
   "metadata": {},
   "outputs": [],
   "source": [
    "#function to compute VIF values for feature selection\n",
    "def vif_compute(features):\n",
    "    \n",
    "    #select only columns with X variables\n",
    "    X_variables = df_result[features]\n",
    "\n",
    "    #calculate VIF\n",
    "    vif_data = pd.DataFrame()\n",
    "    vif_data[\"feature\"] = X_variables.columns\n",
    "    vif_data[\"VIF\"] = [variance_inflation_factor(X_variables.values, i) for i in range(len(X_variables.columns))]\n",
    "    vif_data = vif_data.sort_values(by='VIF', ascending=False)\n",
    "    \n",
    "    return vif_data"
   ]
  },
  {
   "cell_type": "markdown",
   "id": "a042ac39",
   "metadata": {},
   "source": [
    "### Анализ источников"
   ]
  },
  {
   "cell_type": "markdown",
   "id": "e0dabf65",
   "metadata": {},
   "source": [
    "#### Анализ `df_arc` — данные об электродах"
   ]
  },
  {
   "cell_type": "markdown",
   "id": "d86b4c9f",
   "metadata": {},
   "source": [
    "Общий обзор данных"
   ]
  },
  {
   "cell_type": "code",
   "execution_count": 11,
   "id": "d6f5d612",
   "metadata": {},
   "outputs": [
    {
     "data": {
      "text/html": [
       "<div>\n",
       "<style scoped>\n",
       "    .dataframe tbody tr th:only-of-type {\n",
       "        vertical-align: middle;\n",
       "    }\n",
       "\n",
       "    .dataframe tbody tr th {\n",
       "        vertical-align: top;\n",
       "    }\n",
       "\n",
       "    .dataframe thead th {\n",
       "        text-align: right;\n",
       "    }\n",
       "</style>\n",
       "<table border=\"1\" class=\"dataframe\">\n",
       "  <thead>\n",
       "    <tr style=\"text-align: right;\">\n",
       "      <th></th>\n",
       "      <th>key</th>\n",
       "      <th>Начало нагрева дугой</th>\n",
       "      <th>Конец нагрева дугой</th>\n",
       "      <th>Активная мощность</th>\n",
       "      <th>Реактивная мощность</th>\n",
       "    </tr>\n",
       "  </thead>\n",
       "  <tbody>\n",
       "    <tr>\n",
       "      <th>0</th>\n",
       "      <td>1</td>\n",
       "      <td>2019-05-03 11:02:14</td>\n",
       "      <td>2019-05-03 11:06:02</td>\n",
       "      <td>0.976059</td>\n",
       "      <td>0.687084</td>\n",
       "    </tr>\n",
       "    <tr>\n",
       "      <th>1</th>\n",
       "      <td>1</td>\n",
       "      <td>2019-05-03 11:07:28</td>\n",
       "      <td>2019-05-03 11:10:33</td>\n",
       "      <td>0.805607</td>\n",
       "      <td>0.520285</td>\n",
       "    </tr>\n",
       "    <tr>\n",
       "      <th>2</th>\n",
       "      <td>1</td>\n",
       "      <td>2019-05-03 11:11:44</td>\n",
       "      <td>2019-05-03 11:14:36</td>\n",
       "      <td>0.744363</td>\n",
       "      <td>0.498805</td>\n",
       "    </tr>\n",
       "    <tr>\n",
       "      <th>3</th>\n",
       "      <td>1</td>\n",
       "      <td>2019-05-03 11:18:14</td>\n",
       "      <td>2019-05-03 11:24:19</td>\n",
       "      <td>1.659363</td>\n",
       "      <td>1.062669</td>\n",
       "    </tr>\n",
       "    <tr>\n",
       "      <th>4</th>\n",
       "      <td>1</td>\n",
       "      <td>2019-05-03 11:26:09</td>\n",
       "      <td>2019-05-03 11:28:37</td>\n",
       "      <td>0.692755</td>\n",
       "      <td>0.414397</td>\n",
       "    </tr>\n",
       "  </tbody>\n",
       "</table>\n",
       "</div>"
      ],
      "text/plain": [
       "   key Начало нагрева дугой  Конец нагрева дугой  Активная мощность  \\\n",
       "0    1  2019-05-03 11:02:14  2019-05-03 11:06:02           0.976059   \n",
       "1    1  2019-05-03 11:07:28  2019-05-03 11:10:33           0.805607   \n",
       "2    1  2019-05-03 11:11:44  2019-05-03 11:14:36           0.744363   \n",
       "3    1  2019-05-03 11:18:14  2019-05-03 11:24:19           1.659363   \n",
       "4    1  2019-05-03 11:26:09  2019-05-03 11:28:37           0.692755   \n",
       "\n",
       "   Реактивная мощность  \n",
       "0             0.687084  \n",
       "1             0.520285  \n",
       "2             0.498805  \n",
       "3             1.062669  \n",
       "4             0.414397  "
      ]
     },
     "execution_count": 11,
     "metadata": {},
     "output_type": "execute_result"
    }
   ],
   "source": [
    "#check first rows\n",
    "df_arc.head()"
   ]
  },
  {
   "cell_type": "code",
   "execution_count": 12,
   "id": "f556a135",
   "metadata": {},
   "outputs": [
    {
     "name": "stdout",
     "output_type": "stream",
     "text": [
      "<class 'pandas.core.frame.DataFrame'>\n",
      "RangeIndex: 14876 entries, 0 to 14875\n",
      "Data columns (total 5 columns):\n",
      " #   Column                Non-Null Count  Dtype  \n",
      "---  ------                --------------  -----  \n",
      " 0   key                   14876 non-null  int64  \n",
      " 1   Начало нагрева дугой  14876 non-null  object \n",
      " 2   Конец нагрева дугой   14876 non-null  object \n",
      " 3   Активная мощность     14876 non-null  float64\n",
      " 4   Реактивная мощность   14876 non-null  float64\n",
      "dtypes: float64(2), int64(1), object(2)\n",
      "memory usage: 581.2+ KB\n"
     ]
    }
   ],
   "source": [
    "#check general data\n",
    "df_arc.info()"
   ]
  },
  {
   "cell_type": "code",
   "execution_count": 13,
   "id": "c4561387",
   "metadata": {},
   "outputs": [
    {
     "data": {
      "text/plain": [
       "key                     0\n",
       "Начало нагрева дугой    0\n",
       "Конец нагрева дугой     0\n",
       "Активная мощность       0\n",
       "Реактивная мощность     0\n",
       "dtype: int64"
      ]
     },
     "execution_count": 13,
     "metadata": {},
     "output_type": "execute_result"
    }
   ],
   "source": [
    "#check empty values\n",
    "df_arc.isna().sum()"
   ]
  },
  {
   "cell_type": "code",
   "execution_count": 14,
   "id": "3f23b51a",
   "metadata": {},
   "outputs": [
    {
     "data": {
      "text/plain": [
       "0"
      ]
     },
     "execution_count": 14,
     "metadata": {},
     "output_type": "execute_result"
    }
   ],
   "source": [
    "#check duplicated\n",
    "df_arc.duplicated().sum()"
   ]
  },
  {
   "cell_type": "markdown",
   "id": "59d99116",
   "metadata": {},
   "source": [
    "Дубли и пропуски отсутствуют"
   ]
  },
  {
   "cell_type": "code",
   "execution_count": 15,
   "id": "3d5f9a69",
   "metadata": {
    "scrolled": false
   },
   "outputs": [
    {
     "data": {
      "text/html": [
       "<div>\n",
       "<style scoped>\n",
       "    .dataframe tbody tr th:only-of-type {\n",
       "        vertical-align: middle;\n",
       "    }\n",
       "\n",
       "    .dataframe tbody tr th {\n",
       "        vertical-align: top;\n",
       "    }\n",
       "\n",
       "    .dataframe thead th {\n",
       "        text-align: right;\n",
       "    }\n",
       "</style>\n",
       "<table border=\"1\" class=\"dataframe\">\n",
       "  <thead>\n",
       "    <tr style=\"text-align: right;\">\n",
       "      <th></th>\n",
       "      <th>key</th>\n",
       "      <th>Активная мощность</th>\n",
       "      <th>Реактивная мощность</th>\n",
       "    </tr>\n",
       "  </thead>\n",
       "  <tbody>\n",
       "    <tr>\n",
       "      <th>count</th>\n",
       "      <td>14876.000000</td>\n",
       "      <td>14876.000000</td>\n",
       "      <td>14876.000000</td>\n",
       "    </tr>\n",
       "    <tr>\n",
       "      <th>mean</th>\n",
       "      <td>1615.220422</td>\n",
       "      <td>0.670441</td>\n",
       "      <td>0.452592</td>\n",
       "    </tr>\n",
       "    <tr>\n",
       "      <th>std</th>\n",
       "      <td>934.571502</td>\n",
       "      <td>0.408159</td>\n",
       "      <td>5.878702</td>\n",
       "    </tr>\n",
       "    <tr>\n",
       "      <th>min</th>\n",
       "      <td>1.000000</td>\n",
       "      <td>0.030002</td>\n",
       "      <td>-715.504924</td>\n",
       "    </tr>\n",
       "    <tr>\n",
       "      <th>25%</th>\n",
       "      <td>806.000000</td>\n",
       "      <td>0.395297</td>\n",
       "      <td>0.290991</td>\n",
       "    </tr>\n",
       "    <tr>\n",
       "      <th>50%</th>\n",
       "      <td>1617.000000</td>\n",
       "      <td>0.555517</td>\n",
       "      <td>0.415962</td>\n",
       "    </tr>\n",
       "    <tr>\n",
       "      <th>75%</th>\n",
       "      <td>2429.000000</td>\n",
       "      <td>0.857034</td>\n",
       "      <td>0.637371</td>\n",
       "    </tr>\n",
       "    <tr>\n",
       "      <th>max</th>\n",
       "      <td>3241.000000</td>\n",
       "      <td>3.731596</td>\n",
       "      <td>2.676388</td>\n",
       "    </tr>\n",
       "  </tbody>\n",
       "</table>\n",
       "</div>"
      ],
      "text/plain": [
       "                key  Активная мощность  Реактивная мощность\n",
       "count  14876.000000       14876.000000         14876.000000\n",
       "mean    1615.220422           0.670441             0.452592\n",
       "std      934.571502           0.408159             5.878702\n",
       "min        1.000000           0.030002          -715.504924\n",
       "25%      806.000000           0.395297             0.290991\n",
       "50%     1617.000000           0.555517             0.415962\n",
       "75%     2429.000000           0.857034             0.637371\n",
       "max     3241.000000           3.731596             2.676388"
      ]
     },
     "execution_count": 15,
     "metadata": {},
     "output_type": "execute_result"
    }
   ],
   "source": [
    "#check general info\n",
    "df_arc.describe()"
   ]
  },
  {
   "cell_type": "markdown",
   "id": "e50e89b7",
   "metadata": {},
   "source": [
    "Явно видны аномалии - отрицательные значения в реактивной мощности\n",
    "Построим графики для анализа аномалий"
   ]
  },
  {
   "cell_type": "code",
   "execution_count": 16,
   "id": "11a6598b",
   "metadata": {},
   "outputs": [
    {
     "data": {
      "image/png": "[encoded data removed]",
      "text/plain": [
       "<Figure size 640x480 with 1 Axes>"
      ]
     },
     "metadata": {},
     "output_type": "display_data"
    }
   ],
   "source": [
    "#plot boxplots to check anomalies\n",
    "\n",
    "sns.boxplot(data=df_arc.drop(columns='key'), orient=\"h\")\n",
    "\n",
    "plt.title('Используемая мощность')\n",
    "plt.ylabel('Тип мощности')\n",
    "plt.xlabel('Значение')\n",
    "\n",
    "plt.show()"
   ]
  },
  {
   "cell_type": "markdown",
   "id": "7d5b13a1",
   "metadata": {},
   "source": [
    "Ограничим нижнюю границу нулем, чтобы аномальное отрицательное значение не мешало"
   ]
  },
  {
   "cell_type": "code",
   "execution_count": 17,
   "id": "c55994b0",
   "metadata": {
    "scrolled": false
   },
   "outputs": [
    {
     "data": {
      "image/png": "[encoded data removed]",
      "text/plain": [
       "<Figure size 640x480 with 1 Axes>"
      ]
     },
     "metadata": {},
     "output_type": "display_data"
    }
   ],
   "source": [
    "#plot boxplots to check anomalies\n",
    "\n",
    "sns.boxplot(data=df_arc.drop(columns='key'), orient=\"h\")\n",
    "plt.xlim(0, max(max(df_arc['Реактивная мощность']), max(df_arc['Активная мощность'])))\n",
    "\n",
    "plt.title('Используемая мощность')\n",
    "plt.xlabel('Значение')\n",
    "plt.ylabel('Тип мощности')\n",
    "\n",
    "plt.show()"
   ]
  },
  {
   "cell_type": "markdown",
   "id": "48a09de1",
   "metadata": {},
   "source": [
    "Посчитаем аномалии"
   ]
  },
  {
   "cell_type": "code",
   "execution_count": 18,
   "id": "69c2fc6e",
   "metadata": {},
   "outputs": [
    {
     "name": "stdout",
     "output_type": "stream",
     "text": [
      "Реактивная мощность {'Количество аномалий': 601, '% от всех данных': 4.0, 'lower': 0.0208063126, 'upper': 1.1566894352}\n",
      "Активная мощность {'Количество аномалий': 569, '% от всех данных': 4.0, 'lower': 0.0300019383, 'upper': 1.5495347977}\n"
     ]
    }
   ],
   "source": [
    "#extract anomalies\n",
    "dict_anom = extract_anom(df_arc[['Реактивная мощность', 'Активная мощность']])\n",
    "\n",
    "for _ in dict_anom:\n",
    "    print(_, dict_anom[_])"
   ]
  },
  {
   "cell_type": "code",
   "execution_count": 19,
   "id": "157bd7ad",
   "metadata": {
    "scrolled": true
   },
   "outputs": [
    {
     "name": "stdout",
     "output_type": "stream",
     "text": [
      "Количество строк в данных, содержащих аномалии: 5.0 %\n"
     ]
    }
   ],
   "source": [
    "#extract indices of rows with anomalies and calculate the size\n",
    "idx = idx_anom(df_arc, dict_anom)\n",
    "print('Количество строк в данных, содержащих аномалии:', round(len(idx) / len (df_arc), 2) * 100, '%')"
   ]
  },
  {
   "cell_type": "markdown",
   "id": "9dfa31d0",
   "metadata": {},
   "source": [
    "___"
   ]
  },
  {
   "cell_type": "markdown",
   "id": "39664f9e",
   "metadata": {},
   "source": [
    "Данные в таблице указаны для нескольких этапов нагрева. Есть предположение, что на аномалии лучше смотреть на данных, сгруппированных по партиям:"
   ]
  },
  {
   "cell_type": "code",
   "execution_count": 20,
   "id": "da5a48a5",
   "metadata": {},
   "outputs": [
    {
     "data": {
      "text/html": [
       "<div>\n",
       "<style scoped>\n",
       "    .dataframe tbody tr th:only-of-type {\n",
       "        vertical-align: middle;\n",
       "    }\n",
       "\n",
       "    .dataframe tbody tr th {\n",
       "        vertical-align: top;\n",
       "    }\n",
       "\n",
       "    .dataframe thead th {\n",
       "        text-align: right;\n",
       "    }\n",
       "</style>\n",
       "<table border=\"1\" class=\"dataframe\">\n",
       "  <thead>\n",
       "    <tr style=\"text-align: right;\">\n",
       "      <th></th>\n",
       "      <th>key</th>\n",
       "      <th>Реактивная мощность</th>\n",
       "      <th>Активная мощность</th>\n",
       "    </tr>\n",
       "  </thead>\n",
       "  <tbody>\n",
       "    <tr>\n",
       "      <th>0</th>\n",
       "      <td>1</td>\n",
       "      <td>3.183241</td>\n",
       "      <td>4.878147</td>\n",
       "    </tr>\n",
       "    <tr>\n",
       "      <th>1</th>\n",
       "      <td>2</td>\n",
       "      <td>1.998112</td>\n",
       "      <td>3.052598</td>\n",
       "    </tr>\n",
       "    <tr>\n",
       "      <th>2</th>\n",
       "      <td>3</td>\n",
       "      <td>1.599076</td>\n",
       "      <td>2.525882</td>\n",
       "    </tr>\n",
       "    <tr>\n",
       "      <th>3</th>\n",
       "      <td>4</td>\n",
       "      <td>2.060298</td>\n",
       "      <td>3.209250</td>\n",
       "    </tr>\n",
       "    <tr>\n",
       "      <th>4</th>\n",
       "      <td>5</td>\n",
       "      <td>2.252643</td>\n",
       "      <td>3.347173</td>\n",
       "    </tr>\n",
       "  </tbody>\n",
       "</table>\n",
       "</div>"
      ],
      "text/plain": [
       "   key  Реактивная мощность  Активная мощность\n",
       "0    1             3.183241           4.878147\n",
       "1    2             1.998112           3.052598\n",
       "2    3             1.599076           2.525882\n",
       "3    4             2.060298           3.209250\n",
       "4    5             2.252643           3.347173"
      ]
     },
     "execution_count": 20,
     "metadata": {},
     "output_type": "execute_result"
    }
   ],
   "source": [
    "#group data by batch (key)\n",
    "df_arc_grouped = df_arc.groupby('key')[['Реактивная мощность', 'Активная мощность']].sum()\n",
    "df_arc_grouped = df_arc_grouped.reset_index()\n",
    "df_arc_grouped.head()"
   ]
  },
  {
   "cell_type": "code",
   "execution_count": 21,
   "id": "3f0c40c2",
   "metadata": {},
   "outputs": [
    {
     "data": {
      "image/png": "[encoded data removed]",
      "text/plain": [
       "<Figure size 640x480 with 1 Axes>"
      ]
     },
     "metadata": {},
     "output_type": "display_data"
    }
   ],
   "source": [
    "#plot boxplots to check anomalies\n",
    "\n",
    "sns.boxplot(data=df_arc_grouped.drop(columns='key'), orient=\"h\")\n",
    "plt.xlim(0, max(max(df_arc_grouped['Реактивная мощность']), max(df_arc_grouped['Активная мощность'])))\n",
    "\n",
    "plt.title('Используемая мощность')\n",
    "plt.xlabel('Значение')\n",
    "plt.ylabel('Тип мощности')\n",
    "\n",
    "plt.show()"
   ]
  },
  {
   "cell_type": "code",
   "execution_count": 22,
   "id": "de3559c0",
   "metadata": {},
   "outputs": [
    {
     "name": "stdout",
     "output_type": "stream",
     "text": [
      "Реактивная мощность {'Количество аномалий': 57, '% от всех данных': 2.0, 'lower': 0.1582470983, 'upper': 4.8350762131}\n",
      "Активная мощность {'Количество аномалий': 48, '% от всех данных': 1.0, 'lower': 0.186225558, 'upper': 6.529019155399999}\n"
     ]
    }
   ],
   "source": [
    "#extract anomalies\n",
    "dict_anom = extract_anom(df_arc_grouped)\n",
    "\n",
    "for _ in dict_anom:\n",
    "    if _ != 'key':\n",
    "        print(_, dict_anom[_])"
   ]
  },
  {
   "cell_type": "code",
   "execution_count": 23,
   "id": "1f0d748d",
   "metadata": {},
   "outputs": [
    {
     "name": "stdout",
     "output_type": "stream",
     "text": [
      "Количество строк в данных, содержащих аномалии: 2.0 %\n"
     ]
    }
   ],
   "source": [
    "#extract indices of rows with anomalies and calculate the size\n",
    "idx_grouped = idx_anom(df_arc_grouped, dict_anom)\n",
    "print('Количество строк в данных, содержащих аномалии:', round(len(idx_grouped) / len (df_arc_grouped), 2) * 100, '%')"
   ]
  },
  {
   "cell_type": "markdown",
   "id": "e27c0f80",
   "metadata": {},
   "source": [
    "Количество аномалий снизилось до 2%, если смотреть на данные, сгруппированные по партиям "
   ]
  },
  {
   "cell_type": "markdown",
   "id": "c1536c46",
   "metadata": {},
   "source": [
    "**Вывод**\n",
    "\n",
    "В датафрейме присутствуют следующие данные:\n",
    "* `key`- номер партии (ковша)\n",
    "* `Начало нагрева дугой` - дата и время начала нагрева\n",
    "* `Конец нагрева дугой\t` - дата и время окончания нагрева\n",
    "* `Активная мощность` - мощность электричества, которая идет на нагрев\n",
    "* `Реактивная мощность` - мощность электричества, теряющаяся при нагреве\n",
    "\n",
    "___\n",
    "* Пропуски и дубли отсутствуют \n",
    "* Количество партий (ковшей): от 1 до 3241\n",
    "* В показателе `Реактивная мощность` наблюдаются 601 аномальное значение, 4% от первоначальных данных\n",
    "* В показателе `Активная мощность` наблюдается 569 аномальное значение, 4% от первоначальных данных\n",
    "* Всего аномальные показатели в 5% данных, если объединить оба показателя\n",
    "\n",
    "Однако,\n",
    "* Количество аномалий снизилось до 2%, если смотреть на данные, сгруппированные по партиям \n",
    "\n",
    "Тем не менее, \n",
    "* Без подтверждения от экспертов можно точно определить явный выброс - сильно отрицательное значение реактивной мощности.\n",
    "* Остальные потенциально аномальные значение не удаляем, так как они могут быть корректными.\n",
    "___\n",
    "\n",
    "Необходимо:\n",
    "* Названия колонок перевести в корректное написание: нижний регистр, без пробелов, деление слов нижним подчеркиванием\n",
    "* Дату и время не являются необходимыми показателями, можно удалить\n",
    "* Удалить аномальное значенение отрицательной мощности в показателе `Реактивная мощность`\n",
    "\n",
    "___\n",
    "\n",
    "Активная и реактивная мощность влияют на конечную температуру сплава, соответственно их можно попробовать использовать как признаки для построения модели. Например: сумму реактивной и сумму активной мощности как два признака для каждой партии"
   ]
  },
  {
   "cell_type": "markdown",
   "id": "598ca5c8",
   "metadata": {},
   "source": [
    "___"
   ]
  },
  {
   "cell_type": "code",
   "execution_count": 24,
   "id": "bce393d0",
   "metadata": {},
   "outputs": [],
   "source": [
    "# #delete anomalies\n",
    "# df_arc_grouped = df_arc_grouped.drop(index=idx_grouped)"
   ]
  },
  {
   "cell_type": "code",
   "execution_count": 25,
   "id": "97673ae7",
   "metadata": {},
   "outputs": [
    {
     "name": "stdout",
     "output_type": "stream",
     "text": [
      "Кол-во строк до удаления: 14876\n",
      "Кол-во после удаления: 14875\n"
     ]
    }
   ],
   "source": [
    "print('Кол-во строк до удаления:', len(df_arc))\n",
    "\n",
    "#delete anomalies and group again by batch\n",
    "df_arc = df_arc.drop(index=df_arc[df_arc['Реактивная мощность'] < -700].index)\n",
    "\n",
    "print('Кол-во после удаления:', len(df_arc))"
   ]
  },
  {
   "cell_type": "code",
   "execution_count": 26,
   "id": "08ba567d",
   "metadata": {},
   "outputs": [
    {
     "data": {
      "text/html": [
       "<div>\n",
       "<style scoped>\n",
       "    .dataframe tbody tr th:only-of-type {\n",
       "        vertical-align: middle;\n",
       "    }\n",
       "\n",
       "    .dataframe tbody tr th {\n",
       "        vertical-align: top;\n",
       "    }\n",
       "\n",
       "    .dataframe thead th {\n",
       "        text-align: right;\n",
       "    }\n",
       "</style>\n",
       "<table border=\"1\" class=\"dataframe\">\n",
       "  <thead>\n",
       "    <tr style=\"text-align: right;\">\n",
       "      <th></th>\n",
       "      <th>key</th>\n",
       "      <th>Реактивная мощность</th>\n",
       "      <th>Активная мощность</th>\n",
       "    </tr>\n",
       "  </thead>\n",
       "  <tbody>\n",
       "    <tr>\n",
       "      <th>0</th>\n",
       "      <td>1</td>\n",
       "      <td>3.183241</td>\n",
       "      <td>4.878147</td>\n",
       "    </tr>\n",
       "    <tr>\n",
       "      <th>1</th>\n",
       "      <td>2</td>\n",
       "      <td>1.998112</td>\n",
       "      <td>3.052598</td>\n",
       "    </tr>\n",
       "    <tr>\n",
       "      <th>2</th>\n",
       "      <td>3</td>\n",
       "      <td>1.599076</td>\n",
       "      <td>2.525882</td>\n",
       "    </tr>\n",
       "    <tr>\n",
       "      <th>3</th>\n",
       "      <td>4</td>\n",
       "      <td>2.060298</td>\n",
       "      <td>3.209250</td>\n",
       "    </tr>\n",
       "    <tr>\n",
       "      <th>4</th>\n",
       "      <td>5</td>\n",
       "      <td>2.252643</td>\n",
       "      <td>3.347173</td>\n",
       "    </tr>\n",
       "  </tbody>\n",
       "</table>\n",
       "</div>"
      ],
      "text/plain": [
       "   key  Реактивная мощность  Активная мощность\n",
       "0    1             3.183241           4.878147\n",
       "1    2             1.998112           3.052598\n",
       "2    3             1.599076           2.525882\n",
       "3    4             2.060298           3.209250\n",
       "4    5             2.252643           3.347173"
      ]
     },
     "execution_count": 26,
     "metadata": {},
     "output_type": "execute_result"
    }
   ],
   "source": [
    "#group by batch again\n",
    "# df_arc_grouped = df_arc.groupby('key')[['Реактивная мощность', 'Активная мощность']].agg([\"sum\", \"count\"])\n",
    "# df_arc_grouped.columns = ['Реактивная мощность', 'to_drop', 'Активная мощность', 'count_power']\n",
    "# df_arc_grouped = df_arc_grouped.drop(columns='to_drop')\n",
    "# df_arc_grouped = df_arc_grouped.reset_index()\n",
    "# df_arc_grouped.head()\n",
    "\n",
    "df_arc_grouped = df_arc.groupby('key')[['Реактивная мощность', 'Активная мощность']].sum()\n",
    "df_arc_grouped = df_arc_grouped.reset_index()\n",
    "df_arc_grouped.head()"
   ]
  },
  {
   "cell_type": "code",
   "execution_count": 27,
   "id": "e7e2d8c9",
   "metadata": {
    "scrolled": true
   },
   "outputs": [
    {
     "data": {
      "text/html": [
       "<div>\n",
       "<style scoped>\n",
       "    .dataframe tbody tr th:only-of-type {\n",
       "        vertical-align: middle;\n",
       "    }\n",
       "\n",
       "    .dataframe tbody tr th {\n",
       "        vertical-align: top;\n",
       "    }\n",
       "\n",
       "    .dataframe thead th {\n",
       "        text-align: right;\n",
       "    }\n",
       "</style>\n",
       "<table border=\"1\" class=\"dataframe\">\n",
       "  <thead>\n",
       "    <tr style=\"text-align: right;\">\n",
       "      <th></th>\n",
       "      <th>key</th>\n",
       "      <th>реактивная_мощность</th>\n",
       "      <th>активная_мощность</th>\n",
       "    </tr>\n",
       "  </thead>\n",
       "  <tbody>\n",
       "    <tr>\n",
       "      <th>0</th>\n",
       "      <td>1</td>\n",
       "      <td>3.183241</td>\n",
       "      <td>4.878147</td>\n",
       "    </tr>\n",
       "    <tr>\n",
       "      <th>1</th>\n",
       "      <td>2</td>\n",
       "      <td>1.998112</td>\n",
       "      <td>3.052598</td>\n",
       "    </tr>\n",
       "    <tr>\n",
       "      <th>2</th>\n",
       "      <td>3</td>\n",
       "      <td>1.599076</td>\n",
       "      <td>2.525882</td>\n",
       "    </tr>\n",
       "    <tr>\n",
       "      <th>3</th>\n",
       "      <td>4</td>\n",
       "      <td>2.060298</td>\n",
       "      <td>3.209250</td>\n",
       "    </tr>\n",
       "    <tr>\n",
       "      <th>4</th>\n",
       "      <td>5</td>\n",
       "      <td>2.252643</td>\n",
       "      <td>3.347173</td>\n",
       "    </tr>\n",
       "  </tbody>\n",
       "</table>\n",
       "</div>"
      ],
      "text/plain": [
       "   key  реактивная_мощность  активная_мощность\n",
       "0    1             3.183241           4.878147\n",
       "1    2             1.998112           3.052598\n",
       "2    3             1.599076           2.525882\n",
       "3    4             2.060298           3.209250\n",
       "4    5             2.252643           3.347173"
      ]
     },
     "execution_count": 27,
     "metadata": {},
     "output_type": "execute_result"
    }
   ],
   "source": [
    "#change column names\n",
    "df_arc_grouped.columns = format_columns(df_arc_grouped)\n",
    "df_arc_grouped.head()"
   ]
  },
  {
   "cell_type": "markdown",
   "id": "c3bef303",
   "metadata": {},
   "source": [
    "___"
   ]
  },
  {
   "cell_type": "markdown",
   "id": "a193ef4a",
   "metadata": {},
   "source": [
    "#### Анализ `df_bulk` — данные о подаче сыпучих материалов (объём)"
   ]
  },
  {
   "cell_type": "code",
   "execution_count": 28,
   "id": "6a64abcb",
   "metadata": {},
   "outputs": [
    {
     "data": {
      "text/html": [
       "<div>\n",
       "<style scoped>\n",
       "    .dataframe tbody tr th:only-of-type {\n",
       "        vertical-align: middle;\n",
       "    }\n",
       "\n",
       "    .dataframe tbody tr th {\n",
       "        vertical-align: top;\n",
       "    }\n",
       "\n",
       "    .dataframe thead th {\n",
       "        text-align: right;\n",
       "    }\n",
       "</style>\n",
       "<table border=\"1\" class=\"dataframe\">\n",
       "  <thead>\n",
       "    <tr style=\"text-align: right;\">\n",
       "      <th></th>\n",
       "      <th>key</th>\n",
       "      <th>Bulk 1</th>\n",
       "      <th>Bulk 2</th>\n",
       "      <th>Bulk 3</th>\n",
       "      <th>Bulk 4</th>\n",
       "      <th>Bulk 5</th>\n",
       "      <th>Bulk 6</th>\n",
       "      <th>Bulk 7</th>\n",
       "      <th>Bulk 8</th>\n",
       "      <th>Bulk 9</th>\n",
       "      <th>Bulk 10</th>\n",
       "      <th>Bulk 11</th>\n",
       "      <th>Bulk 12</th>\n",
       "      <th>Bulk 13</th>\n",
       "      <th>Bulk 14</th>\n",
       "      <th>Bulk 15</th>\n",
       "    </tr>\n",
       "  </thead>\n",
       "  <tbody>\n",
       "    <tr>\n",
       "      <th>0</th>\n",
       "      <td>1</td>\n",
       "      <td>NaN</td>\n",
       "      <td>NaN</td>\n",
       "      <td>NaN</td>\n",
       "      <td>43.0</td>\n",
       "      <td>NaN</td>\n",
       "      <td>NaN</td>\n",
       "      <td>NaN</td>\n",
       "      <td>NaN</td>\n",
       "      <td>NaN</td>\n",
       "      <td>NaN</td>\n",
       "      <td>NaN</td>\n",
       "      <td>206.0</td>\n",
       "      <td>NaN</td>\n",
       "      <td>150.0</td>\n",
       "      <td>154.0</td>\n",
       "    </tr>\n",
       "    <tr>\n",
       "      <th>1</th>\n",
       "      <td>2</td>\n",
       "      <td>NaN</td>\n",
       "      <td>NaN</td>\n",
       "      <td>NaN</td>\n",
       "      <td>73.0</td>\n",
       "      <td>NaN</td>\n",
       "      <td>NaN</td>\n",
       "      <td>NaN</td>\n",
       "      <td>NaN</td>\n",
       "      <td>NaN</td>\n",
       "      <td>NaN</td>\n",
       "      <td>NaN</td>\n",
       "      <td>206.0</td>\n",
       "      <td>NaN</td>\n",
       "      <td>149.0</td>\n",
       "      <td>154.0</td>\n",
       "    </tr>\n",
       "    <tr>\n",
       "      <th>2</th>\n",
       "      <td>3</td>\n",
       "      <td>NaN</td>\n",
       "      <td>NaN</td>\n",
       "      <td>NaN</td>\n",
       "      <td>34.0</td>\n",
       "      <td>NaN</td>\n",
       "      <td>NaN</td>\n",
       "      <td>NaN</td>\n",
       "      <td>NaN</td>\n",
       "      <td>NaN</td>\n",
       "      <td>NaN</td>\n",
       "      <td>NaN</td>\n",
       "      <td>205.0</td>\n",
       "      <td>NaN</td>\n",
       "      <td>152.0</td>\n",
       "      <td>153.0</td>\n",
       "    </tr>\n",
       "    <tr>\n",
       "      <th>3</th>\n",
       "      <td>4</td>\n",
       "      <td>NaN</td>\n",
       "      <td>NaN</td>\n",
       "      <td>NaN</td>\n",
       "      <td>81.0</td>\n",
       "      <td>NaN</td>\n",
       "      <td>NaN</td>\n",
       "      <td>NaN</td>\n",
       "      <td>NaN</td>\n",
       "      <td>NaN</td>\n",
       "      <td>NaN</td>\n",
       "      <td>NaN</td>\n",
       "      <td>207.0</td>\n",
       "      <td>NaN</td>\n",
       "      <td>153.0</td>\n",
       "      <td>154.0</td>\n",
       "    </tr>\n",
       "    <tr>\n",
       "      <th>4</th>\n",
       "      <td>5</td>\n",
       "      <td>NaN</td>\n",
       "      <td>NaN</td>\n",
       "      <td>NaN</td>\n",
       "      <td>78.0</td>\n",
       "      <td>NaN</td>\n",
       "      <td>NaN</td>\n",
       "      <td>NaN</td>\n",
       "      <td>NaN</td>\n",
       "      <td>NaN</td>\n",
       "      <td>NaN</td>\n",
       "      <td>NaN</td>\n",
       "      <td>203.0</td>\n",
       "      <td>NaN</td>\n",
       "      <td>151.0</td>\n",
       "      <td>152.0</td>\n",
       "    </tr>\n",
       "  </tbody>\n",
       "</table>\n",
       "</div>"
      ],
      "text/plain": [
       "   key  Bulk 1  Bulk 2  Bulk 3  Bulk 4  Bulk 5  Bulk 6  Bulk 7  Bulk 8  \\\n",
       "0    1     NaN     NaN     NaN    43.0     NaN     NaN     NaN     NaN   \n",
       "1    2     NaN     NaN     NaN    73.0     NaN     NaN     NaN     NaN   \n",
       "2    3     NaN     NaN     NaN    34.0     NaN     NaN     NaN     NaN   \n",
       "3    4     NaN     NaN     NaN    81.0     NaN     NaN     NaN     NaN   \n",
       "4    5     NaN     NaN     NaN    78.0     NaN     NaN     NaN     NaN   \n",
       "\n",
       "   Bulk 9  Bulk 10  Bulk 11  Bulk 12  Bulk 13  Bulk 14  Bulk 15  \n",
       "0     NaN      NaN      NaN    206.0      NaN    150.0    154.0  \n",
       "1     NaN      NaN      NaN    206.0      NaN    149.0    154.0  \n",
       "2     NaN      NaN      NaN    205.0      NaN    152.0    153.0  \n",
       "3     NaN      NaN      NaN    207.0      NaN    153.0    154.0  \n",
       "4     NaN      NaN      NaN    203.0      NaN    151.0    152.0  "
      ]
     },
     "execution_count": 28,
     "metadata": {},
     "output_type": "execute_result"
    }
   ],
   "source": [
    "#check first rows\n",
    "df_bulk.head()"
   ]
  },
  {
   "cell_type": "code",
   "execution_count": 29,
   "id": "f7d38a06",
   "metadata": {
    "scrolled": false
   },
   "outputs": [
    {
     "name": "stdout",
     "output_type": "stream",
     "text": [
      "<class 'pandas.core.frame.DataFrame'>\n",
      "RangeIndex: 3129 entries, 0 to 3128\n",
      "Data columns (total 16 columns):\n",
      " #   Column   Non-Null Count  Dtype  \n",
      "---  ------   --------------  -----  \n",
      " 0   key      3129 non-null   int64  \n",
      " 1   Bulk 1   252 non-null    float64\n",
      " 2   Bulk 2   22 non-null     float64\n",
      " 3   Bulk 3   1298 non-null   float64\n",
      " 4   Bulk 4   1014 non-null   float64\n",
      " 5   Bulk 5   77 non-null     float64\n",
      " 6   Bulk 6   576 non-null    float64\n",
      " 7   Bulk 7   25 non-null     float64\n",
      " 8   Bulk 8   1 non-null      float64\n",
      " 9   Bulk 9   19 non-null     float64\n",
      " 10  Bulk 10  176 non-null    float64\n",
      " 11  Bulk 11  177 non-null    float64\n",
      " 12  Bulk 12  2450 non-null   float64\n",
      " 13  Bulk 13  18 non-null     float64\n",
      " 14  Bulk 14  2806 non-null   float64\n",
      " 15  Bulk 15  2248 non-null   float64\n",
      "dtypes: float64(15), int64(1)\n",
      "memory usage: 391.2 KB\n"
     ]
    }
   ],
   "source": [
    "#check general data\n",
    "df_bulk.info()"
   ]
  },
  {
   "cell_type": "code",
   "execution_count": 30,
   "id": "02b1ef96",
   "metadata": {},
   "outputs": [
    {
     "data": {
      "text/plain": [
       "key           0\n",
       "Bulk 1     2877\n",
       "Bulk 2     3107\n",
       "Bulk 3     1831\n",
       "Bulk 4     2115\n",
       "Bulk 5     3052\n",
       "Bulk 6     2553\n",
       "Bulk 7     3104\n",
       "Bulk 8     3128\n",
       "Bulk 9     3110\n",
       "Bulk 10    2953\n",
       "Bulk 11    2952\n",
       "Bulk 12     679\n",
       "Bulk 13    3111\n",
       "Bulk 14     323\n",
       "Bulk 15     881\n",
       "dtype: int64"
      ]
     },
     "execution_count": 30,
     "metadata": {},
     "output_type": "execute_result"
    }
   ],
   "source": [
    "#check empty values\n",
    "df_bulk.isna().sum()"
   ]
  },
  {
   "cell_type": "code",
   "execution_count": 31,
   "id": "23c075e5",
   "metadata": {},
   "outputs": [
    {
     "data": {
      "text/plain": [
       "0"
      ]
     },
     "execution_count": 31,
     "metadata": {},
     "output_type": "execute_result"
    }
   ],
   "source": [
    "#check duplicated\n",
    "df_bulk.duplicated().sum()"
   ]
  },
  {
   "cell_type": "code",
   "execution_count": 32,
   "id": "95a05ae6",
   "metadata": {},
   "outputs": [
    {
     "data": {
      "text/html": [
       "<div>\n",
       "<style scoped>\n",
       "    .dataframe tbody tr th:only-of-type {\n",
       "        vertical-align: middle;\n",
       "    }\n",
       "\n",
       "    .dataframe tbody tr th {\n",
       "        vertical-align: top;\n",
       "    }\n",
       "\n",
       "    .dataframe thead th {\n",
       "        text-align: right;\n",
       "    }\n",
       "</style>\n",
       "<table border=\"1\" class=\"dataframe\">\n",
       "  <thead>\n",
       "    <tr style=\"text-align: right;\">\n",
       "      <th></th>\n",
       "      <th>key</th>\n",
       "      <th>Bulk 1</th>\n",
       "      <th>Bulk 2</th>\n",
       "      <th>Bulk 3</th>\n",
       "      <th>Bulk 4</th>\n",
       "      <th>Bulk 5</th>\n",
       "      <th>Bulk 6</th>\n",
       "      <th>Bulk 7</th>\n",
       "      <th>Bulk 8</th>\n",
       "      <th>Bulk 9</th>\n",
       "      <th>Bulk 10</th>\n",
       "      <th>Bulk 11</th>\n",
       "      <th>Bulk 12</th>\n",
       "      <th>Bulk 13</th>\n",
       "      <th>Bulk 14</th>\n",
       "      <th>Bulk 15</th>\n",
       "    </tr>\n",
       "  </thead>\n",
       "  <tbody>\n",
       "    <tr>\n",
       "      <th>count</th>\n",
       "      <td>3129.000000</td>\n",
       "      <td>252.000000</td>\n",
       "      <td>22.000000</td>\n",
       "      <td>1298.000000</td>\n",
       "      <td>1014.000000</td>\n",
       "      <td>77.000000</td>\n",
       "      <td>576.000000</td>\n",
       "      <td>25.000000</td>\n",
       "      <td>1.0</td>\n",
       "      <td>19.000000</td>\n",
       "      <td>176.000000</td>\n",
       "      <td>177.000000</td>\n",
       "      <td>2450.000000</td>\n",
       "      <td>18.000000</td>\n",
       "      <td>2806.000000</td>\n",
       "      <td>2248.000000</td>\n",
       "    </tr>\n",
       "    <tr>\n",
       "      <th>mean</th>\n",
       "      <td>1624.383509</td>\n",
       "      <td>39.242063</td>\n",
       "      <td>253.045455</td>\n",
       "      <td>113.879045</td>\n",
       "      <td>104.394477</td>\n",
       "      <td>107.025974</td>\n",
       "      <td>118.925347</td>\n",
       "      <td>305.600000</td>\n",
       "      <td>49.0</td>\n",
       "      <td>76.315789</td>\n",
       "      <td>83.284091</td>\n",
       "      <td>76.819209</td>\n",
       "      <td>260.471020</td>\n",
       "      <td>181.111111</td>\n",
       "      <td>170.284747</td>\n",
       "      <td>160.513345</td>\n",
       "    </tr>\n",
       "    <tr>\n",
       "      <th>std</th>\n",
       "      <td>933.337642</td>\n",
       "      <td>18.277654</td>\n",
       "      <td>21.180578</td>\n",
       "      <td>75.483494</td>\n",
       "      <td>48.184126</td>\n",
       "      <td>81.790646</td>\n",
       "      <td>72.057776</td>\n",
       "      <td>191.022904</td>\n",
       "      <td>NaN</td>\n",
       "      <td>21.720581</td>\n",
       "      <td>26.060347</td>\n",
       "      <td>59.655365</td>\n",
       "      <td>120.649269</td>\n",
       "      <td>46.088009</td>\n",
       "      <td>65.868652</td>\n",
       "      <td>51.765319</td>\n",
       "    </tr>\n",
       "    <tr>\n",
       "      <th>min</th>\n",
       "      <td>1.000000</td>\n",
       "      <td>10.000000</td>\n",
       "      <td>228.000000</td>\n",
       "      <td>6.000000</td>\n",
       "      <td>12.000000</td>\n",
       "      <td>11.000000</td>\n",
       "      <td>17.000000</td>\n",
       "      <td>47.000000</td>\n",
       "      <td>49.0</td>\n",
       "      <td>63.000000</td>\n",
       "      <td>24.000000</td>\n",
       "      <td>8.000000</td>\n",
       "      <td>53.000000</td>\n",
       "      <td>151.000000</td>\n",
       "      <td>16.000000</td>\n",
       "      <td>1.000000</td>\n",
       "    </tr>\n",
       "    <tr>\n",
       "      <th>25%</th>\n",
       "      <td>816.000000</td>\n",
       "      <td>27.000000</td>\n",
       "      <td>242.000000</td>\n",
       "      <td>58.000000</td>\n",
       "      <td>72.000000</td>\n",
       "      <td>70.000000</td>\n",
       "      <td>69.750000</td>\n",
       "      <td>155.000000</td>\n",
       "      <td>49.0</td>\n",
       "      <td>66.000000</td>\n",
       "      <td>64.000000</td>\n",
       "      <td>25.000000</td>\n",
       "      <td>204.000000</td>\n",
       "      <td>153.250000</td>\n",
       "      <td>119.000000</td>\n",
       "      <td>105.000000</td>\n",
       "    </tr>\n",
       "    <tr>\n",
       "      <th>50%</th>\n",
       "      <td>1622.000000</td>\n",
       "      <td>31.000000</td>\n",
       "      <td>251.500000</td>\n",
       "      <td>97.500000</td>\n",
       "      <td>102.000000</td>\n",
       "      <td>86.000000</td>\n",
       "      <td>100.000000</td>\n",
       "      <td>298.000000</td>\n",
       "      <td>49.0</td>\n",
       "      <td>68.000000</td>\n",
       "      <td>86.500000</td>\n",
       "      <td>64.000000</td>\n",
       "      <td>208.000000</td>\n",
       "      <td>155.500000</td>\n",
       "      <td>151.000000</td>\n",
       "      <td>160.000000</td>\n",
       "    </tr>\n",
       "    <tr>\n",
       "      <th>75%</th>\n",
       "      <td>2431.000000</td>\n",
       "      <td>46.000000</td>\n",
       "      <td>257.750000</td>\n",
       "      <td>152.000000</td>\n",
       "      <td>133.000000</td>\n",
       "      <td>132.000000</td>\n",
       "      <td>157.000000</td>\n",
       "      <td>406.000000</td>\n",
       "      <td>49.0</td>\n",
       "      <td>70.500000</td>\n",
       "      <td>102.000000</td>\n",
       "      <td>106.000000</td>\n",
       "      <td>316.000000</td>\n",
       "      <td>203.500000</td>\n",
       "      <td>205.750000</td>\n",
       "      <td>205.000000</td>\n",
       "    </tr>\n",
       "    <tr>\n",
       "      <th>max</th>\n",
       "      <td>3241.000000</td>\n",
       "      <td>185.000000</td>\n",
       "      <td>325.000000</td>\n",
       "      <td>454.000000</td>\n",
       "      <td>281.000000</td>\n",
       "      <td>603.000000</td>\n",
       "      <td>503.000000</td>\n",
       "      <td>772.000000</td>\n",
       "      <td>49.0</td>\n",
       "      <td>147.000000</td>\n",
       "      <td>159.000000</td>\n",
       "      <td>313.000000</td>\n",
       "      <td>1849.000000</td>\n",
       "      <td>305.000000</td>\n",
       "      <td>636.000000</td>\n",
       "      <td>405.000000</td>\n",
       "    </tr>\n",
       "  </tbody>\n",
       "</table>\n",
       "</div>"
      ],
      "text/plain": [
       "               key      Bulk 1      Bulk 2       Bulk 3       Bulk 4  \\\n",
       "count  3129.000000  252.000000   22.000000  1298.000000  1014.000000   \n",
       "mean   1624.383509   39.242063  253.045455   113.879045   104.394477   \n",
       "std     933.337642   18.277654   21.180578    75.483494    48.184126   \n",
       "min       1.000000   10.000000  228.000000     6.000000    12.000000   \n",
       "25%     816.000000   27.000000  242.000000    58.000000    72.000000   \n",
       "50%    1622.000000   31.000000  251.500000    97.500000   102.000000   \n",
       "75%    2431.000000   46.000000  257.750000   152.000000   133.000000   \n",
       "max    3241.000000  185.000000  325.000000   454.000000   281.000000   \n",
       "\n",
       "           Bulk 5      Bulk 6      Bulk 7  Bulk 8      Bulk 9     Bulk 10  \\\n",
       "count   77.000000  576.000000   25.000000     1.0   19.000000  176.000000   \n",
       "mean   107.025974  118.925347  305.600000    49.0   76.315789   83.284091   \n",
       "std     81.790646   72.057776  191.022904     NaN   21.720581   26.060347   \n",
       "min     11.000000   17.000000   47.000000    49.0   63.000000   24.000000   \n",
       "25%     70.000000   69.750000  155.000000    49.0   66.000000   64.000000   \n",
       "50%     86.000000  100.000000  298.000000    49.0   68.000000   86.500000   \n",
       "75%    132.000000  157.000000  406.000000    49.0   70.500000  102.000000   \n",
       "max    603.000000  503.000000  772.000000    49.0  147.000000  159.000000   \n",
       "\n",
       "          Bulk 11      Bulk 12     Bulk 13      Bulk 14      Bulk 15  \n",
       "count  177.000000  2450.000000   18.000000  2806.000000  2248.000000  \n",
       "mean    76.819209   260.471020  181.111111   170.284747   160.513345  \n",
       "std     59.655365   120.649269   46.088009    65.868652    51.765319  \n",
       "min      8.000000    53.000000  151.000000    16.000000     1.000000  \n",
       "25%     25.000000   204.000000  153.250000   119.000000   105.000000  \n",
       "50%     64.000000   208.000000  155.500000   151.000000   160.000000  \n",
       "75%    106.000000   316.000000  203.500000   205.750000   205.000000  \n",
       "max    313.000000  1849.000000  305.000000   636.000000   405.000000  "
      ]
     },
     "execution_count": 32,
     "metadata": {},
     "output_type": "execute_result"
    }
   ],
   "source": [
    "#check general info\n",
    "df_bulk.describe()"
   ]
  },
  {
   "cell_type": "markdown",
   "id": "cdb9bbb7",
   "metadata": {},
   "source": [
    "Посмотрим на распределение объема сыпучих материалов на графике"
   ]
  },
  {
   "cell_type": "code",
   "execution_count": 33,
   "id": "a5996ccf",
   "metadata": {},
   "outputs": [
    {
     "data": {
      "image/png": "[encoded data removed]",
      "text/plain": [
       "<Figure size 640x480 with 1 Axes>"
      ]
     },
     "metadata": {},
     "output_type": "display_data"
    }
   ],
   "source": [
    "#plot boxplots to check anomalies\n",
    "\n",
    "sns.boxplot(data=df_bulk.drop(columns='key'), orient=\"h\")\n",
    "\n",
    "plt.title('Объем поданных сыпучих материалов')\n",
    "plt.xlabel('Объем')\n",
    "plt.ylabel('Материал')\n",
    "\n",
    "plt.show()"
   ]
  },
  {
   "cell_type": "markdown",
   "id": "6617560b",
   "metadata": {},
   "source": [
    "Явно видны аномальные значения. Посчитаем их:"
   ]
  },
  {
   "cell_type": "code",
   "execution_count": 34,
   "id": "cbe7a2df",
   "metadata": {},
   "outputs": [
    {
     "name": "stdout",
     "output_type": "stream",
     "text": [
      "Bulk 1 {'Количество аномалий': 10, '% от всех данных': 0.0, 'lower': 10.0, 'upper': 74.0}\n",
      "Bulk 2 {'Количество аномалий': 2, '% от всех данных': 0.0, 'lower': 228.0, 'upper': 270.0}\n",
      "Bulk 3 {'Количество аномалий': 38, '% от всех данных': 1.0, 'lower': 6.0, 'upper': 292.0}\n",
      "Bulk 4 {'Количество аномалий': 18, '% от всех данных': 1.0, 'lower': 12.0, 'upper': 224.0}\n",
      "Bulk 5 {'Количество аномалий': 5, '% от всех данных': 0.0, 'lower': 11.0, 'upper': 197.0}\n",
      "Bulk 6 {'Количество аномалий': 16, '% от всех данных': 1.0, 'lower': 17.0, 'upper': 285.0}\n",
      "Bulk 7 {'Количество аномалий': 0, '% от всех данных': 0.0, 'lower': 47.0, 'upper': 772.0}\n",
      "Bulk 8 {'Количество аномалий': 0, '% от всех данных': 0.0, 'lower': 49.0, 'upper': 49.0}\n",
      "Bulk 9 {'Количество аномалий': 3, '% от всех данных': 0.0, 'lower': 63.0, 'upper': 74.0}\n",
      "Bulk 10 {'Количество аномалий': 0, '% от всех данных': 0.0, 'lower': 24.0, 'upper': 159.0}\n",
      "Bulk 11 {'Количество аномалий': 2, '% от всех данных': 0.0, 'lower': 8.0, 'upper': 226.0}\n",
      "Bulk 12 {'Количество аномалий': 102, '% от всех данных': 3.0, 'lower': 53.0, 'upper': 484.0}\n",
      "Bulk 13 {'Количество аномалий': 1, '% от всех данных': 0.0, 'lower': 151.0, 'upper': 278.0}\n",
      "Bulk 14 {'Количество аномалий': 59, '% от всех данных': 2.0, 'lower': 16.0, 'upper': 333.0}\n",
      "Bulk 15 {'Количество аномалий': 2, '% от всех данных': 0.0, 'lower': 1.0, 'upper': 337.0}\n"
     ]
    }
   ],
   "source": [
    "#extract anomalies\n",
    "dict_anom = extract_anom(df_bulk)\n",
    "\n",
    "for _ in dict_anom:\n",
    "    if _ != 'key':\n",
    "        print(_, dict_anom[_])"
   ]
  },
  {
   "cell_type": "code",
   "execution_count": 35,
   "id": "3698462f",
   "metadata": {
    "scrolled": true
   },
   "outputs": [
    {
     "name": "stdout",
     "output_type": "stream",
     "text": [
      "Количество строк в данных, содержащих аномалии: 8.0 %\n"
     ]
    }
   ],
   "source": [
    "#extract indices of rows with anomalies and calculate the size\n",
    "idx_bulk = idx_anom(df_bulk, dict_anom)\n",
    "print('Количество строк в данных, содержащих аномалии:', round(len(idx_bulk) / len (df_bulk), 2) * 100, '%')"
   ]
  },
  {
   "cell_type": "markdown",
   "id": "b85fa563",
   "metadata": {},
   "source": [
    "___"
   ]
  },
  {
   "cell_type": "code",
   "execution_count": 36,
   "id": "d4550a8e",
   "metadata": {},
   "outputs": [
    {
     "data": {
      "text/plain": [
       "112"
      ]
     },
     "execution_count": 36,
     "metadata": {},
     "output_type": "execute_result"
    }
   ],
   "source": [
    "#find missed batches\n",
    "batches = df_bulk['key'].values\n",
    "batches_no_bulk = [] \n",
    "for i in range(1,3242):\n",
    "    if i not in batches:\n",
    "        batches_no_bulk.append(i)\n",
    "len(batches_no_bulk)"
   ]
  },
  {
   "cell_type": "code",
   "execution_count": 37,
   "id": "89a82871",
   "metadata": {},
   "outputs": [
    {
     "data": {
      "text/html": [
       "<div>\n",
       "<style scoped>\n",
       "    .dataframe tbody tr th:only-of-type {\n",
       "        vertical-align: middle;\n",
       "    }\n",
       "\n",
       "    .dataframe tbody tr th {\n",
       "        vertical-align: top;\n",
       "    }\n",
       "\n",
       "    .dataframe thead th {\n",
       "        text-align: right;\n",
       "    }\n",
       "</style>\n",
       "<table border=\"1\" class=\"dataframe\">\n",
       "  <thead>\n",
       "    <tr style=\"text-align: right;\">\n",
       "      <th></th>\n",
       "      <th>key</th>\n",
       "      <th>Начало нагрева дугой</th>\n",
       "      <th>Конец нагрева дугой</th>\n",
       "      <th>Активная мощность</th>\n",
       "      <th>Реактивная мощность</th>\n",
       "    </tr>\n",
       "  </thead>\n",
       "  <tbody>\n",
       "    <tr>\n",
       "      <th>238</th>\n",
       "      <td>51</td>\n",
       "      <td>2019-05-05 05:45:24</td>\n",
       "      <td>2019-05-05 05:47:41</td>\n",
       "      <td>0.495662</td>\n",
       "      <td>0.343805</td>\n",
       "    </tr>\n",
       "    <tr>\n",
       "      <th>239</th>\n",
       "      <td>51</td>\n",
       "      <td>2019-05-05 05:49:45</td>\n",
       "      <td>2019-05-05 05:59:56</td>\n",
       "      <td>2.772319</td>\n",
       "      <td>1.872731</td>\n",
       "    </tr>\n",
       "    <tr>\n",
       "      <th>240</th>\n",
       "      <td>51</td>\n",
       "      <td>2019-05-05 06:01:34</td>\n",
       "      <td>2019-05-05 06:09:39</td>\n",
       "      <td>2.152518</td>\n",
       "      <td>1.434526</td>\n",
       "    </tr>\n",
       "    <tr>\n",
       "      <th>241</th>\n",
       "      <td>51</td>\n",
       "      <td>2019-05-05 06:10:30</td>\n",
       "      <td>2019-05-05 06:11:30</td>\n",
       "      <td>0.264215</td>\n",
       "      <td>0.176665</td>\n",
       "    </tr>\n",
       "  </tbody>\n",
       "</table>\n",
       "</div>"
      ],
      "text/plain": [
       "     key Начало нагрева дугой  Конец нагрева дугой  Активная мощность  \\\n",
       "238   51  2019-05-05 05:45:24  2019-05-05 05:47:41           0.495662   \n",
       "239   51  2019-05-05 05:49:45  2019-05-05 05:59:56           2.772319   \n",
       "240   51  2019-05-05 06:01:34  2019-05-05 06:09:39           2.152518   \n",
       "241   51  2019-05-05 06:10:30  2019-05-05 06:11:30           0.264215   \n",
       "\n",
       "     Реактивная мощность  \n",
       "238             0.343805  \n",
       "239             1.872731  \n",
       "240             1.434526  \n",
       "241             0.176665  "
      ]
     },
     "execution_count": 37,
     "metadata": {},
     "output_type": "execute_result"
    }
   ],
   "source": [
    "#example of batch with no additional materials\n",
    "df_arc[df_arc['key'] == batches_no_bulk[2]]"
   ]
  },
  {
   "cell_type": "markdown",
   "id": "483c5cc1",
   "metadata": {},
   "source": [
    "**Вывод**\n",
    "\n",
    "В датафрейме присутствуют следующие данные:\n",
    "* `key`- номер партии (ковша)\n",
    "* `Bulk #` - данные о сыпучем материале (15 разных материалов)\n",
    "\n",
    "___\n",
    "* Дубли отсутствуют\n",
    "* Много пропущенных значений, скорее всего говорит о том, что для разных партий используются разные примеси\n",
    "* Количество партий (ковшей): от 1 до 3241\n",
    "* При этом, отсутствуют данные о примесях для 112 различных партий - несмотря на то, что наблюдается несколько этапов нагрева\n",
    "* Наблюдаются аномальные значения для некоторых примесей\n",
    "\n",
    "Тем не менее, \n",
    "* Без подтверждения от экспертов невозможно точно определить, являются ли выбросы согласно графику, реальными.\n",
    "* Поэтому, потенциально аномальные значение не удаляем, так как они могут быть корректными.\n",
    "___\n",
    "\n",
    "Необходимо:\n",
    "* Названия колонок перевести в корректное написание: нижний регистр, без пробелов, деление слов нижним подчеркиванием\n",
    "* Проанализировать партии, в которых нет примесей, однако наблюдаются несколько этапов нагрева (сравнить с данными о температуре и о проволочных материалах). Если будет несколько замеров температуры, но не добавляются ни проволочные, ни сыпучие материалы, то подобные партии можно будет удалить.\n",
    "\n",
    "___\n",
    "\n",
    "Объем поданных материалов влияет на химический состав стали, а следовательно на ее температуру плавления. Соответственно, логично использовать данные о поданных материалах для построения модели"
   ]
  },
  {
   "cell_type": "markdown",
   "id": "eee91bee",
   "metadata": {},
   "source": [
    "___"
   ]
  },
  {
   "cell_type": "code",
   "execution_count": 38,
   "id": "59ed5965",
   "metadata": {
    "scrolled": true
   },
   "outputs": [
    {
     "data": {
      "text/html": [
       "<div>\n",
       "<style scoped>\n",
       "    .dataframe tbody tr th:only-of-type {\n",
       "        vertical-align: middle;\n",
       "    }\n",
       "\n",
       "    .dataframe tbody tr th {\n",
       "        vertical-align: top;\n",
       "    }\n",
       "\n",
       "    .dataframe thead th {\n",
       "        text-align: right;\n",
       "    }\n",
       "</style>\n",
       "<table border=\"1\" class=\"dataframe\">\n",
       "  <thead>\n",
       "    <tr style=\"text-align: right;\">\n",
       "      <th></th>\n",
       "      <th>key</th>\n",
       "      <th>bulk_1</th>\n",
       "      <th>bulk_2</th>\n",
       "      <th>bulk_3</th>\n",
       "      <th>bulk_4</th>\n",
       "      <th>bulk_5</th>\n",
       "      <th>bulk_6</th>\n",
       "      <th>bulk_7</th>\n",
       "      <th>bulk_8</th>\n",
       "      <th>bulk_9</th>\n",
       "      <th>bulk_10</th>\n",
       "      <th>bulk_11</th>\n",
       "      <th>bulk_12</th>\n",
       "      <th>bulk_13</th>\n",
       "      <th>bulk_14</th>\n",
       "      <th>bulk_15</th>\n",
       "    </tr>\n",
       "  </thead>\n",
       "  <tbody>\n",
       "    <tr>\n",
       "      <th>0</th>\n",
       "      <td>1</td>\n",
       "      <td>NaN</td>\n",
       "      <td>NaN</td>\n",
       "      <td>NaN</td>\n",
       "      <td>43.0</td>\n",
       "      <td>NaN</td>\n",
       "      <td>NaN</td>\n",
       "      <td>NaN</td>\n",
       "      <td>NaN</td>\n",
       "      <td>NaN</td>\n",
       "      <td>NaN</td>\n",
       "      <td>NaN</td>\n",
       "      <td>206.0</td>\n",
       "      <td>NaN</td>\n",
       "      <td>150.0</td>\n",
       "      <td>154.0</td>\n",
       "    </tr>\n",
       "    <tr>\n",
       "      <th>1</th>\n",
       "      <td>2</td>\n",
       "      <td>NaN</td>\n",
       "      <td>NaN</td>\n",
       "      <td>NaN</td>\n",
       "      <td>73.0</td>\n",
       "      <td>NaN</td>\n",
       "      <td>NaN</td>\n",
       "      <td>NaN</td>\n",
       "      <td>NaN</td>\n",
       "      <td>NaN</td>\n",
       "      <td>NaN</td>\n",
       "      <td>NaN</td>\n",
       "      <td>206.0</td>\n",
       "      <td>NaN</td>\n",
       "      <td>149.0</td>\n",
       "      <td>154.0</td>\n",
       "    </tr>\n",
       "    <tr>\n",
       "      <th>2</th>\n",
       "      <td>3</td>\n",
       "      <td>NaN</td>\n",
       "      <td>NaN</td>\n",
       "      <td>NaN</td>\n",
       "      <td>34.0</td>\n",
       "      <td>NaN</td>\n",
       "      <td>NaN</td>\n",
       "      <td>NaN</td>\n",
       "      <td>NaN</td>\n",
       "      <td>NaN</td>\n",
       "      <td>NaN</td>\n",
       "      <td>NaN</td>\n",
       "      <td>205.0</td>\n",
       "      <td>NaN</td>\n",
       "      <td>152.0</td>\n",
       "      <td>153.0</td>\n",
       "    </tr>\n",
       "    <tr>\n",
       "      <th>3</th>\n",
       "      <td>4</td>\n",
       "      <td>NaN</td>\n",
       "      <td>NaN</td>\n",
       "      <td>NaN</td>\n",
       "      <td>81.0</td>\n",
       "      <td>NaN</td>\n",
       "      <td>NaN</td>\n",
       "      <td>NaN</td>\n",
       "      <td>NaN</td>\n",
       "      <td>NaN</td>\n",
       "      <td>NaN</td>\n",
       "      <td>NaN</td>\n",
       "      <td>207.0</td>\n",
       "      <td>NaN</td>\n",
       "      <td>153.0</td>\n",
       "      <td>154.0</td>\n",
       "    </tr>\n",
       "    <tr>\n",
       "      <th>4</th>\n",
       "      <td>5</td>\n",
       "      <td>NaN</td>\n",
       "      <td>NaN</td>\n",
       "      <td>NaN</td>\n",
       "      <td>78.0</td>\n",
       "      <td>NaN</td>\n",
       "      <td>NaN</td>\n",
       "      <td>NaN</td>\n",
       "      <td>NaN</td>\n",
       "      <td>NaN</td>\n",
       "      <td>NaN</td>\n",
       "      <td>NaN</td>\n",
       "      <td>203.0</td>\n",
       "      <td>NaN</td>\n",
       "      <td>151.0</td>\n",
       "      <td>152.0</td>\n",
       "    </tr>\n",
       "  </tbody>\n",
       "</table>\n",
       "</div>"
      ],
      "text/plain": [
       "   key  bulk_1  bulk_2  bulk_3  bulk_4  bulk_5  bulk_6  bulk_7  bulk_8  \\\n",
       "0    1     NaN     NaN     NaN    43.0     NaN     NaN     NaN     NaN   \n",
       "1    2     NaN     NaN     NaN    73.0     NaN     NaN     NaN     NaN   \n",
       "2    3     NaN     NaN     NaN    34.0     NaN     NaN     NaN     NaN   \n",
       "3    4     NaN     NaN     NaN    81.0     NaN     NaN     NaN     NaN   \n",
       "4    5     NaN     NaN     NaN    78.0     NaN     NaN     NaN     NaN   \n",
       "\n",
       "   bulk_9  bulk_10  bulk_11  bulk_12  bulk_13  bulk_14  bulk_15  \n",
       "0     NaN      NaN      NaN    206.0      NaN    150.0    154.0  \n",
       "1     NaN      NaN      NaN    206.0      NaN    149.0    154.0  \n",
       "2     NaN      NaN      NaN    205.0      NaN    152.0    153.0  \n",
       "3     NaN      NaN      NaN    207.0      NaN    153.0    154.0  \n",
       "4     NaN      NaN      NaN    203.0      NaN    151.0    152.0  "
      ]
     },
     "execution_count": 38,
     "metadata": {},
     "output_type": "execute_result"
    }
   ],
   "source": [
    "#format columns\n",
    "df_bulk.columns = format_columns(df_bulk)\n",
    "df_bulk.head()"
   ]
  },
  {
   "cell_type": "code",
   "execution_count": 39,
   "id": "9c7daa9c",
   "metadata": {},
   "outputs": [],
   "source": [
    "# #delete anomalies\n",
    "# df_bulk = df_bulk.drop(index=idx_bulk)"
   ]
  },
  {
   "cell_type": "markdown",
   "id": "de153b14",
   "metadata": {},
   "source": [
    "Форматирование изменено"
   ]
  },
  {
   "cell_type": "markdown",
   "id": "d58e4697",
   "metadata": {},
   "source": [
    "___"
   ]
  },
  {
   "cell_type": "markdown",
   "id": "7712a45d",
   "metadata": {},
   "source": [
    "#### Анализ `df_bulk_time` — данные о подаче сыпучих материалов (время)"
   ]
  },
  {
   "cell_type": "code",
   "execution_count": 40,
   "id": "2f7fdb14",
   "metadata": {},
   "outputs": [
    {
     "data": {
      "text/html": [
       "<div>\n",
       "<style scoped>\n",
       "    .dataframe tbody tr th:only-of-type {\n",
       "        vertical-align: middle;\n",
       "    }\n",
       "\n",
       "    .dataframe tbody tr th {\n",
       "        vertical-align: top;\n",
       "    }\n",
       "\n",
       "    .dataframe thead th {\n",
       "        text-align: right;\n",
       "    }\n",
       "</style>\n",
       "<table border=\"1\" class=\"dataframe\">\n",
       "  <thead>\n",
       "    <tr style=\"text-align: right;\">\n",
       "      <th></th>\n",
       "      <th>key</th>\n",
       "      <th>Bulk 1</th>\n",
       "      <th>Bulk 2</th>\n",
       "      <th>Bulk 3</th>\n",
       "      <th>Bulk 4</th>\n",
       "      <th>Bulk 5</th>\n",
       "      <th>Bulk 6</th>\n",
       "      <th>Bulk 7</th>\n",
       "      <th>Bulk 8</th>\n",
       "      <th>Bulk 9</th>\n",
       "      <th>Bulk 10</th>\n",
       "      <th>Bulk 11</th>\n",
       "      <th>Bulk 12</th>\n",
       "      <th>Bulk 13</th>\n",
       "      <th>Bulk 14</th>\n",
       "      <th>Bulk 15</th>\n",
       "    </tr>\n",
       "  </thead>\n",
       "  <tbody>\n",
       "    <tr>\n",
       "      <th>0</th>\n",
       "      <td>1</td>\n",
       "      <td>NaN</td>\n",
       "      <td>NaN</td>\n",
       "      <td>NaN</td>\n",
       "      <td>2019-05-03 11:21:30</td>\n",
       "      <td>NaN</td>\n",
       "      <td>NaN</td>\n",
       "      <td>NaN</td>\n",
       "      <td>NaN</td>\n",
       "      <td>NaN</td>\n",
       "      <td>NaN</td>\n",
       "      <td>NaN</td>\n",
       "      <td>2019-05-03 11:03:52</td>\n",
       "      <td>NaN</td>\n",
       "      <td>2019-05-03 11:03:52</td>\n",
       "      <td>2019-05-03 11:03:52</td>\n",
       "    </tr>\n",
       "    <tr>\n",
       "      <th>1</th>\n",
       "      <td>2</td>\n",
       "      <td>NaN</td>\n",
       "      <td>NaN</td>\n",
       "      <td>NaN</td>\n",
       "      <td>2019-05-03 11:46:38</td>\n",
       "      <td>NaN</td>\n",
       "      <td>NaN</td>\n",
       "      <td>NaN</td>\n",
       "      <td>NaN</td>\n",
       "      <td>NaN</td>\n",
       "      <td>NaN</td>\n",
       "      <td>NaN</td>\n",
       "      <td>2019-05-03 11:40:20</td>\n",
       "      <td>NaN</td>\n",
       "      <td>2019-05-03 11:40:20</td>\n",
       "      <td>2019-05-03 11:40:20</td>\n",
       "    </tr>\n",
       "    <tr>\n",
       "      <th>2</th>\n",
       "      <td>3</td>\n",
       "      <td>NaN</td>\n",
       "      <td>NaN</td>\n",
       "      <td>NaN</td>\n",
       "      <td>2019-05-03 12:31:06</td>\n",
       "      <td>NaN</td>\n",
       "      <td>NaN</td>\n",
       "      <td>NaN</td>\n",
       "      <td>NaN</td>\n",
       "      <td>NaN</td>\n",
       "      <td>NaN</td>\n",
       "      <td>NaN</td>\n",
       "      <td>2019-05-03 12:09:40</td>\n",
       "      <td>NaN</td>\n",
       "      <td>2019-05-03 12:09:40</td>\n",
       "      <td>2019-05-03 12:09:40</td>\n",
       "    </tr>\n",
       "    <tr>\n",
       "      <th>3</th>\n",
       "      <td>4</td>\n",
       "      <td>NaN</td>\n",
       "      <td>NaN</td>\n",
       "      <td>NaN</td>\n",
       "      <td>2019-05-03 12:48:43</td>\n",
       "      <td>NaN</td>\n",
       "      <td>NaN</td>\n",
       "      <td>NaN</td>\n",
       "      <td>NaN</td>\n",
       "      <td>NaN</td>\n",
       "      <td>NaN</td>\n",
       "      <td>NaN</td>\n",
       "      <td>2019-05-03 12:41:24</td>\n",
       "      <td>NaN</td>\n",
       "      <td>2019-05-03 12:41:24</td>\n",
       "      <td>2019-05-03 12:41:24</td>\n",
       "    </tr>\n",
       "    <tr>\n",
       "      <th>4</th>\n",
       "      <td>5</td>\n",
       "      <td>NaN</td>\n",
       "      <td>NaN</td>\n",
       "      <td>NaN</td>\n",
       "      <td>2019-05-03 13:18:50</td>\n",
       "      <td>NaN</td>\n",
       "      <td>NaN</td>\n",
       "      <td>NaN</td>\n",
       "      <td>NaN</td>\n",
       "      <td>NaN</td>\n",
       "      <td>NaN</td>\n",
       "      <td>NaN</td>\n",
       "      <td>2019-05-03 13:12:56</td>\n",
       "      <td>NaN</td>\n",
       "      <td>2019-05-03 13:12:56</td>\n",
       "      <td>2019-05-03 13:12:56</td>\n",
       "    </tr>\n",
       "  </tbody>\n",
       "</table>\n",
       "</div>"
      ],
      "text/plain": [
       "   key Bulk 1 Bulk 2 Bulk 3               Bulk 4 Bulk 5 Bulk 6 Bulk 7 Bulk 8  \\\n",
       "0    1    NaN    NaN    NaN  2019-05-03 11:21:30    NaN    NaN    NaN    NaN   \n",
       "1    2    NaN    NaN    NaN  2019-05-03 11:46:38    NaN    NaN    NaN    NaN   \n",
       "2    3    NaN    NaN    NaN  2019-05-03 12:31:06    NaN    NaN    NaN    NaN   \n",
       "3    4    NaN    NaN    NaN  2019-05-03 12:48:43    NaN    NaN    NaN    NaN   \n",
       "4    5    NaN    NaN    NaN  2019-05-03 13:18:50    NaN    NaN    NaN    NaN   \n",
       "\n",
       "  Bulk 9 Bulk 10 Bulk 11              Bulk 12 Bulk 13              Bulk 14  \\\n",
       "0    NaN     NaN     NaN  2019-05-03 11:03:52     NaN  2019-05-03 11:03:52   \n",
       "1    NaN     NaN     NaN  2019-05-03 11:40:20     NaN  2019-05-03 11:40:20   \n",
       "2    NaN     NaN     NaN  2019-05-03 12:09:40     NaN  2019-05-03 12:09:40   \n",
       "3    NaN     NaN     NaN  2019-05-03 12:41:24     NaN  2019-05-03 12:41:24   \n",
       "4    NaN     NaN     NaN  2019-05-03 13:12:56     NaN  2019-05-03 13:12:56   \n",
       "\n",
       "               Bulk 15  \n",
       "0  2019-05-03 11:03:52  \n",
       "1  2019-05-03 11:40:20  \n",
       "2  2019-05-03 12:09:40  \n",
       "3  2019-05-03 12:41:24  \n",
       "4  2019-05-03 13:12:56  "
      ]
     },
     "execution_count": 40,
     "metadata": {},
     "output_type": "execute_result"
    }
   ],
   "source": [
    "#check first rows\n",
    "df_bulk_time.head()"
   ]
  },
  {
   "cell_type": "markdown",
   "id": "ad6681ad",
   "metadata": {},
   "source": [
    "**Вывод**\n",
    "\n",
    "В датафрейме присутствуют следующие данные:\n",
    "* `key`- номер партии (ковша)\n",
    "* `Bulk #` - данные о времени подачи сыпучих материалов (15 разных материалов)\n",
    "\n",
    "___\n",
    "\n",
    "Однако, наша цель, спрогнозировать температуру при финальном нагреве сплава стали, на нее не оказывает влияние время добавления легирующих добавок, так как все равно придется прогревать до нужной температуры. \n",
    "\n",
    "Таким образом, данные о времени добавления добавок не будем использовать для построения модели"
   ]
  },
  {
   "cell_type": "markdown",
   "id": "b54a8623",
   "metadata": {},
   "source": [
    "___"
   ]
  },
  {
   "cell_type": "markdown",
   "id": "ad277c91",
   "metadata": {},
   "source": [
    "#### Анализ `df_gas` — данные о продувке сплава газом"
   ]
  },
  {
   "cell_type": "code",
   "execution_count": 41,
   "id": "5bf20fd1",
   "metadata": {},
   "outputs": [
    {
     "data": {
      "text/html": [
       "<div>\n",
       "<style scoped>\n",
       "    .dataframe tbody tr th:only-of-type {\n",
       "        vertical-align: middle;\n",
       "    }\n",
       "\n",
       "    .dataframe tbody tr th {\n",
       "        vertical-align: top;\n",
       "    }\n",
       "\n",
       "    .dataframe thead th {\n",
       "        text-align: right;\n",
       "    }\n",
       "</style>\n",
       "<table border=\"1\" class=\"dataframe\">\n",
       "  <thead>\n",
       "    <tr style=\"text-align: right;\">\n",
       "      <th></th>\n",
       "      <th>key</th>\n",
       "      <th>Газ 1</th>\n",
       "    </tr>\n",
       "  </thead>\n",
       "  <tbody>\n",
       "    <tr>\n",
       "      <th>0</th>\n",
       "      <td>1</td>\n",
       "      <td>29.749986</td>\n",
       "    </tr>\n",
       "    <tr>\n",
       "      <th>1</th>\n",
       "      <td>2</td>\n",
       "      <td>12.555561</td>\n",
       "    </tr>\n",
       "    <tr>\n",
       "      <th>2</th>\n",
       "      <td>3</td>\n",
       "      <td>28.554793</td>\n",
       "    </tr>\n",
       "    <tr>\n",
       "      <th>3</th>\n",
       "      <td>4</td>\n",
       "      <td>18.841219</td>\n",
       "    </tr>\n",
       "    <tr>\n",
       "      <th>4</th>\n",
       "      <td>5</td>\n",
       "      <td>5.413692</td>\n",
       "    </tr>\n",
       "  </tbody>\n",
       "</table>\n",
       "</div>"
      ],
      "text/plain": [
       "   key      Газ 1\n",
       "0    1  29.749986\n",
       "1    2  12.555561\n",
       "2    3  28.554793\n",
       "3    4  18.841219\n",
       "4    5   5.413692"
      ]
     },
     "execution_count": 41,
     "metadata": {},
     "output_type": "execute_result"
    }
   ],
   "source": [
    "#check first rows\n",
    "df_gas.head()"
   ]
  },
  {
   "cell_type": "code",
   "execution_count": 42,
   "id": "3608c36f",
   "metadata": {},
   "outputs": [
    {
     "name": "stdout",
     "output_type": "stream",
     "text": [
      "<class 'pandas.core.frame.DataFrame'>\n",
      "RangeIndex: 3239 entries, 0 to 3238\n",
      "Data columns (total 2 columns):\n",
      " #   Column  Non-Null Count  Dtype  \n",
      "---  ------  --------------  -----  \n",
      " 0   key     3239 non-null   int64  \n",
      " 1   Газ 1   3239 non-null   float64\n",
      "dtypes: float64(1), int64(1)\n",
      "memory usage: 50.7 KB\n"
     ]
    }
   ],
   "source": [
    "#check general data\n",
    "df_gas.info()"
   ]
  },
  {
   "cell_type": "code",
   "execution_count": 43,
   "id": "5ff20ffc",
   "metadata": {},
   "outputs": [
    {
     "data": {
      "text/plain": [
       "key      0\n",
       "Газ 1    0\n",
       "dtype: int64"
      ]
     },
     "execution_count": 43,
     "metadata": {},
     "output_type": "execute_result"
    }
   ],
   "source": [
    "#check empty values\n",
    "df_gas.isna().sum()"
   ]
  },
  {
   "cell_type": "code",
   "execution_count": 44,
   "id": "4f43722e",
   "metadata": {},
   "outputs": [
    {
     "data": {
      "text/plain": [
       "0"
      ]
     },
     "execution_count": 44,
     "metadata": {},
     "output_type": "execute_result"
    }
   ],
   "source": [
    "#check duplicated\n",
    "df_gas.duplicated().sum()"
   ]
  },
  {
   "cell_type": "code",
   "execution_count": 45,
   "id": "5dcdb9e2",
   "metadata": {
    "scrolled": true
   },
   "outputs": [
    {
     "data": {
      "text/html": [
       "<div>\n",
       "<style scoped>\n",
       "    .dataframe tbody tr th:only-of-type {\n",
       "        vertical-align: middle;\n",
       "    }\n",
       "\n",
       "    .dataframe tbody tr th {\n",
       "        vertical-align: top;\n",
       "    }\n",
       "\n",
       "    .dataframe thead th {\n",
       "        text-align: right;\n",
       "    }\n",
       "</style>\n",
       "<table border=\"1\" class=\"dataframe\">\n",
       "  <thead>\n",
       "    <tr style=\"text-align: right;\">\n",
       "      <th></th>\n",
       "      <th>key</th>\n",
       "      <th>Газ 1</th>\n",
       "    </tr>\n",
       "  </thead>\n",
       "  <tbody>\n",
       "    <tr>\n",
       "      <th>count</th>\n",
       "      <td>3239.000000</td>\n",
       "      <td>3239.000000</td>\n",
       "    </tr>\n",
       "    <tr>\n",
       "      <th>mean</th>\n",
       "      <td>1621.861377</td>\n",
       "      <td>11.002062</td>\n",
       "    </tr>\n",
       "    <tr>\n",
       "      <th>std</th>\n",
       "      <td>935.386334</td>\n",
       "      <td>6.220327</td>\n",
       "    </tr>\n",
       "    <tr>\n",
       "      <th>min</th>\n",
       "      <td>1.000000</td>\n",
       "      <td>0.008399</td>\n",
       "    </tr>\n",
       "    <tr>\n",
       "      <th>25%</th>\n",
       "      <td>812.500000</td>\n",
       "      <td>7.043089</td>\n",
       "    </tr>\n",
       "    <tr>\n",
       "      <th>50%</th>\n",
       "      <td>1622.000000</td>\n",
       "      <td>9.836267</td>\n",
       "    </tr>\n",
       "    <tr>\n",
       "      <th>75%</th>\n",
       "      <td>2431.500000</td>\n",
       "      <td>13.769915</td>\n",
       "    </tr>\n",
       "    <tr>\n",
       "      <th>max</th>\n",
       "      <td>3241.000000</td>\n",
       "      <td>77.995040</td>\n",
       "    </tr>\n",
       "  </tbody>\n",
       "</table>\n",
       "</div>"
      ],
      "text/plain": [
       "               key        Газ 1\n",
       "count  3239.000000  3239.000000\n",
       "mean   1621.861377    11.002062\n",
       "std     935.386334     6.220327\n",
       "min       1.000000     0.008399\n",
       "25%     812.500000     7.043089\n",
       "50%    1622.000000     9.836267\n",
       "75%    2431.500000    13.769915\n",
       "max    3241.000000    77.995040"
      ]
     },
     "execution_count": 45,
     "metadata": {},
     "output_type": "execute_result"
    }
   ],
   "source": [
    "#check general info\n",
    "df_gas.describe()"
   ]
  },
  {
   "cell_type": "code",
   "execution_count": 46,
   "id": "f6c938f4",
   "metadata": {
    "scrolled": false
   },
   "outputs": [
    {
     "data": {
      "image/png": "[encoded data removed]",
      "text/plain": [
       "<Figure size 640x480 with 1 Axes>"
      ]
     },
     "metadata": {},
     "output_type": "display_data"
    }
   ],
   "source": [
    "#plot boxplots to check anomalies\n",
    "\n",
    "sns.boxplot(data=df_gas.drop(columns='key'), orient=\"h\")\n",
    "\n",
    "plt.title('Объем газа')\n",
    "plt.xlabel('Объем')\n",
    "plt.ylabel('Вид газа')\n",
    "\n",
    "plt.show()"
   ]
  },
  {
   "cell_type": "markdown",
   "id": "d7b433f6",
   "metadata": {},
   "source": [
    "Явно видны аномальные значения. Посчитаем их:"
   ]
  },
  {
   "cell_type": "code",
   "execution_count": 47,
   "id": "b07e71e6",
   "metadata": {},
   "outputs": [
    {
     "name": "stdout",
     "output_type": "stream",
     "text": [
      "Газ 1 {'Количество аномалий': 126, '% от всех данных': 4.0, 'lower': 0.0083985291, 'upper': 23.8112788026}\n"
     ]
    }
   ],
   "source": [
    "#extract anomalies\n",
    "dict_anom = extract_anom(df_gas)\n",
    "\n",
    "for _ in dict_anom:\n",
    "    if _ != 'key':\n",
    "        print(_, dict_anom[_])"
   ]
  },
  {
   "cell_type": "code",
   "execution_count": 48,
   "id": "4855581f",
   "metadata": {
    "scrolled": false
   },
   "outputs": [
    {
     "name": "stdout",
     "output_type": "stream",
     "text": [
      "Количество строк в данных, содержащих аномалии: 4.0 %\n"
     ]
    }
   ],
   "source": [
    "#extract indices of rows with anomalies and calculate the size\n",
    "idx_gas = idx_anom(df_gas, dict_anom)\n",
    "print('Количество строк в данных, содержащих аномалии:', round(len(idx_gas) / len (df_gas), 2) * 100, '%')"
   ]
  },
  {
   "cell_type": "markdown",
   "id": "bf928a3c",
   "metadata": {},
   "source": [
    "**Вывод**\n",
    "\n",
    "В датафрейме присутствуют следующие данные:\n",
    "* `key`- номер партии (ковша)\n",
    "* `Газ 1` - данные о газе в числовом выражении (видимо, объем)\n",
    "\n",
    "___\n",
    "* Пропуски и дубли отсутствуют \n",
    "* Количество партий (ковшей): от 1 до 3241, не во всех партиях использовался газ в процессе. \n",
    "* Наблюдаются аномальные значения использования газа, которые составляют 4% от данных в датасете\n",
    "\n",
    "Тем не менее, \n",
    "* Без подтверждения от экспертов невозможно точно определить, являются ли выбросы согласно графику, реальными.\n",
    "* Поэтому, потенциально аномальные значение не удаляем, так как они могут быть корректными.\n",
    "\n",
    "___\n",
    "\n",
    "Необходимо:\n",
    "* Названия колонок перевести в корректное написание: нижний регистр, без пробелов, деление слов нижним подчеркиванием\n",
    "* Необходимо доп исследование после добавления всех данных по всем параметрам в общую табличку, чтобы определить, что делать с партиями, в которых не был использован газ. Возможно, удалить, если они не составляют большую часть данных.\n",
    "\n",
    "___\n",
    "\n",
    "Данные о использовании газа важны для производственного процесса, так как они влияют на итоговый сплав и температуру (целевой показатель). Поэтому их берем для использования в итоговой модели."
   ]
  },
  {
   "cell_type": "markdown",
   "id": "045c2590",
   "metadata": {},
   "source": [
    "___"
   ]
  },
  {
   "cell_type": "code",
   "execution_count": 49,
   "id": "ca91106f",
   "metadata": {
    "scrolled": true
   },
   "outputs": [
    {
     "data": {
      "text/html": [
       "<div>\n",
       "<style scoped>\n",
       "    .dataframe tbody tr th:only-of-type {\n",
       "        vertical-align: middle;\n",
       "    }\n",
       "\n",
       "    .dataframe tbody tr th {\n",
       "        vertical-align: top;\n",
       "    }\n",
       "\n",
       "    .dataframe thead th {\n",
       "        text-align: right;\n",
       "    }\n",
       "</style>\n",
       "<table border=\"1\" class=\"dataframe\">\n",
       "  <thead>\n",
       "    <tr style=\"text-align: right;\">\n",
       "      <th></th>\n",
       "      <th>key</th>\n",
       "      <th>газ_1</th>\n",
       "    </tr>\n",
       "  </thead>\n",
       "  <tbody>\n",
       "    <tr>\n",
       "      <th>0</th>\n",
       "      <td>1</td>\n",
       "      <td>29.749986</td>\n",
       "    </tr>\n",
       "    <tr>\n",
       "      <th>1</th>\n",
       "      <td>2</td>\n",
       "      <td>12.555561</td>\n",
       "    </tr>\n",
       "    <tr>\n",
       "      <th>2</th>\n",
       "      <td>3</td>\n",
       "      <td>28.554793</td>\n",
       "    </tr>\n",
       "    <tr>\n",
       "      <th>3</th>\n",
       "      <td>4</td>\n",
       "      <td>18.841219</td>\n",
       "    </tr>\n",
       "    <tr>\n",
       "      <th>4</th>\n",
       "      <td>5</td>\n",
       "      <td>5.413692</td>\n",
       "    </tr>\n",
       "  </tbody>\n",
       "</table>\n",
       "</div>"
      ],
      "text/plain": [
       "   key      газ_1\n",
       "0    1  29.749986\n",
       "1    2  12.555561\n",
       "2    3  28.554793\n",
       "3    4  18.841219\n",
       "4    5   5.413692"
      ]
     },
     "execution_count": 49,
     "metadata": {},
     "output_type": "execute_result"
    }
   ],
   "source": [
    "#format columns\n",
    "df_gas.columns = format_columns(df_gas)\n",
    "df_gas.head()"
   ]
  },
  {
   "cell_type": "code",
   "execution_count": 50,
   "id": "b487a2a7",
   "metadata": {},
   "outputs": [],
   "source": [
    "# #delete anomalies\n",
    "# df_gas = df_gas.drop(index=idx_gas)"
   ]
  },
  {
   "cell_type": "markdown",
   "id": "de8a5e1e",
   "metadata": {},
   "source": [
    "Форматирование изменено, аномалии очищены"
   ]
  },
  {
   "cell_type": "markdown",
   "id": "e413186d",
   "metadata": {},
   "source": [
    "___"
   ]
  },
  {
   "cell_type": "markdown",
   "id": "f3056715",
   "metadata": {},
   "source": [
    "#### Анализ `df_temperature` — результаты измерения температуры"
   ]
  },
  {
   "cell_type": "code",
   "execution_count": 51,
   "id": "4fe84e4b",
   "metadata": {},
   "outputs": [
    {
     "data": {
      "text/html": [
       "<div>\n",
       "<style scoped>\n",
       "    .dataframe tbody tr th:only-of-type {\n",
       "        vertical-align: middle;\n",
       "    }\n",
       "\n",
       "    .dataframe tbody tr th {\n",
       "        vertical-align: top;\n",
       "    }\n",
       "\n",
       "    .dataframe thead th {\n",
       "        text-align: right;\n",
       "    }\n",
       "</style>\n",
       "<table border=\"1\" class=\"dataframe\">\n",
       "  <thead>\n",
       "    <tr style=\"text-align: right;\">\n",
       "      <th></th>\n",
       "      <th>key</th>\n",
       "      <th>Время замера</th>\n",
       "      <th>Температура</th>\n",
       "    </tr>\n",
       "  </thead>\n",
       "  <tbody>\n",
       "    <tr>\n",
       "      <th>0</th>\n",
       "      <td>1</td>\n",
       "      <td>2019-05-03 11:16:18</td>\n",
       "      <td>1571.0</td>\n",
       "    </tr>\n",
       "    <tr>\n",
       "      <th>1</th>\n",
       "      <td>1</td>\n",
       "      <td>2019-05-03 11:25:53</td>\n",
       "      <td>1604.0</td>\n",
       "    </tr>\n",
       "    <tr>\n",
       "      <th>2</th>\n",
       "      <td>1</td>\n",
       "      <td>2019-05-03 11:29:11</td>\n",
       "      <td>1618.0</td>\n",
       "    </tr>\n",
       "    <tr>\n",
       "      <th>3</th>\n",
       "      <td>1</td>\n",
       "      <td>2019-05-03 11:30:01</td>\n",
       "      <td>1601.0</td>\n",
       "    </tr>\n",
       "    <tr>\n",
       "      <th>4</th>\n",
       "      <td>1</td>\n",
       "      <td>2019-05-03 11:30:39</td>\n",
       "      <td>1613.0</td>\n",
       "    </tr>\n",
       "  </tbody>\n",
       "</table>\n",
       "</div>"
      ],
      "text/plain": [
       "   key         Время замера  Температура\n",
       "0    1  2019-05-03 11:16:18       1571.0\n",
       "1    1  2019-05-03 11:25:53       1604.0\n",
       "2    1  2019-05-03 11:29:11       1618.0\n",
       "3    1  2019-05-03 11:30:01       1601.0\n",
       "4    1  2019-05-03 11:30:39       1613.0"
      ]
     },
     "execution_count": 51,
     "metadata": {},
     "output_type": "execute_result"
    }
   ],
   "source": [
    "#check first rows\n",
    "df_temperature.head()"
   ]
  },
  {
   "cell_type": "code",
   "execution_count": 52,
   "id": "91fa7b72",
   "metadata": {},
   "outputs": [
    {
     "name": "stdout",
     "output_type": "stream",
     "text": [
      "<class 'pandas.core.frame.DataFrame'>\n",
      "RangeIndex: 15907 entries, 0 to 15906\n",
      "Data columns (total 3 columns):\n",
      " #   Column        Non-Null Count  Dtype  \n",
      "---  ------        --------------  -----  \n",
      " 0   key           15907 non-null  int64  \n",
      " 1   Время замера  15907 non-null  object \n",
      " 2   Температура   13006 non-null  float64\n",
      "dtypes: float64(1), int64(1), object(1)\n",
      "memory usage: 372.9+ KB\n"
     ]
    }
   ],
   "source": [
    "#check general data\n",
    "df_temperature.info()"
   ]
  },
  {
   "cell_type": "code",
   "execution_count": 53,
   "id": "5fb85d6e",
   "metadata": {},
   "outputs": [
    {
     "data": {
      "text/plain": [
       "key                0\n",
       "Время замера       0\n",
       "Температура     2901\n",
       "dtype: int64"
      ]
     },
     "execution_count": 53,
     "metadata": {},
     "output_type": "execute_result"
    }
   ],
   "source": [
    "#check empty values\n",
    "df_temperature.isna().sum()"
   ]
  },
  {
   "cell_type": "code",
   "execution_count": 54,
   "id": "d59250fe",
   "metadata": {},
   "outputs": [
    {
     "data": {
      "text/plain": [
       "0"
      ]
     },
     "execution_count": 54,
     "metadata": {},
     "output_type": "execute_result"
    }
   ],
   "source": [
    "#check duplicated\n",
    "df_temperature.duplicated().sum()"
   ]
  },
  {
   "cell_type": "code",
   "execution_count": 55,
   "id": "7c38fdd3",
   "metadata": {},
   "outputs": [
    {
     "data": {
      "text/html": [
       "<div>\n",
       "<style scoped>\n",
       "    .dataframe tbody tr th:only-of-type {\n",
       "        vertical-align: middle;\n",
       "    }\n",
       "\n",
       "    .dataframe tbody tr th {\n",
       "        vertical-align: top;\n",
       "    }\n",
       "\n",
       "    .dataframe thead th {\n",
       "        text-align: right;\n",
       "    }\n",
       "</style>\n",
       "<table border=\"1\" class=\"dataframe\">\n",
       "  <thead>\n",
       "    <tr style=\"text-align: right;\">\n",
       "      <th></th>\n",
       "      <th>key</th>\n",
       "      <th>Температура</th>\n",
       "    </tr>\n",
       "  </thead>\n",
       "  <tbody>\n",
       "    <tr>\n",
       "      <th>count</th>\n",
       "      <td>15907.000000</td>\n",
       "      <td>13006.000000</td>\n",
       "    </tr>\n",
       "    <tr>\n",
       "      <th>mean</th>\n",
       "      <td>1607.880870</td>\n",
       "      <td>1591.840920</td>\n",
       "    </tr>\n",
       "    <tr>\n",
       "      <th>std</th>\n",
       "      <td>942.212073</td>\n",
       "      <td>21.375851</td>\n",
       "    </tr>\n",
       "    <tr>\n",
       "      <th>min</th>\n",
       "      <td>1.000000</td>\n",
       "      <td>1191.000000</td>\n",
       "    </tr>\n",
       "    <tr>\n",
       "      <th>25%</th>\n",
       "      <td>790.000000</td>\n",
       "      <td>1581.000000</td>\n",
       "    </tr>\n",
       "    <tr>\n",
       "      <th>50%</th>\n",
       "      <td>1618.000000</td>\n",
       "      <td>1591.000000</td>\n",
       "    </tr>\n",
       "    <tr>\n",
       "      <th>75%</th>\n",
       "      <td>2427.000000</td>\n",
       "      <td>1601.000000</td>\n",
       "    </tr>\n",
       "    <tr>\n",
       "      <th>max</th>\n",
       "      <td>3241.000000</td>\n",
       "      <td>1705.000000</td>\n",
       "    </tr>\n",
       "  </tbody>\n",
       "</table>\n",
       "</div>"
      ],
      "text/plain": [
       "                key   Температура\n",
       "count  15907.000000  13006.000000\n",
       "mean    1607.880870   1591.840920\n",
       "std      942.212073     21.375851\n",
       "min        1.000000   1191.000000\n",
       "25%      790.000000   1581.000000\n",
       "50%     1618.000000   1591.000000\n",
       "75%     2427.000000   1601.000000\n",
       "max     3241.000000   1705.000000"
      ]
     },
     "execution_count": 55,
     "metadata": {},
     "output_type": "execute_result"
    }
   ],
   "source": [
    "#check general info\n",
    "df_temperature.describe()"
   ]
  },
  {
   "cell_type": "code",
   "execution_count": 56,
   "id": "576db00b",
   "metadata": {},
   "outputs": [
    {
     "data": {
      "text/plain": [
       "25"
      ]
     },
     "execution_count": 56,
     "metadata": {},
     "output_type": "execute_result"
    }
   ],
   "source": [
    "#find missed batches\n",
    "batches = df_temperature['key'].values\n",
    "batches_no_bulk = [] \n",
    "for i in range(1,3242):\n",
    "    if i not in batches:\n",
    "        batches_no_bulk.append(i)\n",
    "len(batches_no_bulk)"
   ]
  },
  {
   "cell_type": "code",
   "execution_count": 57,
   "id": "26aa4b37",
   "metadata": {
    "scrolled": false
   },
   "outputs": [
    {
     "data": {
      "image/png": "[encoded data removed]",
      "text/plain": [
       "<Figure size 640x480 with 1 Axes>"
      ]
     },
     "metadata": {},
     "output_type": "display_data"
    }
   ],
   "source": [
    "#plot boxplots to check anomalies\n",
    "sns.boxplot(data=df_temperature.drop(columns='key'), orient=\"h\")\n",
    "\n",
    "plt.title('Температура нагрева')\n",
    "plt.xlabel('Градусы')\n",
    "plt.ylabel('Показатель')\n",
    "\n",
    "plt.show()"
   ]
  },
  {
   "cell_type": "markdown",
   "id": "58681bf6",
   "metadata": {},
   "source": [
    "Явно видны аномальные значения. Посчитаем их:"
   ]
  },
  {
   "cell_type": "code",
   "execution_count": 58,
   "id": "36ae9d15",
   "metadata": {},
   "outputs": [
    {
     "name": "stdout",
     "output_type": "stream",
     "text": [
      "Температура {'Количество аномалий': 723, '% от всех данных': 5.0, 'lower': 1551.0, 'upper': 1631.0}\n"
     ]
    }
   ],
   "source": [
    "#extract anomalies\n",
    "dict_anom = extract_anom(df_temperature.drop(columns='Время замера'))\n",
    "\n",
    "for _ in dict_anom:\n",
    "    if _ != 'key':\n",
    "        print(_, dict_anom[_])"
   ]
  },
  {
   "cell_type": "code",
   "execution_count": 59,
   "id": "92fb4c00",
   "metadata": {
    "scrolled": true
   },
   "outputs": [
    {
     "name": "stdout",
     "output_type": "stream",
     "text": [
      "Количество строк в данных, содержащих аномалии: 5.0 %\n"
     ]
    }
   ],
   "source": [
    "#extract indices of rows with anomalies and calculate the size\n",
    "idx_temperature = idx_anom(df_temperature, dict_anom)\n",
    "print('Количество строк в данных, содержащих аномалии:', round(len(idx_temperature) / len (df_temperature), 2) * 100, '%')"
   ]
  },
  {
   "cell_type": "markdown",
   "id": "0652384a",
   "metadata": {},
   "source": [
    "___"
   ]
  },
  {
   "cell_type": "markdown",
   "id": "7883b8f5",
   "metadata": {},
   "source": [
    "Так как в задаче необходимо моделировать последнюю температуру для партии, то составим таблицу с такими температурами:"
   ]
  },
  {
   "cell_type": "markdown",
   "id": "37f85764",
   "metadata": {},
   "source": [
    "Сначала переводим время в формат datetime"
   ]
  },
  {
   "cell_type": "code",
   "execution_count": 60,
   "id": "c62d7605",
   "metadata": {},
   "outputs": [
    {
     "name": "stdout",
     "output_type": "stream",
     "text": [
      "<class 'pandas.core.frame.DataFrame'>\n",
      "RangeIndex: 15907 entries, 0 to 15906\n",
      "Data columns (total 3 columns):\n",
      " #   Column        Non-Null Count  Dtype         \n",
      "---  ------        --------------  -----         \n",
      " 0   key           15907 non-null  int64         \n",
      " 1   Время замера  15907 non-null  datetime64[ns]\n",
      " 2   Температура   13006 non-null  float64       \n",
      "dtypes: datetime64[ns](1), float64(1), int64(1)\n",
      "memory usage: 372.9 KB\n"
     ]
    }
   ],
   "source": [
    "#format date to datetime\n",
    "df_temperature['Время замера'] = pd.to_datetime(df_temperature['Время замера'],\n",
    "                                       format='%Y-%m-%d %H:%M:%S')\n",
    "df_temperature.info()"
   ]
  },
  {
   "cell_type": "markdown",
   "id": "e3a8190f",
   "metadata": {},
   "source": [
    "Время переведено"
   ]
  },
  {
   "cell_type": "code",
   "execution_count": 61,
   "id": "5b374176",
   "metadata": {
    "scrolled": true
   },
   "outputs": [
    {
     "data": {
      "text/html": [
       "<div>\n",
       "<style scoped>\n",
       "    .dataframe tbody tr th:only-of-type {\n",
       "        vertical-align: middle;\n",
       "    }\n",
       "\n",
       "    .dataframe tbody tr th {\n",
       "        vertical-align: top;\n",
       "    }\n",
       "\n",
       "    .dataframe thead th {\n",
       "        text-align: right;\n",
       "    }\n",
       "</style>\n",
       "<table border=\"1\" class=\"dataframe\">\n",
       "  <thead>\n",
       "    <tr style=\"text-align: right;\">\n",
       "      <th></th>\n",
       "      <th>key</th>\n",
       "      <th>Время замера</th>\n",
       "      <th>Температура</th>\n",
       "      <th>rank</th>\n",
       "    </tr>\n",
       "  </thead>\n",
       "  <tbody>\n",
       "    <tr>\n",
       "      <th>0</th>\n",
       "      <td>1</td>\n",
       "      <td>2019-05-03 11:16:18</td>\n",
       "      <td>1571.0</td>\n",
       "      <td>5.0</td>\n",
       "    </tr>\n",
       "    <tr>\n",
       "      <th>1</th>\n",
       "      <td>1</td>\n",
       "      <td>2019-05-03 11:25:53</td>\n",
       "      <td>1604.0</td>\n",
       "      <td>4.0</td>\n",
       "    </tr>\n",
       "    <tr>\n",
       "      <th>2</th>\n",
       "      <td>1</td>\n",
       "      <td>2019-05-03 11:29:11</td>\n",
       "      <td>1618.0</td>\n",
       "      <td>3.0</td>\n",
       "    </tr>\n",
       "    <tr>\n",
       "      <th>3</th>\n",
       "      <td>1</td>\n",
       "      <td>2019-05-03 11:30:01</td>\n",
       "      <td>1601.0</td>\n",
       "      <td>2.0</td>\n",
       "    </tr>\n",
       "    <tr>\n",
       "      <th>4</th>\n",
       "      <td>1</td>\n",
       "      <td>2019-05-03 11:30:39</td>\n",
       "      <td>1613.0</td>\n",
       "      <td>1.0</td>\n",
       "    </tr>\n",
       "    <tr>\n",
       "      <th>5</th>\n",
       "      <td>2</td>\n",
       "      <td>2019-05-03 11:37:27</td>\n",
       "      <td>1581.0</td>\n",
       "      <td>6.0</td>\n",
       "    </tr>\n",
       "    <tr>\n",
       "      <th>6</th>\n",
       "      <td>2</td>\n",
       "      <td>2019-05-03 11:38:00</td>\n",
       "      <td>1577.0</td>\n",
       "      <td>5.0</td>\n",
       "    </tr>\n",
       "    <tr>\n",
       "      <th>7</th>\n",
       "      <td>2</td>\n",
       "      <td>2019-05-03 11:49:38</td>\n",
       "      <td>1589.0</td>\n",
       "      <td>4.0</td>\n",
       "    </tr>\n",
       "    <tr>\n",
       "      <th>8</th>\n",
       "      <td>2</td>\n",
       "      <td>2019-05-03 11:55:50</td>\n",
       "      <td>1604.0</td>\n",
       "      <td>3.0</td>\n",
       "    </tr>\n",
       "    <tr>\n",
       "      <th>9</th>\n",
       "      <td>2</td>\n",
       "      <td>2019-05-03 11:58:24</td>\n",
       "      <td>1608.0</td>\n",
       "      <td>2.0</td>\n",
       "    </tr>\n",
       "    <tr>\n",
       "      <th>10</th>\n",
       "      <td>2</td>\n",
       "      <td>2019-05-03 11:59:12</td>\n",
       "      <td>1602.0</td>\n",
       "      <td>1.0</td>\n",
       "    </tr>\n",
       "  </tbody>\n",
       "</table>\n",
       "</div>"
      ],
      "text/plain": [
       "    key        Время замера  Температура  rank\n",
       "0     1 2019-05-03 11:16:18       1571.0   5.0\n",
       "1     1 2019-05-03 11:25:53       1604.0   4.0\n",
       "2     1 2019-05-03 11:29:11       1618.0   3.0\n",
       "3     1 2019-05-03 11:30:01       1601.0   2.0\n",
       "4     1 2019-05-03 11:30:39       1613.0   1.0\n",
       "5     2 2019-05-03 11:37:27       1581.0   6.0\n",
       "6     2 2019-05-03 11:38:00       1577.0   5.0\n",
       "7     2 2019-05-03 11:49:38       1589.0   4.0\n",
       "8     2 2019-05-03 11:55:50       1604.0   3.0\n",
       "9     2 2019-05-03 11:58:24       1608.0   2.0\n",
       "10    2 2019-05-03 11:59:12       1602.0   1.0"
      ]
     },
     "execution_count": 61,
     "metadata": {},
     "output_type": "execute_result"
    }
   ],
   "source": [
    "#rank temperatures by time inside each batch\n",
    "df_temperature['rank'] = df_temperature.groupby('key')['Время замера'].rank(ascending=False)\n",
    "\n",
    "#check\n",
    "df_temperature[df_temperature['key'].isin([1,2])]"
   ]
  },
  {
   "cell_type": "markdown",
   "id": "2088a8c8",
   "metadata": {},
   "source": [
    "Данные проранжированы, теперь самая последняя температура (целевой показатель для модели) имеет ранк = 1. Отфильтруем только эти данные:"
   ]
  },
  {
   "cell_type": "code",
   "execution_count": 62,
   "id": "35a88dc6",
   "metadata": {
    "scrolled": true
   },
   "outputs": [
    {
     "data": {
      "text/html": [
       "<div>\n",
       "<style scoped>\n",
       "    .dataframe tbody tr th:only-of-type {\n",
       "        vertical-align: middle;\n",
       "    }\n",
       "\n",
       "    .dataframe tbody tr th {\n",
       "        vertical-align: top;\n",
       "    }\n",
       "\n",
       "    .dataframe thead th {\n",
       "        text-align: right;\n",
       "    }\n",
       "</style>\n",
       "<table border=\"1\" class=\"dataframe\">\n",
       "  <thead>\n",
       "    <tr style=\"text-align: right;\">\n",
       "      <th></th>\n",
       "      <th>key</th>\n",
       "      <th>Время замера</th>\n",
       "      <th>Температура</th>\n",
       "      <th>rank</th>\n",
       "    </tr>\n",
       "  </thead>\n",
       "  <tbody>\n",
       "    <tr>\n",
       "      <th>4</th>\n",
       "      <td>1</td>\n",
       "      <td>2019-05-03 11:30:39</td>\n",
       "      <td>1613.0</td>\n",
       "      <td>1.0</td>\n",
       "    </tr>\n",
       "    <tr>\n",
       "      <th>10</th>\n",
       "      <td>2</td>\n",
       "      <td>2019-05-03 11:59:12</td>\n",
       "      <td>1602.0</td>\n",
       "      <td>1.0</td>\n",
       "    </tr>\n",
       "    <tr>\n",
       "      <th>15</th>\n",
       "      <td>3</td>\n",
       "      <td>2019-05-03 12:34:57</td>\n",
       "      <td>1599.0</td>\n",
       "      <td>1.0</td>\n",
       "    </tr>\n",
       "    <tr>\n",
       "      <th>18</th>\n",
       "      <td>4</td>\n",
       "      <td>2019-05-03 12:59:25</td>\n",
       "      <td>1625.0</td>\n",
       "      <td>1.0</td>\n",
       "    </tr>\n",
       "    <tr>\n",
       "      <th>20</th>\n",
       "      <td>5</td>\n",
       "      <td>2019-05-03 13:36:01</td>\n",
       "      <td>1602.0</td>\n",
       "      <td>1.0</td>\n",
       "    </tr>\n",
       "  </tbody>\n",
       "</table>\n",
       "</div>"
      ],
      "text/plain": [
       "    key        Время замера  Температура  rank\n",
       "4     1 2019-05-03 11:30:39       1613.0   1.0\n",
       "10    2 2019-05-03 11:59:12       1602.0   1.0\n",
       "15    3 2019-05-03 12:34:57       1599.0   1.0\n",
       "18    4 2019-05-03 12:59:25       1625.0   1.0\n",
       "20    5 2019-05-03 13:36:01       1602.0   1.0"
      ]
     },
     "execution_count": 62,
     "metadata": {},
     "output_type": "execute_result"
    }
   ],
   "source": [
    "df_temperature_last = df_temperature[df_temperature['rank'] == 1]\n",
    "df_temperature_last.head()"
   ]
  },
  {
   "cell_type": "markdown",
   "id": "1a9547e7",
   "metadata": {},
   "source": [
    "Уберем время замера, так как данный показатель больше не нужен для модели"
   ]
  },
  {
   "cell_type": "code",
   "execution_count": 63,
   "id": "7c68e363",
   "metadata": {},
   "outputs": [],
   "source": [
    "df_temperature_last = df_temperature_last.drop(columns=['Время замера', 'rank'])"
   ]
  },
  {
   "cell_type": "markdown",
   "id": "e592c148",
   "metadata": {},
   "source": [
    "Проверим, есть ли пропущенные значения в целевом признаке:"
   ]
  },
  {
   "cell_type": "code",
   "execution_count": 64,
   "id": "c17419d2",
   "metadata": {},
   "outputs": [
    {
     "data": {
      "text/plain": [
       "key              0\n",
       "Температура    739\n",
       "dtype: int64"
      ]
     },
     "execution_count": 64,
     "metadata": {},
     "output_type": "execute_result"
    }
   ],
   "source": [
    "df_temperature_last.isna().sum()"
   ]
  },
  {
   "cell_type": "markdown",
   "id": "24d6a1a1",
   "metadata": {},
   "source": [
    "Есть 739 пропусков, такие партии мы не можем использовать, так как у них нет целевого признака для обучения модели. Такие партии необходимо удалить."
   ]
  },
  {
   "cell_type": "markdown",
   "id": "602dfc49",
   "metadata": {},
   "source": [
    "Проверим, аномалии в целевом признаке:"
   ]
  },
  {
   "cell_type": "code",
   "execution_count": 65,
   "id": "bb774fc5",
   "metadata": {
    "scrolled": false
   },
   "outputs": [
    {
     "data": {
      "image/png": "[encoded data removed]",
      "text/plain": [
       "<Figure size 640x480 with 1 Axes>"
      ]
     },
     "metadata": {},
     "output_type": "display_data"
    }
   ],
   "source": [
    "#plot boxplots to check anomalies\n",
    "sns.boxplot(data=df_temperature_last.drop(columns='key'), orient=\"h\")\n",
    "\n",
    "plt.title('Температура нагрева')\n",
    "plt.xlabel('Градусы')\n",
    "plt.ylabel('Показатель')\n",
    "\n",
    "plt.show()"
   ]
  },
  {
   "cell_type": "markdown",
   "id": "746cddd4",
   "metadata": {},
   "source": [
    "Явно видны аномальные значения. Посчитаем их:"
   ]
  },
  {
   "cell_type": "code",
   "execution_count": 66,
   "id": "3b92c76f",
   "metadata": {},
   "outputs": [
    {
     "name": "stdout",
     "output_type": "stream",
     "text": [
      "Температура {'Количество аномалий': 195, '% от всех данных': 6.0, 'lower': 1569.0, 'upper': 1617.0}\n"
     ]
    }
   ],
   "source": [
    "#extract anomalies\n",
    "dict_anom = extract_anom(df_temperature_last)\n",
    "\n",
    "for _ in dict_anom:\n",
    "    if _ != 'key':\n",
    "        print(_, dict_anom[_])"
   ]
  },
  {
   "cell_type": "code",
   "execution_count": 67,
   "id": "560e7eef",
   "metadata": {
    "scrolled": false
   },
   "outputs": [
    {
     "name": "stdout",
     "output_type": "stream",
     "text": [
      "Количество строк в данных, содержащих аномалии: 6.0 %\n"
     ]
    }
   ],
   "source": [
    "#extract indices of rows with anomalies and calculate the size\n",
    "idx_temperature_grouped = idx_anom(df_temperature_last, dict_anom)\n",
    "print('Количество строк в данных, содержащих аномалии:',\\\n",
    "      round(len(idx_temperature_grouped) / len (df_temperature_last), 2) * 100, '%')"
   ]
  },
  {
   "cell_type": "markdown",
   "id": "cfbf7867",
   "metadata": {},
   "source": [
    "**Вывод**\n",
    "\n",
    "В датафрейме присутствуют следующие данные:\n",
    "* `key`- номер партии (ковша)\n",
    "* `Время замера` - время замера температуры\n",
    "* `Температура` - температура нагрева сплава\n",
    "\n",
    "___\n",
    "* Дубли отсутствуют\n",
    "* В показателе `Температура` есть пропущенные значения. \n",
    "* Количество партий (ковшей): от 1 до 3241, данные по 25 партиям отсутствуют вообще.\n",
    "* В показателе `Температура` наблюдаются 723 аномальных значения, которые составляют 5% от данных. \n",
    "* Показатель `Время замера` - указан в формате object, хотя является датой и временем. Был переведен в формат datetime\n",
    "\n",
    "При этом,\n",
    "\n",
    "* При группировке данных по партиям, у 739 отсутствует последняя температура (целевой признак), такие партии необходимо удалить\n",
    "* При группировке данных по партиям, аномальными значениями температуры являются 195 партий, или 6% от данных. \n",
    "\n",
    "Тем не менее, \n",
    "* Без подтверждения от экспертов невозможно точно определить, являются ли выбросы согласно графику, реальными.\n",
    "* Поэтому, потенциально аномальные значение не удаляем, так как они могут быть корректными.\n",
    "___\n",
    "\n",
    "Необходимо:\n",
    "* Названия колонок перевести в корректное написание: нижний регистр, без пробелов, деление слов нижним подчеркиванием\n",
    "* Пропуски в показателе `Температура`: для построения модели необходимо иметь температуру во время последнего нагрева. Соответственно, настоящими пропусками являются только такие партии. Их нужно удалить.\n",
    "\n",
    "___\n",
    "\n",
    "Температура является целевым показателем, который необходимо предсказать. На основании данных о температуре будем формировать итоговую таблицу для моделирования."
   ]
  },
  {
   "cell_type": "markdown",
   "id": "3212a4bc",
   "metadata": {},
   "source": [
    "___"
   ]
  },
  {
   "cell_type": "code",
   "execution_count": 68,
   "id": "c6fa33f2",
   "metadata": {},
   "outputs": [
    {
     "data": {
      "text/html": [
       "<div>\n",
       "<style scoped>\n",
       "    .dataframe tbody tr th:only-of-type {\n",
       "        vertical-align: middle;\n",
       "    }\n",
       "\n",
       "    .dataframe tbody tr th {\n",
       "        vertical-align: top;\n",
       "    }\n",
       "\n",
       "    .dataframe thead th {\n",
       "        text-align: right;\n",
       "    }\n",
       "</style>\n",
       "<table border=\"1\" class=\"dataframe\">\n",
       "  <thead>\n",
       "    <tr style=\"text-align: right;\">\n",
       "      <th></th>\n",
       "      <th>key</th>\n",
       "      <th>температура</th>\n",
       "    </tr>\n",
       "  </thead>\n",
       "  <tbody>\n",
       "    <tr>\n",
       "      <th>4</th>\n",
       "      <td>1</td>\n",
       "      <td>1613.0</td>\n",
       "    </tr>\n",
       "    <tr>\n",
       "      <th>10</th>\n",
       "      <td>2</td>\n",
       "      <td>1602.0</td>\n",
       "    </tr>\n",
       "    <tr>\n",
       "      <th>15</th>\n",
       "      <td>3</td>\n",
       "      <td>1599.0</td>\n",
       "    </tr>\n",
       "    <tr>\n",
       "      <th>18</th>\n",
       "      <td>4</td>\n",
       "      <td>1625.0</td>\n",
       "    </tr>\n",
       "    <tr>\n",
       "      <th>20</th>\n",
       "      <td>5</td>\n",
       "      <td>1602.0</td>\n",
       "    </tr>\n",
       "  </tbody>\n",
       "</table>\n",
       "</div>"
      ],
      "text/plain": [
       "    key  температура\n",
       "4     1       1613.0\n",
       "10    2       1602.0\n",
       "15    3       1599.0\n",
       "18    4       1625.0\n",
       "20    5       1602.0"
      ]
     },
     "execution_count": 68,
     "metadata": {},
     "output_type": "execute_result"
    }
   ],
   "source": [
    "#format columns\n",
    "df_temperature_last.columns = format_columns(df_temperature_last)\n",
    "df_temperature_last.head()"
   ]
  },
  {
   "cell_type": "code",
   "execution_count": 69,
   "id": "245df3ea",
   "metadata": {},
   "outputs": [],
   "source": [
    "# #delete anomalies\n",
    "# df_temperature_last = df_temperature_last.drop(index=idx_temperature_grouped)"
   ]
  },
  {
   "cell_type": "code",
   "execution_count": 70,
   "id": "444fd8cb",
   "metadata": {},
   "outputs": [
    {
     "data": {
      "text/html": [
       "<div>\n",
       "<style scoped>\n",
       "    .dataframe tbody tr th:only-of-type {\n",
       "        vertical-align: middle;\n",
       "    }\n",
       "\n",
       "    .dataframe tbody tr th {\n",
       "        vertical-align: top;\n",
       "    }\n",
       "\n",
       "    .dataframe thead th {\n",
       "        text-align: right;\n",
       "    }\n",
       "</style>\n",
       "<table border=\"1\" class=\"dataframe\">\n",
       "  <thead>\n",
       "    <tr style=\"text-align: right;\">\n",
       "      <th></th>\n",
       "      <th>key</th>\n",
       "      <th>температура</th>\n",
       "    </tr>\n",
       "  </thead>\n",
       "  <tbody>\n",
       "    <tr>\n",
       "      <th>4</th>\n",
       "      <td>1</td>\n",
       "      <td>1613.0</td>\n",
       "    </tr>\n",
       "    <tr>\n",
       "      <th>10</th>\n",
       "      <td>2</td>\n",
       "      <td>1602.0</td>\n",
       "    </tr>\n",
       "    <tr>\n",
       "      <th>15</th>\n",
       "      <td>3</td>\n",
       "      <td>1599.0</td>\n",
       "    </tr>\n",
       "    <tr>\n",
       "      <th>18</th>\n",
       "      <td>4</td>\n",
       "      <td>1625.0</td>\n",
       "    </tr>\n",
       "    <tr>\n",
       "      <th>20</th>\n",
       "      <td>5</td>\n",
       "      <td>1602.0</td>\n",
       "    </tr>\n",
       "  </tbody>\n",
       "</table>\n",
       "</div>"
      ],
      "text/plain": [
       "    key  температура\n",
       "4     1       1613.0\n",
       "10    2       1602.0\n",
       "15    3       1599.0\n",
       "18    4       1625.0\n",
       "20    5       1602.0"
      ]
     },
     "execution_count": 70,
     "metadata": {},
     "output_type": "execute_result"
    }
   ],
   "source": [
    "#delete batches with no target\n",
    "df_temperature_last = df_temperature_last.dropna()\n",
    "df_temperature_last.head()"
   ]
  },
  {
   "cell_type": "markdown",
   "id": "6ee5d56c",
   "metadata": {},
   "source": [
    "Данные отформатированы, аномалии очищены"
   ]
  },
  {
   "cell_type": "markdown",
   "id": "503ea939",
   "metadata": {},
   "source": [
    "___"
   ]
  },
  {
   "cell_type": "markdown",
   "id": "31fc734b",
   "metadata": {},
   "source": [
    "#### Анализ `df_wire` — данные о проволочных материалах (объём);"
   ]
  },
  {
   "cell_type": "code",
   "execution_count": 71,
   "id": "d0bdad53",
   "metadata": {},
   "outputs": [
    {
     "data": {
      "text/html": [
       "<div>\n",
       "<style scoped>\n",
       "    .dataframe tbody tr th:only-of-type {\n",
       "        vertical-align: middle;\n",
       "    }\n",
       "\n",
       "    .dataframe tbody tr th {\n",
       "        vertical-align: top;\n",
       "    }\n",
       "\n",
       "    .dataframe thead th {\n",
       "        text-align: right;\n",
       "    }\n",
       "</style>\n",
       "<table border=\"1\" class=\"dataframe\">\n",
       "  <thead>\n",
       "    <tr style=\"text-align: right;\">\n",
       "      <th></th>\n",
       "      <th>key</th>\n",
       "      <th>Wire 1</th>\n",
       "      <th>Wire 2</th>\n",
       "      <th>Wire 3</th>\n",
       "      <th>Wire 4</th>\n",
       "      <th>Wire 5</th>\n",
       "      <th>Wire 6</th>\n",
       "      <th>Wire 7</th>\n",
       "      <th>Wire 8</th>\n",
       "      <th>Wire 9</th>\n",
       "    </tr>\n",
       "  </thead>\n",
       "  <tbody>\n",
       "    <tr>\n",
       "      <th>0</th>\n",
       "      <td>1</td>\n",
       "      <td>60.059998</td>\n",
       "      <td>NaN</td>\n",
       "      <td>NaN</td>\n",
       "      <td>NaN</td>\n",
       "      <td>NaN</td>\n",
       "      <td>NaN</td>\n",
       "      <td>NaN</td>\n",
       "      <td>NaN</td>\n",
       "      <td>NaN</td>\n",
       "    </tr>\n",
       "    <tr>\n",
       "      <th>1</th>\n",
       "      <td>2</td>\n",
       "      <td>96.052315</td>\n",
       "      <td>NaN</td>\n",
       "      <td>NaN</td>\n",
       "      <td>NaN</td>\n",
       "      <td>NaN</td>\n",
       "      <td>NaN</td>\n",
       "      <td>NaN</td>\n",
       "      <td>NaN</td>\n",
       "      <td>NaN</td>\n",
       "    </tr>\n",
       "    <tr>\n",
       "      <th>2</th>\n",
       "      <td>3</td>\n",
       "      <td>91.160157</td>\n",
       "      <td>NaN</td>\n",
       "      <td>NaN</td>\n",
       "      <td>NaN</td>\n",
       "      <td>NaN</td>\n",
       "      <td>NaN</td>\n",
       "      <td>NaN</td>\n",
       "      <td>NaN</td>\n",
       "      <td>NaN</td>\n",
       "    </tr>\n",
       "    <tr>\n",
       "      <th>3</th>\n",
       "      <td>4</td>\n",
       "      <td>89.063515</td>\n",
       "      <td>NaN</td>\n",
       "      <td>NaN</td>\n",
       "      <td>NaN</td>\n",
       "      <td>NaN</td>\n",
       "      <td>NaN</td>\n",
       "      <td>NaN</td>\n",
       "      <td>NaN</td>\n",
       "      <td>NaN</td>\n",
       "    </tr>\n",
       "    <tr>\n",
       "      <th>4</th>\n",
       "      <td>5</td>\n",
       "      <td>89.238236</td>\n",
       "      <td>9.11456</td>\n",
       "      <td>NaN</td>\n",
       "      <td>NaN</td>\n",
       "      <td>NaN</td>\n",
       "      <td>NaN</td>\n",
       "      <td>NaN</td>\n",
       "      <td>NaN</td>\n",
       "      <td>NaN</td>\n",
       "    </tr>\n",
       "  </tbody>\n",
       "</table>\n",
       "</div>"
      ],
      "text/plain": [
       "   key     Wire 1   Wire 2  Wire 3  Wire 4  Wire 5  Wire 6  Wire 7  Wire 8  \\\n",
       "0    1  60.059998      NaN     NaN     NaN     NaN     NaN     NaN     NaN   \n",
       "1    2  96.052315      NaN     NaN     NaN     NaN     NaN     NaN     NaN   \n",
       "2    3  91.160157      NaN     NaN     NaN     NaN     NaN     NaN     NaN   \n",
       "3    4  89.063515      NaN     NaN     NaN     NaN     NaN     NaN     NaN   \n",
       "4    5  89.238236  9.11456     NaN     NaN     NaN     NaN     NaN     NaN   \n",
       "\n",
       "   Wire 9  \n",
       "0     NaN  \n",
       "1     NaN  \n",
       "2     NaN  \n",
       "3     NaN  \n",
       "4     NaN  "
      ]
     },
     "execution_count": 71,
     "metadata": {},
     "output_type": "execute_result"
    }
   ],
   "source": [
    "#check first rows\n",
    "df_wire.head()"
   ]
  },
  {
   "cell_type": "code",
   "execution_count": 72,
   "id": "97d04d92",
   "metadata": {},
   "outputs": [
    {
     "name": "stdout",
     "output_type": "stream",
     "text": [
      "<class 'pandas.core.frame.DataFrame'>\n",
      "RangeIndex: 3081 entries, 0 to 3080\n",
      "Data columns (total 10 columns):\n",
      " #   Column  Non-Null Count  Dtype  \n",
      "---  ------  --------------  -----  \n",
      " 0   key     3081 non-null   int64  \n",
      " 1   Wire 1  3055 non-null   float64\n",
      " 2   Wire 2  1079 non-null   float64\n",
      " 3   Wire 3  63 non-null     float64\n",
      " 4   Wire 4  14 non-null     float64\n",
      " 5   Wire 5  1 non-null      float64\n",
      " 6   Wire 6  73 non-null     float64\n",
      " 7   Wire 7  11 non-null     float64\n",
      " 8   Wire 8  19 non-null     float64\n",
      " 9   Wire 9  29 non-null     float64\n",
      "dtypes: float64(9), int64(1)\n",
      "memory usage: 240.8 KB\n"
     ]
    }
   ],
   "source": [
    "#check general data\n",
    "df_wire.info()"
   ]
  },
  {
   "cell_type": "code",
   "execution_count": 73,
   "id": "79064f8a",
   "metadata": {},
   "outputs": [
    {
     "data": {
      "text/plain": [
       "key          0\n",
       "Wire 1      26\n",
       "Wire 2    2002\n",
       "Wire 3    3018\n",
       "Wire 4    3067\n",
       "Wire 5    3080\n",
       "Wire 6    3008\n",
       "Wire 7    3070\n",
       "Wire 8    3062\n",
       "Wire 9    3052\n",
       "dtype: int64"
      ]
     },
     "execution_count": 73,
     "metadata": {},
     "output_type": "execute_result"
    }
   ],
   "source": [
    "#check empty values\n",
    "df_wire.isna().sum()"
   ]
  },
  {
   "cell_type": "code",
   "execution_count": 74,
   "id": "f8f99b7f",
   "metadata": {},
   "outputs": [
    {
     "data": {
      "text/plain": [
       "0"
      ]
     },
     "execution_count": 74,
     "metadata": {},
     "output_type": "execute_result"
    }
   ],
   "source": [
    "#check duplicated\n",
    "df_wire.duplicated().sum()"
   ]
  },
  {
   "cell_type": "code",
   "execution_count": 75,
   "id": "e9e926b5",
   "metadata": {},
   "outputs": [
    {
     "data": {
      "text/html": [
       "<div>\n",
       "<style scoped>\n",
       "    .dataframe tbody tr th:only-of-type {\n",
       "        vertical-align: middle;\n",
       "    }\n",
       "\n",
       "    .dataframe tbody tr th {\n",
       "        vertical-align: top;\n",
       "    }\n",
       "\n",
       "    .dataframe thead th {\n",
       "        text-align: right;\n",
       "    }\n",
       "</style>\n",
       "<table border=\"1\" class=\"dataframe\">\n",
       "  <thead>\n",
       "    <tr style=\"text-align: right;\">\n",
       "      <th></th>\n",
       "      <th>key</th>\n",
       "      <th>Wire 1</th>\n",
       "      <th>Wire 2</th>\n",
       "      <th>Wire 3</th>\n",
       "      <th>Wire 4</th>\n",
       "      <th>Wire 5</th>\n",
       "      <th>Wire 6</th>\n",
       "      <th>Wire 7</th>\n",
       "      <th>Wire 8</th>\n",
       "      <th>Wire 9</th>\n",
       "    </tr>\n",
       "  </thead>\n",
       "  <tbody>\n",
       "    <tr>\n",
       "      <th>count</th>\n",
       "      <td>3081.000000</td>\n",
       "      <td>3055.000000</td>\n",
       "      <td>1079.000000</td>\n",
       "      <td>63.000000</td>\n",
       "      <td>14.000000</td>\n",
       "      <td>1.000</td>\n",
       "      <td>73.000000</td>\n",
       "      <td>11.000000</td>\n",
       "      <td>19.000000</td>\n",
       "      <td>29.000000</td>\n",
       "    </tr>\n",
       "    <tr>\n",
       "      <th>mean</th>\n",
       "      <td>1623.426485</td>\n",
       "      <td>100.895853</td>\n",
       "      <td>50.577323</td>\n",
       "      <td>189.482681</td>\n",
       "      <td>57.442841</td>\n",
       "      <td>15.132</td>\n",
       "      <td>48.016974</td>\n",
       "      <td>10.039007</td>\n",
       "      <td>53.625193</td>\n",
       "      <td>34.155752</td>\n",
       "    </tr>\n",
       "    <tr>\n",
       "      <th>std</th>\n",
       "      <td>932.996726</td>\n",
       "      <td>42.012518</td>\n",
       "      <td>39.320216</td>\n",
       "      <td>99.513444</td>\n",
       "      <td>28.824667</td>\n",
       "      <td>NaN</td>\n",
       "      <td>33.919845</td>\n",
       "      <td>8.610584</td>\n",
       "      <td>16.881728</td>\n",
       "      <td>19.931616</td>\n",
       "    </tr>\n",
       "    <tr>\n",
       "      <th>min</th>\n",
       "      <td>1.000000</td>\n",
       "      <td>1.918800</td>\n",
       "      <td>0.030160</td>\n",
       "      <td>0.144144</td>\n",
       "      <td>24.148801</td>\n",
       "      <td>15.132</td>\n",
       "      <td>0.034320</td>\n",
       "      <td>0.234208</td>\n",
       "      <td>45.076721</td>\n",
       "      <td>4.622800</td>\n",
       "    </tr>\n",
       "    <tr>\n",
       "      <th>25%</th>\n",
       "      <td>823.000000</td>\n",
       "      <td>72.115684</td>\n",
       "      <td>20.193680</td>\n",
       "      <td>95.135044</td>\n",
       "      <td>40.807002</td>\n",
       "      <td>15.132</td>\n",
       "      <td>25.053600</td>\n",
       "      <td>6.762756</td>\n",
       "      <td>46.094879</td>\n",
       "      <td>22.058401</td>\n",
       "    </tr>\n",
       "    <tr>\n",
       "      <th>50%</th>\n",
       "      <td>1619.000000</td>\n",
       "      <td>100.158234</td>\n",
       "      <td>40.142956</td>\n",
       "      <td>235.194977</td>\n",
       "      <td>45.234282</td>\n",
       "      <td>15.132</td>\n",
       "      <td>42.076324</td>\n",
       "      <td>9.017009</td>\n",
       "      <td>46.279999</td>\n",
       "      <td>30.066399</td>\n",
       "    </tr>\n",
       "    <tr>\n",
       "      <th>75%</th>\n",
       "      <td>2434.000000</td>\n",
       "      <td>126.060483</td>\n",
       "      <td>70.227558</td>\n",
       "      <td>276.252014</td>\n",
       "      <td>76.124619</td>\n",
       "      <td>15.132</td>\n",
       "      <td>64.212723</td>\n",
       "      <td>11.886057</td>\n",
       "      <td>48.089603</td>\n",
       "      <td>43.862003</td>\n",
       "    </tr>\n",
       "    <tr>\n",
       "      <th>max</th>\n",
       "      <td>3241.000000</td>\n",
       "      <td>330.314424</td>\n",
       "      <td>282.780152</td>\n",
       "      <td>385.008668</td>\n",
       "      <td>113.231044</td>\n",
       "      <td>15.132</td>\n",
       "      <td>180.454575</td>\n",
       "      <td>32.847674</td>\n",
       "      <td>102.762401</td>\n",
       "      <td>90.053604</td>\n",
       "    </tr>\n",
       "  </tbody>\n",
       "</table>\n",
       "</div>"
      ],
      "text/plain": [
       "               key       Wire 1       Wire 2      Wire 3      Wire 4  Wire 5  \\\n",
       "count  3081.000000  3055.000000  1079.000000   63.000000   14.000000   1.000   \n",
       "mean   1623.426485   100.895853    50.577323  189.482681   57.442841  15.132   \n",
       "std     932.996726    42.012518    39.320216   99.513444   28.824667     NaN   \n",
       "min       1.000000     1.918800     0.030160    0.144144   24.148801  15.132   \n",
       "25%     823.000000    72.115684    20.193680   95.135044   40.807002  15.132   \n",
       "50%    1619.000000   100.158234    40.142956  235.194977   45.234282  15.132   \n",
       "75%    2434.000000   126.060483    70.227558  276.252014   76.124619  15.132   \n",
       "max    3241.000000   330.314424   282.780152  385.008668  113.231044  15.132   \n",
       "\n",
       "           Wire 6     Wire 7      Wire 8     Wire 9  \n",
       "count   73.000000  11.000000   19.000000  29.000000  \n",
       "mean    48.016974  10.039007   53.625193  34.155752  \n",
       "std     33.919845   8.610584   16.881728  19.931616  \n",
       "min      0.034320   0.234208   45.076721   4.622800  \n",
       "25%     25.053600   6.762756   46.094879  22.058401  \n",
       "50%     42.076324   9.017009   46.279999  30.066399  \n",
       "75%     64.212723  11.886057   48.089603  43.862003  \n",
       "max    180.454575  32.847674  102.762401  90.053604  "
      ]
     },
     "execution_count": 75,
     "metadata": {},
     "output_type": "execute_result"
    }
   ],
   "source": [
    "#check general info\n",
    "df_wire.describe()"
   ]
  },
  {
   "cell_type": "code",
   "execution_count": 76,
   "id": "992ad8e5",
   "metadata": {},
   "outputs": [
    {
     "data": {
      "text/plain": [
       "160"
      ]
     },
     "execution_count": 76,
     "metadata": {},
     "output_type": "execute_result"
    }
   ],
   "source": [
    "#find missed batches\n",
    "batches = df_wire['key'].values\n",
    "batches_no_bulk = [] \n",
    "for i in range(1,3242):\n",
    "    if i not in batches:\n",
    "        batches_no_bulk.append(i)\n",
    "len(batches_no_bulk)"
   ]
  },
  {
   "cell_type": "code",
   "execution_count": 77,
   "id": "7e545ef6",
   "metadata": {
    "scrolled": false
   },
   "outputs": [
    {
     "data": {
      "image/png": "[encoded data removed]",
      "text/plain": [
       "<Figure size 640x480 with 1 Axes>"
      ]
     },
     "metadata": {},
     "output_type": "display_data"
    }
   ],
   "source": [
    "#plot boxplots to check anomalies\n",
    "\n",
    "sns.boxplot(data=df_wire.drop(columns='key'), orient=\"h\")\n",
    "\n",
    "plt.title('Объем проволочных материалов')\n",
    "plt.xlabel('Объем')\n",
    "plt.ylabel('Материал')\n",
    "\n",
    "plt.show()"
   ]
  },
  {
   "cell_type": "markdown",
   "id": "861ed3a6",
   "metadata": {},
   "source": [
    "Явно видны аномальные значения. Посчитаем их:"
   ]
  },
  {
   "cell_type": "code",
   "execution_count": 78,
   "id": "8ad507c1",
   "metadata": {},
   "outputs": [
    {
     "name": "stdout",
     "output_type": "stream",
     "text": [
      "Wire 1 {'Количество аномалий': 36, '% от всех данных': 1.0, 'lower': 1.9188, 'upper': 206.668792}\n",
      "Wire 2 {'Количество аномалий': 32, '% от всех данных': 1.0, 'lower': 0.03016, 'upper': 144.289596}\n",
      "Wire 3 {'Количество аномалий': 0, '% от всех данных': 0.0, 'lower': 0.144144, 'upper': 385.008668}\n",
      "Wire 4 {'Количество аномалий': 0, '% от всех данных': 0.0, 'lower': 24.148801, 'upper': 113.231044}\n",
      "Wire 5 {'Количество аномалий': 0, '% от всех данных': 0.0, 'lower': 15.132, 'upper': 15.132}\n",
      "Wire 6 {'Количество аномалий': 3, '% от всех данных': 0.0, 'lower': 0.0343199999999999, 'upper': 120.188644}\n",
      "Wire 7 {'Количество аномалий': 1, '% от всех данных': 0.0, 'lower': 0.234208, 'upper': 12.354473}\n",
      "Wire 8 {'Количество аномалий': 4, '% от всех данных': 0.0, 'lower': 45.076721, 'upper': 48.089603}\n",
      "Wire 9 {'Количество аномалий': 1, '% от всех данных': 0.0, 'lower': 4.622800000000001, 'upper': 63.0448}\n"
     ]
    }
   ],
   "source": [
    "#extract anomalies\n",
    "dict_anom = extract_anom(df_wire)\n",
    "\n",
    "for _ in dict_anom:\n",
    "    if _ != 'key':\n",
    "        print(_, dict_anom[_])"
   ]
  },
  {
   "cell_type": "code",
   "execution_count": 79,
   "id": "ce3df106",
   "metadata": {
    "scrolled": false
   },
   "outputs": [
    {
     "name": "stdout",
     "output_type": "stream",
     "text": [
      "Количество строк в данных, содержащих аномалии: 2.0 %\n"
     ]
    }
   ],
   "source": [
    "#extract indices of rows with anomalies and calculate the size\n",
    "idx_wire = idx_anom(df_wire, dict_anom)\n",
    "print('Количество строк в данных, содержащих аномалии:',\\\n",
    "      round(len(idx_wire) / len (df_wire), 2) * 100, '%')"
   ]
  },
  {
   "cell_type": "markdown",
   "id": "ee3b3259",
   "metadata": {},
   "source": [
    "**Вывод**\n",
    "\n",
    "В датафрейме присутствуют следующие данные:\n",
    "* `key`- номер партии (ковша)\n",
    "* `Wire #` - объем материала, поданного в сплав\n",
    "\n",
    "___\n",
    "* Дубли отсутствуют\n",
    "* У некоторых материалов есть пропущенные значения - это значит, что они не использовались в данном сплаве. \n",
    "* Количество партий (ковшей): от 1 до 3241, данные по 160 партиям отсутствуют вообще.\n",
    "* По некоторым материалам наблюдаются аномальные значения, которые составляют до 1% от данных. \n",
    "* Всего аномальные значения находятся в 2% строк данных.\n",
    "\n",
    "Тем не менее, \n",
    "* Без подтверждения от экспертов невозможно точно определить, являются ли выбросы согласно графику, реальными.\n",
    "* Поэтому, потенциально аномальные значение не удаляем, так как они могут быть корректными.\n",
    "\n",
    "___\n",
    "\n",
    "Необходимо:\n",
    "* Названия колонок перевести в корректное написание: нижний регистр, без пробелов, деление слов нижним подчеркиванием\n",
    "\n",
    "___\n",
    "\n",
    "Количество поданных материалов влияет на сплав, а значит, и на температуру, которая необходима для его нагрева. Поэтому показатель объема проволочных материалов берем в для построения модели."
   ]
  },
  {
   "cell_type": "markdown",
   "id": "4a14bf92",
   "metadata": {},
   "source": [
    "___"
   ]
  },
  {
   "cell_type": "code",
   "execution_count": 80,
   "id": "bd35fb64",
   "metadata": {},
   "outputs": [
    {
     "data": {
      "text/html": [
       "<div>\n",
       "<style scoped>\n",
       "    .dataframe tbody tr th:only-of-type {\n",
       "        vertical-align: middle;\n",
       "    }\n",
       "\n",
       "    .dataframe tbody tr th {\n",
       "        vertical-align: top;\n",
       "    }\n",
       "\n",
       "    .dataframe thead th {\n",
       "        text-align: right;\n",
       "    }\n",
       "</style>\n",
       "<table border=\"1\" class=\"dataframe\">\n",
       "  <thead>\n",
       "    <tr style=\"text-align: right;\">\n",
       "      <th></th>\n",
       "      <th>key</th>\n",
       "      <th>wire_1</th>\n",
       "      <th>wire_2</th>\n",
       "      <th>wire_3</th>\n",
       "      <th>wire_4</th>\n",
       "      <th>wire_5</th>\n",
       "      <th>wire_6</th>\n",
       "      <th>wire_7</th>\n",
       "      <th>wire_8</th>\n",
       "      <th>wire_9</th>\n",
       "    </tr>\n",
       "  </thead>\n",
       "  <tbody>\n",
       "    <tr>\n",
       "      <th>0</th>\n",
       "      <td>1</td>\n",
       "      <td>60.059998</td>\n",
       "      <td>NaN</td>\n",
       "      <td>NaN</td>\n",
       "      <td>NaN</td>\n",
       "      <td>NaN</td>\n",
       "      <td>NaN</td>\n",
       "      <td>NaN</td>\n",
       "      <td>NaN</td>\n",
       "      <td>NaN</td>\n",
       "    </tr>\n",
       "    <tr>\n",
       "      <th>1</th>\n",
       "      <td>2</td>\n",
       "      <td>96.052315</td>\n",
       "      <td>NaN</td>\n",
       "      <td>NaN</td>\n",
       "      <td>NaN</td>\n",
       "      <td>NaN</td>\n",
       "      <td>NaN</td>\n",
       "      <td>NaN</td>\n",
       "      <td>NaN</td>\n",
       "      <td>NaN</td>\n",
       "    </tr>\n",
       "    <tr>\n",
       "      <th>2</th>\n",
       "      <td>3</td>\n",
       "      <td>91.160157</td>\n",
       "      <td>NaN</td>\n",
       "      <td>NaN</td>\n",
       "      <td>NaN</td>\n",
       "      <td>NaN</td>\n",
       "      <td>NaN</td>\n",
       "      <td>NaN</td>\n",
       "      <td>NaN</td>\n",
       "      <td>NaN</td>\n",
       "    </tr>\n",
       "    <tr>\n",
       "      <th>3</th>\n",
       "      <td>4</td>\n",
       "      <td>89.063515</td>\n",
       "      <td>NaN</td>\n",
       "      <td>NaN</td>\n",
       "      <td>NaN</td>\n",
       "      <td>NaN</td>\n",
       "      <td>NaN</td>\n",
       "      <td>NaN</td>\n",
       "      <td>NaN</td>\n",
       "      <td>NaN</td>\n",
       "    </tr>\n",
       "    <tr>\n",
       "      <th>4</th>\n",
       "      <td>5</td>\n",
       "      <td>89.238236</td>\n",
       "      <td>9.11456</td>\n",
       "      <td>NaN</td>\n",
       "      <td>NaN</td>\n",
       "      <td>NaN</td>\n",
       "      <td>NaN</td>\n",
       "      <td>NaN</td>\n",
       "      <td>NaN</td>\n",
       "      <td>NaN</td>\n",
       "    </tr>\n",
       "  </tbody>\n",
       "</table>\n",
       "</div>"
      ],
      "text/plain": [
       "   key     wire_1   wire_2  wire_3  wire_4  wire_5  wire_6  wire_7  wire_8  \\\n",
       "0    1  60.059998      NaN     NaN     NaN     NaN     NaN     NaN     NaN   \n",
       "1    2  96.052315      NaN     NaN     NaN     NaN     NaN     NaN     NaN   \n",
       "2    3  91.160157      NaN     NaN     NaN     NaN     NaN     NaN     NaN   \n",
       "3    4  89.063515      NaN     NaN     NaN     NaN     NaN     NaN     NaN   \n",
       "4    5  89.238236  9.11456     NaN     NaN     NaN     NaN     NaN     NaN   \n",
       "\n",
       "   wire_9  \n",
       "0     NaN  \n",
       "1     NaN  \n",
       "2     NaN  \n",
       "3     NaN  \n",
       "4     NaN  "
      ]
     },
     "execution_count": 80,
     "metadata": {},
     "output_type": "execute_result"
    }
   ],
   "source": [
    "#format columns\n",
    "df_wire.columns = format_columns(df_wire)\n",
    "df_wire.head()"
   ]
  },
  {
   "cell_type": "code",
   "execution_count": 81,
   "id": "790c0bb3",
   "metadata": {},
   "outputs": [],
   "source": [
    "# #delete anomalies\n",
    "# df_wire = df_wire.drop(index=idx_wire)"
   ]
  },
  {
   "cell_type": "markdown",
   "id": "7f8f1e2d",
   "metadata": {},
   "source": [
    "Данные отформатированы, аномалии очищены"
   ]
  },
  {
   "cell_type": "markdown",
   "id": "1886fc60",
   "metadata": {},
   "source": [
    "___"
   ]
  },
  {
   "cell_type": "markdown",
   "id": "f49e8379",
   "metadata": {},
   "source": [
    "#### Анализ `df_wire_time` — данные о проволочных материалах (время)."
   ]
  },
  {
   "cell_type": "code",
   "execution_count": 82,
   "id": "39eda502",
   "metadata": {},
   "outputs": [
    {
     "data": {
      "text/html": [
       "<div>\n",
       "<style scoped>\n",
       "    .dataframe tbody tr th:only-of-type {\n",
       "        vertical-align: middle;\n",
       "    }\n",
       "\n",
       "    .dataframe tbody tr th {\n",
       "        vertical-align: top;\n",
       "    }\n",
       "\n",
       "    .dataframe thead th {\n",
       "        text-align: right;\n",
       "    }\n",
       "</style>\n",
       "<table border=\"1\" class=\"dataframe\">\n",
       "  <thead>\n",
       "    <tr style=\"text-align: right;\">\n",
       "      <th></th>\n",
       "      <th>key</th>\n",
       "      <th>Wire 1</th>\n",
       "      <th>Wire 2</th>\n",
       "      <th>Wire 3</th>\n",
       "      <th>Wire 4</th>\n",
       "      <th>Wire 5</th>\n",
       "      <th>Wire 6</th>\n",
       "      <th>Wire 7</th>\n",
       "      <th>Wire 8</th>\n",
       "      <th>Wire 9</th>\n",
       "    </tr>\n",
       "  </thead>\n",
       "  <tbody>\n",
       "    <tr>\n",
       "      <th>0</th>\n",
       "      <td>1</td>\n",
       "      <td>2019-05-03 11:11:41</td>\n",
       "      <td>NaN</td>\n",
       "      <td>NaN</td>\n",
       "      <td>NaN</td>\n",
       "      <td>NaN</td>\n",
       "      <td>NaN</td>\n",
       "      <td>NaN</td>\n",
       "      <td>NaN</td>\n",
       "      <td>NaN</td>\n",
       "    </tr>\n",
       "    <tr>\n",
       "      <th>1</th>\n",
       "      <td>2</td>\n",
       "      <td>2019-05-03 11:46:10</td>\n",
       "      <td>NaN</td>\n",
       "      <td>NaN</td>\n",
       "      <td>NaN</td>\n",
       "      <td>NaN</td>\n",
       "      <td>NaN</td>\n",
       "      <td>NaN</td>\n",
       "      <td>NaN</td>\n",
       "      <td>NaN</td>\n",
       "    </tr>\n",
       "    <tr>\n",
       "      <th>2</th>\n",
       "      <td>3</td>\n",
       "      <td>2019-05-03 12:13:47</td>\n",
       "      <td>NaN</td>\n",
       "      <td>NaN</td>\n",
       "      <td>NaN</td>\n",
       "      <td>NaN</td>\n",
       "      <td>NaN</td>\n",
       "      <td>NaN</td>\n",
       "      <td>NaN</td>\n",
       "      <td>NaN</td>\n",
       "    </tr>\n",
       "    <tr>\n",
       "      <th>3</th>\n",
       "      <td>4</td>\n",
       "      <td>2019-05-03 12:48:05</td>\n",
       "      <td>NaN</td>\n",
       "      <td>NaN</td>\n",
       "      <td>NaN</td>\n",
       "      <td>NaN</td>\n",
       "      <td>NaN</td>\n",
       "      <td>NaN</td>\n",
       "      <td>NaN</td>\n",
       "      <td>NaN</td>\n",
       "    </tr>\n",
       "    <tr>\n",
       "      <th>4</th>\n",
       "      <td>5</td>\n",
       "      <td>2019-05-03 13:18:15</td>\n",
       "      <td>2019-05-03 13:32:06</td>\n",
       "      <td>NaN</td>\n",
       "      <td>NaN</td>\n",
       "      <td>NaN</td>\n",
       "      <td>NaN</td>\n",
       "      <td>NaN</td>\n",
       "      <td>NaN</td>\n",
       "      <td>NaN</td>\n",
       "    </tr>\n",
       "  </tbody>\n",
       "</table>\n",
       "</div>"
      ],
      "text/plain": [
       "   key               Wire 1               Wire 2 Wire 3 Wire 4 Wire 5 Wire 6  \\\n",
       "0    1  2019-05-03 11:11:41                  NaN    NaN    NaN    NaN    NaN   \n",
       "1    2  2019-05-03 11:46:10                  NaN    NaN    NaN    NaN    NaN   \n",
       "2    3  2019-05-03 12:13:47                  NaN    NaN    NaN    NaN    NaN   \n",
       "3    4  2019-05-03 12:48:05                  NaN    NaN    NaN    NaN    NaN   \n",
       "4    5  2019-05-03 13:18:15  2019-05-03 13:32:06    NaN    NaN    NaN    NaN   \n",
       "\n",
       "  Wire 7 Wire 8 Wire 9  \n",
       "0    NaN    NaN    NaN  \n",
       "1    NaN    NaN    NaN  \n",
       "2    NaN    NaN    NaN  \n",
       "3    NaN    NaN    NaN  \n",
       "4    NaN    NaN    NaN  "
      ]
     },
     "execution_count": 82,
     "metadata": {},
     "output_type": "execute_result"
    }
   ],
   "source": [
    "#check first rows\n",
    "df_wire_time.head()"
   ]
  },
  {
   "cell_type": "markdown",
   "id": "c1cbebf5",
   "metadata": {},
   "source": [
    "**Вывод**\n",
    "\n",
    "В датафрейме присутствуют следующие данные:\n",
    "* `key`- номер партии (ковша)\n",
    "* `Wire #` - данные о времени подачи проволочных материалов (9 разных материалов)\n",
    "\n",
    "___\n",
    "\n",
    "Однако, наша цель, спрогнозировать температуру при финальном нагреве сплава стали, на нее не оказывает влияние время добавления проволочных материалов, так как все равно придется прогревать до нужной температуры. \n",
    "\n",
    "Таким образом, данные о времени добавления добавок не будем использовать для построения модели"
   ]
  },
  {
   "cell_type": "markdown",
   "id": "59ee74f1",
   "metadata": {},
   "source": [
    "___"
   ]
  },
  {
   "cell_type": "markdown",
   "id": "296b4cea",
   "metadata": {},
   "source": [
    "### Общий вывод этапа \"Анализ данных\"\n",
    "\n",
    "**Проделанные шаги**\n",
    "\n",
    "* Данные проанализированы, очищены от аномалий\n",
    "* Выявлены признаки, на основании которых можно строить модель\n",
    "\n",
    "**Выводы**\n",
    "\n",
    "Целевой признак - последняя температура по партии, партия является объектом моделирования\n",
    "\n",
    "Соответственно, необходимо объединить данные для тех партий, у которых есть информация о целевом признаке и обогатить следующими данными:\n",
    "\n",
    "* данные об общей мощности электродов при нагреве\n",
    "* данные об объемы поданных сыпучих материалов\n",
    "* данные об объеме использованного газа\n",
    "* данные об объеме проволочных материалов\n",
    "\n",
    "На основании этих данных можно строить модель предсказания итоговой температуры сплава\n",
    "\n",
    "**Дальнейшие шаги:**\n",
    "\n",
    "* Сбор необходимых признаков в таблицу, на основании которой будет обучатся модель\n",
    "* Мастшабирование и кодирование данных\n",
    "* Разделение данных на тестовую (25%) и обучающую (75%) выборки\n",
    "* Обучение моделей (лин. регрессия, лес деревьев, CatBoost) на обучающей выборке и подбор гиперпараметров\n",
    "* Сравнение моделей между собой и с константной моделью\n",
    "* Выбор лучшей модели на обучающей выборке согласно критериям качества\n",
    "* Проверка выбранной модели на тестовых данных.\n",
    "\n",
    "**Критерий качества модели:**\n",
    "* MAE <= 6.8"
   ]
  },
  {
   "cell_type": "markdown",
   "id": "53e44fa9",
   "metadata": {},
   "source": [
    "## План проекта\n",
    "**1. Проведение обзора данных (EDA)**\n",
    "\n",
    "**Подготовка данных:** \n",
    "* Импорт необходимых библиотек;\n",
    "* Чтение файлов и сохранение полученных данных в переменные;\n",
    "* Получение общей информации о таблицах (head, info, describe);\n",
    "* Корректировка наименований столбцов (при необходимости).\n",
    "* Выводы\n",
    "\n",
    "**Анализ данных:**\n",
    "* Графическое представление данных из таблиц;\n",
    "* Проверка данных на аномалии.\n",
    "* Выводы\n",
    "\n",
    "**Предобработка данных:**\n",
    "* Корректировка типов данных (при необходимости);\n",
    "* Заполнение пропусков / удаление дубликатов (при наличии);\n",
    "* Выделение признаков и таргета;\n",
    "* Соединение таблиц.\n",
    "* Выводы\n",
    "\n",
    "**Исследование итоговой таблицы с данными:**\n",
    "* Аналитический анализ\n",
    "* графический анализ\n",
    "* корреляционный анализ\n",
    "* выводы\n",
    "\n",
    "**2. Построение модели машинного обучения**\n",
    "\n",
    "**Обучение модели:**\n",
    "* Разделение данных на обучающую и тестовую выборки;\n",
    "* Масштабирование данных;\n",
    "* Обучение модели линейной регрессии;\n",
    "* Обучение модели градиентного бустинга с перебором гиперпараметров;\n",
    "* Константная модели.\n",
    "* Выбор лучшей модели\n",
    "\n",
    "**Проверка моделей:**\n",
    "* Тестирование лучшей модели на тестовой выборке;\n",
    "* Если MAE на тестовых данных > 6.8 - доработка модели.\n",
    "* Анализ важности факторов\n",
    "\n",
    "**3. Общий вывод**"
   ]
  },
  {
   "cell_type": "markdown",
   "id": "9e17cc13",
   "metadata": {},
   "source": [
    "___"
   ]
  },
  {
   "cell_type": "markdown",
   "id": "3a0b89a2",
   "metadata": {},
   "source": [
    "## Формирование общей таблицы для построения модели"
   ]
  },
  {
   "cell_type": "markdown",
   "id": "3796f429",
   "metadata": {},
   "source": [
    "### Объединение таблиц"
   ]
  },
  {
   "cell_type": "markdown",
   "id": "c97039e9",
   "metadata": {},
   "source": [
    "Целевой признак - температура нагрева партии при последнем нагреве.  \n",
    "Соответственно, необходимо:\n",
    "\n",
    "* Взять список партий и их итоговых температур (целевой признак)\n",
    "* Обогатить дополнительными параметрами, определенными на этапе анализа данных"
   ]
  },
  {
   "cell_type": "markdown",
   "id": "bd62ff26",
   "metadata": {},
   "source": [
    "Основная таблица с целевым признаком:"
   ]
  },
  {
   "cell_type": "code",
   "execution_count": 83,
   "id": "b8a5e06e",
   "metadata": {},
   "outputs": [
    {
     "data": {
      "text/html": [
       "<div>\n",
       "<style scoped>\n",
       "    .dataframe tbody tr th:only-of-type {\n",
       "        vertical-align: middle;\n",
       "    }\n",
       "\n",
       "    .dataframe tbody tr th {\n",
       "        vertical-align: top;\n",
       "    }\n",
       "\n",
       "    .dataframe thead th {\n",
       "        text-align: right;\n",
       "    }\n",
       "</style>\n",
       "<table border=\"1\" class=\"dataframe\">\n",
       "  <thead>\n",
       "    <tr style=\"text-align: right;\">\n",
       "      <th></th>\n",
       "      <th>key</th>\n",
       "      <th>температура</th>\n",
       "    </tr>\n",
       "  </thead>\n",
       "  <tbody>\n",
       "    <tr>\n",
       "      <th>4</th>\n",
       "      <td>1</td>\n",
       "      <td>1613.0</td>\n",
       "    </tr>\n",
       "    <tr>\n",
       "      <th>10</th>\n",
       "      <td>2</td>\n",
       "      <td>1602.0</td>\n",
       "    </tr>\n",
       "    <tr>\n",
       "      <th>15</th>\n",
       "      <td>3</td>\n",
       "      <td>1599.0</td>\n",
       "    </tr>\n",
       "    <tr>\n",
       "      <th>18</th>\n",
       "      <td>4</td>\n",
       "      <td>1625.0</td>\n",
       "    </tr>\n",
       "    <tr>\n",
       "      <th>20</th>\n",
       "      <td>5</td>\n",
       "      <td>1602.0</td>\n",
       "    </tr>\n",
       "  </tbody>\n",
       "</table>\n",
       "</div>"
      ],
      "text/plain": [
       "    key  температура\n",
       "4     1       1613.0\n",
       "10    2       1602.0\n",
       "15    3       1599.0\n",
       "18    4       1625.0\n",
       "20    5       1602.0"
      ]
     },
     "execution_count": 83,
     "metadata": {},
     "output_type": "execute_result"
    }
   ],
   "source": [
    "df_temperature_last.head()"
   ]
  },
  {
   "cell_type": "code",
   "execution_count": 84,
   "id": "6f74264d",
   "metadata": {},
   "outputs": [],
   "source": [
    "# #save length of df to keep track of merging (this value shoud not change)\n",
    "# len_correct = len(df_temperature_last)"
   ]
  },
  {
   "cell_type": "markdown",
   "id": "03a6dde5",
   "metadata": {},
   "source": [
    "Прежде, чем объединять таблицы, создадим вспомогательную таблицу с показателем первой замеренной температуры для каждой партии"
   ]
  },
  {
   "cell_type": "code",
   "execution_count": 85,
   "id": "605d2759",
   "metadata": {
    "scrolled": true
   },
   "outputs": [
    {
     "data": {
      "text/html": [
       "<div>\n",
       "<style scoped>\n",
       "    .dataframe tbody tr th:only-of-type {\n",
       "        vertical-align: middle;\n",
       "    }\n",
       "\n",
       "    .dataframe tbody tr th {\n",
       "        vertical-align: top;\n",
       "    }\n",
       "\n",
       "    .dataframe thead th {\n",
       "        text-align: right;\n",
       "    }\n",
       "</style>\n",
       "<table border=\"1\" class=\"dataframe\">\n",
       "  <thead>\n",
       "    <tr style=\"text-align: right;\">\n",
       "      <th></th>\n",
       "      <th>key</th>\n",
       "      <th>первая_температура</th>\n",
       "    </tr>\n",
       "  </thead>\n",
       "  <tbody>\n",
       "    <tr>\n",
       "      <th>0</th>\n",
       "      <td>1</td>\n",
       "      <td>1571.0</td>\n",
       "    </tr>\n",
       "    <tr>\n",
       "      <th>5</th>\n",
       "      <td>2</td>\n",
       "      <td>1581.0</td>\n",
       "    </tr>\n",
       "    <tr>\n",
       "      <th>11</th>\n",
       "      <td>3</td>\n",
       "      <td>1596.0</td>\n",
       "    </tr>\n",
       "    <tr>\n",
       "      <th>16</th>\n",
       "      <td>4</td>\n",
       "      <td>1601.0</td>\n",
       "    </tr>\n",
       "    <tr>\n",
       "      <th>19</th>\n",
       "      <td>5</td>\n",
       "      <td>1576.0</td>\n",
       "    </tr>\n",
       "  </tbody>\n",
       "</table>\n",
       "</div>"
      ],
      "text/plain": [
       "    key  первая_температура\n",
       "0     1              1571.0\n",
       "5     2              1581.0\n",
       "11    3              1596.0\n",
       "16    4              1601.0\n",
       "19    5              1576.0"
      ]
     },
     "execution_count": 85,
     "metadata": {},
     "output_type": "execute_result"
    }
   ],
   "source": [
    "#rank temperatures by time inside each batch\n",
    "df_temperature_asc = df_temperature.copy() \n",
    "df_temperature_asc['rank'] = df_temperature_asc.groupby('key')['Время замера'].rank(ascending=True)\n",
    "\n",
    "df_temperature_first = df_temperature_asc[df_temperature_asc['rank'] == 1].drop(columns=['Время замера', 'rank'])\n",
    "df_temperature_first.columns = ['key', 'первая_температура']\n",
    "df_temperature_first.head()"
   ]
  },
  {
   "cell_type": "markdown",
   "id": "1bca1946",
   "metadata": {},
   "source": [
    "Объединяем таблицы на основании номера партии. При этом:\n",
    "* Будем считать, что для каждой партии, чтобы она не была ошибочной, должны присутствовать все параметры процесса: температура, мощность, сыпучие добавки, проволочные добавки, газ.\n",
    "* Если хотя бы одно отсутствует - считаем, что в данных ошибка, и такую партию надо удалить\n",
    "* Поэтому при объединении таблиц используем INNER\n",
    "\n",
    "PS. \n",
    "* при наличие хотя бы одной добавки bulk из всех 15 - партия корректная.\n",
    "* при отсутствии всех bulk - ошибочная\n",
    "* аналогично для wire\n"
   ]
  },
  {
   "cell_type": "code",
   "execution_count": 86,
   "id": "4a9a6698",
   "metadata": {},
   "outputs": [
    {
     "data": {
      "text/html": [
       "<div>\n",
       "<style scoped>\n",
       "    .dataframe tbody tr th:only-of-type {\n",
       "        vertical-align: middle;\n",
       "    }\n",
       "\n",
       "    .dataframe tbody tr th {\n",
       "        vertical-align: top;\n",
       "    }\n",
       "\n",
       "    .dataframe thead th {\n",
       "        text-align: right;\n",
       "    }\n",
       "</style>\n",
       "<table border=\"1\" class=\"dataframe\">\n",
       "  <thead>\n",
       "    <tr style=\"text-align: right;\">\n",
       "      <th></th>\n",
       "      <th>key</th>\n",
       "      <th>температура</th>\n",
       "      <th>реактивная_мощность</th>\n",
       "      <th>активная_мощность</th>\n",
       "      <th>bulk_1</th>\n",
       "      <th>bulk_2</th>\n",
       "      <th>bulk_3</th>\n",
       "      <th>bulk_4</th>\n",
       "      <th>bulk_5</th>\n",
       "      <th>bulk_6</th>\n",
       "      <th>...</th>\n",
       "      <th>wire_1</th>\n",
       "      <th>wire_2</th>\n",
       "      <th>wire_3</th>\n",
       "      <th>wire_4</th>\n",
       "      <th>wire_5</th>\n",
       "      <th>wire_6</th>\n",
       "      <th>wire_7</th>\n",
       "      <th>wire_8</th>\n",
       "      <th>wire_9</th>\n",
       "      <th>первая_температура</th>\n",
       "    </tr>\n",
       "  </thead>\n",
       "  <tbody>\n",
       "    <tr>\n",
       "      <th>0</th>\n",
       "      <td>1</td>\n",
       "      <td>1613.0</td>\n",
       "      <td>3.183241</td>\n",
       "      <td>4.878147</td>\n",
       "      <td>NaN</td>\n",
       "      <td>NaN</td>\n",
       "      <td>NaN</td>\n",
       "      <td>43.0</td>\n",
       "      <td>NaN</td>\n",
       "      <td>NaN</td>\n",
       "      <td>...</td>\n",
       "      <td>60.059998</td>\n",
       "      <td>NaN</td>\n",
       "      <td>NaN</td>\n",
       "      <td>NaN</td>\n",
       "      <td>NaN</td>\n",
       "      <td>NaN</td>\n",
       "      <td>NaN</td>\n",
       "      <td>NaN</td>\n",
       "      <td>NaN</td>\n",
       "      <td>1571.0</td>\n",
       "    </tr>\n",
       "    <tr>\n",
       "      <th>1</th>\n",
       "      <td>2</td>\n",
       "      <td>1602.0</td>\n",
       "      <td>1.998112</td>\n",
       "      <td>3.052598</td>\n",
       "      <td>NaN</td>\n",
       "      <td>NaN</td>\n",
       "      <td>NaN</td>\n",
       "      <td>73.0</td>\n",
       "      <td>NaN</td>\n",
       "      <td>NaN</td>\n",
       "      <td>...</td>\n",
       "      <td>96.052315</td>\n",
       "      <td>NaN</td>\n",
       "      <td>NaN</td>\n",
       "      <td>NaN</td>\n",
       "      <td>NaN</td>\n",
       "      <td>NaN</td>\n",
       "      <td>NaN</td>\n",
       "      <td>NaN</td>\n",
       "      <td>NaN</td>\n",
       "      <td>1581.0</td>\n",
       "    </tr>\n",
       "    <tr>\n",
       "      <th>2</th>\n",
       "      <td>3</td>\n",
       "      <td>1599.0</td>\n",
       "      <td>1.599076</td>\n",
       "      <td>2.525882</td>\n",
       "      <td>NaN</td>\n",
       "      <td>NaN</td>\n",
       "      <td>NaN</td>\n",
       "      <td>34.0</td>\n",
       "      <td>NaN</td>\n",
       "      <td>NaN</td>\n",
       "      <td>...</td>\n",
       "      <td>91.160157</td>\n",
       "      <td>NaN</td>\n",
       "      <td>NaN</td>\n",
       "      <td>NaN</td>\n",
       "      <td>NaN</td>\n",
       "      <td>NaN</td>\n",
       "      <td>NaN</td>\n",
       "      <td>NaN</td>\n",
       "      <td>NaN</td>\n",
       "      <td>1596.0</td>\n",
       "    </tr>\n",
       "    <tr>\n",
       "      <th>3</th>\n",
       "      <td>4</td>\n",
       "      <td>1625.0</td>\n",
       "      <td>2.060298</td>\n",
       "      <td>3.209250</td>\n",
       "      <td>NaN</td>\n",
       "      <td>NaN</td>\n",
       "      <td>NaN</td>\n",
       "      <td>81.0</td>\n",
       "      <td>NaN</td>\n",
       "      <td>NaN</td>\n",
       "      <td>...</td>\n",
       "      <td>89.063515</td>\n",
       "      <td>NaN</td>\n",
       "      <td>NaN</td>\n",
       "      <td>NaN</td>\n",
       "      <td>NaN</td>\n",
       "      <td>NaN</td>\n",
       "      <td>NaN</td>\n",
       "      <td>NaN</td>\n",
       "      <td>NaN</td>\n",
       "      <td>1601.0</td>\n",
       "    </tr>\n",
       "    <tr>\n",
       "      <th>4</th>\n",
       "      <td>5</td>\n",
       "      <td>1602.0</td>\n",
       "      <td>2.252643</td>\n",
       "      <td>3.347173</td>\n",
       "      <td>NaN</td>\n",
       "      <td>NaN</td>\n",
       "      <td>NaN</td>\n",
       "      <td>78.0</td>\n",
       "      <td>NaN</td>\n",
       "      <td>NaN</td>\n",
       "      <td>...</td>\n",
       "      <td>89.238236</td>\n",
       "      <td>9.11456</td>\n",
       "      <td>NaN</td>\n",
       "      <td>NaN</td>\n",
       "      <td>NaN</td>\n",
       "      <td>NaN</td>\n",
       "      <td>NaN</td>\n",
       "      <td>NaN</td>\n",
       "      <td>NaN</td>\n",
       "      <td>1576.0</td>\n",
       "    </tr>\n",
       "  </tbody>\n",
       "</table>\n",
       "<p>5 rows × 30 columns</p>\n",
       "</div>"
      ],
      "text/plain": [
       "   key  температура  реактивная_мощность  активная_мощность  bulk_1  bulk_2  \\\n",
       "0    1       1613.0             3.183241           4.878147     NaN     NaN   \n",
       "1    2       1602.0             1.998112           3.052598     NaN     NaN   \n",
       "2    3       1599.0             1.599076           2.525882     NaN     NaN   \n",
       "3    4       1625.0             2.060298           3.209250     NaN     NaN   \n",
       "4    5       1602.0             2.252643           3.347173     NaN     NaN   \n",
       "\n",
       "   bulk_3  bulk_4  bulk_5  bulk_6  ...     wire_1   wire_2  wire_3  wire_4  \\\n",
       "0     NaN    43.0     NaN     NaN  ...  60.059998      NaN     NaN     NaN   \n",
       "1     NaN    73.0     NaN     NaN  ...  96.052315      NaN     NaN     NaN   \n",
       "2     NaN    34.0     NaN     NaN  ...  91.160157      NaN     NaN     NaN   \n",
       "3     NaN    81.0     NaN     NaN  ...  89.063515      NaN     NaN     NaN   \n",
       "4     NaN    78.0     NaN     NaN  ...  89.238236  9.11456     NaN     NaN   \n",
       "\n",
       "   wire_5  wire_6  wire_7  wire_8  wire_9  первая_температура  \n",
       "0     NaN     NaN     NaN     NaN     NaN              1571.0  \n",
       "1     NaN     NaN     NaN     NaN     NaN              1581.0  \n",
       "2     NaN     NaN     NaN     NaN     NaN              1596.0  \n",
       "3     NaN     NaN     NaN     NaN     NaN              1601.0  \n",
       "4     NaN     NaN     NaN     NaN     NaN              1576.0  \n",
       "\n",
       "[5 rows x 30 columns]"
      ]
     },
     "execution_count": 86,
     "metadata": {},
     "output_type": "execute_result"
    }
   ],
   "source": [
    "df_result = pd.DataFrame()\n",
    "\n",
    "if df_result.empty:\n",
    "    df_result = merger_by_key_inner(df_temperature_last, df_arc_grouped) #добавляем суммарные мощности по каждой партии\n",
    "    df_result = merger_by_key_inner(df_result, df_bulk) #добавляем данные о сыпучих материалах по каждой партии\n",
    "    df_result = merger_by_key_inner(df_result, df_gas) #добавляем данные о газе по каждой партии\n",
    "    df_result = merger_by_key_inner(df_result, df_wire) #добавляем данные о проволочных материалах по каждой партии\n",
    "    df_result = merger_by_key_inner(df_result, df_temperature_first) #добавляем данные о первой температуре для каждой партии\n",
    "df_result.head()"
   ]
  },
  {
   "cell_type": "code",
   "execution_count": 87,
   "id": "9b5f8997",
   "metadata": {},
   "outputs": [],
   "source": [
    "# #check that length didn't change \n",
    "# len_correct == len(df_result)"
   ]
  },
  {
   "cell_type": "code",
   "execution_count": 88,
   "id": "0b4e7c96",
   "metadata": {},
   "outputs": [
    {
     "data": {
      "text/plain": [
       "(2329, 30)"
      ]
     },
     "execution_count": 88,
     "metadata": {},
     "output_type": "execute_result"
    }
   ],
   "source": [
    "df_result.shape"
   ]
  },
  {
   "cell_type": "markdown",
   "id": "91c52e36",
   "metadata": {},
   "source": [
    "___"
   ]
  },
  {
   "cell_type": "markdown",
   "id": "ba9d24b9",
   "metadata": {},
   "source": [
    "### Анализ общей таблицы"
   ]
  },
  {
   "cell_type": "markdown",
   "id": "30534898",
   "metadata": {},
   "source": [
    "Данные объединены в одну таблицу. Еще раз их проанализируем:"
   ]
  },
  {
   "cell_type": "code",
   "execution_count": 89,
   "id": "1e8e74e9",
   "metadata": {
    "scrolled": true
   },
   "outputs": [],
   "source": [
    "# profile = ydata_profiling.ProfileReport(df_result, title=\"Pandas Profiling Report\")\n",
    "# profile.to_notebook_iframe()"
   ]
  },
  {
   "cell_type": "markdown",
   "id": "d3de8331",
   "metadata": {},
   "source": [
    "**Выводы**\n",
    "\n",
    "* Основная проблема - большое количество пропущенных значений\n",
    "* Показатель wire_5 вообще не использовался, тк имеет 100% пропущенных значений для выбранных нами партий, поэтому его для модели не используем, удаляем"
   ]
  },
  {
   "cell_type": "code",
   "execution_count": 90,
   "id": "d00ef951",
   "metadata": {},
   "outputs": [],
   "source": [
    "#delete wire_5\n",
    "df_result = df_result.drop(columns='wire_5')"
   ]
  },
  {
   "cell_type": "markdown",
   "id": "6e157709",
   "metadata": {},
   "source": [
    "Проверим, есть ли строки, в которых все показатели пропущены, кроме температуры и номера партии"
   ]
  },
  {
   "cell_type": "code",
   "execution_count": 91,
   "id": "5f439734",
   "metadata": {},
   "outputs": [
    {
     "data": {
      "text/plain": [
       "0"
      ]
     },
     "execution_count": 91,
     "metadata": {},
     "output_type": "execute_result"
    }
   ],
   "source": [
    "# check if there are rows with all NA\n",
    "cols_to_check = df_result.columns.drop(['key', 'температура'])\n",
    "df_result['is_na'] = df_result[cols_to_check].isna().all(1)\n",
    "len(df_result[df_result['is_na'] == True])"
   ]
  },
  {
   "cell_type": "markdown",
   "id": "b2bcc763",
   "metadata": {},
   "source": [
    "* Строк, в которых пропущены все значения, кроме температуры и номера партии - нет\n",
    "* Теперь проверим, есть ли партии, в которых отсутствуют все легирующие добавки"
   ]
  },
  {
   "cell_type": "code",
   "execution_count": 92,
   "id": "753482c9",
   "metadata": {},
   "outputs": [
    {
     "data": {
      "text/plain": [
       "0"
      ]
     },
     "execution_count": 92,
     "metadata": {},
     "output_type": "execute_result"
    }
   ],
   "source": [
    "# check if there are rows with all NA\n",
    "cols_to_check = df_result.columns.drop(['key', 'температура','реактивная_мощность', 'активная_мощность'])\n",
    "df_result['is_na'] = df_result[cols_to_check].isna().all(1)\n",
    "len(df_result[df_result['is_na'] == True])"
   ]
  },
  {
   "cell_type": "markdown",
   "id": "826c5ae0",
   "metadata": {},
   "source": [
    "Таких партий также нет."
   ]
  },
  {
   "cell_type": "code",
   "execution_count": 93,
   "id": "0f76287a",
   "metadata": {},
   "outputs": [],
   "source": [
    "#delete the \"is_na\" column\n",
    "df_result = df_result.drop(columns='is_na')"
   ]
  },
  {
   "cell_type": "markdown",
   "id": "f1e28a1a",
   "metadata": {},
   "source": [
    "___"
   ]
  },
  {
   "cell_type": "markdown",
   "id": "8f1a185a",
   "metadata": {},
   "source": [
    "### Предобработка данных общей таблицы"
   ]
  },
  {
   "cell_type": "markdown",
   "id": "63201156",
   "metadata": {},
   "source": [
    "**Заполнение пропущенных значений:**\n",
    "\n",
    "* Показатели `реактивная_мощность` и `активная_мощность` имеют всего по 2 пропущенных значения - такие строки удалим, так как мощность очень важный показатель для определения температуры\n",
    "\n",
    "* Показатели добавочных легирующих материалов - пропуски заполним нулями, так как считаем, что незаполненное значение значит, что материал не использовался в процессе, так как нет никакого другого обозначения в данных для подобного случая"
   ]
  },
  {
   "cell_type": "code",
   "execution_count": 94,
   "id": "91fb96ea",
   "metadata": {},
   "outputs": [],
   "source": [
    "# #delete rows with NaN in power\n",
    "# print('Кол-во строк в данных до удаления 2 строк:', len(df_result))\n",
    "\n",
    "# df_result = df_result.drop(index=df_result[df_result['активная_мощность'].isna()].index)\n",
    "\n",
    "# print('Кол-во строк в данных после удаления 2 строк:', len(df_result))"
   ]
  },
  {
   "cell_type": "code",
   "execution_count": 95,
   "id": "42a3124c",
   "metadata": {},
   "outputs": [],
   "source": [
    "#fill NaN with zeroes\n",
    "df_result = df_result.fillna(0)"
   ]
  },
  {
   "cell_type": "code",
   "execution_count": 96,
   "id": "b92af9c1",
   "metadata": {},
   "outputs": [
    {
     "data": {
      "text/plain": [
       "0"
      ]
     },
     "execution_count": 96,
     "metadata": {},
     "output_type": "execute_result"
    }
   ],
   "source": [
    "#check total number of NaN after filling with zeros\n",
    "df_result.isna().sum().sum()"
   ]
  },
  {
   "cell_type": "markdown",
   "id": "bda5aa9f",
   "metadata": {},
   "source": [
    "Данные подготовлены"
   ]
  },
  {
   "cell_type": "code",
   "execution_count": 97,
   "id": "f3ffb49e",
   "metadata": {},
   "outputs": [
    {
     "data": {
      "text/plain": [
       "(2329, 29)"
      ]
     },
     "execution_count": 97,
     "metadata": {},
     "output_type": "execute_result"
    }
   ],
   "source": [
    "df_result.shape"
   ]
  },
  {
   "cell_type": "markdown",
   "id": "f9868e58",
   "metadata": {},
   "source": [
    "___"
   ]
  },
  {
   "cell_type": "markdown",
   "id": "aa956648",
   "metadata": {},
   "source": [
    "### Создание дополнительных параметров"
   ]
  },
  {
   "cell_type": "markdown",
   "id": "ef9fe9c9",
   "metadata": {},
   "source": [
    "Создадим дополнительные параметры для каждой партии:\n",
    "* общий объем сыпучих материалов\n",
    "* общий объем проволочных материалов"
   ]
  },
  {
   "cell_type": "code",
   "execution_count": 98,
   "id": "ad10fd83",
   "metadata": {},
   "outputs": [
    {
     "data": {
      "text/html": [
       "<div>\n",
       "<style scoped>\n",
       "    .dataframe tbody tr th:only-of-type {\n",
       "        vertical-align: middle;\n",
       "    }\n",
       "\n",
       "    .dataframe tbody tr th {\n",
       "        vertical-align: top;\n",
       "    }\n",
       "\n",
       "    .dataframe thead th {\n",
       "        text-align: right;\n",
       "    }\n",
       "</style>\n",
       "<table border=\"1\" class=\"dataframe\">\n",
       "  <thead>\n",
       "    <tr style=\"text-align: right;\">\n",
       "      <th></th>\n",
       "      <th>key</th>\n",
       "      <th>температура</th>\n",
       "      <th>реактивная_мощность</th>\n",
       "      <th>активная_мощность</th>\n",
       "      <th>bulk_1</th>\n",
       "      <th>bulk_2</th>\n",
       "      <th>bulk_3</th>\n",
       "      <th>bulk_4</th>\n",
       "      <th>bulk_5</th>\n",
       "      <th>bulk_6</th>\n",
       "      <th>...</th>\n",
       "      <th>wire_2</th>\n",
       "      <th>wire_3</th>\n",
       "      <th>wire_4</th>\n",
       "      <th>wire_6</th>\n",
       "      <th>wire_7</th>\n",
       "      <th>wire_8</th>\n",
       "      <th>wire_9</th>\n",
       "      <th>первая_температура</th>\n",
       "      <th>bulk_total</th>\n",
       "      <th>wire_total</th>\n",
       "    </tr>\n",
       "  </thead>\n",
       "  <tbody>\n",
       "    <tr>\n",
       "      <th>0</th>\n",
       "      <td>1</td>\n",
       "      <td>1613.0</td>\n",
       "      <td>3.183241</td>\n",
       "      <td>4.878147</td>\n",
       "      <td>0.0</td>\n",
       "      <td>0.0</td>\n",
       "      <td>0.0</td>\n",
       "      <td>43.0</td>\n",
       "      <td>0.0</td>\n",
       "      <td>0.0</td>\n",
       "      <td>...</td>\n",
       "      <td>0.00000</td>\n",
       "      <td>0.0</td>\n",
       "      <td>0.0</td>\n",
       "      <td>0.0</td>\n",
       "      <td>0.0</td>\n",
       "      <td>0.0</td>\n",
       "      <td>0.0</td>\n",
       "      <td>1571.0</td>\n",
       "      <td>553.0</td>\n",
       "      <td>60.059998</td>\n",
       "    </tr>\n",
       "    <tr>\n",
       "      <th>1</th>\n",
       "      <td>2</td>\n",
       "      <td>1602.0</td>\n",
       "      <td>1.998112</td>\n",
       "      <td>3.052598</td>\n",
       "      <td>0.0</td>\n",
       "      <td>0.0</td>\n",
       "      <td>0.0</td>\n",
       "      <td>73.0</td>\n",
       "      <td>0.0</td>\n",
       "      <td>0.0</td>\n",
       "      <td>...</td>\n",
       "      <td>0.00000</td>\n",
       "      <td>0.0</td>\n",
       "      <td>0.0</td>\n",
       "      <td>0.0</td>\n",
       "      <td>0.0</td>\n",
       "      <td>0.0</td>\n",
       "      <td>0.0</td>\n",
       "      <td>1581.0</td>\n",
       "      <td>582.0</td>\n",
       "      <td>96.052315</td>\n",
       "    </tr>\n",
       "    <tr>\n",
       "      <th>2</th>\n",
       "      <td>3</td>\n",
       "      <td>1599.0</td>\n",
       "      <td>1.599076</td>\n",
       "      <td>2.525882</td>\n",
       "      <td>0.0</td>\n",
       "      <td>0.0</td>\n",
       "      <td>0.0</td>\n",
       "      <td>34.0</td>\n",
       "      <td>0.0</td>\n",
       "      <td>0.0</td>\n",
       "      <td>...</td>\n",
       "      <td>0.00000</td>\n",
       "      <td>0.0</td>\n",
       "      <td>0.0</td>\n",
       "      <td>0.0</td>\n",
       "      <td>0.0</td>\n",
       "      <td>0.0</td>\n",
       "      <td>0.0</td>\n",
       "      <td>1596.0</td>\n",
       "      <td>544.0</td>\n",
       "      <td>91.160157</td>\n",
       "    </tr>\n",
       "    <tr>\n",
       "      <th>3</th>\n",
       "      <td>4</td>\n",
       "      <td>1625.0</td>\n",
       "      <td>2.060298</td>\n",
       "      <td>3.209250</td>\n",
       "      <td>0.0</td>\n",
       "      <td>0.0</td>\n",
       "      <td>0.0</td>\n",
       "      <td>81.0</td>\n",
       "      <td>0.0</td>\n",
       "      <td>0.0</td>\n",
       "      <td>...</td>\n",
       "      <td>0.00000</td>\n",
       "      <td>0.0</td>\n",
       "      <td>0.0</td>\n",
       "      <td>0.0</td>\n",
       "      <td>0.0</td>\n",
       "      <td>0.0</td>\n",
       "      <td>0.0</td>\n",
       "      <td>1601.0</td>\n",
       "      <td>595.0</td>\n",
       "      <td>89.063515</td>\n",
       "    </tr>\n",
       "    <tr>\n",
       "      <th>4</th>\n",
       "      <td>5</td>\n",
       "      <td>1602.0</td>\n",
       "      <td>2.252643</td>\n",
       "      <td>3.347173</td>\n",
       "      <td>0.0</td>\n",
       "      <td>0.0</td>\n",
       "      <td>0.0</td>\n",
       "      <td>78.0</td>\n",
       "      <td>0.0</td>\n",
       "      <td>0.0</td>\n",
       "      <td>...</td>\n",
       "      <td>9.11456</td>\n",
       "      <td>0.0</td>\n",
       "      <td>0.0</td>\n",
       "      <td>0.0</td>\n",
       "      <td>0.0</td>\n",
       "      <td>0.0</td>\n",
       "      <td>0.0</td>\n",
       "      <td>1576.0</td>\n",
       "      <td>584.0</td>\n",
       "      <td>98.352796</td>\n",
       "    </tr>\n",
       "  </tbody>\n",
       "</table>\n",
       "<p>5 rows × 31 columns</p>\n",
       "</div>"
      ],
      "text/plain": [
       "   key  температура  реактивная_мощность  активная_мощность  bulk_1  bulk_2  \\\n",
       "0    1       1613.0             3.183241           4.878147     0.0     0.0   \n",
       "1    2       1602.0             1.998112           3.052598     0.0     0.0   \n",
       "2    3       1599.0             1.599076           2.525882     0.0     0.0   \n",
       "3    4       1625.0             2.060298           3.209250     0.0     0.0   \n",
       "4    5       1602.0             2.252643           3.347173     0.0     0.0   \n",
       "\n",
       "   bulk_3  bulk_4  bulk_5  bulk_6  ...   wire_2  wire_3  wire_4  wire_6  \\\n",
       "0     0.0    43.0     0.0     0.0  ...  0.00000     0.0     0.0     0.0   \n",
       "1     0.0    73.0     0.0     0.0  ...  0.00000     0.0     0.0     0.0   \n",
       "2     0.0    34.0     0.0     0.0  ...  0.00000     0.0     0.0     0.0   \n",
       "3     0.0    81.0     0.0     0.0  ...  0.00000     0.0     0.0     0.0   \n",
       "4     0.0    78.0     0.0     0.0  ...  9.11456     0.0     0.0     0.0   \n",
       "\n",
       "   wire_7  wire_8  wire_9  первая_температура  bulk_total  wire_total  \n",
       "0     0.0     0.0     0.0              1571.0       553.0   60.059998  \n",
       "1     0.0     0.0     0.0              1581.0       582.0   96.052315  \n",
       "2     0.0     0.0     0.0              1596.0       544.0   91.160157  \n",
       "3     0.0     0.0     0.0              1601.0       595.0   89.063515  \n",
       "4     0.0     0.0     0.0              1576.0       584.0   98.352796  \n",
       "\n",
       "[5 rows x 31 columns]"
      ]
     },
     "execution_count": 98,
     "metadata": {},
     "output_type": "execute_result"
    }
   ],
   "source": [
    "#create new features\n",
    "\n",
    "#select related columns\n",
    "bulk_cols = [x for x in df_result.columns if 'bulk' in x]\n",
    "wire_cols = [x for x in df_result.columns if 'wire' in x]\n",
    "\n",
    "#calculate the sum\n",
    "df_result['bulk_total'] = df_result.apply(lambda x: sum(x[bulk_cols]), axis=1)\n",
    "df_result['wire_total'] = df_result.apply(lambda x: sum(x[wire_cols]), axis=1)\n",
    "\n",
    "#check\n",
    "df_result.head()"
   ]
  },
  {
   "cell_type": "code",
   "execution_count": 99,
   "id": "5da9ccf3",
   "metadata": {
    "scrolled": true
   },
   "outputs": [
    {
     "data": {
      "text/plain": [
       "(2329, 31)"
      ]
     },
     "execution_count": 99,
     "metadata": {},
     "output_type": "execute_result"
    }
   ],
   "source": [
    "df_result.shape"
   ]
  },
  {
   "cell_type": "code",
   "execution_count": 100,
   "id": "a635c929",
   "metadata": {},
   "outputs": [
    {
     "name": "stdout",
     "output_type": "stream",
     "text": [
      "Размер при left-join (2477, 30)\n",
      "Размер при inner-join (2329, 30)\n",
      "Удаленных строк: 148\n",
      "\n",
      "Размер Последнняя температура (148, 2)\n",
      "Размер после присоединения мощности (146, 4)\n",
      "Размер после присоединения сыпучих (78, 19)\n",
      "Размер после присоединения газа (76, 20)\n",
      "Размер после присоединения проволочных (0, 29)\n",
      "\n",
      "Потеряно при добавлении сыпучих 68\n",
      "Потеряно при добавлении газа 2\n",
      "Потеряно при добавлении проволочных 76\n",
      "\n",
      "Пример: key = 51\n",
      "key 51\n",
      "температура 1690.0\n",
      "реактивная_мощность 3.8277266026000003\n",
      "активная_мощность 5.6847140755\n",
      "газ_1 9.23675771\n",
      "первая_температура 1619.0\n",
      "\n",
      "Пример: key = 82\n",
      "key 82\n",
      "температура 1654.0\n",
      "реактивная_мощность 2.3491019608\n",
      "активная_мощность 3.2957835940999995\n",
      "bulk_3 53.0\n",
      "газ_1 5.7077464933\n",
      "первая_температура 1621.0\n"
     ]
    }
   ],
   "source": [
    "#inner merge\n",
    "\n",
    "df_result_inner = pd.DataFrame()\n",
    "\n",
    "if df_result_inner.empty:\n",
    "    df_result_inner = merger_by_key_inner(df_temperature_last, df_arc_grouped) #добавляем суммарные мощности по каждой партии\n",
    "    df_result_inner = merger_by_key_inner(df_result_inner, df_bulk) #добавляем данные о сыпучих материалах по каждой партии\n",
    "    df_result_inner = merger_by_key_inner(df_result_inner, df_gas) #добавляем данные о газе по каждой партии\n",
    "    df_result_inner = merger_by_key_inner(df_result_inner, df_wire) #добавляем данные о проволочных материалах по каждой партии\n",
    "    df_result_inner = merger_by_key_inner(df_result_inner, df_temperature_first) #добавляем данные о первой температуре для каждой партии\n",
    "\n",
    "#left merge\n",
    "df_result_left = pd.DataFrame()\n",
    "\n",
    "if df_result_left.empty:\n",
    "    df_result_left = merger_by_key(df_temperature_last, df_arc_grouped) #добавляем суммарные мощности по каждой партии\n",
    "    df_result_left = merger_by_key(df_result_left, df_bulk) #добавляем данные о сыпучих материалах по каждой партии\n",
    "    df_result_left = merger_by_key(df_result_left, df_gas) #добавляем данные о газе по каждой партии\n",
    "    df_result_left = merger_by_key(df_result_left, df_wire) #добавляем данные о проволочных материалах по каждой партии\n",
    "    df_result_left = merger_by_key(df_result_left, df_temperature_first) #добавляем данные о первой температуре для каждой партии\n",
    "\n",
    "    \n",
    "print('Размер при left-join', df_result_left.shape)\n",
    "print('Размер при inner-join', df_result_inner.shape)\n",
    "print('Удаленных строк:', len(df_result_left) - len(df_result_inner))\n",
    "\n",
    "\n",
    "keys_left = df_result_left['key'].values\n",
    "keys_inner = df_result_inner['key'].values\n",
    "\n",
    "shared_keys = []\n",
    "for i in range(1, 1 + max(max(keys_inner),max(keys_left))):\n",
    "    if i in keys_left and i in keys_inner:\n",
    "        shared_keys.append(i)\n",
    "shared_keys[:10]\n",
    "\n",
    "print()\n",
    "extra = df_temperature_last[~df_temperature_last['key'].isin(shared_keys)]\n",
    "print('Размер Последнняя температура', extra.shape)\n",
    "\n",
    "extra = extra.merge(df_arc_grouped, how='inner', on='key')\n",
    "print('Размер после присоединения мощности', extra.shape)\n",
    "\n",
    "extra_bulk = extra.merge(df_bulk, how='inner', on='key')\n",
    "print('Размер после присоединения сыпучих', extra_bulk.shape)\n",
    "\n",
    "extra_gas = extra_bulk.merge(df_gas, how='inner', on='key')\n",
    "print('Размер после присоединения газа', extra_gas.shape)\n",
    "\n",
    "extra_wire = extra_gas.merge(df_wire, how='inner', on='key')\n",
    "print('Размер после присоединения проволочных', extra_wire.shape)\n",
    "\n",
    "cut_bulk = extra[~extra['key'].isin(extra_bulk['key'])]['key']\n",
    "cut_gas = extra_bulk[~extra_bulk['key'].isin(extra_gas['key'])]['key']\n",
    "cut_wire = extra_gas['key']\n",
    "\n",
    "print()\n",
    "print('Потеряно при добавлении сыпучих', len(cut_bulk))\n",
    "print('Потеряно при добавлении газа', len(cut_gas))\n",
    "print('Потеряно при добавлении проволочных', len(cut_wire)) \n",
    "\n",
    "\n",
    "print()\n",
    "print('Пример: key = 51')\n",
    "for col in df_result_left.columns:\n",
    "    x = df_result_left.loc[48, col]\n",
    "    if not np.isnan(x):\n",
    "        print(col, x)\n",
    "        \n",
    "print()\n",
    "print('Пример: key = 82')\n",
    "for col in df_result_left.columns:\n",
    "    x = df_result_left.loc[79, col]\n",
    "    if not np.isnan(x):\n",
    "        print(col, x)"
   ]
  },
  {
   "cell_type": "markdown",
   "id": "ab8fe0cf",
   "metadata": {},
   "source": [
    "___"
   ]
  },
  {
   "cell_type": "markdown",
   "id": "3e21ada9",
   "metadata": {},
   "source": [
    "### Проверка на мультиколлинеарность и удаление лишних признаков"
   ]
  },
  {
   "cell_type": "markdown",
   "id": "65189460",
   "metadata": {},
   "source": [
    "* Сделаем проверку на мультиколлениарность на основании Variance Inflation Factor. \n",
    "* Высокие значения (более 16) будут обозначать, что между переменными имеется зависимость, что в последствии будет ухудшать интерпретируемость результатов модели"
   ]
  },
  {
   "cell_type": "code",
   "execution_count": 101,
   "id": "e3e8785e",
   "metadata": {},
   "outputs": [
    {
     "data": {
      "text/html": [
       "<div>\n",
       "<style scoped>\n",
       "    .dataframe tbody tr th:only-of-type {\n",
       "        vertical-align: middle;\n",
       "    }\n",
       "\n",
       "    .dataframe tbody tr th {\n",
       "        vertical-align: top;\n",
       "    }\n",
       "\n",
       "    .dataframe thead th {\n",
       "        text-align: right;\n",
       "    }\n",
       "</style>\n",
       "<table border=\"1\" class=\"dataframe\">\n",
       "  <thead>\n",
       "    <tr style=\"text-align: right;\">\n",
       "      <th></th>\n",
       "      <th>feature</th>\n",
       "      <th>VIF</th>\n",
       "    </tr>\n",
       "  </thead>\n",
       "  <tbody>\n",
       "    <tr>\n",
       "      <th>1</th>\n",
       "      <td>активная_мощность</td>\n",
       "      <td>85.332719</td>\n",
       "    </tr>\n",
       "    <tr>\n",
       "      <th>0</th>\n",
       "      <td>реактивная_мощность</td>\n",
       "      <td>75.877197</td>\n",
       "    </tr>\n",
       "    <tr>\n",
       "      <th>10</th>\n",
       "      <td>bulk_9</td>\n",
       "      <td>67.785264</td>\n",
       "    </tr>\n",
       "    <tr>\n",
       "      <th>24</th>\n",
       "      <td>wire_8</td>\n",
       "      <td>57.224825</td>\n",
       "    </tr>\n",
       "    <tr>\n",
       "      <th>26</th>\n",
       "      <td>первая_температура</td>\n",
       "      <td>15.204757</td>\n",
       "    </tr>\n",
       "  </tbody>\n",
       "</table>\n",
       "</div>"
      ],
      "text/plain": [
       "                feature        VIF\n",
       "1     активная_мощность  85.332719\n",
       "0   реактивная_мощность  75.877197\n",
       "10               bulk_9  67.785264\n",
       "24               wire_8  57.224825\n",
       "26   первая_температура  15.204757"
      ]
     },
     "execution_count": 101,
     "metadata": {},
     "output_type": "execute_result"
    }
   ],
   "source": [
    "#select features to compute VIF\n",
    "cols = df_result.columns.drop(['key', 'температура', 'bulk_total', 'wire_total'])\n",
    "\n",
    "#compute VIF\n",
    "vif_data = vif_compute(cols)\n",
    "vif_data.head(5)"
   ]
  },
  {
   "cell_type": "code",
   "execution_count": 102,
   "id": "640e7732",
   "metadata": {
    "scrolled": false
   },
   "outputs": [
    {
     "data": {
      "image/png": "[encoded data removed]",
      "text/plain": [
       "<Figure size 400x400 with 1 Axes>"
      ]
     },
     "metadata": {},
     "output_type": "display_data"
    }
   ],
   "source": [
    "sns.pairplot(df_result, \n",
    "             x_vars=['активная_мощность'], y_vars=['реактивная_мощность'], height=4, kind='reg')\n",
    "\n",
    "plt.title('Зависимость между активной и реактивной мощностями')\n",
    "plt.show()"
   ]
  },
  {
   "cell_type": "markdown",
   "id": "ca37d64d",
   "metadata": {},
   "source": [
    "Показатели `активная_мощность` и `реактивная_мощность` имеют высокую зависимость между собой, поэтому следует использовать только один из них. Оставим для модели `активную мощность`."
   ]
  },
  {
   "cell_type": "code",
   "execution_count": 103,
   "id": "432ada4c",
   "metadata": {},
   "outputs": [
    {
     "data": {
      "text/html": [
       "<div>\n",
       "<style scoped>\n",
       "    .dataframe tbody tr th:only-of-type {\n",
       "        vertical-align: middle;\n",
       "    }\n",
       "\n",
       "    .dataframe tbody tr th {\n",
       "        vertical-align: top;\n",
       "    }\n",
       "\n",
       "    .dataframe thead th {\n",
       "        text-align: right;\n",
       "    }\n",
       "</style>\n",
       "<table border=\"1\" class=\"dataframe\">\n",
       "  <thead>\n",
       "    <tr style=\"text-align: right;\">\n",
       "      <th></th>\n",
       "      <th>feature</th>\n",
       "      <th>VIF</th>\n",
       "    </tr>\n",
       "  </thead>\n",
       "  <tbody>\n",
       "    <tr>\n",
       "      <th>9</th>\n",
       "      <td>bulk_9</td>\n",
       "      <td>67.676363</td>\n",
       "    </tr>\n",
       "    <tr>\n",
       "      <th>23</th>\n",
       "      <td>wire_8</td>\n",
       "      <td>57.162101</td>\n",
       "    </tr>\n",
       "    <tr>\n",
       "      <th>25</th>\n",
       "      <td>первая_температура</td>\n",
       "      <td>14.708425</td>\n",
       "    </tr>\n",
       "    <tr>\n",
       "      <th>0</th>\n",
       "      <td>активная_мощность</td>\n",
       "      <td>10.155530</td>\n",
       "    </tr>\n",
       "    <tr>\n",
       "      <th>17</th>\n",
       "      <td>wire_1</td>\n",
       "      <td>8.727199</td>\n",
       "    </tr>\n",
       "  </tbody>\n",
       "</table>\n",
       "</div>"
      ],
      "text/plain": [
       "               feature        VIF\n",
       "9               bulk_9  67.676363\n",
       "23              wire_8  57.162101\n",
       "25  первая_температура  14.708425\n",
       "0    активная_мощность  10.155530\n",
       "17              wire_1   8.727199"
      ]
     },
     "execution_count": 103,
     "metadata": {},
     "output_type": "execute_result"
    }
   ],
   "source": [
    "#select features to compute VIF\n",
    "cols = df_result.columns.drop(['key', 'температура', 'реактивная_мощность', 'wire_total', 'bulk_total'])\n",
    "\n",
    "#compute VIF\n",
    "vif_data = vif_compute(cols)\n",
    "vif_data.head(5)"
   ]
  },
  {
   "cell_type": "code",
   "execution_count": 104,
   "id": "42ce860a",
   "metadata": {
    "scrolled": false
   },
   "outputs": [
    {
     "data": {
      "image/png": "[encoded data removed]",
      "text/plain": [
       "<Figure size 400x400 with 1 Axes>"
      ]
     },
     "metadata": {},
     "output_type": "display_data"
    }
   ],
   "source": [
    "sns.pairplot(df_result, \n",
    "             x_vars=['bulk_9'], y_vars=['wire_8'], height=4, kind='reg')\n",
    "\n",
    "plt.title('Зависимость между bulk_9 и wire_8')\n",
    "plt.show()"
   ]
  },
  {
   "cell_type": "markdown",
   "id": "c74030b6",
   "metadata": {},
   "source": [
    "* Аналогичная ситуация с показателями `bulk_9` и `wire_8` - они имеют высокую зависимость между собой, поэтому следует использовать только один из них. Оставим для модели `bulk_9`.\n",
    "* Однако, следует принять во внимание, что количество сулчаев, в которых использовались данные добавки - очень низкое, только в 0.5% партиях. Возможно, при увеличении использования этих добавок будет выявлено, что данной зависимости между ними нет."
   ]
  },
  {
   "cell_type": "code",
   "execution_count": 105,
   "id": "7a5addba",
   "metadata": {},
   "outputs": [
    {
     "data": {
      "text/html": [
       "<div>\n",
       "<style scoped>\n",
       "    .dataframe tbody tr th:only-of-type {\n",
       "        vertical-align: middle;\n",
       "    }\n",
       "\n",
       "    .dataframe tbody tr th {\n",
       "        vertical-align: top;\n",
       "    }\n",
       "\n",
       "    .dataframe thead th {\n",
       "        text-align: right;\n",
       "    }\n",
       "</style>\n",
       "<table border=\"1\" class=\"dataframe\">\n",
       "  <thead>\n",
       "    <tr style=\"text-align: right;\">\n",
       "      <th></th>\n",
       "      <th>feature</th>\n",
       "      <th>VIF</th>\n",
       "    </tr>\n",
       "  </thead>\n",
       "  <tbody>\n",
       "    <tr>\n",
       "      <th>24</th>\n",
       "      <td>первая_температура</td>\n",
       "      <td>14.707860</td>\n",
       "    </tr>\n",
       "    <tr>\n",
       "      <th>0</th>\n",
       "      <td>активная_мощность</td>\n",
       "      <td>10.140356</td>\n",
       "    </tr>\n",
       "    <tr>\n",
       "      <th>17</th>\n",
       "      <td>wire_1</td>\n",
       "      <td>8.724679</td>\n",
       "    </tr>\n",
       "    <tr>\n",
       "      <th>14</th>\n",
       "      <td>bulk_14</td>\n",
       "      <td>7.883466</td>\n",
       "    </tr>\n",
       "    <tr>\n",
       "      <th>12</th>\n",
       "      <td>bulk_12</td>\n",
       "      <td>7.375550</td>\n",
       "    </tr>\n",
       "  </tbody>\n",
       "</table>\n",
       "</div>"
      ],
      "text/plain": [
       "               feature        VIF\n",
       "24  первая_температура  14.707860\n",
       "0    активная_мощность  10.140356\n",
       "17              wire_1   8.724679\n",
       "14             bulk_14   7.883466\n",
       "12             bulk_12   7.375550"
      ]
     },
     "execution_count": 105,
     "metadata": {},
     "output_type": "execute_result"
    }
   ],
   "source": [
    "#select features to compute VIF\n",
    "cols = df_result.columns.drop(['key', 'температура', 'реактивная_мощность', 'wire_8', 'bulk_total', 'wire_total'])\n",
    "\n",
    "#compute VIF\n",
    "vif_data = vif_compute(cols)\n",
    "vif_data.head(5)"
   ]
  },
  {
   "cell_type": "markdown",
   "id": "e047e218",
   "metadata": {},
   "source": [
    "Показатель `первая_температура` оставляем, так как это дополнительно созданный параметр, а также не обладает настолько же высокой зависимостью как реактивная и активная мощности"
   ]
  },
  {
   "cell_type": "code",
   "execution_count": 106,
   "id": "a869192a",
   "metadata": {},
   "outputs": [],
   "source": [
    "#delete chosen features\n",
    "df_result = df_result.drop(columns=['wire_8','реактивная_мощность'])"
   ]
  },
  {
   "cell_type": "markdown",
   "id": "4dec9d5c",
   "metadata": {},
   "source": [
    "Также удалим номер партии, так как он не является релевантным признаком для модели"
   ]
  },
  {
   "cell_type": "code",
   "execution_count": 107,
   "id": "f85b3a9e",
   "metadata": {},
   "outputs": [],
   "source": [
    "#delete key\n",
    "df_result = df_result.drop(columns='key')"
   ]
  },
  {
   "cell_type": "code",
   "execution_count": 108,
   "id": "ababd18f",
   "metadata": {},
   "outputs": [
    {
     "data": {
      "text/html": [
       "<div>\n",
       "<style scoped>\n",
       "    .dataframe tbody tr th:only-of-type {\n",
       "        vertical-align: middle;\n",
       "    }\n",
       "\n",
       "    .dataframe tbody tr th {\n",
       "        vertical-align: top;\n",
       "    }\n",
       "\n",
       "    .dataframe thead th {\n",
       "        text-align: right;\n",
       "    }\n",
       "</style>\n",
       "<table border=\"1\" class=\"dataframe\">\n",
       "  <thead>\n",
       "    <tr style=\"text-align: right;\">\n",
       "      <th></th>\n",
       "      <th>температура</th>\n",
       "      <th>активная_мощность</th>\n",
       "      <th>bulk_1</th>\n",
       "      <th>bulk_2</th>\n",
       "      <th>bulk_3</th>\n",
       "      <th>bulk_4</th>\n",
       "      <th>bulk_5</th>\n",
       "      <th>bulk_6</th>\n",
       "      <th>bulk_7</th>\n",
       "      <th>bulk_8</th>\n",
       "      <th>...</th>\n",
       "      <th>wire_1</th>\n",
       "      <th>wire_2</th>\n",
       "      <th>wire_3</th>\n",
       "      <th>wire_4</th>\n",
       "      <th>wire_6</th>\n",
       "      <th>wire_7</th>\n",
       "      <th>wire_9</th>\n",
       "      <th>первая_температура</th>\n",
       "      <th>bulk_total</th>\n",
       "      <th>wire_total</th>\n",
       "    </tr>\n",
       "  </thead>\n",
       "  <tbody>\n",
       "    <tr>\n",
       "      <th>0</th>\n",
       "      <td>1613.0</td>\n",
       "      <td>4.878147</td>\n",
       "      <td>0.0</td>\n",
       "      <td>0.0</td>\n",
       "      <td>0.0</td>\n",
       "      <td>43.0</td>\n",
       "      <td>0.0</td>\n",
       "      <td>0.0</td>\n",
       "      <td>0.0</td>\n",
       "      <td>0.0</td>\n",
       "      <td>...</td>\n",
       "      <td>60.059998</td>\n",
       "      <td>0.00000</td>\n",
       "      <td>0.0</td>\n",
       "      <td>0.0</td>\n",
       "      <td>0.0</td>\n",
       "      <td>0.0</td>\n",
       "      <td>0.0</td>\n",
       "      <td>1571.0</td>\n",
       "      <td>553.0</td>\n",
       "      <td>60.059998</td>\n",
       "    </tr>\n",
       "    <tr>\n",
       "      <th>1</th>\n",
       "      <td>1602.0</td>\n",
       "      <td>3.052598</td>\n",
       "      <td>0.0</td>\n",
       "      <td>0.0</td>\n",
       "      <td>0.0</td>\n",
       "      <td>73.0</td>\n",
       "      <td>0.0</td>\n",
       "      <td>0.0</td>\n",
       "      <td>0.0</td>\n",
       "      <td>0.0</td>\n",
       "      <td>...</td>\n",
       "      <td>96.052315</td>\n",
       "      <td>0.00000</td>\n",
       "      <td>0.0</td>\n",
       "      <td>0.0</td>\n",
       "      <td>0.0</td>\n",
       "      <td>0.0</td>\n",
       "      <td>0.0</td>\n",
       "      <td>1581.0</td>\n",
       "      <td>582.0</td>\n",
       "      <td>96.052315</td>\n",
       "    </tr>\n",
       "    <tr>\n",
       "      <th>2</th>\n",
       "      <td>1599.0</td>\n",
       "      <td>2.525882</td>\n",
       "      <td>0.0</td>\n",
       "      <td>0.0</td>\n",
       "      <td>0.0</td>\n",
       "      <td>34.0</td>\n",
       "      <td>0.0</td>\n",
       "      <td>0.0</td>\n",
       "      <td>0.0</td>\n",
       "      <td>0.0</td>\n",
       "      <td>...</td>\n",
       "      <td>91.160157</td>\n",
       "      <td>0.00000</td>\n",
       "      <td>0.0</td>\n",
       "      <td>0.0</td>\n",
       "      <td>0.0</td>\n",
       "      <td>0.0</td>\n",
       "      <td>0.0</td>\n",
       "      <td>1596.0</td>\n",
       "      <td>544.0</td>\n",
       "      <td>91.160157</td>\n",
       "    </tr>\n",
       "    <tr>\n",
       "      <th>3</th>\n",
       "      <td>1625.0</td>\n",
       "      <td>3.209250</td>\n",
       "      <td>0.0</td>\n",
       "      <td>0.0</td>\n",
       "      <td>0.0</td>\n",
       "      <td>81.0</td>\n",
       "      <td>0.0</td>\n",
       "      <td>0.0</td>\n",
       "      <td>0.0</td>\n",
       "      <td>0.0</td>\n",
       "      <td>...</td>\n",
       "      <td>89.063515</td>\n",
       "      <td>0.00000</td>\n",
       "      <td>0.0</td>\n",
       "      <td>0.0</td>\n",
       "      <td>0.0</td>\n",
       "      <td>0.0</td>\n",
       "      <td>0.0</td>\n",
       "      <td>1601.0</td>\n",
       "      <td>595.0</td>\n",
       "      <td>89.063515</td>\n",
       "    </tr>\n",
       "    <tr>\n",
       "      <th>4</th>\n",
       "      <td>1602.0</td>\n",
       "      <td>3.347173</td>\n",
       "      <td>0.0</td>\n",
       "      <td>0.0</td>\n",
       "      <td>0.0</td>\n",
       "      <td>78.0</td>\n",
       "      <td>0.0</td>\n",
       "      <td>0.0</td>\n",
       "      <td>0.0</td>\n",
       "      <td>0.0</td>\n",
       "      <td>...</td>\n",
       "      <td>89.238236</td>\n",
       "      <td>9.11456</td>\n",
       "      <td>0.0</td>\n",
       "      <td>0.0</td>\n",
       "      <td>0.0</td>\n",
       "      <td>0.0</td>\n",
       "      <td>0.0</td>\n",
       "      <td>1576.0</td>\n",
       "      <td>584.0</td>\n",
       "      <td>98.352796</td>\n",
       "    </tr>\n",
       "  </tbody>\n",
       "</table>\n",
       "<p>5 rows × 28 columns</p>\n",
       "</div>"
      ],
      "text/plain": [
       "   температура  активная_мощность  bulk_1  bulk_2  bulk_3  bulk_4  bulk_5  \\\n",
       "0       1613.0           4.878147     0.0     0.0     0.0    43.0     0.0   \n",
       "1       1602.0           3.052598     0.0     0.0     0.0    73.0     0.0   \n",
       "2       1599.0           2.525882     0.0     0.0     0.0    34.0     0.0   \n",
       "3       1625.0           3.209250     0.0     0.0     0.0    81.0     0.0   \n",
       "4       1602.0           3.347173     0.0     0.0     0.0    78.0     0.0   \n",
       "\n",
       "   bulk_6  bulk_7  bulk_8  ...     wire_1   wire_2  wire_3  wire_4  wire_6  \\\n",
       "0     0.0     0.0     0.0  ...  60.059998  0.00000     0.0     0.0     0.0   \n",
       "1     0.0     0.0     0.0  ...  96.052315  0.00000     0.0     0.0     0.0   \n",
       "2     0.0     0.0     0.0  ...  91.160157  0.00000     0.0     0.0     0.0   \n",
       "3     0.0     0.0     0.0  ...  89.063515  0.00000     0.0     0.0     0.0   \n",
       "4     0.0     0.0     0.0  ...  89.238236  9.11456     0.0     0.0     0.0   \n",
       "\n",
       "   wire_7  wire_9  первая_температура  bulk_total  wire_total  \n",
       "0     0.0     0.0              1571.0       553.0   60.059998  \n",
       "1     0.0     0.0              1581.0       582.0   96.052315  \n",
       "2     0.0     0.0              1596.0       544.0   91.160157  \n",
       "3     0.0     0.0              1601.0       595.0   89.063515  \n",
       "4     0.0     0.0              1576.0       584.0   98.352796  \n",
       "\n",
       "[5 rows x 28 columns]"
      ]
     },
     "execution_count": 108,
     "metadata": {},
     "output_type": "execute_result"
    }
   ],
   "source": [
    "df_result.head()"
   ]
  },
  {
   "cell_type": "markdown",
   "id": "19fd6c02",
   "metadata": {},
   "source": [
    "Данные готовы для построение на их основании моделей машинного обучения"
   ]
  },
  {
   "cell_type": "markdown",
   "id": "ff95cf96",
   "metadata": {},
   "source": [
    "___"
   ]
  },
  {
   "cell_type": "markdown",
   "id": "514f7a1f",
   "metadata": {},
   "source": [
    "### Общий вывод"
   ]
  },
  {
   "cell_type": "markdown",
   "id": "d66abbc8",
   "metadata": {},
   "source": [
    "**Выводы**\n",
    "\n",
    "* Данные были объединены в одну таблицу, сгруппированные по партиям: 1 партия = 1 строка\n",
    "* Целевое признак - `температура` на последним нагреве сплава\n",
    "* Пропущенные значения в легирующих добавках заполнены значением = 0 (значит, их не использовали)\n",
    "* Случаи, когда не было добавлено никакой добавки / газа - удалены при составлении таблиц\n",
    "\n",
    "___\n",
    "* Дополнительно созданные признаки:\n",
    "    * `bulk_total` - общий объем сыпучих материалов\n",
    "    * `wire_total` - общий объем проволочных материалов\n",
    "    * `первая_температура` - температура при первичном нагреве сплава\n",
    "___\n",
    "* Были удалены следующие признаки из-за высокой корелляции с другими признаками:\n",
    "    *  `реактивная_мощность` - корелляция с признаком `активная_мощность`\n",
    "    *  `wire_8` - корелляция с признаком `bulk_9`\n",
    "___\n",
    "* Также удалены нерелевантные для построения моделей признаки: `key` - номер партии"
   ]
  },
  {
   "cell_type": "markdown",
   "id": "c27fd03b",
   "metadata": {},
   "source": [
    "___"
   ]
  },
  {
   "cell_type": "markdown",
   "id": "7d203945",
   "metadata": {},
   "source": [
    "## Построение моделей"
   ]
  },
  {
   "cell_type": "markdown",
   "id": "e2e32cc7",
   "metadata": {},
   "source": [
    "### Деление выборок, выделение целевого признака"
   ]
  },
  {
   "cell_type": "markdown",
   "id": "80f6f049",
   "metadata": {},
   "source": [
    "* Сначала выделим целевой признак\n",
    "* Затем сформируем тестовую и обучающую выборки в отношении 1:3"
   ]
  },
  {
   "cell_type": "code",
   "execution_count": 109,
   "id": "f813a7c5",
   "metadata": {},
   "outputs": [],
   "source": [
    "#save random_state value\n",
    "RS = 301223"
   ]
  },
  {
   "cell_type": "code",
   "execution_count": 110,
   "id": "0879d79c",
   "metadata": {},
   "outputs": [
    {
     "name": "stdout",
     "output_type": "stream",
     "text": [
      "(2329, 27) (2329,) (2329, 28)\n"
     ]
    }
   ],
   "source": [
    "X = df_result.drop(columns='температура')\n",
    "y = df_result['температура']\n",
    "\n",
    "#check X,y\n",
    "print(X.shape, y.shape, df_result.shape)"
   ]
  },
  {
   "cell_type": "markdown",
   "id": "e8fbacaa",
   "metadata": {},
   "source": [
    "___"
   ]
  },
  {
   "cell_type": "code",
   "execution_count": 111,
   "id": "a7cfff56",
   "metadata": {},
   "outputs": [
    {
     "name": "stdout",
     "output_type": "stream",
     "text": [
      "(1746,) (583,)\n"
     ]
    }
   ],
   "source": [
    "#split data on train and test\n",
    "X_train, X_test, y_train, y_test = train_test_split(X, y, test_size=0.25, random_state=RS)\n",
    "\n",
    "#check sizes\n",
    "print(y_train.shape, y_test.shape)"
   ]
  },
  {
   "cell_type": "markdown",
   "id": "de763498",
   "metadata": {},
   "source": [
    "Обучающая и тестовая выборки получены"
   ]
  },
  {
   "cell_type": "markdown",
   "id": "1e642ade",
   "metadata": {},
   "source": [
    "___"
   ]
  },
  {
   "cell_type": "markdown",
   "id": "ad94aff3",
   "metadata": {},
   "source": [
    "### DummyRegressor"
   ]
  },
  {
   "cell_type": "markdown",
   "id": "06fe562e",
   "metadata": {},
   "source": [
    "Построим оценку метрики при прогнозе константы = среднего значения"
   ]
  },
  {
   "cell_type": "code",
   "execution_count": 112,
   "id": "58439f11",
   "metadata": {},
   "outputs": [
    {
     "data": {
      "text/plain": [
       "8.08248341160093"
      ]
     },
     "execution_count": 112,
     "metadata": {},
     "output_type": "execute_result"
    }
   ],
   "source": [
    "#инициализация\n",
    "dummy_regr = DummyRegressor(strategy=\"mean\")\n",
    "\n",
    "#fit and predict\n",
    "dummy_regr.fit(X_train, y_train)\n",
    "y_pred = dummy_regr.predict(X_train)\n",
    "\n",
    "#домножение на -1 для сопоставления с sklearn scorer (он максимизирует потери, поэтому умножает на -1 результат скоринга)\n",
    "dummy_score = mean_absolute_error(y_true=y_train, y_pred=y_pred)\n",
    "dummy_score"
   ]
  },
  {
   "cell_type": "markdown",
   "id": "64368a83",
   "metadata": {},
   "source": [
    "**Вывод**\n",
    "\n",
    "Константная модель (предсказание среднего для всех значений) дало значение метрики MAE = 8.08, что хуже целевого, однако, также будет являтся критерием оценки остальных моделей"
   ]
  },
  {
   "cell_type": "markdown",
   "id": "0574bdd3",
   "metadata": {},
   "source": [
    "___"
   ]
  },
  {
   "cell_type": "markdown",
   "id": "eed30046",
   "metadata": {},
   "source": [
    "### Линейная регрессия"
   ]
  },
  {
   "cell_type": "code",
   "execution_count": 114,
   "id": "83da4ace",
   "metadata": {},
   "outputs": [
    {
     "data": {
      "text/plain": [
       "6.366621370865596"
      ]
     },
     "execution_count": 114,
     "metadata": {},
     "output_type": "execute_result"
    }
   ],
   "source": [
    "#инициализируем модель\n",
    "linreg = LinearRegression()\n",
    "\n",
    "#создадим объект трансформации данных (масштабирование)\n",
    "sc = StandardScaler()\n",
    "\n",
    "#создадим пайплайн, который будет выполнять (1) трансформацию данных и затем (2) обучать модель\n",
    "pipe = make_pipeline(sc, linreg)\n",
    "\n",
    "X_train_2 = X_train.copy()\n",
    "X_train_2 = X_train_2.drop(columns=['wire_total'])\n",
    "\n",
    "#обучим модель и проверим с помощью кросс-валидации результат (для всего пайплайна)\n",
    "cv_scores_linreg = cross_val_score(pipe, X_train_2, y_train, scoring='neg_mean_absolute_error', cv=5)\n",
    "\n",
    "#save score\n",
    "linreg_score = cv_scores_linreg.mean() * -1\n",
    "linreg_score"
   ]
  },
  {
   "cell_type": "code",
   "execution_count": 116,
   "id": "3a36d104",
   "metadata": {},
   "outputs": [
    {
     "data": {
      "text/plain": [
       "6.778567111036506"
      ]
     },
     "execution_count": 116,
     "metadata": {},
     "output_type": "execute_result"
    }
   ],
   "source": [
    "#инициализируем модель\n",
    "lasso_linreg = Lasso()\n",
    "\n",
    "#создадим объект трансформации данных (масштабирование)\n",
    "sc = StandardScaler()\n",
    "\n",
    "#создадим пайплайн, который будет выполнять (1) трансформацию данных и затем (2) обучать модель\n",
    "pipe = make_pipeline(sc, lasso_linreg)\n",
    "\n",
    "#обучим модель и проверим с помощью кросс-валидации результат (для всего пайплайна)\n",
    "cv_scores_lassolinreg = cross_val_score(pipe, X_train, y_train, scoring='neg_mean_absolute_error', cv=5)\n",
    "\n",
    "#save score\n",
    "lasso_linreg_score = cv_scores_lassolinreg.mean() * -1\n",
    "lasso_linreg_score"
   ]
  },
  {
   "cell_type": "markdown",
   "id": "81131ff3",
   "metadata": {},
   "source": [
    "**Вывод**\n",
    "\n",
    "Линейная регрессия показала значение метрики MAE = 6.37, что лучше целевого (<=6.8)."
   ]
  },
  {
   "cell_type": "markdown",
   "id": "e2b0f458",
   "metadata": {},
   "source": [
    "___"
   ]
  },
  {
   "cell_type": "markdown",
   "id": "40cbb82b",
   "metadata": {},
   "source": [
    "### Случайный лес"
   ]
  },
  {
   "cell_type": "code",
   "execution_count": 117,
   "id": "cc1670e4",
   "metadata": {},
   "outputs": [],
   "source": [
    "#инициализируем модель\n",
    "rf = RandomForestRegressor(random_state=RS)\n",
    "\n",
    "#создадим объект трансформации данных (масштабирование)\n",
    "sc = StandardScaler()\n",
    "\n",
    "#создадим пайплайн, который будет выполнять (1) трансформацию данных и затем (2) обучать модель\n",
    "pipe = make_pipeline(sc, rf)\n",
    "\n",
    "#словарь для гиперпараметров\n",
    "hp = dict(max_depth=np.array(range(1,50,5)),\n",
    "         n_estimators=np.array(range(100,301,25)))\n",
    "\n",
    "#создадим словарь гиперпараметров (для работы Pipeline должны состоять из \n",
    "# \"названия шага__параметр\")\n",
    "pipe_hp = {'randomforestregressor__' + key: hp[key] for key in hp}"
   ]
  },
  {
   "cell_type": "code",
   "execution_count": 118,
   "id": "d2746758",
   "metadata": {},
   "outputs": [
    {
     "data": {
      "text/plain": [
       "{'randomforestregressor__max_depth': array([ 1,  6, 11, 16, 21, 26, 31, 36, 41, 46]),\n",
       " 'randomforestregressor__n_estimators': array([100, 125, 150, 175, 200, 225, 250, 275, 300])}"
      ]
     },
     "execution_count": 118,
     "metadata": {},
     "output_type": "execute_result"
    }
   ],
   "source": [
    "#проверяемые гиперпараметры\n",
    "pipe_hp"
   ]
  },
  {
   "cell_type": "code",
   "execution_count": 119,
   "id": "fe50148b",
   "metadata": {},
   "outputs": [
    {
     "name": "stdout",
     "output_type": "stream",
     "text": [
      "CPU times: total: 27min 9s\n",
      "Wall time: 29min 41s\n"
     ]
    },
    {
     "data": {
      "text/html": [
       "<style>#sk-container-id-1 {color: black;background-color: white;}#sk-container-id-1 pre{padding: 0;}#sk-container-id-1 div.sk-toggleable {background-color: white;}#sk-container-id-1 label.sk-toggleable__label {cursor: pointer;display: block;width: 100%;margin-bottom: 0;padding: 0.3em;box-sizing: border-box;text-align: center;}#sk-container-id-1 label.sk-toggleable__label-arrow:before {content: \"▸\";float: left;margin-right: 0.25em;color: #696969;}#sk-container-id-1 label.sk-toggleable__label-arrow:hover:before {color: black;}#sk-container-id-1 div.sk-estimator:hover label.sk-toggleable__label-arrow:before {color: black;}#sk-container-id-1 div.sk-toggleable__content {max-height: 0;max-width: 0;overflow: hidden;text-align: left;background-color: #f0f8ff;}#sk-container-id-1 div.sk-toggleable__content pre {margin: 0.2em;color: black;border-radius: 0.25em;background-color: #f0f8ff;}#sk-container-id-1 input.sk-toggleable__control:checked~div.sk-toggleable__content {max-height: 200px;max-width: 100%;overflow: auto;}#sk-container-id-1 input.sk-toggleable__control:checked~label.sk-toggleable__label-arrow:before {content: \"▾\";}#sk-container-id-1 div.sk-estimator input.sk-toggleable__control:checked~label.sk-toggleable__label {background-color: #d4ebff;}#sk-container-id-1 div.sk-label input.sk-toggleable__control:checked~label.sk-toggleable__label {background-color: #d4ebff;}#sk-container-id-1 input.sk-hidden--visually {border: 0;clip: rect(1px 1px 1px 1px);clip: rect(1px, 1px, 1px, 1px);height: 1px;margin: -1px;overflow: hidden;padding: 0;position: absolute;width: 1px;}#sk-container-id-1 div.sk-estimator {font-family: monospace;background-color: #f0f8ff;border: 1px dotted black;border-radius: 0.25em;box-sizing: border-box;margin-bottom: 0.5em;}#sk-container-id-1 div.sk-estimator:hover {background-color: #d4ebff;}#sk-container-id-1 div.sk-parallel-item::after {content: \"\";width: 100%;border-bottom: 1px solid gray;flex-grow: 1;}#sk-container-id-1 div.sk-label:hover label.sk-toggleable__label {background-color: #d4ebff;}#sk-container-id-1 div.sk-serial::before {content: \"\";position: absolute;border-left: 1px solid gray;box-sizing: border-box;top: 0;bottom: 0;left: 50%;z-index: 0;}#sk-container-id-1 div.sk-serial {display: flex;flex-direction: column;align-items: center;background-color: white;padding-right: 0.2em;padding-left: 0.2em;position: relative;}#sk-container-id-1 div.sk-item {position: relative;z-index: 1;}#sk-container-id-1 div.sk-parallel {display: flex;align-items: stretch;justify-content: center;background-color: white;position: relative;}#sk-container-id-1 div.sk-item::before, #sk-container-id-1 div.sk-parallel-item::before {content: \"\";position: absolute;border-left: 1px solid gray;box-sizing: border-box;top: 0;bottom: 0;left: 50%;z-index: -1;}#sk-container-id-1 div.sk-parallel-item {display: flex;flex-direction: column;z-index: 1;position: relative;background-color: white;}#sk-container-id-1 div.sk-parallel-item:first-child::after {align-self: flex-end;width: 50%;}#sk-container-id-1 div.sk-parallel-item:last-child::after {align-self: flex-start;width: 50%;}#sk-container-id-1 div.sk-parallel-item:only-child::after {width: 0;}#sk-container-id-1 div.sk-dashed-wrapped {border: 1px dashed gray;margin: 0 0.4em 0.5em 0.4em;box-sizing: border-box;padding-bottom: 0.4em;background-color: white;}#sk-container-id-1 div.sk-label label {font-family: monospace;font-weight: bold;display: inline-block;line-height: 1.2em;}#sk-container-id-1 div.sk-label-container {text-align: center;}#sk-container-id-1 div.sk-container {/* jupyter's `normalize.less` sets `[hidden] { display: none; }` but bootstrap.min.css set `[hidden] { display: none !important; }` so we also need the `!important` here to be able to override the default hidden behavior on the sphinx rendered scikit-learn.org. See: https://github.com/scikit-learn/scikit-learn/issues/21755 */display: inline-block !important;position: relative;}#sk-container-id-1 div.sk-text-repr-fallback {display: none;}</style><div id=\"sk-container-id-1\" class=\"sk-top-container\"><div class=\"sk-text-repr-fallback\"><pre>GridSearchCV(cv=5,\n",
       "             estimator=Pipeline(steps=[(&#x27;standardscaler&#x27;, StandardScaler()),\n",
       "                                       (&#x27;randomforestregressor&#x27;,\n",
       "                                        RandomForestRegressor(random_state=301223))]),\n",
       "             param_grid={&#x27;randomforestregressor__max_depth&#x27;: array([ 1,  6, 11, 16, 21, 26, 31, 36, 41, 46]),\n",
       "                         &#x27;randomforestregressor__n_estimators&#x27;: array([100, 125, 150, 175, 200, 225, 250, 275, 300])},\n",
       "             scoring=&#x27;neg_mean_absolute_error&#x27;)</pre><b>In a Jupyter environment, please rerun this cell to show the HTML representation or trust the notebook. <br />On GitHub, the HTML representation is unable to render, please try loading this page with nbviewer.org.</b></div><div class=\"sk-container\" hidden><div class=\"sk-item sk-dashed-wrapped\"><div class=\"sk-label-container\"><div class=\"sk-label sk-toggleable\"><input class=\"sk-toggleable__control sk-hidden--visually\" id=\"sk-estimator-id-1\" type=\"checkbox\" ><label for=\"sk-estimator-id-1\" class=\"sk-toggleable__label sk-toggleable__label-arrow\">GridSearchCV</label><div class=\"sk-toggleable__content\"><pre>GridSearchCV(cv=5,\n",
       "             estimator=Pipeline(steps=[(&#x27;standardscaler&#x27;, StandardScaler()),\n",
       "                                       (&#x27;randomforestregressor&#x27;,\n",
       "                                        RandomForestRegressor(random_state=301223))]),\n",
       "             param_grid={&#x27;randomforestregressor__max_depth&#x27;: array([ 1,  6, 11, 16, 21, 26, 31, 36, 41, 46]),\n",
       "                         &#x27;randomforestregressor__n_estimators&#x27;: array([100, 125, 150, 175, 200, 225, 250, 275, 300])},\n",
       "             scoring=&#x27;neg_mean_absolute_error&#x27;)</pre></div></div></div><div class=\"sk-parallel\"><div class=\"sk-parallel-item\"><div class=\"sk-item\"><div class=\"sk-label-container\"><div class=\"sk-label sk-toggleable\"><input class=\"sk-toggleable__control sk-hidden--visually\" id=\"sk-estimator-id-2\" type=\"checkbox\" ><label for=\"sk-estimator-id-2\" class=\"sk-toggleable__label sk-toggleable__label-arrow\">estimator: Pipeline</label><div class=\"sk-toggleable__content\"><pre>Pipeline(steps=[(&#x27;standardscaler&#x27;, StandardScaler()),\n",
       "                (&#x27;randomforestregressor&#x27;,\n",
       "                 RandomForestRegressor(random_state=301223))])</pre></div></div></div><div class=\"sk-serial\"><div class=\"sk-item\"><div class=\"sk-serial\"><div class=\"sk-item\"><div class=\"sk-estimator sk-toggleable\"><input class=\"sk-toggleable__control sk-hidden--visually\" id=\"sk-estimator-id-3\" type=\"checkbox\" ><label for=\"sk-estimator-id-3\" class=\"sk-toggleable__label sk-toggleable__label-arrow\">StandardScaler</label><div class=\"sk-toggleable__content\"><pre>StandardScaler()</pre></div></div></div><div class=\"sk-item\"><div class=\"sk-estimator sk-toggleable\"><input class=\"sk-toggleable__control sk-hidden--visually\" id=\"sk-estimator-id-4\" type=\"checkbox\" ><label for=\"sk-estimator-id-4\" class=\"sk-toggleable__label sk-toggleable__label-arrow\">RandomForestRegressor</label><div class=\"sk-toggleable__content\"><pre>RandomForestRegressor(random_state=301223)</pre></div></div></div></div></div></div></div></div></div></div></div></div>"
      ],
      "text/plain": [
       "GridSearchCV(cv=5,\n",
       "             estimator=Pipeline(steps=[('standardscaler', StandardScaler()),\n",
       "                                       ('randomforestregressor',\n",
       "                                        RandomForestRegressor(random_state=301223))]),\n",
       "             param_grid={'randomforestregressor__max_depth': array([ 1,  6, 11, 16, 21, 26, 31, 36, 41, 46]),\n",
       "                         'randomforestregressor__n_estimators': array([100, 125, 150, 175, 200, 225, 250, 275, 300])},\n",
       "             scoring='neg_mean_absolute_error')"
      ]
     },
     "execution_count": 119,
     "metadata": {},
     "output_type": "execute_result"
    }
   ],
   "source": [
    "%%time\n",
    "\n",
    "#fit model\n",
    "grid_pipe = GridSearchCV(pipe, param_grid=pipe_hp, cv=5, scoring='neg_mean_absolute_error')\n",
    "grid_pipe.fit(X_train, y_train)"
   ]
  },
  {
   "cell_type": "code",
   "execution_count": 120,
   "id": "3f20a96d",
   "metadata": {
    "scrolled": true
   },
   "outputs": [
    {
     "name": "stdout",
     "output_type": "stream",
     "text": [
      "best hyperparameters: {'randomforestregressor__max_depth': 11, 'randomforestregressor__n_estimators': 200}\n",
      "best MAE score: 6.072977577357227\n"
     ]
    }
   ],
   "source": [
    "#print best hyperparameters and best score\n",
    "rf_score = grid_pipe.best_score_ * -1\n",
    "\n",
    "print('best hyperparameters:', grid_pipe.best_params_)\n",
    "print('best MAE score:', rf_score)"
   ]
  },
  {
   "cell_type": "markdown",
   "id": "35d7c133",
   "metadata": {},
   "source": [
    "**Вывод**\n",
    "\n",
    "* Случайный лес дает значение метрики MAE = 6.07, что лучше целевого (<=6.8).\n",
    "* Наилучшие гиперпараметры: max_depth = 11, n_estimators = 200"
   ]
  },
  {
   "cell_type": "markdown",
   "id": "49b041b3",
   "metadata": {},
   "source": [
    "___"
   ]
  },
  {
   "cell_type": "markdown",
   "id": "0ec154f5",
   "metadata": {},
   "source": [
    "### Light GBM"
   ]
  },
  {
   "cell_type": "markdown",
   "id": "7f09beff",
   "metadata": {},
   "source": [
    "Построим также модель градиентного бустинга Light GBM"
   ]
  },
  {
   "cell_type": "code",
   "execution_count": 121,
   "id": "d54767dd",
   "metadata": {},
   "outputs": [
    {
     "name": "stdout",
     "output_type": "stream",
     "text": [
      "CPU times: total: 12min 9s\n",
      "Wall time: 3min 17s\n"
     ]
    },
    {
     "data": {
      "text/html": [
       "<style>#sk-container-id-2 {color: black;background-color: white;}#sk-container-id-2 pre{padding: 0;}#sk-container-id-2 div.sk-toggleable {background-color: white;}#sk-container-id-2 label.sk-toggleable__label {cursor: pointer;display: block;width: 100%;margin-bottom: 0;padding: 0.3em;box-sizing: border-box;text-align: center;}#sk-container-id-2 label.sk-toggleable__label-arrow:before {content: \"▸\";float: left;margin-right: 0.25em;color: #696969;}#sk-container-id-2 label.sk-toggleable__label-arrow:hover:before {color: black;}#sk-container-id-2 div.sk-estimator:hover label.sk-toggleable__label-arrow:before {color: black;}#sk-container-id-2 div.sk-toggleable__content {max-height: 0;max-width: 0;overflow: hidden;text-align: left;background-color: #f0f8ff;}#sk-container-id-2 div.sk-toggleable__content pre {margin: 0.2em;color: black;border-radius: 0.25em;background-color: #f0f8ff;}#sk-container-id-2 input.sk-toggleable__control:checked~div.sk-toggleable__content {max-height: 200px;max-width: 100%;overflow: auto;}#sk-container-id-2 input.sk-toggleable__control:checked~label.sk-toggleable__label-arrow:before {content: \"▾\";}#sk-container-id-2 div.sk-estimator input.sk-toggleable__control:checked~label.sk-toggleable__label {background-color: #d4ebff;}#sk-container-id-2 div.sk-label input.sk-toggleable__control:checked~label.sk-toggleable__label {background-color: #d4ebff;}#sk-container-id-2 input.sk-hidden--visually {border: 0;clip: rect(1px 1px 1px 1px);clip: rect(1px, 1px, 1px, 1px);height: 1px;margin: -1px;overflow: hidden;padding: 0;position: absolute;width: 1px;}#sk-container-id-2 div.sk-estimator {font-family: monospace;background-color: #f0f8ff;border: 1px dotted black;border-radius: 0.25em;box-sizing: border-box;margin-bottom: 0.5em;}#sk-container-id-2 div.sk-estimator:hover {background-color: #d4ebff;}#sk-container-id-2 div.sk-parallel-item::after {content: \"\";width: 100%;border-bottom: 1px solid gray;flex-grow: 1;}#sk-container-id-2 div.sk-label:hover label.sk-toggleable__label {background-color: #d4ebff;}#sk-container-id-2 div.sk-serial::before {content: \"\";position: absolute;border-left: 1px solid gray;box-sizing: border-box;top: 0;bottom: 0;left: 50%;z-index: 0;}#sk-container-id-2 div.sk-serial {display: flex;flex-direction: column;align-items: center;background-color: white;padding-right: 0.2em;padding-left: 0.2em;position: relative;}#sk-container-id-2 div.sk-item {position: relative;z-index: 1;}#sk-container-id-2 div.sk-parallel {display: flex;align-items: stretch;justify-content: center;background-color: white;position: relative;}#sk-container-id-2 div.sk-item::before, #sk-container-id-2 div.sk-parallel-item::before {content: \"\";position: absolute;border-left: 1px solid gray;box-sizing: border-box;top: 0;bottom: 0;left: 50%;z-index: -1;}#sk-container-id-2 div.sk-parallel-item {display: flex;flex-direction: column;z-index: 1;position: relative;background-color: white;}#sk-container-id-2 div.sk-parallel-item:first-child::after {align-self: flex-end;width: 50%;}#sk-container-id-2 div.sk-parallel-item:last-child::after {align-self: flex-start;width: 50%;}#sk-container-id-2 div.sk-parallel-item:only-child::after {width: 0;}#sk-container-id-2 div.sk-dashed-wrapped {border: 1px dashed gray;margin: 0 0.4em 0.5em 0.4em;box-sizing: border-box;padding-bottom: 0.4em;background-color: white;}#sk-container-id-2 div.sk-label label {font-family: monospace;font-weight: bold;display: inline-block;line-height: 1.2em;}#sk-container-id-2 div.sk-label-container {text-align: center;}#sk-container-id-2 div.sk-container {/* jupyter's `normalize.less` sets `[hidden] { display: none; }` but bootstrap.min.css set `[hidden] { display: none !important; }` so we also need the `!important` here to be able to override the default hidden behavior on the sphinx rendered scikit-learn.org. See: https://github.com/scikit-learn/scikit-learn/issues/21755 */display: inline-block !important;position: relative;}#sk-container-id-2 div.sk-text-repr-fallback {display: none;}</style><div id=\"sk-container-id-2\" class=\"sk-top-container\"><div class=\"sk-text-repr-fallback\"><pre>GridSearchCV(cv=5, estimator=LGBMRegressor(random_state=301223),\n",
       "             param_grid={&#x27;learning_rate&#x27;: [0.1, 0.05, 0.01, 0.005],\n",
       "                         &#x27;max_depth&#x27;: array([3, 4, 5, 6, 7, 8]),\n",
       "                         &#x27;n_estimators&#x27;: [1500, 2000, 2500, 3000, 4000]},\n",
       "             scoring=&#x27;neg_mean_absolute_error&#x27;)</pre><b>In a Jupyter environment, please rerun this cell to show the HTML representation or trust the notebook. <br />On GitHub, the HTML representation is unable to render, please try loading this page with nbviewer.org.</b></div><div class=\"sk-container\" hidden><div class=\"sk-item sk-dashed-wrapped\"><div class=\"sk-label-container\"><div class=\"sk-label sk-toggleable\"><input class=\"sk-toggleable__control sk-hidden--visually\" id=\"sk-estimator-id-5\" type=\"checkbox\" ><label for=\"sk-estimator-id-5\" class=\"sk-toggleable__label sk-toggleable__label-arrow\">GridSearchCV</label><div class=\"sk-toggleable__content\"><pre>GridSearchCV(cv=5, estimator=LGBMRegressor(random_state=301223),\n",
       "             param_grid={&#x27;learning_rate&#x27;: [0.1, 0.05, 0.01, 0.005],\n",
       "                         &#x27;max_depth&#x27;: array([3, 4, 5, 6, 7, 8]),\n",
       "                         &#x27;n_estimators&#x27;: [1500, 2000, 2500, 3000, 4000]},\n",
       "             scoring=&#x27;neg_mean_absolute_error&#x27;)</pre></div></div></div><div class=\"sk-parallel\"><div class=\"sk-parallel-item\"><div class=\"sk-item\"><div class=\"sk-label-container\"><div class=\"sk-label sk-toggleable\"><input class=\"sk-toggleable__control sk-hidden--visually\" id=\"sk-estimator-id-6\" type=\"checkbox\" ><label for=\"sk-estimator-id-6\" class=\"sk-toggleable__label sk-toggleable__label-arrow\">estimator: LGBMRegressor</label><div class=\"sk-toggleable__content\"><pre>LGBMRegressor(random_state=301223)</pre></div></div></div><div class=\"sk-serial\"><div class=\"sk-item\"><div class=\"sk-estimator sk-toggleable\"><input class=\"sk-toggleable__control sk-hidden--visually\" id=\"sk-estimator-id-7\" type=\"checkbox\" ><label for=\"sk-estimator-id-7\" class=\"sk-toggleable__label sk-toggleable__label-arrow\">LGBMRegressor</label><div class=\"sk-toggleable__content\"><pre>LGBMRegressor(random_state=301223)</pre></div></div></div></div></div></div></div></div></div></div>"
      ],
      "text/plain": [
       "GridSearchCV(cv=5, estimator=LGBMRegressor(random_state=301223),\n",
       "             param_grid={'learning_rate': [0.1, 0.05, 0.01, 0.005],\n",
       "                         'max_depth': array([3, 4, 5, 6, 7, 8]),\n",
       "                         'n_estimators': [1500, 2000, 2500, 3000, 4000]},\n",
       "             scoring='neg_mean_absolute_error')"
      ]
     },
     "execution_count": 121,
     "metadata": {},
     "output_type": "execute_result"
    }
   ],
   "source": [
    "%%time\n",
    "\n",
    "#create validation sets from train set\n",
    "X_train_lgbm, X_valid_lgbm, y_train_lgbm, y_valid_lgbm = train_test_split(X_train, y_train, test_size=0.1, random_state=RS)\n",
    "\n",
    "sc = StandardScaler()\n",
    "\n",
    "#preprocess data\n",
    "X_train_lgbm = sc.fit_transform(X_train_lgbm)\n",
    "X_valid_lgbm = sc.transform(X_valid_lgbm)\n",
    "\n",
    "#define lgbm model\n",
    "lgbm_reg = lgbm.LGBMRegressor(random_state=RS)\n",
    "\n",
    "#create the dictionary for model hyperparameters\n",
    "hp = dict(\n",
    "    max_depth=np.array(range(3,9,1)),\n",
    "    learning_rate=[0.1, 0.05, 0.01, 0.005],\n",
    "    n_estimators=[1500, 2000, 2500, 3000, 4000]\n",
    ")\n",
    "\n",
    "#search hyperparameters\n",
    "grid = GridSearchCV(lgbm_reg, hp, cv=5, scoring=\"neg_mean_absolute_error\")\n",
    "grid.fit(X_train_lgbm, \n",
    "         y_train_lgbm, \n",
    "         eval_set=[(X_valid_lgbm, y_valid_lgbm)],\n",
    "         eval_metric=\"mae\", \n",
    "         early_stopping_rounds=50,\n",
    "        verbose=0)"
   ]
  },
  {
   "cell_type": "code",
   "execution_count": 122,
   "id": "a2109537",
   "metadata": {},
   "outputs": [
    {
     "name": "stdout",
     "output_type": "stream",
     "text": [
      "Grid Search LGBM best parameters: {'learning_rate': 0.05, 'max_depth': 5, 'n_estimators': 1500}\n",
      "Grid Search LGBM best MAE: 6.113\n"
     ]
    }
   ],
   "source": [
    "#save the value of the best RMSE\n",
    "lgbm_score = round(grid.best_score_ * -1, 3)\n",
    "\n",
    "print('Grid Search LGBM best parameters:', grid.best_params_)\n",
    "print('Grid Search LGBM best MAE:', lgbm_score)"
   ]
  },
  {
   "cell_type": "markdown",
   "id": "f8cde585",
   "metadata": {},
   "source": [
    "**Вывод**\n",
    "\n",
    "* Light GBM дает значение метрики MAE = 6.113, что лучше целевого (<=6.8).\n",
    "* Наилучшие гиперпараметры: max_depth = 5, n_estimators = 1500, learning_rate = 0.05"
   ]
  },
  {
   "cell_type": "markdown",
   "id": "3f780c7a",
   "metadata": {},
   "source": [
    "___"
   ]
  },
  {
   "cell_type": "markdown",
   "id": "24ffadc9",
   "metadata": {},
   "source": [
    "### CatBoost"
   ]
  },
  {
   "cell_type": "markdown",
   "id": "ad7f6f50",
   "metadata": {},
   "source": [
    "Построим модель CatBoost"
   ]
  },
  {
   "cell_type": "code",
   "execution_count": 123,
   "id": "82f6d197",
   "metadata": {},
   "outputs": [
    {
     "name": "stdout",
     "output_type": "stream",
     "text": [
      "CPU times: total: 9min 49s\n",
      "Wall time: 3min 2s\n"
     ]
    },
    {
     "data": {
      "text/html": [
       "<style>#sk-container-id-3 {color: black;background-color: white;}#sk-container-id-3 pre{padding: 0;}#sk-container-id-3 div.sk-toggleable {background-color: white;}#sk-container-id-3 label.sk-toggleable__label {cursor: pointer;display: block;width: 100%;margin-bottom: 0;padding: 0.3em;box-sizing: border-box;text-align: center;}#sk-container-id-3 label.sk-toggleable__label-arrow:before {content: \"▸\";float: left;margin-right: 0.25em;color: #696969;}#sk-container-id-3 label.sk-toggleable__label-arrow:hover:before {color: black;}#sk-container-id-3 div.sk-estimator:hover label.sk-toggleable__label-arrow:before {color: black;}#sk-container-id-3 div.sk-toggleable__content {max-height: 0;max-width: 0;overflow: hidden;text-align: left;background-color: #f0f8ff;}#sk-container-id-3 div.sk-toggleable__content pre {margin: 0.2em;color: black;border-radius: 0.25em;background-color: #f0f8ff;}#sk-container-id-3 input.sk-toggleable__control:checked~div.sk-toggleable__content {max-height: 200px;max-width: 100%;overflow: auto;}#sk-container-id-3 input.sk-toggleable__control:checked~label.sk-toggleable__label-arrow:before {content: \"▾\";}#sk-container-id-3 div.sk-estimator input.sk-toggleable__control:checked~label.sk-toggleable__label {background-color: #d4ebff;}#sk-container-id-3 div.sk-label input.sk-toggleable__control:checked~label.sk-toggleable__label {background-color: #d4ebff;}#sk-container-id-3 input.sk-hidden--visually {border: 0;clip: rect(1px 1px 1px 1px);clip: rect(1px, 1px, 1px, 1px);height: 1px;margin: -1px;overflow: hidden;padding: 0;position: absolute;width: 1px;}#sk-container-id-3 div.sk-estimator {font-family: monospace;background-color: #f0f8ff;border: 1px dotted black;border-radius: 0.25em;box-sizing: border-box;margin-bottom: 0.5em;}#sk-container-id-3 div.sk-estimator:hover {background-color: #d4ebff;}#sk-container-id-3 div.sk-parallel-item::after {content: \"\";width: 100%;border-bottom: 1px solid gray;flex-grow: 1;}#sk-container-id-3 div.sk-label:hover label.sk-toggleable__label {background-color: #d4ebff;}#sk-container-id-3 div.sk-serial::before {content: \"\";position: absolute;border-left: 1px solid gray;box-sizing: border-box;top: 0;bottom: 0;left: 50%;z-index: 0;}#sk-container-id-3 div.sk-serial {display: flex;flex-direction: column;align-items: center;background-color: white;padding-right: 0.2em;padding-left: 0.2em;position: relative;}#sk-container-id-3 div.sk-item {position: relative;z-index: 1;}#sk-container-id-3 div.sk-parallel {display: flex;align-items: stretch;justify-content: center;background-color: white;position: relative;}#sk-container-id-3 div.sk-item::before, #sk-container-id-3 div.sk-parallel-item::before {content: \"\";position: absolute;border-left: 1px solid gray;box-sizing: border-box;top: 0;bottom: 0;left: 50%;z-index: -1;}#sk-container-id-3 div.sk-parallel-item {display: flex;flex-direction: column;z-index: 1;position: relative;background-color: white;}#sk-container-id-3 div.sk-parallel-item:first-child::after {align-self: flex-end;width: 50%;}#sk-container-id-3 div.sk-parallel-item:last-child::after {align-self: flex-start;width: 50%;}#sk-container-id-3 div.sk-parallel-item:only-child::after {width: 0;}#sk-container-id-3 div.sk-dashed-wrapped {border: 1px dashed gray;margin: 0 0.4em 0.5em 0.4em;box-sizing: border-box;padding-bottom: 0.4em;background-color: white;}#sk-container-id-3 div.sk-label label {font-family: monospace;font-weight: bold;display: inline-block;line-height: 1.2em;}#sk-container-id-3 div.sk-label-container {text-align: center;}#sk-container-id-3 div.sk-container {/* jupyter's `normalize.less` sets `[hidden] { display: none; }` but bootstrap.min.css set `[hidden] { display: none !important; }` so we also need the `!important` here to be able to override the default hidden behavior on the sphinx rendered scikit-learn.org. See: https://github.com/scikit-learn/scikit-learn/issues/21755 */display: inline-block !important;position: relative;}#sk-container-id-3 div.sk-text-repr-fallback {display: none;}</style><div id=\"sk-container-id-3\" class=\"sk-top-container\"><div class=\"sk-text-repr-fallback\"><pre>GridSearchCV(cv=5,\n",
       "             estimator=&lt;catboost.core.CatBoostRegressor object at 0x000001EDE39E0130&gt;,\n",
       "             param_grid={&#x27;depth&#x27;: [2, 4, 6, 8], &#x27;learning_rate&#x27;: [0.1, 0.03]},\n",
       "             scoring=&#x27;neg_mean_absolute_error&#x27;)</pre><b>In a Jupyter environment, please rerun this cell to show the HTML representation or trust the notebook. <br />On GitHub, the HTML representation is unable to render, please try loading this page with nbviewer.org.</b></div><div class=\"sk-container\" hidden><div class=\"sk-item sk-dashed-wrapped\"><div class=\"sk-label-container\"><div class=\"sk-label sk-toggleable\"><input class=\"sk-toggleable__control sk-hidden--visually\" id=\"sk-estimator-id-8\" type=\"checkbox\" ><label for=\"sk-estimator-id-8\" class=\"sk-toggleable__label sk-toggleable__label-arrow\">GridSearchCV</label><div class=\"sk-toggleable__content\"><pre>GridSearchCV(cv=5,\n",
       "             estimator=&lt;catboost.core.CatBoostRegressor object at 0x000001EDE39E0130&gt;,\n",
       "             param_grid={&#x27;depth&#x27;: [2, 4, 6, 8], &#x27;learning_rate&#x27;: [0.1, 0.03]},\n",
       "             scoring=&#x27;neg_mean_absolute_error&#x27;)</pre></div></div></div><div class=\"sk-parallel\"><div class=\"sk-parallel-item\"><div class=\"sk-item\"><div class=\"sk-label-container\"><div class=\"sk-label sk-toggleable\"><input class=\"sk-toggleable__control sk-hidden--visually\" id=\"sk-estimator-id-9\" type=\"checkbox\" ><label for=\"sk-estimator-id-9\" class=\"sk-toggleable__label sk-toggleable__label-arrow\">estimator: CatBoostRegressor</label><div class=\"sk-toggleable__content\"><pre>&lt;catboost.core.CatBoostRegressor object at 0x000001EDE39E0130&gt;</pre></div></div></div><div class=\"sk-serial\"><div class=\"sk-item\"><div class=\"sk-estimator sk-toggleable\"><input class=\"sk-toggleable__control sk-hidden--visually\" id=\"sk-estimator-id-10\" type=\"checkbox\" ><label for=\"sk-estimator-id-10\" class=\"sk-toggleable__label sk-toggleable__label-arrow\">CatBoostRegressor</label><div class=\"sk-toggleable__content\"><pre>&lt;catboost.core.CatBoostRegressor object at 0x000001EDE39E0130&gt;</pre></div></div></div></div></div></div></div></div></div></div>"
      ],
      "text/plain": [
       "GridSearchCV(cv=5,\n",
       "             estimator=<catboost.core.CatBoostRegressor object at 0x000001EDE39E0130>,\n",
       "             param_grid={'depth': [2, 4, 6, 8], 'learning_rate': [0.1, 0.03]},\n",
       "             scoring='neg_mean_absolute_error')"
      ]
     },
     "execution_count": 123,
     "metadata": {},
     "output_type": "execute_result"
    }
   ],
   "source": [
    "%%time\n",
    "\n",
    "#define CatBoost model\n",
    "model_CBR = cb.CatBoostRegressor(random_state=RS, verbose=False)\n",
    "\n",
    "#create the dictionary for model hyperparameters\n",
    "hp = {  'learning_rate': [0.1, 0.03],\n",
    "        'depth': [2, 4, 6, 8]}\n",
    "\n",
    "#search hyperparameters\n",
    "grid = GridSearchCV(estimator=model_CBR, param_grid = hp, cv = 5, scoring=\"neg_mean_absolute_error\")\n",
    "grid.fit(X_train, y_train)"
   ]
  },
  {
   "cell_type": "code",
   "execution_count": 124,
   "id": "51a4670d",
   "metadata": {},
   "outputs": [
    {
     "name": "stdout",
     "output_type": "stream",
     "text": [
      " Results from Grid Search \n",
      "\n",
      " The best score across ALL searched params:\n",
      " 5.974870771067818\n",
      "\n",
      " The best parameters across ALL searched params:\n",
      " {'depth': 2, 'learning_rate': 0.03}\n"
     ]
    }
   ],
   "source": [
    "cb_score = grid.best_score_ * -1\n",
    "\n",
    "print(\" Results from Grid Search \" )\n",
    "print(\"\\n The best score across ALL searched params:\\n\", cb_score)\n",
    "print(\"\\n The best parameters across ALL searched params:\\n\", grid.best_params_)"
   ]
  },
  {
   "cell_type": "markdown",
   "id": "99fda838",
   "metadata": {},
   "source": [
    "**Вывод**\n",
    "\n",
    "* CatBoost дает значение метрики MAE = 6.04, что лучше целевого (<=6.8).\n",
    "* Наилучшие гиперпараметры: depth = 2, learning_rate = 0.03"
   ]
  },
  {
   "cell_type": "markdown",
   "id": "131012ba",
   "metadata": {},
   "source": [
    "___"
   ]
  },
  {
   "cell_type": "markdown",
   "id": "8f498bb9",
   "metadata": {},
   "source": [
    "### Общий вывод (построение моделей на обучающей выборке)"
   ]
  },
  {
   "cell_type": "markdown",
   "id": "2b5dcc6d",
   "metadata": {},
   "source": [
    "Согласно условию, критерием качества модели является MAE <= 6.8\n",
    "\n",
    "Мы получили следующие результаты метрики MAE:"
   ]
  },
  {
   "cell_type": "code",
   "execution_count": 125,
   "id": "ce476bf6",
   "metadata": {},
   "outputs": [
    {
     "data": {
      "text/html": [
       "<div>\n",
       "<style scoped>\n",
       "    .dataframe tbody tr th:only-of-type {\n",
       "        vertical-align: middle;\n",
       "    }\n",
       "\n",
       "    .dataframe tbody tr th {\n",
       "        vertical-align: top;\n",
       "    }\n",
       "\n",
       "    .dataframe thead th {\n",
       "        text-align: right;\n",
       "    }\n",
       "</style>\n",
       "<table border=\"1\" class=\"dataframe\">\n",
       "  <thead>\n",
       "    <tr style=\"text-align: right;\">\n",
       "      <th></th>\n",
       "      <th>model</th>\n",
       "      <th>mae</th>\n",
       "    </tr>\n",
       "  </thead>\n",
       "  <tbody>\n",
       "    <tr>\n",
       "      <th>4</th>\n",
       "      <td>CatBoost</td>\n",
       "      <td>5.974871</td>\n",
       "    </tr>\n",
       "    <tr>\n",
       "      <th>2</th>\n",
       "      <td>RandomForest</td>\n",
       "      <td>6.072978</td>\n",
       "    </tr>\n",
       "    <tr>\n",
       "      <th>3</th>\n",
       "      <td>LightGBM</td>\n",
       "      <td>6.113000</td>\n",
       "    </tr>\n",
       "    <tr>\n",
       "      <th>1</th>\n",
       "      <td>LinRegression</td>\n",
       "      <td>6.372894</td>\n",
       "    </tr>\n",
       "    <tr>\n",
       "      <th>0</th>\n",
       "      <td>Dummy</td>\n",
       "      <td>8.082483</td>\n",
       "    </tr>\n",
       "  </tbody>\n",
       "</table>\n",
       "</div>"
      ],
      "text/plain": [
       "           model       mae\n",
       "4       CatBoost  5.974871\n",
       "2   RandomForest  6.072978\n",
       "3       LightGBM  6.113000\n",
       "1  LinRegression  6.372894\n",
       "0          Dummy  8.082483"
      ]
     },
     "execution_count": 125,
     "metadata": {},
     "output_type": "execute_result"
    }
   ],
   "source": [
    "#add all to the table\n",
    "mae_results = pd.DataFrame({\n",
    "    'model': ['Dummy', 'LinRegression', 'RandomForest', 'LightGBM', 'CatBoost'],\n",
    "    'mae': [dummy_score, linreg_score, rf_score, lgbm_score, cb_score]\n",
    "})\n",
    "\n",
    "mae_results.sort_values(by='mae')\n"
   ]
  },
  {
   "cell_type": "markdown",
   "id": "9a417014",
   "metadata": {},
   "source": [
    "**Вывод**\n",
    "\n",
    "Метрику, лучше критерия качества получили следующие модели:\n",
    "* CatBoost (depth = 2, learning_rate = 0.03)\n",
    "* Random Forest (max_depth = 11, n_estimators = 200)\n",
    "* Light GBM (max_depth = 5, n_estimators = 1500, learning_rate = 0.05)\n",
    "* Linear Regression\n",
    "\n",
    "**Таким образом, выбранная модель: CatBoost, так как она показала наилучший показатель метрики MAE, равный = 5.97**\n"
   ]
  },
  {
   "cell_type": "markdown",
   "id": "ad037888",
   "metadata": {},
   "source": [
    "___"
   ]
  },
  {
   "cell_type": "markdown",
   "id": "77cd65bc",
   "metadata": {},
   "source": [
    "## Проверка выбранной модели на тестовой выборке"
   ]
  },
  {
   "cell_type": "markdown",
   "id": "77b54456",
   "metadata": {},
   "source": [
    "Проверим выбранную модель на тестовой выборке"
   ]
  },
  {
   "cell_type": "code",
   "execution_count": 126,
   "id": "f51d7f3c",
   "metadata": {},
   "outputs": [
    {
     "name": "stdout",
     "output_type": "stream",
     "text": [
      "CPU times: total: 2.97 s\n",
      "Wall time: 948 ms\n"
     ]
    },
    {
     "data": {
      "text/plain": [
       "6.04782439982891"
      ]
     },
     "execution_count": 126,
     "metadata": {},
     "output_type": "execute_result"
    }
   ],
   "source": [
    "%%time\n",
    "\n",
    "#define CatBoost model\n",
    "model_CBR = cb.CatBoostRegressor(random_state=RS, verbose=False, learning_rate=0.03, depth=2)\n",
    "\n",
    "#fit the model\n",
    "model_CBR.fit(X_train, y_train)\n",
    "\n",
    "#make predictions\n",
    "y_pred = model_CBR.predict(X_test)\n",
    "\n",
    "#calculate MAE\n",
    "cb_test_score = mean_absolute_error(y_true=y_test, y_pred=y_pred)\n",
    "cb_test_score"
   ]
  },
  {
   "cell_type": "markdown",
   "id": "925997ee",
   "metadata": {},
   "source": [
    "**Вывод**\n",
    "\n",
    "* Выбранная модель CatBoost на тестовой выборке получила метрику MAE равную = 6.04, что лучше, чем целевой показатель <= 6.8  \n",
    "* Следовательно, можно считать построение модели предсказания температуры успешным."
   ]
  },
  {
   "cell_type": "markdown",
   "id": "c73c82bc",
   "metadata": {},
   "source": [
    "___"
   ]
  },
  {
   "cell_type": "markdown",
   "id": "cb661601",
   "metadata": {},
   "source": [
    "## Анализ влияния факторов на предсказания модели"
   ]
  },
  {
   "cell_type": "markdown",
   "id": "333c9869",
   "metadata": {},
   "source": [
    "Построим график важности факторов на предсказание модели:"
   ]
  },
  {
   "cell_type": "code",
   "execution_count": 127,
   "id": "32e8e4b6",
   "metadata": {},
   "outputs": [
    {
     "data": {
      "image/png": "[encoded data removed]",
      "text/plain": [
       "<Figure size 640x480 with 1 Axes>"
      ]
     },
     "metadata": {},
     "output_type": "display_data"
    }
   ],
   "source": [
    "sorted_feature_importance = model_CBR.feature_importances_.argsort()\n",
    "plt.barh(X_test.columns[sorted_feature_importance], \n",
    "        model_CBR.feature_importances_[sorted_feature_importance], \n",
    "        color='turquoise')\n",
    "plt.title('Влияние факторов на целевой признак')\n",
    "plt.xlabel(\"CatBoost Feature Importance\")\n",
    "plt.ylabel(\"Фактор\")\n",
    "plt.show()"
   ]
  },
  {
   "cell_type": "markdown",
   "id": "6dde2c27",
   "metadata": {},
   "source": [
    "**Вывод**\n",
    "\n",
    "Видно, что наибольшую важность для модели имеют следующие факторы:\n",
    "* Наибольшая важность: `активная_мощность`, `первая_температура` - начальная температура нагрева сплава\n",
    "* Средняя важность: материалы `wire_1`, `bulk_6`, `wire_2`, `bulk_15`, `bulk_7`, `bulk_1`, `wire_4`, `газ_1`, `bulk_12`\n",
    "\n",
    "___\n",
    "\n",
    "При этом, влияния не оказывают следующие факторы:\n",
    "* `bulk_10`, `bulk_13`, `bulk_2`, `bulk_9`, `bulk_8`, `bulk_5`\n",
    "* `wire_3`, `wire_6`, `wire_9`\n",
    "\n",
    "Такие факторы можно убраь из модели без потери качества:"
   ]
  },
  {
   "cell_type": "code",
   "execution_count": 128,
   "id": "7cb3a411",
   "metadata": {},
   "outputs": [
    {
     "name": "stdout",
     "output_type": "stream",
     "text": [
      "CPU times: total: 3.03 s\n",
      "Wall time: 884 ms\n"
     ]
    },
    {
     "data": {
      "text/plain": [
       "6.04782439982891"
      ]
     },
     "execution_count": 128,
     "metadata": {},
     "output_type": "execute_result"
    }
   ],
   "source": [
    "%%time\n",
    "\n",
    "#drop useless parameters\n",
    "useless = ['bulk_10', 'bulk_13', 'bulk_2', 'bulk_9', 'bulk_8', 'bulk_5', 'wire_3', 'wire_6', 'wire_9']\n",
    "\n",
    "X_train.drop(columns=useless)\n",
    "X_test.drop(columns=useless)\n",
    "\n",
    "#define CatBoost model\n",
    "model_CBR = cb.CatBoostRegressor(random_state=RS, verbose=False, learning_rate=0.03, depth=2)\n",
    "\n",
    "#fit the model\n",
    "model_CBR.fit(X_train, y_train)\n",
    "\n",
    "#make predictions\n",
    "y_pred = model_CBR.predict(X_test)\n",
    "\n",
    "#calculate MAE\n",
    "cb_test_score = mean_absolute_error(y_true=y_test, y_pred=y_pred)\n",
    "cb_test_score"
   ]
  },
  {
   "cell_type": "markdown",
   "id": "73ce80d9",
   "metadata": {},
   "source": [
    "Качество модели не изменилось"
   ]
  },
  {
   "cell_type": "markdown",
   "id": "e608d227",
   "metadata": {},
   "source": [
    "## Общий вывод"
   ]
  },
  {
   "cell_type": "markdown",
   "id": "70433e18",
   "metadata": {},
   "source": [
    "**Цель**\n",
    "\n",
    "На основании данных о процессе нагрева стали (температуры сплава на различных этапах нагрева, добавленные добавки в сплав, объем использованного газа), необходимо построить модель, которая: \n",
    "* предскажет температуру нагрева сплава стали на финальном этапе, с показателем метрики MAE <= 6.8\n",
    "\n",
    "___\n",
    "**Выполненные шаги**\n",
    "\n",
    "* Данные были очищены от нерелевантных значений, пропуски заполнены, аномалии проанализированы\n",
    "* Проведен графический, корелляционный и аналитический анализ данных\n",
    "* Созданы дополнительные признаки на основе имеющихся данных: общий объем использованных проволочных материалов и общий объем сыпучих материалов.\n",
    "* Построены модели - линейная регрессия, случайный лес, Light GBM, CatBoost\n",
    "\n",
    "___\n",
    "**Выбор модели**\n",
    "* На этапе обучения показали метрику, ниже целевой следующие модели: линейная регрессия, случайный лес, Light GBM, CatBoost\n",
    "* При этом, лучшее значение метрики дала модель CatBoost (5.97)\n",
    "\n",
    "___\n",
    "**Результат проверки модели на тестовой выборке**\n",
    "* Выбранная модель не показала существенного ухудшения метрики на тестовой выборке = 6.04\n",
    "\n",
    "___\n",
    "**Важные факторы для предсказания**  \n",
    "\n",
    "Основными параметрами, на основании которых модели делает предсказания являются:\n",
    "* Наибольшая важность: `активная_мощность`, `первая_температура` - начальная температура нагрева сплава\n",
    "* Средняя важность: материалы `wire_1`, `bulk_6`, `wire_2`, `bulk_15`, `bulk_7`, `bulk_1`, `wire_4`, `газ_1`, `bulk_12`\n",
    "\n",
    "Не имеющими ценности параметрами являются:\n",
    "* `bulk_10`, `bulk_13`, `bulk_2`, `bulk_9`, `bulk_8`, `bulk_5`, `wire_3`, `wire_6`, `wire_9`\n",
    "\n",
    "___\n",
    "**Таким образом, основываясь на критериях оценки - наилучшей выбрана модель CatBoost**"
   ]
  },
  {
   "cell_type": "markdown",
   "id": "1aee53b8",
   "metadata": {},
   "source": [
    "\"В отчёте ответьте на вопросы:\n",
    "\n",
    "Какие пункты плана были выполнены, а какие — нет (поясните почему)?\n",
    "Какие трудности возникли и как вы их преодолели?\n",
    "Какие ключевые шаги в решении задачи выделили?\n",
    "Какая ваша итоговая модель и какое у неё качество?"
   ]
  },
  {
   "attachments": {
    "image-10.png": {
     "image/png": "[encoded data removed]"
    },
    "image-2.png": {
     "image/png": "[encoded data removed]"
    },
    "image-3.png": {
     "image/png": "[encoded data removed]"
    },
    "image-4.png": {
     "image/png": "[encoded data removed]"
    },
    "image-5.png": {
     "image/png": "[encoded data removed]"
    },
    "image-6.png": {
     "image/png": "[encoded data removed]"
    },
    "image-7.png": {
     "image/png": "[encoded data removed]"
    },
    "image-8.png": {
     "image/png": "[encoded data removed]"
    },
    "image.png": {
     "image/png": "[encoded data removed]"
    }
   },
   "cell_type": "markdown",
   "id": "e3da48db",
   "metadata": {},
   "source": [
    "## Итоговый отчет\n",
    "\n",
    "### Краткое описание\n",
    "\n",
    "В данном проекте была решена следующая бизнес-задача: на основании данных о технологическом процессе легирования стали (изменения ее химического состава) необходимо было построить модель, которая будет предсказывать финальную температуру сплава. Путем предсказания температуры бизнес может снизить расходы на электроэнергию. Были построены модели линейной регрессии, случайного леса, градиентного бустнига (Light GBM, CatBoost). Качество моделей оценивалось на основании метрики MAE, которая должна быть ниже 6.8 градусов. Лучший результат показала модель CatBoost с результатом 5.97 на обучающей выборке и 6.04 на тестовой. Цель проекта была достигнута. Дополнительно выявлены основные факторы, влияющие на предсказание модели - активная мощность электродов при нагреве и начальная температура сплава.\n",
    "___\n",
    "\n",
    "\n",
    "### Часть 1. Описание задачи\n",
    "\n",
    "**Описание подробное**\n",
    "\n",
    "Сталь обрабатывают в металлическом ковше вместимостью около 100 тонн. Чтобы ковш выдерживал высокие температуры, изнутри его облицовывают огнеупорным кирпичом. Расплавленную сталь заливают в ковш и подогревают до нужной температуры графитовыми электродами. Они установлены в крышке ковша. \n",
    "\n",
    "Из сплава выводится сера (десульфурация), добавлением примесей корректируется химический состав и отбираются пробы. Сталь легируют — изменяют её состав — подавая куски сплава из бункера для сыпучих материалов или проволоку через специальный трайб-аппарат (англ. tribe, «масса»). При этом для каждой партии должны быть использованы все материалы (сыпучие и проволочные),  а также газ.  \n",
    "\n",
    "Перед тем как первый раз ввести легирующие добавки, измеряют температуру стали и производят её химический анализ. Потом температуру на несколько минут повышают, добавляют легирующие материалы и продувают сплав инертным газом. Затем его перемешивают и снова проводят измерения. Такой цикл повторяется до достижения целевого химического состава и оптимальной температуры плавки.\n",
    "\n",
    "Тогда расплавленная сталь отправляется на доводку металла или поступает в машину непрерывной разливки. Оттуда готовый продукт выходит в виде заготовок-слябов (англ. *slab*, «плита»).\n",
    "\n",
    "\n",
    "> **Итого процесс**: \n",
    "> * Этап 1: залив расплавленной стали в ковш -> нагрев электродами -> измерение температуры стали и ее состава\n",
    "> * Этап 2: повышение температуры -> добавка примесей для легирования (изм. состава) -> продув инертным газом\n",
    "> * Этап 3: измерение температуры стали и ее состава ->\n",
    ">     * Если состав не целевой -> возврат к этапу 2\n",
    ">     * Если состав целевой -> переход на следующий производственный процесс (вне текущего проекта)\n",
    "\n",
    "___\n",
    "\n",
    "**Описание данных**\n",
    "\n",
    "Данные состоят из файлов, полученных из разных источников:\n",
    "\n",
    "* `data_arc.csv` — данные об электродах;\n",
    "* `data_bulk.csv` — данные о подаче сыпучих материалов (объём);\n",
    "* `data_bulk_time.csv` — данные о подаче сыпучих материалов (время);\n",
    "* `data_gas.csv` — данные о продувке сплава газом;\n",
    "* `data_temp.csv` — результаты измерения температуры;\n",
    "* `data_wire.csv` — данные о проволочных материалах (объём);\n",
    "* `data_wire_time.csv` — данные о проволочных материалах (время).\n",
    "\n",
    "> Во всех файлах столбец `key` содержит номер партии. В файлах может быть несколько строк с одинаковым значением `key`: они соответствуют разным итерациям обработки.  \n",
    "> **Таким образом**: вся партия является объектом моделирования, так как температуру могут замерять неколько раз.  \n",
    "> **Целевой признак**: температура партии при последнем замерении \n",
    "\n",
    "___\n",
    "\n",
    "**План проекта:**\n",
    "\n",
    "* Анализ и предобработка данных\n",
    "* Приведение данных в нужный датасет для моделирования\n",
    "* Построение трех моделей: линейная регрессия, лес решений, CatBoost (градиентный бустинг)\n",
    "* Выбор лучшей модели на валидационной выборке\n",
    "* Тестирование выбранной модели на тестовой выборке (25% от первоначальных данных)\n",
    "\n",
    "**Критерий качества модели**\n",
    "* Метрика MAE <= 6.8\n",
    "___\n",
    "\n",
    "\n",
    "### Часть 2. Анализ процесса. Анализ и обработка данных.\n",
    "\n",
    "#### Анализ данных\n",
    "\n",
    "Далее описаны данные производственного процесса, на основании которых необходимо построить модель прогноза.\n",
    "\n",
    "\n",
    "**Измерения температуры**\n",
    "\n",
    "Доступны следующие данные:\n",
    "* `key`- номер партии (ковша)\n",
    "* `Время замера` - время замера температуры\n",
    "* `Температура` - температура нагрева сплава\n",
    "\n",
    "\n",
    "При этом: \n",
    "\n",
    "* В показателе `Температура` наблюдаются 723 аномальных значения, которые составляют 5% от данных. \n",
    "* При группировке данных по партиям, у 739 отсутствует последняя температура (целевой признак)\n",
    "* При группировке данных по партиям, аномальными значениями температуры являются 195 партий, или 6% от данных. \n",
    "___\n",
    "\n",
    "**Данные об электродах**\n",
    "\n",
    "Доступны следующие данные:\n",
    "* `key`- номер партии (ковша)\n",
    "* `Начало нагрева дугой` - дата и время начала нагрева\n",
    "* `Конец нагрева дугой\t` - дата и время окончания нагрева\n",
    "* `Активная мощность` - мощность электричества, которая идет на нагрев\n",
    "* `Реактивная мощность` - мощность электричества, теряющаяся при нагреве\n",
    "\n",
    "При этом:\n",
    "\n",
    "* Явной аномальным значением является отрицательная `реактивная мощность` - была удалена (см. График 1)\n",
    "* Наблюдаются потенциально аномальные показатели в 5% данных без группировки по партиям (см. График 2)\n",
    "* Наблюдаются потенциально аномальные показатели в 2% данных с группировкой по партиям\n",
    "\n",
    "\n",
    "График 1 | График 2\n",
    "- | -\n",
    "![image-3.png](attachment:image-3.png) | ![image-4.png](attachment:image-4.png)\n",
    "\n",
    "___\n",
    "\n",
    "**Данные о подаче сыпучих материалов**\n",
    "\n",
    "Доступны следующие данные:\n",
    "* `key`- номер партии (ковша)\n",
    "* `Bulk #` - данные о сыпучем материале (15 разных материалов)\n",
    "\n",
    "При этом: \n",
    "\n",
    "* Наблюдаются аномальные значения для некоторых примесей (см. График 3)\n",
    "\n",
    "График 3 |\n",
    "- |\n",
    "![image-5.png](attachment:image-5.png) \n",
    "\n",
    "___\n",
    "\n",
    "**Данные о времени подачи сыпучих материалов**\n",
    "\n",
    "Доступны следующие данные:\n",
    "* `key`- номер партии (ковша)\n",
    "* `Bulk #` - данные о времени подачи сыпучих материалов (15 разных материалов)\n",
    "\n",
    "___\n",
    "\n",
    "**Данные об объеме использованного газа**\n",
    "\n",
    "Доступны следующие данные:\n",
    "* `key`- номер партии (ковша)\n",
    "* `Газ 1` - данные об объеме газа в числовом выражении\n",
    "\n",
    "При этом:\n",
    "* Наблюдаются аномальные значения использования газа, которые составляют 4% от данных в датасете (см. График 4)\n",
    "\n",
    "График 4 |\n",
    "- |\n",
    "![image-6.png](attachment:image-6.png)\n",
    "\n",
    "\n",
    "___\n",
    "\n",
    "**Данные об объеме проволочных материалов**\n",
    "\n",
    "Доступны следующие данные:\n",
    "* `key`- номер партии (ковша)\n",
    "* `Wire #` - объем материала, поданного в сплав\n",
    "\n",
    "При этом: \n",
    "* Всего аномальные значения находятся в 2% строк данных (см. График 5)\n",
    "\n",
    "График 5 |\n",
    "- |\n",
    "![image-7.png](attachment:image-7.png)\n",
    "\n",
    "___\n",
    "**Данные о времени подачи проволочных материалов**\n",
    "\n",
    "В датафрейме присутствуют следующие данные:\n",
    "* `key`- номер партии (ковша)\n",
    "* `Wire #` - данные о времени подачи проволочных материалов (9 разных материалов)\n",
    "\n",
    "___\n",
    "\n",
    "\n",
    "#### Выбор данных для построения модели\n",
    "\n",
    "**Использованные данные**\n",
    "\n",
    "* `Температура` (ее значение при последнем нагреве сплава) является целевым показателем, который необходимо предсказать. На основании данных о температуре будем формировать итоговую таблицу для моделирования.\n",
    "\n",
    "* `Активная и реактивная мощность` влияют на конечную температуру сплава, соответственно было принято решение их использовать как признаки для построения модели. Например: сумму реактивной и сумму активной мощности как два признака для каждой партии\n",
    "\n",
    "* `Объем поданных материалов` влияет на химический состав стали, а следовательно на ее температуру плавления. Соответственно, логично использовать данные о поданных материалах для построения модели\n",
    "\n",
    "* `Объем использованого газа` важен для производственного процесса, так как он влияют на итоговый сплав и температуру (целевой показатель). Поэтому их берем для использования в итоговой модели.\n",
    "\n",
    "* `Объем поданных материалов` влияет на сплав, а значит, и на температуру, которая необходима для его нагрева. Поэтому показатель объема проволочных материалов берем в для построения модели.\n",
    "\n",
    "\n",
    "**Не использованные данные**\n",
    "\n",
    "* `Данные о времени подачи сыпучих материалов` , `данные о времени подачи проволочных материалов` не оказывают влияние на  температуру при финальном нагреве сплава стали. Таким образом, данные о времени добавления добавок не будем использовать для построения модели.\n",
    "\n",
    "#### Предобработка данных\n",
    "\n",
    "**Формирование общей таблицы для моделирования**\n",
    "\n",
    "Целевой признак - температура нагрева партии при последнем нагреве. Соответственно, были выполнены следующие действия по предобработке данных:\n",
    "\n",
    "* Для каждой партии выделены финальный темературы нагрева (целевой признак) .\n",
    "* Обогащены дополнительными параметрами, определенными на этапе анализа данных.\n",
    "\n",
    "Обогащение данных было сделано следующим образом: таблицы объединены на основании номера партии. При этом, в итоговую таблицу попали только партии, у которых есть все показатели:\n",
    "* целевой признак (финальная температура)\n",
    "* сыпучие добавки (минимум одна из 15)\n",
    "* газ\n",
    "* проволочные добавки (минимум одна из 9)\n",
    "\n",
    "Дополнительно, были заполнены пропущенные значения нулями, так как считаем, что незаполненное значение значит, что материал не использовался в процессе, так как нет никакого другого обозначения в данных для подобного случая. Пропущенных значений, кроме как в легирующих добавках - нет.\n",
    "\n",
    "Создадим дополнительные параметры для каждой партии:\n",
    "* общий объем сыпучих материалов\n",
    "* общий объем проволочных материалов\n",
    "\n",
    "___\n",
    "**Проверка на мультиколлинеарность**\n",
    "\n",
    "Была проведена проверка на мультиколлениарность на основании Variance Inflation Factor. При этом, принято решение, что высокие значения (более 16) обозначают, что между переменными имеется высокая зависимость, что в последствии будет ухудшать интерпретируемость результатов модели, поэтому данные признаки удаляем.\n",
    "\n",
    "Выявленные признаки и зависимости:\n",
    "* Показатели `активная_мощность` и `реактивная_мощность` имеют высокую зависимость между собой, поэтому было принято решение удалить показатель `реактивная_мощность`. (см. График 6)\n",
    "* Аналогичная ситуация с показателями `bulk_9` и `wire_8` - они имеют высокую зависимость между собой, поэтому было принято решение удалить показатель `wire_8` (см. График 7). Однако, следует принять во внимание, что количество сулчаев, в которых использовались данные добавки - очень низкое, только в 0.5% партиях. Возможно, при увеличении использования этих добавок будет выявлено, что данной зависимости между ними нет. \n",
    "\n",
    " \n",
    "График 6 | График 7\n",
    "- | - \n",
    "![image.png](attachment:image.png) | ![image-2.png](attachment:image-2.png)\n",
    "\n",
    "___\n",
    "\n",
    "**Аномальные значения**\n",
    "* Без подтверждения от экспертов было невозможно оценить, является ли потенциальных выброс - реальной аномалией, или может являться реальным значением для процесса. Было принято решение не удалять такие значения, так как модель должна уметь обрабатывать данные значения как в случае, если они являются корректными, так и если они являются аномальными, но от них невозможно избавится. Было принято допущение, что в дальнейшем процесс будет генерировать данные аналогично.\n",
    "\n",
    "\n",
    "### Часть 3. Построение моделей\n",
    "\n",
    "#### Описание подхода к построению моделей\n",
    "\n",
    "Общие принципы подхода к построению моделей и критериям качества были приняты следующие:\n",
    "* Тип проблемы (регрессия/классификация) - регрессия, так как требуется предсказать значение температуры.\n",
    "* Подходящие модели: линейная регрессия, случайный лес, градиентный бустинг (Light GBM, CatBoost).\n",
    "* Критерий качества: MAE <= 6.8\n",
    "* Обучение на обучающей выборке, составляющей 75% данных, проверка на тестовой 25% данных.\n",
    "* При обучении использовать кросс-валидацию (чтобы повысить качество оценки модели), а также подбор гиперпараметров путем GridSearchCV (чтобы подобрать наилучшие для прогнозирования).\n",
    "\n",
    "Соответственно, были выполнены следующие шаги:\n",
    "\n",
    "**Обучение модели:**\n",
    "* Разделение данных на обучающую и тестовую выборки;\n",
    "* Масштабирование данных;\n",
    "* Обучение константной модели;\n",
    "* Обучение модели линейной регрессии;\n",
    "* Обучение модели градиентного бустинга Light GBM с перебором гиперпараметров;\n",
    "* Обучение модели градиентного бустинга CatBoost с перебором гиперпараметров;\n",
    "* Выбор лучшей модели\n",
    "\n",
    "**Проверка моделей:**\n",
    "* Тестирование лучшей модели на тестовой выборке;\n",
    "* Если MAE на тестовых данных > 6.8 - доработка модели.\n",
    "* Анализ важности факторов\n",
    "* Удаление неважных параметров и дополнительная проверка качества модели исключительно с использованием важных параметров\n",
    "\n",
    "___\n",
    "#### Результаты построения моделей на обучающей выборке и выбор лучшей модели\n",
    "\n",
    "При построении моделей на обучающей выборке были получены следующие результаты (см. График 8) \n",
    "\n",
    "График 8 |\n",
    "- |\n",
    "![image-8.png](attachment:image-8.png)\n",
    "\n",
    "С помощью GridSearchCV были протестированы следующие гиперпараметры:\n",
    "* Случайный лес: \n",
    "    * максимальная глубина дерева (max_depth) = от 1 до 46 с шагом в 5\n",
    "    * количество деревьев (n_estimators) = от 100 до 300 с шагом в 25\n",
    "* Light GBM \n",
    "    * шаг обучения (learning rate) = 0.1, 0.05, 0.01, 0.005\n",
    "    * максимальная глубина дерева (max_depth) = от 3 до 8\n",
    "    * количество деревьев (n_estimators) = от 1500 до 3000 с шагом в 500, а также 4000.\n",
    "* CatBoost\n",
    "    * максимальная глубина дерева (depth) = от 2 до 8 с шагом в 2\n",
    "    * шаг обучения (learning rate) = 0.1, 0.03\n",
    "    \n",
    "Соответственно, лучше критерия качества получили следующие модели:\n",
    "* CatBoost (depth = 2, learning_rate = 0.03)\n",
    "* Random Forest (max_depth = 11, n_estimators = 200)\n",
    "* Light GBM (max_depth = 5, n_estimators = 1500, learning_rate = 0.05)\n",
    "* Linear Regression    \n",
    "    \n",
    "       \n",
    "Таким образом, на обучающей выборке была выбранная модель CatBoost, так как она показала наилучший показатель метрики MAE, равный = 5.97\n",
    "___\n",
    "\n",
    "#### Результаты проверки выбранной модели на тестовой выборке\n",
    "\n",
    "Выбранная модель CatBoost на тестовой выборке получила метрику MAE равную = 6.04, что лучше, чем целевой показатель менее 6.8. Следовательно, можно считать построение модели предсказания температуры успешным. При этом, значительного ухудшения метрики по сравнению с обучающей выборкой не наблюдается (6.04 vs 5.97), что говорит о том, что модель скорее всего не переобучилась и можно ожидать от нее качественных предсказаний в дальнейшем\n",
    "\n",
    "### Часть 4. Анализ влияния факторов на предскзания\n",
    "\n",
    "Были проанализированы факторы, которые влияют на предсказания модели (см. График 9). Наибольшую важность для модели имеют следующие факторы:\n",
    "* Наибольшая важность: `активная_мощность`, `первая_температура` - начальная температура нагрева сплава\n",
    "* Средняя важность: материалы `wire_1`, `bulk_6`, `wire_2`, `bulk_15`, `bulk_7`, `bulk_1`, `wire_4`, `газ_1`, `bulk_12`\n",
    "___\n",
    "\n",
    "При этом, влияния не оказывают следующие факторы:\n",
    "* `bulk_10`, `bulk_13`, `bulk_2`, `bulk_9`, `bulk_8`, `bulk_5`, `wire_3`, `wire_6`, `wire_9`\n",
    "\n",
    "Соответственно, было проверено, что после удаления нерелевантных параметров модель не показала изменения метрики. \n",
    "\n",
    "\n",
    "График 9 |\n",
    "- |\n",
    "![image-10.png](attachment:image-10.png)\n",
    "___\n",
    "\n",
    "### Часть 5. Ограничения и сложности проекта\n",
    "\n",
    "Работа с аномалиями: без подтверждения от экспертов было невозможно оценить, является ли потенциальных выброс - реальной аномалией, или может являться реальным значением для процесса. Было принято решение не удалять такие значения, так как модель должна уметь обрабатывать данные значения как в случае, если они являются корректными, так и если они являются аномальными, но от них невозможно избавится. Было принято допущение, что в дальнейшем процесс будет генерировать данные аналогично.\n",
    "\n",
    "___\n",
    "\n",
    "### Часть 6. Общий вывод\n",
    "\n",
    "\n",
    "**Цель**\n",
    "\n",
    "На основании данных о процессе нагрева стали (температуры сплава на различных этапах нагрева, добавленные добавки в сплав, объем использованного газа), необходимо было построить модель, которая предскажет температуру нагрева сплава стали на финальном этапе, с показателем метрики MAE <= 6.8\n",
    "\n",
    "**Выполненные шаги**\n",
    "\n",
    "* Данные были очищены от нерелевантных значений, пропуски заполнены, аномалии проанализированы\n",
    "* Проведен графический, корелляционный и аналитический анализ данных\n",
    "* Созданы дополнительные признаки на основе имеющихся данных: общий объем использованных проволочных материалов и общий объем сыпучих материалов.\n",
    "* Построены модели - линейная регрессия, случайный лес, Light GBM, CatBoost\n",
    "* При этом, лучшее значение метрики дала модель CatBoost (5.97)\n",
    "\n",
    "**Результат проверки модели на тестовой выборке**\n",
    "* Выбранная модель не показала существенного ухудшения метрики на тестовой выборке = 6.04\n",
    "\n",
    "**Важные факторы для предсказания**  \n",
    "\n",
    "Основными параметрами, на основании которых модели делает предсказания являются:\n",
    "* Наибольшая важность: `активная_мощность`, `первая_температура` - начальная температура нагрева сплава\n",
    "* Средняя важность: материалы `wire_1`, `bulk_6`, `wire_2`, `bulk_15`, `bulk_7`, `bulk_1`, `wire_4`, `газ_1`, `bulk_12`\n",
    "\n",
    "Не имеющими ценности параметрами являются:\n",
    "* `bulk_10`, `bulk_13`, `bulk_2`, `bulk_9`, `bulk_8`, `bulk_5`, `wire_3`, `wire_6`, `wire_9`\n",
    "\n",
    "Таким образом, цель проекта была достигнута. Наилучший результат был достигнут при построении модели CatBoost."
   ]
  }
 ],
 "metadata": {
  "ExecuteTimeLog": [
   {
    "duration": 1255,
    "start_time": "2023-02-08T06:42:23.448Z"
   },
   {
    "duration": 726,
    "start_time": "2023-02-08T06:42:26.324Z"
   },
   {
    "duration": 5,
    "start_time": "2023-02-08T06:42:55.348Z"
   },
   {
    "duration": 4,
    "start_time": "2023-02-08T06:42:56.291Z"
   },
   {
    "duration": 3,
    "start_time": "2023-02-08T06:42:57.459Z"
   },
   {
    "duration": 14,
    "start_time": "2023-02-08T06:43:25.354Z"
   },
   {
    "duration": 18,
    "start_time": "2023-02-08T06:43:26.202Z"
   },
   {
    "duration": 11,
    "start_time": "2023-02-08T06:43:26.550Z"
   },
   {
    "duration": 21,
    "start_time": "2023-02-08T06:43:26.750Z"
   },
   {
    "duration": 26,
    "start_time": "2023-02-08T06:43:28.417Z"
   },
   {
    "duration": 188,
    "start_time": "2023-02-08T06:43:30.248Z"
   },
   {
    "duration": 153,
    "start_time": "2023-02-08T06:44:43.111Z"
   },
   {
    "duration": 14,
    "start_time": "2023-02-08T06:44:48.928Z"
   },
   {
    "duration": 9,
    "start_time": "2023-02-08T06:44:49.148Z"
   },
   {
    "duration": 13,
    "start_time": "2023-02-08T06:46:18.751Z"
   },
   {
    "duration": 139,
    "start_time": "2023-02-08T06:46:19.759Z"
   },
   {
    "duration": 13,
    "start_time": "2023-02-08T06:46:23.700Z"
   },
   {
    "duration": 9,
    "start_time": "2023-02-08T06:46:24.222Z"
   },
   {
    "duration": 4,
    "start_time": "2023-02-08T06:49:13.273Z"
   },
   {
    "duration": 9,
    "start_time": "2023-02-08T06:49:13.785Z"
   },
   {
    "duration": 20,
    "start_time": "2023-02-08T06:49:16.892Z"
   },
   {
    "duration": 11,
    "start_time": "2023-02-08T06:49:17.387Z"
   },
   {
    "duration": 6,
    "start_time": "2023-02-08T06:49:18.192Z"
   },
   {
    "duration": 7,
    "start_time": "2023-02-08T06:49:19.431Z"
   },
   {
    "duration": 54,
    "start_time": "2023-02-08T06:49:21.370Z"
   },
   {
    "duration": 295,
    "start_time": "2023-02-08T06:49:23.239Z"
   },
   {
    "duration": 34,
    "start_time": "2023-02-08T06:49:26.876Z"
   },
   {
    "duration": 22,
    "start_time": "2023-02-08T06:49:27.508Z"
   },
   {
    "duration": 26,
    "start_time": "2023-02-08T06:50:13.902Z"
   },
   {
    "duration": 14,
    "start_time": "2023-02-08T06:50:38.185Z"
   },
   {
    "duration": 17,
    "start_time": "2023-02-08T06:51:06.916Z"
   },
   {
    "duration": 6,
    "start_time": "2023-02-08T06:51:07.449Z"
   },
   {
    "duration": 14,
    "start_time": "2023-02-08T06:51:19.104Z"
   },
   {
    "duration": 7,
    "start_time": "2023-02-08T06:51:52.576Z"
   },
   {
    "duration": 13,
    "start_time": "2023-02-08T06:51:53.081Z"
   },
   {
    "duration": 8,
    "start_time": "2023-02-08T06:51:53.269Z"
   },
   {
    "duration": 6,
    "start_time": "2023-02-08T06:51:53.633Z"
   },
   {
    "duration": 16,
    "start_time": "2023-02-08T06:51:53.830Z"
   },
   {
    "duration": 116,
    "start_time": "2023-02-08T06:51:54.149Z"
   },
   {
    "duration": 10,
    "start_time": "2023-02-08T06:51:54.730Z"
   },
   {
    "duration": 7,
    "start_time": "2023-02-08T06:51:55.180Z"
   },
   {
    "duration": 9,
    "start_time": "2023-02-08T06:51:56.998Z"
   },
   {
    "duration": 4,
    "start_time": "2023-02-08T06:51:57.255Z"
   },
   {
    "duration": 11,
    "start_time": "2023-02-08T06:51:59.936Z"
   },
   {
    "duration": 13,
    "start_time": "2023-02-08T06:52:00.154Z"
   },
   {
    "duration": 11,
    "start_time": "2023-02-08T06:52:00.655Z"
   },
   {
    "duration": 11,
    "start_time": "2023-02-08T06:52:01.413Z"
   },
   {
    "duration": 18,
    "start_time": "2023-02-08T06:52:01.570Z"
   },
   {
    "duration": 28,
    "start_time": "2023-02-08T06:52:01.749Z"
   },
   {
    "duration": 134,
    "start_time": "2023-02-08T06:52:01.918Z"
   },
   {
    "duration": 14,
    "start_time": "2023-02-08T06:52:02.897Z"
   },
   {
    "duration": 8,
    "start_time": "2023-02-08T06:52:03.118Z"
   },
   {
    "duration": 21,
    "start_time": "2023-02-08T06:52:04.225Z"
   },
   {
    "duration": 15,
    "start_time": "2023-02-08T06:52:04.857Z"
   },
   {
    "duration": 16,
    "start_time": "2023-02-08T06:52:05.449Z"
   },
   {
    "duration": 6,
    "start_time": "2023-02-08T06:52:05.898Z"
   },
   {
    "duration": 8,
    "start_time": "2023-02-08T06:52:06.224Z"
   },
   {
    "duration": 130,
    "start_time": "2023-02-08T06:52:06.752Z"
   },
   {
    "duration": 10,
    "start_time": "2023-02-08T06:52:07.146Z"
   },
   {
    "duration": 8,
    "start_time": "2023-02-08T06:52:07.463Z"
   },
   {
    "duration": 10,
    "start_time": "2023-02-08T06:52:08.330Z"
   },
   {
    "duration": 5,
    "start_time": "2023-02-08T06:52:08.519Z"
   },
   {
    "duration": 6,
    "start_time": "2023-02-08T06:52:08.812Z"
   },
   {
    "duration": 13,
    "start_time": "2023-02-08T06:52:09.423Z"
   },
   {
    "duration": 12,
    "start_time": "2023-02-08T06:52:09.589Z"
   },
   {
    "duration": 7,
    "start_time": "2023-02-08T06:52:09.716Z"
   },
   {
    "duration": 8,
    "start_time": "2023-02-08T06:52:10.375Z"
   },
   {
    "duration": 54,
    "start_time": "2023-02-08T06:52:10.386Z"
   },
   {
    "duration": 39,
    "start_time": "2023-02-08T06:52:10.443Z"
   },
   {
    "duration": 333,
    "start_time": "2023-02-08T06:52:10.485Z"
   },
   {
    "duration": 21,
    "start_time": "2023-02-08T06:52:10.820Z"
   },
   {
    "duration": 39,
    "start_time": "2023-02-08T06:52:10.843Z"
   },
   {
    "duration": 16,
    "start_time": "2023-02-08T06:52:11.343Z"
   },
   {
    "duration": 4,
    "start_time": "2023-02-08T06:52:11.497Z"
   },
   {
    "duration": 13,
    "start_time": "2023-02-08T06:52:12.389Z"
   },
   {
    "duration": 2928,
    "start_time": "2023-02-09T08:57:05.695Z"
   },
   {
    "duration": 9332,
    "start_time": "2023-02-09T08:58:41.204Z"
   },
   {
    "duration": 30,
    "start_time": "2023-02-09T08:58:53.386Z"
   },
   {
    "duration": 24,
    "start_time": "2023-02-09T08:59:46.086Z"
   },
   {
    "duration": 305,
    "start_time": "2023-02-09T09:01:33.227Z"
   },
   {
    "duration": 6,
    "start_time": "2023-02-09T09:01:35.782Z"
   },
   {
    "duration": 9,
    "start_time": "2023-02-09T09:01:35.998Z"
   },
   {
    "duration": 4,
    "start_time": "2023-02-09T09:01:36.420Z"
   },
   {
    "duration": 4,
    "start_time": "2023-02-09T09:01:36.602Z"
   },
   {
    "duration": 5,
    "start_time": "2023-02-09T09:01:36.805Z"
   },
   {
    "duration": 19,
    "start_time": "2023-02-09T09:01:37.708Z"
   },
   {
    "duration": 12,
    "start_time": "2023-02-09T09:01:53.988Z"
   },
   {
    "duration": 13,
    "start_time": "2023-02-09T09:01:59.727Z"
   },
   {
    "duration": 16,
    "start_time": "2023-02-09T09:01:59.984Z"
   },
   {
    "duration": 17,
    "start_time": "2023-02-09T09:02:00.118Z"
   },
   {
    "duration": 40,
    "start_time": "2023-02-09T09:02:00.436Z"
   },
   {
    "duration": 197,
    "start_time": "2023-02-09T09:02:00.907Z"
   },
   {
    "duration": 179,
    "start_time": "2023-02-09T09:02:01.819Z"
   },
   {
    "duration": 12,
    "start_time": "2023-02-09T09:02:02.401Z"
   },
   {
    "duration": 10,
    "start_time": "2023-02-09T09:02:02.594Z"
   },
   {
    "duration": 20,
    "start_time": "2023-02-09T09:02:30.081Z"
   },
   {
    "duration": 156,
    "start_time": "2023-02-09T09:02:30.833Z"
   },
   {
    "duration": 9,
    "start_time": "2023-02-09T09:02:31.404Z"
   },
   {
    "duration": 10,
    "start_time": "2023-02-09T09:02:32.229Z"
   },
   {
    "duration": 10,
    "start_time": "2023-02-09T09:02:55.387Z"
   },
   {
    "duration": 17,
    "start_time": "2023-02-09T09:02:56.285Z"
   },
   {
    "duration": 8,
    "start_time": "2023-02-09T09:02:56.730Z"
   },
   {
    "duration": 17,
    "start_time": "2023-02-09T09:03:15.710Z"
   },
   {
    "duration": 12,
    "start_time": "2023-02-09T09:03:16.422Z"
   },
   {
    "duration": 7,
    "start_time": "2023-02-09T09:03:16.979Z"
   },
   {
    "duration": 16,
    "start_time": "2023-02-09T09:03:17.671Z"
   },
   {
    "duration": 75,
    "start_time": "2023-02-09T09:03:18.382Z"
   },
   {
    "duration": 417,
    "start_time": "2023-02-09T09:03:18.719Z"
   },
   {
    "duration": 38,
    "start_time": "2023-02-09T09:03:19.496Z"
   },
   {
    "duration": 22,
    "start_time": "2023-02-09T09:03:19.696Z"
   },
   {
    "duration": 22,
    "start_time": "2023-02-09T09:03:20.577Z"
   },
   {
    "duration": 11,
    "start_time": "2023-02-09T09:03:20.788Z"
   },
   {
    "duration": 16,
    "start_time": "2023-02-09T09:03:38.019Z"
   },
   {
    "duration": 2,
    "start_time": "2023-02-09T09:03:38.604Z"
   },
   {
    "duration": 21,
    "start_time": "2023-02-09T09:03:39.778Z"
   },
   {
    "duration": 9,
    "start_time": "2023-02-09T09:03:40.770Z"
   },
   {
    "duration": 12,
    "start_time": "2023-02-09T09:03:40.975Z"
   },
   {
    "duration": 7,
    "start_time": "2023-02-09T09:03:41.133Z"
   },
   {
    "duration": 6,
    "start_time": "2023-02-09T09:03:41.319Z"
   },
   {
    "duration": 18,
    "start_time": "2023-02-09T09:03:41.508Z"
   },
   {
    "duration": 125,
    "start_time": "2023-02-09T09:03:41.687Z"
   },
   {
    "duration": 18,
    "start_time": "2023-02-09T09:03:43.161Z"
   },
   {
    "duration": 19,
    "start_time": "2023-02-09T09:03:43.181Z"
   },
   {
    "duration": 31,
    "start_time": "2023-02-09T09:03:43.201Z"
   },
   {
    "duration": 3,
    "start_time": "2023-02-09T09:03:43.590Z"
   },
   {
    "duration": 11,
    "start_time": "2023-02-09T09:03:48.029Z"
   },
   {
    "duration": 16,
    "start_time": "2023-02-09T09:03:48.423Z"
   },
   {
    "duration": 8,
    "start_time": "2023-02-09T09:03:48.599Z"
   },
   {
    "duration": 10,
    "start_time": "2023-02-09T09:03:48.801Z"
   },
   {
    "duration": 17,
    "start_time": "2023-02-09T09:03:48.980Z"
   },
   {
    "duration": 31,
    "start_time": "2023-02-09T09:03:49.166Z"
   },
   {
    "duration": 143,
    "start_time": "2023-02-09T09:03:49.350Z"
   },
   {
    "duration": 13,
    "start_time": "2023-02-09T09:03:58.199Z"
   },
   {
    "duration": 8,
    "start_time": "2023-02-09T09:03:58.426Z"
   },
   {
    "duration": 24,
    "start_time": "2023-02-09T09:03:59.490Z"
   },
   {
    "duration": 21,
    "start_time": "2023-02-09T09:03:59.980Z"
   },
   {
    "duration": 15,
    "start_time": "2023-02-09T09:04:00.325Z"
   },
   {
    "duration": 6,
    "start_time": "2023-02-09T09:04:00.785Z"
   },
   {
    "duration": 8,
    "start_time": "2023-02-09T09:04:01.324Z"
   },
   {
    "duration": 150,
    "start_time": "2023-02-09T09:04:02.337Z"
   },
   {
    "duration": 8,
    "start_time": "2023-02-09T09:04:04.513Z"
   },
   {
    "duration": 7,
    "start_time": "2023-02-09T09:04:04.712Z"
   },
   {
    "duration": 9,
    "start_time": "2023-02-09T09:04:06.603Z"
   },
   {
    "duration": 3,
    "start_time": "2023-02-09T09:04:06.795Z"
   },
   {
    "duration": 29,
    "start_time": "2023-02-09T09:04:07.466Z"
   },
   {
    "duration": 16,
    "start_time": "2023-02-09T09:04:08.179Z"
   },
   {
    "duration": 12,
    "start_time": "2023-02-09T09:04:08.311Z"
   },
   {
    "duration": 8,
    "start_time": "2023-02-09T09:04:08.478Z"
   },
   {
    "duration": 7,
    "start_time": "2023-02-09T09:04:08.617Z"
   },
   {
    "duration": 40,
    "start_time": "2023-02-09T09:04:08.788Z"
   },
   {
    "duration": 45,
    "start_time": "2023-02-09T09:04:08.930Z"
   },
   {
    "duration": 297,
    "start_time": "2023-02-09T09:04:09.104Z"
   },
   {
    "duration": 24,
    "start_time": "2023-02-09T09:04:09.684Z"
   },
   {
    "duration": 20,
    "start_time": "2023-02-09T09:04:09.888Z"
   },
   {
    "duration": 18,
    "start_time": "2023-02-09T09:04:12.007Z"
   },
   {
    "duration": 3,
    "start_time": "2023-02-09T09:04:12.179Z"
   },
   {
    "duration": 16,
    "start_time": "2023-02-09T09:04:12.856Z"
   },
   {
    "duration": 8,
    "start_time": "2023-02-09T09:05:31.086Z"
   },
   {
    "duration": 3,
    "start_time": "2023-02-09T09:05:32.314Z"
   },
   {
    "duration": 17,
    "start_time": "2023-02-09T09:05:33.875Z"
   },
   {
    "duration": 43,
    "start_time": "2023-02-09T09:05:35.298Z"
   },
   {
    "duration": 5,
    "start_time": "2023-02-09T09:05:35.922Z"
   },
   {
    "duration": 6,
    "start_time": "2023-02-09T09:06:09.422Z"
   },
   {
    "duration": 5,
    "start_time": "2023-02-09T09:07:05.475Z"
   },
   {
    "duration": 10,
    "start_time": "2023-02-09T09:07:14.677Z"
   },
   {
    "duration": 9,
    "start_time": "2023-02-09T09:07:16.513Z"
   },
   {
    "duration": 6,
    "start_time": "2023-02-09T09:07:17.871Z"
   },
   {
    "duration": 7,
    "start_time": "2023-02-09T09:07:53.874Z"
   },
   {
    "duration": 4,
    "start_time": "2023-02-09T09:07:54.719Z"
   },
   {
    "duration": 7,
    "start_time": "2023-02-09T09:07:55.175Z"
   },
   {
    "duration": 4,
    "start_time": "2023-02-09T09:08:18.075Z"
   },
   {
    "duration": 2029,
    "start_time": "2023-02-09T09:08:31.301Z"
   },
   {
    "duration": 5,
    "start_time": "2023-02-09T09:08:45.877Z"
   },
   {
    "duration": 6,
    "start_time": "2023-02-09T09:15:24.153Z"
   },
   {
    "duration": 11134,
    "start_time": "2023-02-09T09:15:29.626Z"
   },
   {
    "duration": 664,
    "start_time": "2023-02-09T09:15:40.767Z"
   },
   {
    "duration": 10379,
    "start_time": "2023-02-09T09:15:44.711Z"
   },
   {
    "duration": 649,
    "start_time": "2023-02-09T09:15:55.101Z"
   },
   {
    "duration": 3715,
    "start_time": "2023-02-09T09:15:55.752Z"
   },
   {
    "duration": 7,
    "start_time": "2023-02-09T09:15:59.469Z"
   },
   {
    "duration": 14,
    "start_time": "2023-02-09T09:15:59.478Z"
   },
   {
    "duration": 29,
    "start_time": "2023-02-09T09:15:59.495Z"
   },
   {
    "duration": 3,
    "start_time": "2023-02-09T09:16:04.316Z"
   },
   {
    "duration": 5,
    "start_time": "2023-02-09T09:16:04.887Z"
   },
   {
    "duration": 7,
    "start_time": "2023-02-09T09:16:08.328Z"
   },
   {
    "duration": 9,
    "start_time": "2023-02-09T09:16:29.603Z"
   },
   {
    "duration": 7819,
    "start_time": "2023-02-09T18:22:46.176Z"
   },
   {
    "duration": 1544,
    "start_time": "2023-02-09T18:22:56.890Z"
   },
   {
    "duration": 1130,
    "start_time": "2023-02-09T18:23:05.190Z"
   },
   {
    "duration": 4,
    "start_time": "2023-02-09T18:23:06.711Z"
   },
   {
    "duration": 4,
    "start_time": "2023-02-09T18:23:06.894Z"
   },
   {
    "duration": 3,
    "start_time": "2023-02-09T18:23:07.594Z"
   },
   {
    "duration": 3,
    "start_time": "2023-02-09T18:23:07.798Z"
   },
   {
    "duration": 3,
    "start_time": "2023-02-09T18:23:08.394Z"
   },
   {
    "duration": 9,
    "start_time": "2023-02-09T18:23:08.545Z"
   },
   {
    "duration": 16,
    "start_time": "2023-02-09T18:23:09.616Z"
   },
   {
    "duration": 13,
    "start_time": "2023-02-09T18:23:10.010Z"
   },
   {
    "duration": 8,
    "start_time": "2023-02-09T18:23:10.298Z"
   },
   {
    "duration": 13,
    "start_time": "2023-02-09T18:23:10.508Z"
   },
   {
    "duration": 23,
    "start_time": "2023-02-09T18:23:10.829Z"
   },
   {
    "duration": 153,
    "start_time": "2023-02-09T18:23:11.099Z"
   },
   {
    "duration": 137,
    "start_time": "2023-02-09T18:23:11.528Z"
   },
   {
    "duration": 10,
    "start_time": "2023-02-09T18:23:12.695Z"
   },
   {
    "duration": 7,
    "start_time": "2023-02-09T18:23:13.206Z"
   },
   {
    "duration": 11,
    "start_time": "2023-02-09T18:23:17.691Z"
   },
   {
    "duration": 130,
    "start_time": "2023-02-09T18:23:17.832Z"
   },
   {
    "duration": 8,
    "start_time": "2023-02-09T18:23:18.006Z"
   },
   {
    "duration": 10,
    "start_time": "2023-02-09T18:23:18.145Z"
   },
   {
    "duration": 3,
    "start_time": "2023-02-09T18:23:20.408Z"
   },
   {
    "duration": 7,
    "start_time": "2023-02-09T18:23:20.624Z"
   },
   {
    "duration": 11,
    "start_time": "2023-02-09T18:23:20.913Z"
   },
   {
    "duration": 8,
    "start_time": "2023-02-09T18:23:21.121Z"
   },
   {
    "duration": 20,
    "start_time": "2023-02-09T18:23:22.248Z"
   },
   {
    "duration": 11,
    "start_time": "2023-02-09T18:23:22.474Z"
   },
   {
    "duration": 6,
    "start_time": "2023-02-09T18:23:22.616Z"
   },
   {
    "duration": 7,
    "start_time": "2023-02-09T18:23:22.807Z"
   },
   {
    "duration": 125,
    "start_time": "2023-02-09T18:23:22.990Z"
   },
   {
    "duration": 279,
    "start_time": "2023-02-09T18:23:23.298Z"
   },
   {
    "duration": 26,
    "start_time": "2023-02-09T18:23:23.612Z"
   },
   {
    "duration": 16,
    "start_time": "2023-02-09T18:23:23.817Z"
   },
   {
    "duration": 17,
    "start_time": "2023-02-09T18:23:24.419Z"
   },
   {
    "duration": 9,
    "start_time": "2023-02-09T18:23:24.590Z"
   },
   {
    "duration": 16,
    "start_time": "2023-02-09T18:23:26.113Z"
   },
   {
    "duration": 2,
    "start_time": "2023-02-09T18:23:26.312Z"
   },
   {
    "duration": 14,
    "start_time": "2023-02-09T18:23:26.935Z"
   },
   {
    "duration": 7,
    "start_time": "2023-02-09T18:23:27.794Z"
   },
   {
    "duration": 14,
    "start_time": "2023-02-09T18:23:27.990Z"
   },
   {
    "duration": 5,
    "start_time": "2023-02-09T18:23:28.117Z"
   },
   {
    "duration": 6,
    "start_time": "2023-02-09T18:23:28.294Z"
   },
   {
    "duration": 29,
    "start_time": "2023-02-09T18:23:28.430Z"
   },
   {
    "duration": 141,
    "start_time": "2023-02-09T18:23:28.611Z"
   },
   {
    "duration": 7,
    "start_time": "2023-02-09T18:23:29.624Z"
   },
   {
    "duration": 7,
    "start_time": "2023-02-09T18:23:29.904Z"
   },
   {
    "duration": 10,
    "start_time": "2023-02-09T18:23:30.417Z"
   },
   {
    "duration": 3,
    "start_time": "2023-02-09T18:23:30.616Z"
   },
   {
    "duration": 8,
    "start_time": "2023-02-09T18:23:33.929Z"
   },
   {
    "duration": 10,
    "start_time": "2023-02-09T18:23:34.082Z"
   },
   {
    "duration": 7,
    "start_time": "2023-02-09T18:23:34.226Z"
   },
   {
    "duration": 8,
    "start_time": "2023-02-09T18:23:34.386Z"
   },
   {
    "duration": 15,
    "start_time": "2023-02-09T18:23:34.521Z"
   },
   {
    "duration": 33,
    "start_time": "2023-02-09T18:23:34.798Z"
   },
   {
    "duration": 124,
    "start_time": "2023-02-09T18:23:34.943Z"
   },
   {
    "duration": 12,
    "start_time": "2023-02-09T18:23:35.586Z"
   },
   {
    "duration": 6,
    "start_time": "2023-02-09T18:23:35.727Z"
   },
   {
    "duration": 15,
    "start_time": "2023-02-09T18:23:36.625Z"
   },
   {
    "duration": 14,
    "start_time": "2023-02-09T18:23:36.930Z"
   },
   {
    "duration": 15,
    "start_time": "2023-02-09T18:23:37.256Z"
   },
   {
    "duration": 5,
    "start_time": "2023-02-09T18:23:38.178Z"
   },
   {
    "duration": 7,
    "start_time": "2023-02-09T18:23:38.509Z"
   },
   {
    "duration": 109,
    "start_time": "2023-02-09T18:23:39.178Z"
   },
   {
    "duration": 8,
    "start_time": "2023-02-09T18:23:39.615Z"
   },
   {
    "duration": 6,
    "start_time": "2023-02-09T18:23:39.814Z"
   },
   {
    "duration": 7,
    "start_time": "2023-02-09T18:23:42.790Z"
   },
   {
    "duration": 2,
    "start_time": "2023-02-09T18:23:42.990Z"
   },
   {
    "duration": 13,
    "start_time": "2023-02-09T18:23:43.179Z"
   },
   {
    "duration": 15,
    "start_time": "2023-02-09T18:23:43.794Z"
   },
   {
    "duration": 15,
    "start_time": "2023-02-09T18:23:44.124Z"
   },
   {
    "duration": 7,
    "start_time": "2023-02-09T18:23:44.309Z"
   },
   {
    "duration": 6,
    "start_time": "2023-02-09T18:23:44.479Z"
   },
   {
    "duration": 34,
    "start_time": "2023-02-09T18:23:44.608Z"
   },
   {
    "duration": 22,
    "start_time": "2023-02-09T18:23:44.804Z"
   },
   {
    "duration": 235,
    "start_time": "2023-02-09T18:23:44.962Z"
   },
   {
    "duration": 15,
    "start_time": "2023-02-09T18:23:46.191Z"
   },
   {
    "duration": 16,
    "start_time": "2023-02-09T18:23:46.382Z"
   },
   {
    "duration": 12,
    "start_time": "2023-02-09T18:23:47.000Z"
   },
   {
    "duration": 2,
    "start_time": "2023-02-09T18:23:47.534Z"
   },
   {
    "duration": 11,
    "start_time": "2023-02-09T18:23:48.207Z"
   },
   {
    "duration": 7,
    "start_time": "2023-02-09T18:23:52.186Z"
   },
   {
    "duration": 3,
    "start_time": "2023-02-09T18:23:52.430Z"
   },
   {
    "duration": 16,
    "start_time": "2023-02-09T18:23:52.820Z"
   },
   {
    "duration": 40,
    "start_time": "2023-02-09T18:24:27.926Z"
   },
   {
    "duration": 3,
    "start_time": "2023-02-09T18:24:29.137Z"
   },
   {
    "duration": 4,
    "start_time": "2023-02-09T18:24:29.678Z"
   },
   {
    "duration": 4,
    "start_time": "2023-02-09T18:24:47.071Z"
   },
   {
    "duration": 8,
    "start_time": "2023-02-09T18:24:48.544Z"
   },
   {
    "duration": 9,
    "start_time": "2023-02-09T18:24:49.578Z"
   },
   {
    "duration": 4,
    "start_time": "2023-02-09T18:24:50.190Z"
   },
   {
    "duration": 3,
    "start_time": "2023-02-09T18:25:10.209Z"
   },
   {
    "duration": 7,
    "start_time": "2023-02-09T18:25:10.586Z"
   },
   {
    "duration": 5,
    "start_time": "2023-02-09T18:25:12.008Z"
   },
   {
    "duration": 1536,
    "start_time": "2023-02-09T18:25:20.094Z"
   },
   {
    "duration": 78,
    "start_time": "2023-02-09T18:27:12.830Z"
   },
   {
    "duration": 8478,
    "start_time": "2023-02-09T18:27:17.390Z"
   },
   {
    "duration": 548,
    "start_time": "2023-02-09T18:27:25.878Z"
   },
   {
    "duration": 7429,
    "start_time": "2023-02-09T18:27:26.427Z"
   },
   {
    "duration": 561,
    "start_time": "2023-02-09T18:27:33.863Z"
   },
   {
    "duration": 5538,
    "start_time": "2023-02-09T18:27:34.426Z"
   },
   {
    "duration": 5,
    "start_time": "2023-02-09T18:27:40.045Z"
   },
   {
    "duration": 19,
    "start_time": "2023-02-09T18:27:40.055Z"
   },
   {
    "duration": 41,
    "start_time": "2023-02-09T18:27:40.076Z"
   },
   {
    "duration": 26,
    "start_time": "2023-02-09T18:27:40.119Z"
   },
   {
    "duration": 19,
    "start_time": "2023-02-09T18:27:40.152Z"
   },
   {
    "duration": 15,
    "start_time": "2023-02-09T18:27:40.173Z"
   },
   {
    "duration": 6,
    "start_time": "2023-02-09T18:27:44.095Z"
   }
  ],
  "kernelspec": {
   "display_name": "Python 3 (ipykernel)",
   "language": "python",
   "name": "python3"
  },
  "language_info": {
   "codemirror_mode": {
    "name": "ipython",
    "version": 3
   },
   "file_extension": ".py",
   "mimetype": "text/x-python",
   "name": "python",
   "nbconvert_exporter": "python",
   "pygments_lexer": "ipython3",
   "version": "3.9.16"
  },
  "toc": {
   "base_numbering": 1,
   "nav_menu": {},
   "number_sections": true,
   "sideBar": true,
   "skip_h1_title": true,
   "title_cell": "Table of Contents",
   "title_sidebar": "Contents",
   "toc_cell": true,
   "toc_position": {
    "height": "calc(100% - 180px)",
    "left": "10px",
    "top": "150px",
    "width": "384px"
   },
   "toc_section_display": true,
   "toc_window_display": true
  }
 },
 "nbformat": 4,
 "nbformat_minor": 5
}
