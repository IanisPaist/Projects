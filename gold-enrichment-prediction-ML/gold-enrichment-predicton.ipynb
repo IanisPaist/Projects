{
 "cells": [
  {
   "cell_type": "markdown",
   "id": "f7e604c0",
   "metadata": {
    "toc": true
   },
   "source": [
    "<h1>Table of Contents<span class=\"tocSkip\"></span></h1>\n",
    "<div class=\"toc\"><ul class=\"toc-item\"><li><span><a href=\"#Описание-проекта\" data-toc-modified-id=\"Описание-проекта-1\"><span class=\"toc-item-num\">1&nbsp;&nbsp;</span>Описание проекта</a></span></li><li><span><a href=\"#Импорт-библиотек\" data-toc-modified-id=\"Импорт-библиотек-2\"><span class=\"toc-item-num\">2&nbsp;&nbsp;</span>Импорт библиотек</a></span></li><li><span><a href=\"#Загрузка-и-предобработка-данных\" data-toc-modified-id=\"Загрузка-и-предобработка-данных-3\"><span class=\"toc-item-num\">3&nbsp;&nbsp;</span>Загрузка и предобработка данных</a></span><ul class=\"toc-item\"><li><span><a href=\"#Загрузка-данных\" data-toc-modified-id=\"Загрузка-данных-3.1\"><span class=\"toc-item-num\">3.1&nbsp;&nbsp;</span>Загрузка данных</a></span></li><li><span><a href=\"#Проверка-корректности-расчета-формулы-эффективности-обогащения-руды-в-полном-датасете\" data-toc-modified-id=\"Проверка-корректности-расчета-формулы-эффективности-обогащения-руды-в-полном-датасете-3.2\"><span class=\"toc-item-num\">3.2&nbsp;&nbsp;</span>Проверка корректности расчета формулы эффективности обогащения руды в полном датасете</a></span></li><li><span><a href=\"#Анализ-параметров-в-полном-датасете-и-выборках-test-и-train\" data-toc-modified-id=\"Анализ-параметров-в-полном-датасете-и-выборках-test-и-train-3.3\"><span class=\"toc-item-num\">3.3&nbsp;&nbsp;</span>Анализ параметров в полном датасете и выборках test и train</a></span></li><li><span><a href=\"#Предобработка-данных\" data-toc-modified-id=\"Предобработка-данных-3.4\"><span class=\"toc-item-num\">3.4&nbsp;&nbsp;</span>Предобработка данных</a></span></li></ul></li><li><span><a href=\"#Анализ-данных\" data-toc-modified-id=\"Анализ-данных-4\"><span class=\"toc-item-num\">4&nbsp;&nbsp;</span>Анализ данных</a></span><ul class=\"toc-item\"><li><span><a href=\"#Изменение-концентраций-металлов-на-всех-этапах-процесса-(Au,-Ag,-Pb)\" data-toc-modified-id=\"Изменение-концентраций-металлов-на-всех-этапах-процесса-(Au,-Ag,-Pb)-4.1\"><span class=\"toc-item-num\">4.1&nbsp;&nbsp;</span>Изменение концентраций металлов на всех этапах процесса (Au, Ag, Pb)</a></span></li><li><span><a href=\"#Сравнение-распределения-размеров-гранул-сырья-на-обучающей-и-тестовой-выборках\" data-toc-modified-id=\"Сравнение-распределения-размеров-гранул-сырья-на-обучающей-и-тестовой-выборках-4.2\"><span class=\"toc-item-num\">4.2&nbsp;&nbsp;</span>Сравнение распределения размеров гранул сырья на обучающей и тестовой выборках</a></span></li><li><span><a href=\"#Анализ-суммарной-концентрации-всех-веществ-на-разных-стадиях:-в-сырье,-в-черновом-и-финальном-концентратах\" data-toc-modified-id=\"Анализ-суммарной-концентрации-всех-веществ-на-разных-стадиях:-в-сырье,-в-черновом-и-финальном-концентратах-4.3\"><span class=\"toc-item-num\">4.3&nbsp;&nbsp;</span>Анализ суммарной концентрации всех веществ на разных стадиях: в сырье, в черновом и финальном концентратах</a></span></li></ul></li><li><span><a href=\"#Построение-моделей\" data-toc-modified-id=\"Построение-моделей-5\"><span class=\"toc-item-num\">5&nbsp;&nbsp;</span>Построение моделей</a></span><ul class=\"toc-item\"><li><span><a href=\"#Функция-sMAPE\" data-toc-modified-id=\"Функция-sMAPE-5.1\"><span class=\"toc-item-num\">5.1&nbsp;&nbsp;</span>Функция sMAPE</a></span></li><li><span><a href=\"#Сформируем-массивы-X_train,-X_test,-y_train,-y_test\" data-toc-modified-id=\"Сформируем-массивы-X_train,-X_test,-y_train,-y_test-5.2\"><span class=\"toc-item-num\">5.2&nbsp;&nbsp;</span>Сформируем массивы X_train, X_test, y_train, y_test</a></span></li><li><span><a href=\"#Линейная-регрессия\" data-toc-modified-id=\"Линейная-регрессия-5.3\"><span class=\"toc-item-num\">5.3&nbsp;&nbsp;</span>Линейная регрессия</a></span></li><li><span><a href=\"#Случайный-лес\" data-toc-modified-id=\"Случайный-лес-5.4\"><span class=\"toc-item-num\">5.4&nbsp;&nbsp;</span>Случайный лес</a></span></li><li><span><a href=\"#Дерево-решений\" data-toc-modified-id=\"Дерево-решений-5.5\"><span class=\"toc-item-num\">5.5&nbsp;&nbsp;</span>Дерево решений</a></span></li><li><span><a href=\"#Dummy-Regressor\" data-toc-modified-id=\"Dummy-Regressor-5.6\"><span class=\"toc-item-num\">5.6&nbsp;&nbsp;</span>Dummy Regressor</a></span></li><li><span><a href=\"#Проверка-лучшей-модели-на-тестовой-выборке\" data-toc-modified-id=\"Проверка-лучшей-модели-на-тестовой-выборке-5.7\"><span class=\"toc-item-num\">5.7&nbsp;&nbsp;</span>Проверка лучшей модели на тестовой выборке</a></span></li><li><span><a href=\"#Общие-выводы\" data-toc-modified-id=\"Общие-выводы-5.8\"><span class=\"toc-item-num\">5.8&nbsp;&nbsp;</span>Общие выводы</a></span></li></ul></li></ul></div>"
   ]
  },
  {
   "cell_type": "markdown",
   "id": "be611615",
   "metadata": {},
   "source": [
    "# Проект: Моделирование Процесса Восстановления Золота из Золотосодержащей Руды."
   ]
  },
  {
   "cell_type": "markdown",
   "id": "a31778ed",
   "metadata": {},
   "source": [
    "## Описание проекта"
   ]
  },
  {
   "cell_type": "markdown",
   "id": "d14711e9",
   "metadata": {},
   "source": [
    "**Цель**\n",
    "\n",
    "Смоделировать процесс восстановления золота из золотосодержащей руды\n",
    "\n",
    "\n",
    "\n",
    "**Технологический процесс**\n",
    "\n",
    "* Когда добытая руда проходит первичную обработку, получается дроблёная смесь. Её отправляют на флотацию (обогащение) и двухэтапную очистку\n",
    "* Во флотационную установку подаётся смесь золотосодержащей руды. После обогащения получается черновой концентрат и «отвальные хвосты», то есть остатки продукта с низкой концентрацией ценных металлов. На стабильность этого процесса влияет непостоянное и неоптимальное физико-химическое состояние флотационной пульпы (смеси твёрдых частиц и жидкости).\n",
    "* Черновой концентрат проходит две очистки. На выходе получается финальный концентрат и новые отвальные хвосты.\n",
    "\n",
    "> * Итого: руда >> дробление >> дроблёная смесь >> флотация (обогащение) >> черновой концентрат (+ отвальные хвосты (отходы) > >> 2 стадии очистки >> финальный концентрат (+отходы)\n",
    "\n",
    "___ \n",
    "**Имеющиеся данные**\n",
    "\n",
    "*Технологический процесс* \n",
    "* `Rougher feed` — исходное сырье\n",
    "* `Rougher additions (или reagent additions)` — флотационные реагенты: Xanthate, Sulphate, Depressant\n",
    "    * `Xanthate` — ксантогенат (промотер, или активатор флотации);\n",
    "    * `Sulphate` — сульфат (на данном производстве сульфид натрия);\n",
    "    * `Depressant` — депрессант (силикат натрия).\n",
    "* `Rougher process` (англ. «грубый процесс») — флотация\n",
    "* `Rougher tails` — отвальные хвосты\n",
    "* `Float banks` — флотационная установка\n",
    "* `Cleaner process` — очистка\n",
    "* `Rougher Au` — черновой концентрат золота\n",
    "* `Final Au` — финальный концентрат золота\n",
    "\n",
    "*Параметры этапов*\n",
    "* `air_amount` — объём воздуха\n",
    "* `fluid_levels` — уровень жидкости\n",
    "* `feed_size` — размер гранул сырья\n",
    "* `feed_rate` — скорость подачи\n",
    "\n",
    "> Название признаков представлено в формате `[этап].[тип_параметра].[название_параметра]`, пример `rougher.input.feed_ag`\n",
    "\n",
    "*Возможные значения для блока `[этап]`*:\n",
    "* `rougher` — флотация\n",
    "* `primary_cleaner` — первичная очистка\n",
    "* `secondary_cleaner` — вторичная очистка\n",
    "* `final` — финальные характеристики\n",
    "\n",
    "\n",
    "*Возможные значения для блока `[тип_параметра]`*:\n",
    "* `input` — параметры сырья\n",
    "* `output` — параметры продукта\n",
    "* `state` — параметры, характеризующие текущее состояние этапа\n",
    "* `calculation` — расчётные характеристики\n",
    "\n",
    "*Дополнительная информация*\n",
    "* Некоторые параметры недоступны, потому что замеряются и/или рассчитываются значительно позже. \n",
    "* Из-за этого в тестовой выборке отсутствуют некоторые признаки, которые могут быть в обучающей. \n",
    "* Также в тестовом наборе нет целевых признаков. \n",
    "* Данные индексируются датой и временем получения информации (признак date). Соседние по времени параметры часто похожи.\n",
    "___ \n",
    "**Формула обогащения руды**\n",
    "\n",
    "Эффективность обогащения рассчитывается по формуле\n",
    "$ Recovery = \\frac{C * (F-T)}{ F * (C-T)} * 100\\% $  \n",
    "* C — доля золота в концентрате после флотации/очистки;\n",
    "* F — доля золота в сырье/концентрате до флотации/очистки;\n",
    "* T — доля золота в отвальных хвостах после флотации/очистки.\n",
    "\n",
    "Важна доля золота в концентратах, хвостах и черновом концентрате.\n",
    "___\n",
    "\n",
    "**Метрики качества модели**\n",
    "\n",
    "Нужно спрогнозировать сразу две величины:\n",
    "* эффективность обогащения чернового концентрата `rougher.output.recovery`;\n",
    "* эффективность обогащения финального концентрата `final.output.recovery`.\n",
    "\n",
    "Итоговая метрика качества модели:\n",
    "$ RESULT\\_sMAPE = sMAPE(rougher) * 25\\% + sMAPE(final) * 75\\% $ \n",
    "\n",
    "___\n",
    "\n",
    "**План выполнения проекта:**\n",
    "\n",
    "\n",
    "*Этап 1*\n",
    "* Загрузить исходные данные\n",
    "* Проверить формулу вычисления эффективности обогащения\n",
    "* Проанализировать признаки на полной, обучающей и тестовой выборках\n",
    "* Провести предобработку данных\n",
    "\n",
    "*Этап 2*\n",
    "* Проанализировать изменение концентраций металлов на всех этапах процесса (Au, Ag, Pb)\n",
    "* Сравненить распределения размеров гранул сырья на обучающей и тестовой выборках\n",
    "* Проанализировать суммарную концентрацию всех веществ на разных стадиях: в сырье, в черновом и финальном концентратах\n",
    "* В случае обнаружения аномалий, обработать их / удалить\n",
    "\n",
    "*Этап 3*\n",
    "* Построить модели линейной регрессии, случайного леса и дерева решений и оценить их качество с помощьью метрики sMAPE\n",
    "* Выбрать наилучшую модель для прогноза каждого из двух целевых показателей\n",
    "* Проверить качество лучшей модели на тестовой выборке\n",
    "* Сделать выводы о применимости данной модели\n",
    "\n",
    "___"
   ]
  },
  {
   "cell_type": "markdown",
   "id": "6e0ce776",
   "metadata": {},
   "source": [
    "## Импорт библиотек"
   ]
  },
  {
   "cell_type": "code",
   "execution_count": 1,
   "id": "73affadb",
   "metadata": {},
   "outputs": [],
   "source": [
    "#установка дополнительных модулей\n",
    "#!pip install -q pandas-profiling\n",
    "#!pip install -U imbalanced-learn"
   ]
  },
  {
   "cell_type": "code",
   "execution_count": 2,
   "id": "dcd7b20c",
   "metadata": {},
   "outputs": [],
   "source": [
    "import os\n",
    "import pandas as pd\n",
    "import numpy as np\n",
    "import seaborn as sns\n",
    "import matplotlib.pyplot as plt \n",
    "import pandas_profiling\n",
    "from sklearn.metrics import mean_absolute_error, make_scorer\n",
    "from sklearn.compose import make_column_transformer\n",
    "from sklearn.preprocessing import OneHotEncoder,StandardScaler\n",
    "from sklearn.model_selection import train_test_split, cross_val_score, GridSearchCV, cross_validate, KFold\n",
    "from imblearn.pipeline import Pipeline, make_pipeline\n",
    "from sklearn.linear_model import LinearRegression\n",
    "from sklearn.ensemble import RandomForestRegressor\n",
    "from sklearn.dummy import DummyRegressor\n",
    "from sklearn.tree import DecisionTreeRegressor"
   ]
  },
  {
   "cell_type": "code",
   "execution_count": 3,
   "id": "1f0df218",
   "metadata": {},
   "outputs": [],
   "source": [
    "sns.set_palette(\"pastel\")"
   ]
  },
  {
   "cell_type": "markdown",
   "id": "df1c4636",
   "metadata": {},
   "source": [
    "___"
   ]
  },
  {
   "cell_type": "markdown",
   "id": "c3b4fe1c",
   "metadata": {},
   "source": [
    "## Загрузка и предобработка данных "
   ]
  },
  {
   "cell_type": "markdown",
   "id": "ea18ceb1",
   "metadata": {},
   "source": [
    "### Загрузка данных"
   ]
  },
  {
   "cell_type": "code",
   "execution_count": 4,
   "id": "5f1385ca",
   "metadata": {},
   "outputs": [],
   "source": [
    "#считываем данные\n",
    "\n",
    "#пути к онлайн файлам\n",
    "pth_on_full = '/datasets/gold_recovery_full_new.csv'\n",
    "pth_on_test = '/datasets/gold_recovery_test_new.csv'\n",
    "pth_on_train ='/datasets/gold_recovery_train_new.csv'\n",
    "\n",
    "#пути к оффлайн файлам\n",
    "pth_off_full = 'gold_recovery_full_new.csv'\n",
    "pth_off_test = 'gold_recovery_test_new.csv'\n",
    "pth_off_train ='gold_recovery_train_new.csv'\n",
    "\n",
    "#проверяем, какой путь брать - онлайн или оффлайн\n",
    "if os.path.exists(pth_off_full):\n",
    "    df_full = pd.read_csv(pth_off_full)\n",
    "    df_test = pd.read_csv(pth_off_test)\n",
    "    df_train = pd.read_csv(pth_off_train)\n",
    "    \n",
    "elif os.path.exists(pth_on_full):\n",
    "    df_full = pd.read_csv(pth_on_full)\n",
    "    df_test = pd.read_csv(pth_on_test)\n",
    "    df_train = pd.read_csv(pth_on_train)\n",
    "    \n",
    "else:\n",
    "    print('Проверьте путь к файлу.')"
   ]
  },
  {
   "cell_type": "code",
   "execution_count": 5,
   "id": "2d6a248e",
   "metadata": {},
   "outputs": [
    {
     "data": {
      "text/html": [
       "<div>\n",
       "<style scoped>\n",
       "    .dataframe tbody tr th:only-of-type {\n",
       "        vertical-align: middle;\n",
       "    }\n",
       "\n",
       "    .dataframe tbody tr th {\n",
       "        vertical-align: top;\n",
       "    }\n",
       "\n",
       "    .dataframe thead th {\n",
       "        text-align: right;\n",
       "    }\n",
       "</style>\n",
       "<table border=\"1\" class=\"dataframe\">\n",
       "  <thead>\n",
       "    <tr style=\"text-align: right;\">\n",
       "      <th></th>\n",
       "      <th>date</th>\n",
       "      <th>final.output.concentrate_ag</th>\n",
       "      <th>final.output.concentrate_pb</th>\n",
       "      <th>final.output.concentrate_sol</th>\n",
       "      <th>final.output.concentrate_au</th>\n",
       "      <th>final.output.recovery</th>\n",
       "      <th>final.output.tail_ag</th>\n",
       "      <th>final.output.tail_pb</th>\n",
       "      <th>final.output.tail_sol</th>\n",
       "      <th>final.output.tail_au</th>\n",
       "      <th>...</th>\n",
       "      <th>secondary_cleaner.state.floatbank4_a_air</th>\n",
       "      <th>secondary_cleaner.state.floatbank4_a_level</th>\n",
       "      <th>secondary_cleaner.state.floatbank4_b_air</th>\n",
       "      <th>secondary_cleaner.state.floatbank4_b_level</th>\n",
       "      <th>secondary_cleaner.state.floatbank5_a_air</th>\n",
       "      <th>secondary_cleaner.state.floatbank5_a_level</th>\n",
       "      <th>secondary_cleaner.state.floatbank5_b_air</th>\n",
       "      <th>secondary_cleaner.state.floatbank5_b_level</th>\n",
       "      <th>secondary_cleaner.state.floatbank6_a_air</th>\n",
       "      <th>secondary_cleaner.state.floatbank6_a_level</th>\n",
       "    </tr>\n",
       "  </thead>\n",
       "  <tbody>\n",
       "    <tr>\n",
       "      <th>0</th>\n",
       "      <td>2016-01-15 00:00:00</td>\n",
       "      <td>6.055403</td>\n",
       "      <td>9.889648</td>\n",
       "      <td>5.507324</td>\n",
       "      <td>42.192020</td>\n",
       "      <td>70.541216</td>\n",
       "      <td>10.411962</td>\n",
       "      <td>0.895447</td>\n",
       "      <td>16.904297</td>\n",
       "      <td>2.143149</td>\n",
       "      <td>...</td>\n",
       "      <td>14.016835</td>\n",
       "      <td>-502.488007</td>\n",
       "      <td>12.099931</td>\n",
       "      <td>-504.715942</td>\n",
       "      <td>9.925633</td>\n",
       "      <td>-498.310211</td>\n",
       "      <td>8.079666</td>\n",
       "      <td>-500.470978</td>\n",
       "      <td>14.151341</td>\n",
       "      <td>-605.841980</td>\n",
       "    </tr>\n",
       "    <tr>\n",
       "      <th>1</th>\n",
       "      <td>2016-01-15 01:00:00</td>\n",
       "      <td>6.029369</td>\n",
       "      <td>9.968944</td>\n",
       "      <td>5.257781</td>\n",
       "      <td>42.701629</td>\n",
       "      <td>69.266198</td>\n",
       "      <td>10.462676</td>\n",
       "      <td>0.927452</td>\n",
       "      <td>16.634514</td>\n",
       "      <td>2.224930</td>\n",
       "      <td>...</td>\n",
       "      <td>13.992281</td>\n",
       "      <td>-505.503262</td>\n",
       "      <td>11.950531</td>\n",
       "      <td>-501.331529</td>\n",
       "      <td>10.039245</td>\n",
       "      <td>-500.169983</td>\n",
       "      <td>7.984757</td>\n",
       "      <td>-500.582168</td>\n",
       "      <td>13.998353</td>\n",
       "      <td>-599.787184</td>\n",
       "    </tr>\n",
       "  </tbody>\n",
       "</table>\n",
       "<p>2 rows × 87 columns</p>\n",
       "</div>"
      ],
      "text/plain": [
       "                  date  final.output.concentrate_ag  \\\n",
       "0  2016-01-15 00:00:00                     6.055403   \n",
       "1  2016-01-15 01:00:00                     6.029369   \n",
       "\n",
       "   final.output.concentrate_pb  final.output.concentrate_sol  \\\n",
       "0                     9.889648                      5.507324   \n",
       "1                     9.968944                      5.257781   \n",
       "\n",
       "   final.output.concentrate_au  final.output.recovery  final.output.tail_ag  \\\n",
       "0                    42.192020              70.541216             10.411962   \n",
       "1                    42.701629              69.266198             10.462676   \n",
       "\n",
       "   final.output.tail_pb  final.output.tail_sol  final.output.tail_au  ...  \\\n",
       "0              0.895447              16.904297              2.143149  ...   \n",
       "1              0.927452              16.634514              2.224930  ...   \n",
       "\n",
       "   secondary_cleaner.state.floatbank4_a_air  \\\n",
       "0                                 14.016835   \n",
       "1                                 13.992281   \n",
       "\n",
       "   secondary_cleaner.state.floatbank4_a_level  \\\n",
       "0                                 -502.488007   \n",
       "1                                 -505.503262   \n",
       "\n",
       "   secondary_cleaner.state.floatbank4_b_air  \\\n",
       "0                                 12.099931   \n",
       "1                                 11.950531   \n",
       "\n",
       "   secondary_cleaner.state.floatbank4_b_level  \\\n",
       "0                                 -504.715942   \n",
       "1                                 -501.331529   \n",
       "\n",
       "   secondary_cleaner.state.floatbank5_a_air  \\\n",
       "0                                  9.925633   \n",
       "1                                 10.039245   \n",
       "\n",
       "   secondary_cleaner.state.floatbank5_a_level  \\\n",
       "0                                 -498.310211   \n",
       "1                                 -500.169983   \n",
       "\n",
       "   secondary_cleaner.state.floatbank5_b_air  \\\n",
       "0                                  8.079666   \n",
       "1                                  7.984757   \n",
       "\n",
       "   secondary_cleaner.state.floatbank5_b_level  \\\n",
       "0                                 -500.470978   \n",
       "1                                 -500.582168   \n",
       "\n",
       "   secondary_cleaner.state.floatbank6_a_air  \\\n",
       "0                                 14.151341   \n",
       "1                                 13.998353   \n",
       "\n",
       "   secondary_cleaner.state.floatbank6_a_level  \n",
       "0                                 -605.841980  \n",
       "1                                 -599.787184  \n",
       "\n",
       "[2 rows x 87 columns]"
      ]
     },
     "execution_count": 5,
     "metadata": {},
     "output_type": "execute_result"
    }
   ],
   "source": [
    "#проверяем запись данных в датасет\n",
    "df_full.head(2)"
   ]
  },
  {
   "cell_type": "code",
   "execution_count": 6,
   "id": "0a8eb49b",
   "metadata": {},
   "outputs": [
    {
     "data": {
      "text/html": [
       "<div>\n",
       "<style scoped>\n",
       "    .dataframe tbody tr th:only-of-type {\n",
       "        vertical-align: middle;\n",
       "    }\n",
       "\n",
       "    .dataframe tbody tr th {\n",
       "        vertical-align: top;\n",
       "    }\n",
       "\n",
       "    .dataframe thead th {\n",
       "        text-align: right;\n",
       "    }\n",
       "</style>\n",
       "<table border=\"1\" class=\"dataframe\">\n",
       "  <thead>\n",
       "    <tr style=\"text-align: right;\">\n",
       "      <th></th>\n",
       "      <th>date</th>\n",
       "      <th>primary_cleaner.input.sulfate</th>\n",
       "      <th>primary_cleaner.input.depressant</th>\n",
       "      <th>primary_cleaner.input.feed_size</th>\n",
       "      <th>primary_cleaner.input.xanthate</th>\n",
       "      <th>primary_cleaner.state.floatbank8_a_air</th>\n",
       "      <th>primary_cleaner.state.floatbank8_a_level</th>\n",
       "      <th>primary_cleaner.state.floatbank8_b_air</th>\n",
       "      <th>primary_cleaner.state.floatbank8_b_level</th>\n",
       "      <th>primary_cleaner.state.floatbank8_c_air</th>\n",
       "      <th>...</th>\n",
       "      <th>secondary_cleaner.state.floatbank4_a_air</th>\n",
       "      <th>secondary_cleaner.state.floatbank4_a_level</th>\n",
       "      <th>secondary_cleaner.state.floatbank4_b_air</th>\n",
       "      <th>secondary_cleaner.state.floatbank4_b_level</th>\n",
       "      <th>secondary_cleaner.state.floatbank5_a_air</th>\n",
       "      <th>secondary_cleaner.state.floatbank5_a_level</th>\n",
       "      <th>secondary_cleaner.state.floatbank5_b_air</th>\n",
       "      <th>secondary_cleaner.state.floatbank5_b_level</th>\n",
       "      <th>secondary_cleaner.state.floatbank6_a_air</th>\n",
       "      <th>secondary_cleaner.state.floatbank6_a_level</th>\n",
       "    </tr>\n",
       "  </thead>\n",
       "  <tbody>\n",
       "    <tr>\n",
       "      <th>0</th>\n",
       "      <td>2016-09-01 00:59:59</td>\n",
       "      <td>210.800909</td>\n",
       "      <td>14.993118</td>\n",
       "      <td>8.08</td>\n",
       "      <td>1.005021</td>\n",
       "      <td>1398.981301</td>\n",
       "      <td>-500.225577</td>\n",
       "      <td>1399.144926</td>\n",
       "      <td>-499.919735</td>\n",
       "      <td>1400.102998</td>\n",
       "      <td>...</td>\n",
       "      <td>12.023554</td>\n",
       "      <td>-497.795834</td>\n",
       "      <td>8.016656</td>\n",
       "      <td>-501.289139</td>\n",
       "      <td>7.946562</td>\n",
       "      <td>-432.317850</td>\n",
       "      <td>4.872511</td>\n",
       "      <td>-500.037437</td>\n",
       "      <td>26.705889</td>\n",
       "      <td>-499.709414</td>\n",
       "    </tr>\n",
       "    <tr>\n",
       "      <th>1</th>\n",
       "      <td>2016-09-01 01:59:59</td>\n",
       "      <td>215.392455</td>\n",
       "      <td>14.987471</td>\n",
       "      <td>8.08</td>\n",
       "      <td>0.990469</td>\n",
       "      <td>1398.777912</td>\n",
       "      <td>-500.057435</td>\n",
       "      <td>1398.055362</td>\n",
       "      <td>-499.778182</td>\n",
       "      <td>1396.151033</td>\n",
       "      <td>...</td>\n",
       "      <td>12.058140</td>\n",
       "      <td>-498.695773</td>\n",
       "      <td>8.130979</td>\n",
       "      <td>-499.634209</td>\n",
       "      <td>7.958270</td>\n",
       "      <td>-525.839648</td>\n",
       "      <td>4.878850</td>\n",
       "      <td>-500.162375</td>\n",
       "      <td>25.019940</td>\n",
       "      <td>-499.819438</td>\n",
       "    </tr>\n",
       "  </tbody>\n",
       "</table>\n",
       "<p>2 rows × 53 columns</p>\n",
       "</div>"
      ],
      "text/plain": [
       "                  date  primary_cleaner.input.sulfate  \\\n",
       "0  2016-09-01 00:59:59                     210.800909   \n",
       "1  2016-09-01 01:59:59                     215.392455   \n",
       "\n",
       "   primary_cleaner.input.depressant  primary_cleaner.input.feed_size  \\\n",
       "0                         14.993118                             8.08   \n",
       "1                         14.987471                             8.08   \n",
       "\n",
       "   primary_cleaner.input.xanthate  primary_cleaner.state.floatbank8_a_air  \\\n",
       "0                        1.005021                             1398.981301   \n",
       "1                        0.990469                             1398.777912   \n",
       "\n",
       "   primary_cleaner.state.floatbank8_a_level  \\\n",
       "0                               -500.225577   \n",
       "1                               -500.057435   \n",
       "\n",
       "   primary_cleaner.state.floatbank8_b_air  \\\n",
       "0                             1399.144926   \n",
       "1                             1398.055362   \n",
       "\n",
       "   primary_cleaner.state.floatbank8_b_level  \\\n",
       "0                               -499.919735   \n",
       "1                               -499.778182   \n",
       "\n",
       "   primary_cleaner.state.floatbank8_c_air  ...  \\\n",
       "0                             1400.102998  ...   \n",
       "1                             1396.151033  ...   \n",
       "\n",
       "   secondary_cleaner.state.floatbank4_a_air  \\\n",
       "0                                 12.023554   \n",
       "1                                 12.058140   \n",
       "\n",
       "   secondary_cleaner.state.floatbank4_a_level  \\\n",
       "0                                 -497.795834   \n",
       "1                                 -498.695773   \n",
       "\n",
       "   secondary_cleaner.state.floatbank4_b_air  \\\n",
       "0                                  8.016656   \n",
       "1                                  8.130979   \n",
       "\n",
       "   secondary_cleaner.state.floatbank4_b_level  \\\n",
       "0                                 -501.289139   \n",
       "1                                 -499.634209   \n",
       "\n",
       "   secondary_cleaner.state.floatbank5_a_air  \\\n",
       "0                                  7.946562   \n",
       "1                                  7.958270   \n",
       "\n",
       "   secondary_cleaner.state.floatbank5_a_level  \\\n",
       "0                                 -432.317850   \n",
       "1                                 -525.839648   \n",
       "\n",
       "   secondary_cleaner.state.floatbank5_b_air  \\\n",
       "0                                  4.872511   \n",
       "1                                  4.878850   \n",
       "\n",
       "   secondary_cleaner.state.floatbank5_b_level  \\\n",
       "0                                 -500.037437   \n",
       "1                                 -500.162375   \n",
       "\n",
       "   secondary_cleaner.state.floatbank6_a_air  \\\n",
       "0                                 26.705889   \n",
       "1                                 25.019940   \n",
       "\n",
       "   secondary_cleaner.state.floatbank6_a_level  \n",
       "0                                 -499.709414  \n",
       "1                                 -499.819438  \n",
       "\n",
       "[2 rows x 53 columns]"
      ]
     },
     "execution_count": 6,
     "metadata": {},
     "output_type": "execute_result"
    }
   ],
   "source": [
    "#проверяем запись данных в датасет\n",
    "df_test.head(2)"
   ]
  },
  {
   "cell_type": "code",
   "execution_count": 7,
   "id": "419fa553",
   "metadata": {},
   "outputs": [
    {
     "data": {
      "text/html": [
       "<div>\n",
       "<style scoped>\n",
       "    .dataframe tbody tr th:only-of-type {\n",
       "        vertical-align: middle;\n",
       "    }\n",
       "\n",
       "    .dataframe tbody tr th {\n",
       "        vertical-align: top;\n",
       "    }\n",
       "\n",
       "    .dataframe thead th {\n",
       "        text-align: right;\n",
       "    }\n",
       "</style>\n",
       "<table border=\"1\" class=\"dataframe\">\n",
       "  <thead>\n",
       "    <tr style=\"text-align: right;\">\n",
       "      <th></th>\n",
       "      <th>date</th>\n",
       "      <th>final.output.concentrate_ag</th>\n",
       "      <th>final.output.concentrate_pb</th>\n",
       "      <th>final.output.concentrate_sol</th>\n",
       "      <th>final.output.concentrate_au</th>\n",
       "      <th>final.output.recovery</th>\n",
       "      <th>final.output.tail_ag</th>\n",
       "      <th>final.output.tail_pb</th>\n",
       "      <th>final.output.tail_sol</th>\n",
       "      <th>final.output.tail_au</th>\n",
       "      <th>...</th>\n",
       "      <th>secondary_cleaner.state.floatbank4_a_air</th>\n",
       "      <th>secondary_cleaner.state.floatbank4_a_level</th>\n",
       "      <th>secondary_cleaner.state.floatbank4_b_air</th>\n",
       "      <th>secondary_cleaner.state.floatbank4_b_level</th>\n",
       "      <th>secondary_cleaner.state.floatbank5_a_air</th>\n",
       "      <th>secondary_cleaner.state.floatbank5_a_level</th>\n",
       "      <th>secondary_cleaner.state.floatbank5_b_air</th>\n",
       "      <th>secondary_cleaner.state.floatbank5_b_level</th>\n",
       "      <th>secondary_cleaner.state.floatbank6_a_air</th>\n",
       "      <th>secondary_cleaner.state.floatbank6_a_level</th>\n",
       "    </tr>\n",
       "  </thead>\n",
       "  <tbody>\n",
       "    <tr>\n",
       "      <th>0</th>\n",
       "      <td>2016-01-15 00:00:00</td>\n",
       "      <td>6.055403</td>\n",
       "      <td>9.889648</td>\n",
       "      <td>5.507324</td>\n",
       "      <td>42.192020</td>\n",
       "      <td>70.541216</td>\n",
       "      <td>10.411962</td>\n",
       "      <td>0.895447</td>\n",
       "      <td>16.904297</td>\n",
       "      <td>2.143149</td>\n",
       "      <td>...</td>\n",
       "      <td>14.016835</td>\n",
       "      <td>-502.488007</td>\n",
       "      <td>12.099931</td>\n",
       "      <td>-504.715942</td>\n",
       "      <td>9.925633</td>\n",
       "      <td>-498.310211</td>\n",
       "      <td>8.079666</td>\n",
       "      <td>-500.470978</td>\n",
       "      <td>14.151341</td>\n",
       "      <td>-605.841980</td>\n",
       "    </tr>\n",
       "    <tr>\n",
       "      <th>1</th>\n",
       "      <td>2016-01-15 01:00:00</td>\n",
       "      <td>6.029369</td>\n",
       "      <td>9.968944</td>\n",
       "      <td>5.257781</td>\n",
       "      <td>42.701629</td>\n",
       "      <td>69.266198</td>\n",
       "      <td>10.462676</td>\n",
       "      <td>0.927452</td>\n",
       "      <td>16.634514</td>\n",
       "      <td>2.224930</td>\n",
       "      <td>...</td>\n",
       "      <td>13.992281</td>\n",
       "      <td>-505.503262</td>\n",
       "      <td>11.950531</td>\n",
       "      <td>-501.331529</td>\n",
       "      <td>10.039245</td>\n",
       "      <td>-500.169983</td>\n",
       "      <td>7.984757</td>\n",
       "      <td>-500.582168</td>\n",
       "      <td>13.998353</td>\n",
       "      <td>-599.787184</td>\n",
       "    </tr>\n",
       "  </tbody>\n",
       "</table>\n",
       "<p>2 rows × 87 columns</p>\n",
       "</div>"
      ],
      "text/plain": [
       "                  date  final.output.concentrate_ag  \\\n",
       "0  2016-01-15 00:00:00                     6.055403   \n",
       "1  2016-01-15 01:00:00                     6.029369   \n",
       "\n",
       "   final.output.concentrate_pb  final.output.concentrate_sol  \\\n",
       "0                     9.889648                      5.507324   \n",
       "1                     9.968944                      5.257781   \n",
       "\n",
       "   final.output.concentrate_au  final.output.recovery  final.output.tail_ag  \\\n",
       "0                    42.192020              70.541216             10.411962   \n",
       "1                    42.701629              69.266198             10.462676   \n",
       "\n",
       "   final.output.tail_pb  final.output.tail_sol  final.output.tail_au  ...  \\\n",
       "0              0.895447              16.904297              2.143149  ...   \n",
       "1              0.927452              16.634514              2.224930  ...   \n",
       "\n",
       "   secondary_cleaner.state.floatbank4_a_air  \\\n",
       "0                                 14.016835   \n",
       "1                                 13.992281   \n",
       "\n",
       "   secondary_cleaner.state.floatbank4_a_level  \\\n",
       "0                                 -502.488007   \n",
       "1                                 -505.503262   \n",
       "\n",
       "   secondary_cleaner.state.floatbank4_b_air  \\\n",
       "0                                 12.099931   \n",
       "1                                 11.950531   \n",
       "\n",
       "   secondary_cleaner.state.floatbank4_b_level  \\\n",
       "0                                 -504.715942   \n",
       "1                                 -501.331529   \n",
       "\n",
       "   secondary_cleaner.state.floatbank5_a_air  \\\n",
       "0                                  9.925633   \n",
       "1                                 10.039245   \n",
       "\n",
       "   secondary_cleaner.state.floatbank5_a_level  \\\n",
       "0                                 -498.310211   \n",
       "1                                 -500.169983   \n",
       "\n",
       "   secondary_cleaner.state.floatbank5_b_air  \\\n",
       "0                                  8.079666   \n",
       "1                                  7.984757   \n",
       "\n",
       "   secondary_cleaner.state.floatbank5_b_level  \\\n",
       "0                                 -500.470978   \n",
       "1                                 -500.582168   \n",
       "\n",
       "   secondary_cleaner.state.floatbank6_a_air  \\\n",
       "0                                 14.151341   \n",
       "1                                 13.998353   \n",
       "\n",
       "   secondary_cleaner.state.floatbank6_a_level  \n",
       "0                                 -605.841980  \n",
       "1                                 -599.787184  \n",
       "\n",
       "[2 rows x 87 columns]"
      ]
     },
     "execution_count": 7,
     "metadata": {},
     "output_type": "execute_result"
    }
   ],
   "source": [
    "#проверяем запись данных в датасет\n",
    "df_train.head(2)"
   ]
  },
  {
   "cell_type": "code",
   "execution_count": 8,
   "id": "2e7d33d2",
   "metadata": {
    "scrolled": true
   },
   "outputs": [
    {
     "name": "stdout",
     "output_type": "stream",
     "text": [
      "<class 'pandas.core.frame.DataFrame'>\n",
      "RangeIndex: 19439 entries, 0 to 19438\n",
      "Data columns (total 87 columns):\n",
      " #   Column                                              Non-Null Count  Dtype  \n",
      "---  ------                                              --------------  -----  \n",
      " 0   date                                                19439 non-null  object \n",
      " 1   final.output.concentrate_ag                         19438 non-null  float64\n",
      " 2   final.output.concentrate_pb                         19438 non-null  float64\n",
      " 3   final.output.concentrate_sol                        19228 non-null  float64\n",
      " 4   final.output.concentrate_au                         19439 non-null  float64\n",
      " 5   final.output.recovery                               19439 non-null  float64\n",
      " 6   final.output.tail_ag                                19438 non-null  float64\n",
      " 7   final.output.tail_pb                                19338 non-null  float64\n",
      " 8   final.output.tail_sol                               19433 non-null  float64\n",
      " 9   final.output.tail_au                                19439 non-null  float64\n",
      " 10  primary_cleaner.input.sulfate                       19415 non-null  float64\n",
      " 11  primary_cleaner.input.depressant                    19402 non-null  float64\n",
      " 12  primary_cleaner.input.feed_size                     19439 non-null  float64\n",
      " 13  primary_cleaner.input.xanthate                      19335 non-null  float64\n",
      " 14  primary_cleaner.output.concentrate_ag               19439 non-null  float64\n",
      " 15  primary_cleaner.output.concentrate_pb               19323 non-null  float64\n",
      " 16  primary_cleaner.output.concentrate_sol              19069 non-null  float64\n",
      " 17  primary_cleaner.output.concentrate_au               19439 non-null  float64\n",
      " 18  primary_cleaner.output.tail_ag                      19435 non-null  float64\n",
      " 19  primary_cleaner.output.tail_pb                      19418 non-null  float64\n",
      " 20  primary_cleaner.output.tail_sol                     19377 non-null  float64\n",
      " 21  primary_cleaner.output.tail_au                      19439 non-null  float64\n",
      " 22  primary_cleaner.state.floatbank8_a_air              19435 non-null  float64\n",
      " 23  primary_cleaner.state.floatbank8_a_level            19438 non-null  float64\n",
      " 24  primary_cleaner.state.floatbank8_b_air              19435 non-null  float64\n",
      " 25  primary_cleaner.state.floatbank8_b_level            19438 non-null  float64\n",
      " 26  primary_cleaner.state.floatbank8_c_air              19437 non-null  float64\n",
      " 27  primary_cleaner.state.floatbank8_c_level            19438 non-null  float64\n",
      " 28  primary_cleaner.state.floatbank8_d_air              19436 non-null  float64\n",
      " 29  primary_cleaner.state.floatbank8_d_level            19438 non-null  float64\n",
      " 30  rougher.calculation.sulfate_to_au_concentrate       19437 non-null  float64\n",
      " 31  rougher.calculation.floatbank10_sulfate_to_au_feed  19437 non-null  float64\n",
      " 32  rougher.calculation.floatbank11_sulfate_to_au_feed  19437 non-null  float64\n",
      " 33  rougher.calculation.au_pb_ratio                     19439 non-null  float64\n",
      " 34  rougher.input.feed_ag                               19439 non-null  float64\n",
      " 35  rougher.input.feed_pb                               19339 non-null  float64\n",
      " 36  rougher.input.feed_rate                             19428 non-null  float64\n",
      " 37  rougher.input.feed_size                             19294 non-null  float64\n",
      " 38  rougher.input.feed_sol                              19340 non-null  float64\n",
      " 39  rougher.input.feed_au                               19439 non-null  float64\n",
      " 40  rougher.input.floatbank10_sulfate                   19405 non-null  float64\n",
      " 41  rougher.input.floatbank10_xanthate                  19431 non-null  float64\n",
      " 42  rougher.input.floatbank11_sulfate                   19395 non-null  float64\n",
      " 43  rougher.input.floatbank11_xanthate                  18986 non-null  float64\n",
      " 44  rougher.output.concentrate_ag                       19439 non-null  float64\n",
      " 45  rougher.output.concentrate_pb                       19439 non-null  float64\n",
      " 46  rougher.output.concentrate_sol                      19416 non-null  float64\n",
      " 47  rougher.output.concentrate_au                       19439 non-null  float64\n",
      " 48  rougher.output.recovery                             19439 non-null  float64\n",
      " 49  rougher.output.tail_ag                              19438 non-null  float64\n",
      " 50  rougher.output.tail_pb                              19439 non-null  float64\n",
      " 51  rougher.output.tail_sol                             19439 non-null  float64\n",
      " 52  rougher.output.tail_au                              19439 non-null  float64\n",
      " 53  rougher.state.floatbank10_a_air                     19438 non-null  float64\n",
      " 54  rougher.state.floatbank10_a_level                   19438 non-null  float64\n",
      " 55  rougher.state.floatbank10_b_air                     19438 non-null  float64\n",
      " 56  rougher.state.floatbank10_b_level                   19438 non-null  float64\n",
      " 57  rougher.state.floatbank10_c_air                     19438 non-null  float64\n",
      " 58  rougher.state.floatbank10_c_level                   19438 non-null  float64\n",
      " 59  rougher.state.floatbank10_d_air                     19439 non-null  float64\n",
      " 60  rougher.state.floatbank10_d_level                   19439 non-null  float64\n",
      " 61  rougher.state.floatbank10_e_air                     19003 non-null  float64\n",
      " 62  rougher.state.floatbank10_e_level                   19439 non-null  float64\n",
      " 63  rougher.state.floatbank10_f_air                     19439 non-null  float64\n",
      " 64  rougher.state.floatbank10_f_level                   19439 non-null  float64\n",
      " 65  secondary_cleaner.output.tail_ag                    19437 non-null  float64\n",
      " 66  secondary_cleaner.output.tail_pb                    19427 non-null  float64\n",
      " 67  secondary_cleaner.output.tail_sol                   17691 non-null  float64\n",
      " 68  secondary_cleaner.output.tail_au                    19439 non-null  float64\n",
      " 69  secondary_cleaner.state.floatbank2_a_air            19219 non-null  float64\n",
      " 70  secondary_cleaner.state.floatbank2_a_level          19438 non-null  float64\n",
      " 71  secondary_cleaner.state.floatbank2_b_air            19416 non-null  float64\n",
      " 72  secondary_cleaner.state.floatbank2_b_level          19438 non-null  float64\n",
      " 73  secondary_cleaner.state.floatbank3_a_air            19426 non-null  float64\n",
      " 74  secondary_cleaner.state.floatbank3_a_level          19438 non-null  float64\n",
      " 75  secondary_cleaner.state.floatbank3_b_air            19438 non-null  float64\n",
      " 76  secondary_cleaner.state.floatbank3_b_level          19438 non-null  float64\n",
      " 77  secondary_cleaner.state.floatbank4_a_air            19433 non-null  float64\n",
      " 78  secondary_cleaner.state.floatbank4_a_level          19438 non-null  float64\n",
      " 79  secondary_cleaner.state.floatbank4_b_air            19438 non-null  float64\n",
      " 80  secondary_cleaner.state.floatbank4_b_level          19438 non-null  float64\n",
      " 81  secondary_cleaner.state.floatbank5_a_air            19438 non-null  float64\n",
      " 82  secondary_cleaner.state.floatbank5_a_level          19438 non-null  float64\n",
      " 83  secondary_cleaner.state.floatbank5_b_air            19438 non-null  float64\n",
      " 84  secondary_cleaner.state.floatbank5_b_level          19438 non-null  float64\n",
      " 85  secondary_cleaner.state.floatbank6_a_air            19437 non-null  float64\n",
      " 86  secondary_cleaner.state.floatbank6_a_level          19438 non-null  float64\n",
      "dtypes: float64(86), object(1)\n",
      "memory usage: 12.9+ MB\n"
     ]
    }
   ],
   "source": [
    "df_full.info()"
   ]
  },
  {
   "cell_type": "code",
   "execution_count": 9,
   "id": "fa10c594",
   "metadata": {},
   "outputs": [
    {
     "name": "stdout",
     "output_type": "stream",
     "text": [
      "ok, формат переведен в timestamp\n",
      "ok, формат переведен в timestamp\n",
      "ok, формат переведен в timestamp\n"
     ]
    }
   ],
   "source": [
    "#проверяем, что формат 24H, а не AM/PM - смотрим, что максимальное указание часа > 12\n",
    "#если да - переводим формат в timestamp\n",
    "\n",
    "#записываем датасеты в список\n",
    "dfs_list = [df_full, df_test, df_train]\n",
    "\n",
    "#задаем имена датафреймам\n",
    "df_full.name = 'df_full'\n",
    "df_test.name = 'df_test'\n",
    "df_train.name = 'df_train'\n",
    "\n",
    "#проверяем\n",
    "for df in dfs_list:\n",
    "    if max(pd.to_datetime(df['date'], format=\"%Y-%m-%d %H:%M:%S\").dt.hour) > 12:\n",
    "        df['date'] = pd.to_datetime(df['date'], format=\"%Y-%m-%d %H:%M:%S\")\n",
    "        print('ok, формат переведен в timestamp')\n",
    "        \n",
    "    else:\n",
    "        print('ошибка, проверить формат столбца date в', df.name)    "
   ]
  },
  {
   "cell_type": "markdown",
   "id": "2e18f970",
   "metadata": {},
   "source": [
    "___"
   ]
  },
  {
   "cell_type": "markdown",
   "id": "b2e9e5f3",
   "metadata": {},
   "source": [
    "### Проверка корректности расчета формулы эффективности обогащения руды в полном датасете"
   ]
  },
  {
   "cell_type": "markdown",
   "id": "7179121b",
   "metadata": {},
   "source": [
    "Проверим на основании показателя `rougher.output.recovery` - значение обогащения руды после флотации\n",
    "\n",
    "* C — доля золота в концентрате после флотации/очистки - находится в переменной `rougher.output.concentrate_au`\n",
    "* F — доля золота в сырье/концентрате до флотации/очистки - находится в переменной `rougher.input.feed_au`\n",
    "* T — доля золота в отвальных хвостах после флотации/очистки - находится в переменной `rougher.output.tail_au`"
   ]
  },
  {
   "cell_type": "code",
   "execution_count": 10,
   "id": "1dc4ddad",
   "metadata": {
    "scrolled": false
   },
   "outputs": [
    {
     "data": {
      "text/plain": [
       "['rougher.output.concentrate_ag',\n",
       " 'rougher.output.concentrate_pb',\n",
       " 'rougher.output.concentrate_sol',\n",
       " 'rougher.output.concentrate_au',\n",
       " 'rougher.output.recovery',\n",
       " 'rougher.output.tail_ag',\n",
       " 'rougher.output.tail_pb',\n",
       " 'rougher.output.tail_sol',\n",
       " 'rougher.output.tail_au']"
      ]
     },
     "execution_count": 10,
     "metadata": {},
     "output_type": "execute_result"
    }
   ],
   "source": [
    "#смотрим все показатели концентрате после флотации\n",
    "[x for x in df_full.columns if 'rougher.output' in x]"
   ]
  },
  {
   "cell_type": "code",
   "execution_count": 11,
   "id": "6541f46b",
   "metadata": {
    "scrolled": true
   },
   "outputs": [
    {
     "data": {
      "text/plain": [
       "['rougher.input.feed_ag',\n",
       " 'rougher.input.feed_pb',\n",
       " 'rougher.input.feed_rate',\n",
       " 'rougher.input.feed_size',\n",
       " 'rougher.input.feed_sol',\n",
       " 'rougher.input.feed_au',\n",
       " 'rougher.input.floatbank10_sulfate',\n",
       " 'rougher.input.floatbank10_xanthate',\n",
       " 'rougher.input.floatbank11_sulfate',\n",
       " 'rougher.input.floatbank11_xanthate']"
      ]
     },
     "execution_count": 11,
     "metadata": {},
     "output_type": "execute_result"
    }
   ],
   "source": [
    "#смотрим все показатели в сырье до флотации\n",
    "[x for x in df_full.columns if 'rougher.input' in x]"
   ]
  },
  {
   "cell_type": "markdown",
   "id": "960ad4a0",
   "metadata": {},
   "source": [
    "Эффективность обогащения рассчитывается по формуле\n",
    "$ Recovery = \\frac{C * (F-T)}{ F * (C-T)} * 100\\% $  "
   ]
  },
  {
   "cell_type": "code",
   "execution_count": 12,
   "id": "51632073",
   "metadata": {},
   "outputs": [],
   "source": [
    "#зададим функцию расчета для расчета rougher.output.recovery\n",
    "def rougher_recovery(C, F, T):\n",
    "    #return C * (F - T) / F * (C-T) * 100\n",
    "    a = C * (F - T)\n",
    "    b = F * (C - T)\n",
    "    res = a / b * 100\n",
    "    return  res"
   ]
  },
  {
   "cell_type": "code",
   "execution_count": 13,
   "id": "84a4ab8b",
   "metadata": {},
   "outputs": [],
   "source": [
    "#применим фукцию в новом столбце в датасете\n",
    "df_full['rougher.output.recovery_calc'] = df_full.apply(\n",
    "    \n",
    "    lambda x: rougher_recovery(x['rougher.output.concentrate_au'], x['rougher.input.feed_au'], x['rougher.output.tail_au']), \n",
    "    axis = 1\n",
    ")"
   ]
  },
  {
   "cell_type": "code",
   "execution_count": 14,
   "id": "937463f2",
   "metadata": {},
   "outputs": [
    {
     "data": {
      "text/html": [
       "<div>\n",
       "<style scoped>\n",
       "    .dataframe tbody tr th:only-of-type {\n",
       "        vertical-align: middle;\n",
       "    }\n",
       "\n",
       "    .dataframe tbody tr th {\n",
       "        vertical-align: top;\n",
       "    }\n",
       "\n",
       "    .dataframe thead th {\n",
       "        text-align: right;\n",
       "    }\n",
       "</style>\n",
       "<table border=\"1\" class=\"dataframe\">\n",
       "  <thead>\n",
       "    <tr style=\"text-align: right;\">\n",
       "      <th></th>\n",
       "      <th>rougher.output.recovery_calc</th>\n",
       "      <th>rougher.output.recovery</th>\n",
       "    </tr>\n",
       "  </thead>\n",
       "  <tbody>\n",
       "    <tr>\n",
       "      <th>0</th>\n",
       "      <td>87.107763</td>\n",
       "      <td>87.107763</td>\n",
       "    </tr>\n",
       "    <tr>\n",
       "      <th>1</th>\n",
       "      <td>86.843261</td>\n",
       "      <td>86.843261</td>\n",
       "    </tr>\n",
       "    <tr>\n",
       "      <th>2</th>\n",
       "      <td>86.842308</td>\n",
       "      <td>86.842308</td>\n",
       "    </tr>\n",
       "    <tr>\n",
       "      <th>3</th>\n",
       "      <td>87.226430</td>\n",
       "      <td>87.226430</td>\n",
       "    </tr>\n",
       "    <tr>\n",
       "      <th>4</th>\n",
       "      <td>86.688794</td>\n",
       "      <td>86.688794</td>\n",
       "    </tr>\n",
       "  </tbody>\n",
       "</table>\n",
       "</div>"
      ],
      "text/plain": [
       "   rougher.output.recovery_calc  rougher.output.recovery\n",
       "0                     87.107763                87.107763\n",
       "1                     86.843261                86.843261\n",
       "2                     86.842308                86.842308\n",
       "3                     87.226430                87.226430\n",
       "4                     86.688794                86.688794"
      ]
     },
     "execution_count": 14,
     "metadata": {},
     "output_type": "execute_result"
    }
   ],
   "source": [
    "#fast-check полученного результата\n",
    "_ = ['rougher.output.recovery_calc', 'rougher.output.recovery']\n",
    "df_full[_].head()"
   ]
  },
  {
   "cell_type": "code",
   "execution_count": 15,
   "id": "9d808674",
   "metadata": {},
   "outputs": [
    {
     "name": "stdout",
     "output_type": "stream",
     "text": [
      "MAE равно: 0.00000000000000987405\n"
     ]
    }
   ],
   "source": [
    "#считаем MAE между пересчетом и данными в датасете\n",
    "mae = mean_absolute_error(y_true=df_full['rougher.output.recovery'], y_pred=df_full['rougher.output.recovery_calc'])\n",
    "print(f'MAE равно: {mae:.20f}')"
   ]
  },
  {
   "cell_type": "markdown",
   "id": "8da6d011",
   "metadata": {},
   "source": [
    "**Выводы**"
   ]
  },
  {
   "cell_type": "markdown",
   "id": "ba8a3c6f",
   "metadata": {},
   "source": [
    "* MAE практически равен 0. \n",
    "* Это означает, что расчет показателя `rougher.output.recovery` в исходных данных и ручной пересчет можно считать одинаковыми. \n",
    "* Корректность расчета показателя `rougher.output.recovery` подтверждена."
   ]
  },
  {
   "cell_type": "code",
   "execution_count": 16,
   "id": "68c2c5cf",
   "metadata": {},
   "outputs": [],
   "source": [
    "#удалим расчетный показатель из данных\n",
    "df_full = df_full.drop(columns='rougher.output.recovery_calc')"
   ]
  },
  {
   "cell_type": "markdown",
   "id": "98618d0c",
   "metadata": {},
   "source": [
    "___"
   ]
  },
  {
   "cell_type": "markdown",
   "id": "4de6e8c7",
   "metadata": {},
   "source": [
    "### Анализ параметров в полном датасете и выборках test и train"
   ]
  },
  {
   "cell_type": "code",
   "execution_count": 17,
   "id": "433897ef",
   "metadata": {
    "scrolled": true
   },
   "outputs": [
    {
     "name": "stdout",
     "output_type": "stream",
     "text": [
      "Размер полного датасета (19439, 87)\n",
      "Размер обучающей выборки (14149, 87)\n",
      "Размер тестовой выборки (5290, 53)\n"
     ]
    }
   ],
   "source": [
    "#Построим размеры трех исходных датасетов\n",
    "print(f'Размер полного датасета {df_full.shape}')\n",
    "print(f'Размер обучающей выборки {df_train.shape}')\n",
    "print(f'Размер тестовой выборки {df_test.shape}')"
   ]
  },
  {
   "cell_type": "markdown",
   "id": "fc3581c7",
   "metadata": {},
   "source": [
    "Согласно технологическому процессу: \n",
    "> Некоторые параметры недоступны, потому что замеряются и/или рассчитываются значительно позже. Из-за этого в тестовой выборке отсутствуют некоторые признаки, которые могут быть в обучающей. Также в тестовом наборе нет целевых признаков.\n",
    "\n",
    "* Так как мы не можем обучать и тестировать модель на разных признаках, то обучать необходимо на тех, которые будут доступны на момент формирования прогнозного значения (они и есть в тестовой выборке)\n",
    "* поэтому необходимо удалить из обучающей выборки признаки, на которых мы не сможем тестировать модель"
   ]
  },
  {
   "cell_type": "code",
   "execution_count": 18,
   "id": "7c5773a6",
   "metadata": {
    "scrolled": true
   },
   "outputs": [
    {
     "name": "stdout",
     "output_type": "stream",
     "text": [
      "\n",
      "Количество отличающихся значений между признаками в обучающей выборке и исходным датасетом: 0\n"
     ]
    }
   ],
   "source": [
    "#проверим, что все показатели обучающей выборки и полного датасета равны\n",
    "print('''\n",
    "Количество отличающихся значений между признаками в обучающей выборке и исходным датасетом:''',\n",
    "      sum(df_test.columns[~df_test.columns.isin(df_full.columns)]))"
   ]
  },
  {
   "cell_type": "markdown",
   "id": "9c5f2bb5",
   "metadata": {},
   "source": [
    "___"
   ]
  },
  {
   "cell_type": "code",
   "execution_count": 19,
   "id": "a7051e08",
   "metadata": {},
   "outputs": [
    {
     "data": {
      "text/plain": [
       "(14149, 87)"
      ]
     },
     "execution_count": 19,
     "metadata": {},
     "output_type": "execute_result"
    }
   ],
   "source": [
    "#создадим копию оригинальной обучающей выборки\n",
    "df_train_original = df_train.copy()\n",
    "df_train_original.shape"
   ]
  },
  {
   "cell_type": "code",
   "execution_count": 20,
   "id": "c9c15a6f",
   "metadata": {},
   "outputs": [],
   "source": [
    "#найдем отсутствующие показатели в тестовой выборке и сохраним в переменную\n",
    "remove_columns = list(df_train.columns[~df_train.columns.isin(df_test.columns)])"
   ]
  },
  {
   "cell_type": "code",
   "execution_count": 21,
   "id": "0a40186a",
   "metadata": {},
   "outputs": [
    {
     "data": {
      "text/plain": [
       "['признак final.output.recovery отсутствует',\n",
       " 'признак rougher.output.recovery отсутствует']"
      ]
     },
     "execution_count": 21,
     "metadata": {},
     "output_type": "execute_result"
    }
   ],
   "source": [
    "#проверим наличие целевых признаков в тестовой выборке\n",
    "targets = ['final.output.recovery','rougher.output.recovery']\n",
    "[f'признак {x} отсутствует' for x in targets if x not in df_test.columns]"
   ]
  },
  {
   "cell_type": "code",
   "execution_count": 22,
   "id": "fb4082b5",
   "metadata": {},
   "outputs": [
    {
     "data": {
      "text/plain": [
       "[None, None]"
      ]
     },
     "execution_count": 22,
     "metadata": {},
     "output_type": "execute_result"
    }
   ],
   "source": [
    "#целевые признаки из обучающей выборке удалять не нужно - убираем из списка к удалению\n",
    "[remove_columns.remove(x) for x in targets if x in remove_columns]"
   ]
  },
  {
   "cell_type": "code",
   "execution_count": 23,
   "id": "a7dd0591",
   "metadata": {
    "scrolled": true
   },
   "outputs": [
    {
     "data": {
      "text/plain": [
       "(14149, 55)"
      ]
     },
     "execution_count": 23,
     "metadata": {},
     "output_type": "execute_result"
    }
   ],
   "source": [
    "#Удалим лишние признаки из обучающей выборки\n",
    "df_train = df_train.drop(columns=remove_columns)\n",
    "df_train.shape"
   ]
  },
  {
   "cell_type": "code",
   "execution_count": 24,
   "id": "27e69d00",
   "metadata": {},
   "outputs": [
    {
     "data": {
      "text/plain": [
       "Index(['final.output.recovery', 'rougher.output.recovery'], dtype='object')"
      ]
     },
     "execution_count": 24,
     "metadata": {},
     "output_type": "execute_result"
    }
   ],
   "source": [
    "#проверим, что теперь значения признаков сходятся, кроме целевых признаков (они остались в обучающей и отсутствуют в тестовой)\n",
    "df_train.columns[~df_train.columns.isin(df_test.columns)]"
   ]
  },
  {
   "cell_type": "markdown",
   "id": "a4065335",
   "metadata": {},
   "source": [
    "Признаки в обучающей и тестовой выборке равны, кроме целевых (отсутствуют в тестовой)"
   ]
  },
  {
   "cell_type": "markdown",
   "id": "0096b34b",
   "metadata": {},
   "source": [
    "___"
   ]
  },
  {
   "cell_type": "markdown",
   "id": "f078ef65",
   "metadata": {},
   "source": [
    "**Проверим, есть ли отсутствующие в тестовой выборке целевые показатели в полном датасете**"
   ]
  },
  {
   "cell_type": "code",
   "execution_count": 25,
   "id": "72a7dea3",
   "metadata": {},
   "outputs": [
    {
     "data": {
      "text/plain": [
       "Series([], Name: date, dtype: int64)"
      ]
     },
     "execution_count": 25,
     "metadata": {},
     "output_type": "execute_result"
    }
   ],
   "source": [
    "#проверим на уникальность признак `date` -дата и время формирования данных\n",
    "_ = df_full['date'].value_counts()\n",
    "_[_ > 1]"
   ]
  },
  {
   "cell_type": "markdown",
   "id": "b91a9102",
   "metadata": {},
   "source": [
    "* Признак date - уникальный\n",
    "* Соответственно, по нему можно дополнить целевыми признаками тестовую выборку"
   ]
  },
  {
   "cell_type": "code",
   "execution_count": 26,
   "id": "059be0aa",
   "metadata": {
    "scrolled": true
   },
   "outputs": [],
   "source": [
    "#добавим целевые признаки в тестовую выборку\n",
    "\n",
    "#выберем нужный список столбцов + id из полного датасета\n",
    "_ = ['date'] + targets\n",
    "_ = df_full[_]\n",
    "\n",
    "#обогатим целевыми признаками тестовую выборку\n",
    "df_test = df_test.merge(_, how='left', on='date')"
   ]
  },
  {
   "cell_type": "code",
   "execution_count": 27,
   "id": "87d06409",
   "metadata": {},
   "outputs": [
    {
     "data": {
      "text/html": [
       "<div>\n",
       "<style scoped>\n",
       "    .dataframe tbody tr th:only-of-type {\n",
       "        vertical-align: middle;\n",
       "    }\n",
       "\n",
       "    .dataframe tbody tr th {\n",
       "        vertical-align: top;\n",
       "    }\n",
       "\n",
       "    .dataframe thead th {\n",
       "        text-align: right;\n",
       "    }\n",
       "</style>\n",
       "<table border=\"1\" class=\"dataframe\">\n",
       "  <thead>\n",
       "    <tr style=\"text-align: right;\">\n",
       "      <th></th>\n",
       "      <th>date</th>\n",
       "      <th>primary_cleaner.input.sulfate</th>\n",
       "      <th>primary_cleaner.input.depressant</th>\n",
       "      <th>primary_cleaner.input.feed_size</th>\n",
       "      <th>primary_cleaner.input.xanthate</th>\n",
       "      <th>primary_cleaner.state.floatbank8_a_air</th>\n",
       "      <th>primary_cleaner.state.floatbank8_a_level</th>\n",
       "      <th>primary_cleaner.state.floatbank8_b_air</th>\n",
       "      <th>primary_cleaner.state.floatbank8_b_level</th>\n",
       "      <th>primary_cleaner.state.floatbank8_c_air</th>\n",
       "      <th>...</th>\n",
       "      <th>secondary_cleaner.state.floatbank4_b_air</th>\n",
       "      <th>secondary_cleaner.state.floatbank4_b_level</th>\n",
       "      <th>secondary_cleaner.state.floatbank5_a_air</th>\n",
       "      <th>secondary_cleaner.state.floatbank5_a_level</th>\n",
       "      <th>secondary_cleaner.state.floatbank5_b_air</th>\n",
       "      <th>secondary_cleaner.state.floatbank5_b_level</th>\n",
       "      <th>secondary_cleaner.state.floatbank6_a_air</th>\n",
       "      <th>secondary_cleaner.state.floatbank6_a_level</th>\n",
       "      <th>final.output.recovery</th>\n",
       "      <th>rougher.output.recovery</th>\n",
       "    </tr>\n",
       "  </thead>\n",
       "  <tbody>\n",
       "    <tr>\n",
       "      <th>0</th>\n",
       "      <td>2016-09-01 00:59:59</td>\n",
       "      <td>210.800909</td>\n",
       "      <td>14.993118</td>\n",
       "      <td>8.08</td>\n",
       "      <td>1.005021</td>\n",
       "      <td>1398.981301</td>\n",
       "      <td>-500.225577</td>\n",
       "      <td>1399.144926</td>\n",
       "      <td>-499.919735</td>\n",
       "      <td>1400.102998</td>\n",
       "      <td>...</td>\n",
       "      <td>8.016656</td>\n",
       "      <td>-501.289139</td>\n",
       "      <td>7.946562</td>\n",
       "      <td>-432.317850</td>\n",
       "      <td>4.872511</td>\n",
       "      <td>-500.037437</td>\n",
       "      <td>26.705889</td>\n",
       "      <td>-499.709414</td>\n",
       "      <td>70.273583</td>\n",
       "      <td>89.993421</td>\n",
       "    </tr>\n",
       "    <tr>\n",
       "      <th>1</th>\n",
       "      <td>2016-09-01 01:59:59</td>\n",
       "      <td>215.392455</td>\n",
       "      <td>14.987471</td>\n",
       "      <td>8.08</td>\n",
       "      <td>0.990469</td>\n",
       "      <td>1398.777912</td>\n",
       "      <td>-500.057435</td>\n",
       "      <td>1398.055362</td>\n",
       "      <td>-499.778182</td>\n",
       "      <td>1396.151033</td>\n",
       "      <td>...</td>\n",
       "      <td>8.130979</td>\n",
       "      <td>-499.634209</td>\n",
       "      <td>7.958270</td>\n",
       "      <td>-525.839648</td>\n",
       "      <td>4.878850</td>\n",
       "      <td>-500.162375</td>\n",
       "      <td>25.019940</td>\n",
       "      <td>-499.819438</td>\n",
       "      <td>68.910432</td>\n",
       "      <td>88.089657</td>\n",
       "    </tr>\n",
       "  </tbody>\n",
       "</table>\n",
       "<p>2 rows × 55 columns</p>\n",
       "</div>"
      ],
      "text/plain": [
       "                 date  primary_cleaner.input.sulfate  \\\n",
       "0 2016-09-01 00:59:59                     210.800909   \n",
       "1 2016-09-01 01:59:59                     215.392455   \n",
       "\n",
       "   primary_cleaner.input.depressant  primary_cleaner.input.feed_size  \\\n",
       "0                         14.993118                             8.08   \n",
       "1                         14.987471                             8.08   \n",
       "\n",
       "   primary_cleaner.input.xanthate  primary_cleaner.state.floatbank8_a_air  \\\n",
       "0                        1.005021                             1398.981301   \n",
       "1                        0.990469                             1398.777912   \n",
       "\n",
       "   primary_cleaner.state.floatbank8_a_level  \\\n",
       "0                               -500.225577   \n",
       "1                               -500.057435   \n",
       "\n",
       "   primary_cleaner.state.floatbank8_b_air  \\\n",
       "0                             1399.144926   \n",
       "1                             1398.055362   \n",
       "\n",
       "   primary_cleaner.state.floatbank8_b_level  \\\n",
       "0                               -499.919735   \n",
       "1                               -499.778182   \n",
       "\n",
       "   primary_cleaner.state.floatbank8_c_air  ...  \\\n",
       "0                             1400.102998  ...   \n",
       "1                             1396.151033  ...   \n",
       "\n",
       "   secondary_cleaner.state.floatbank4_b_air  \\\n",
       "0                                  8.016656   \n",
       "1                                  8.130979   \n",
       "\n",
       "   secondary_cleaner.state.floatbank4_b_level  \\\n",
       "0                                 -501.289139   \n",
       "1                                 -499.634209   \n",
       "\n",
       "   secondary_cleaner.state.floatbank5_a_air  \\\n",
       "0                                  7.946562   \n",
       "1                                  7.958270   \n",
       "\n",
       "   secondary_cleaner.state.floatbank5_a_level  \\\n",
       "0                                 -432.317850   \n",
       "1                                 -525.839648   \n",
       "\n",
       "   secondary_cleaner.state.floatbank5_b_air  \\\n",
       "0                                  4.872511   \n",
       "1                                  4.878850   \n",
       "\n",
       "   secondary_cleaner.state.floatbank5_b_level  \\\n",
       "0                                 -500.037437   \n",
       "1                                 -500.162375   \n",
       "\n",
       "   secondary_cleaner.state.floatbank6_a_air  \\\n",
       "0                                 26.705889   \n",
       "1                                 25.019940   \n",
       "\n",
       "   secondary_cleaner.state.floatbank6_a_level  final.output.recovery  \\\n",
       "0                                 -499.709414              70.273583   \n",
       "1                                 -499.819438              68.910432   \n",
       "\n",
       "   rougher.output.recovery  \n",
       "0                89.993421  \n",
       "1                88.089657  \n",
       "\n",
       "[2 rows x 55 columns]"
      ]
     },
     "execution_count": 27,
     "metadata": {},
     "output_type": "execute_result"
    }
   ],
   "source": [
    "df_test.head(2)"
   ]
  },
  {
   "cell_type": "code",
   "execution_count": 28,
   "id": "38954c24",
   "metadata": {},
   "outputs": [
    {
     "name": "stdout",
     "output_type": "stream",
     "text": [
      "\n",
      "Количество отличающихся значений между признаками в обучающей выборке и тестовой выборке: 0\n"
     ]
    }
   ],
   "source": [
    "#проверим, что все показатели обучающей выборки и тестовой выборки равны\n",
    "print('''\n",
    "Количество отличающихся значений между признаками в обучающей выборке и тестовой выборке:''',\n",
    "      sum(df_test.columns[~df_test.columns.isin(df_train.columns)]))"
   ]
  },
  {
   "cell_type": "markdown",
   "id": "080906a5",
   "metadata": {},
   "source": [
    "___"
   ]
  },
  {
   "cell_type": "markdown",
   "id": "d2cdd57f",
   "metadata": {},
   "source": [
    "**Выводы**\n",
    "\n",
    "* В тестовой выборке отсутствуют признаки, которые формируются позже в технологическом процессе и отсутствуют на момент формирования прогнозного значения\n",
    "* Мы не можем их использовать в обучении модели - поэтому они были удалены из обучающей выборки\n",
    "* В тестовой также отсутствовали целевые показатели, поэтому они были добавлены из общего исходного датасета по уникальному id = `date`"
   ]
  },
  {
   "cell_type": "markdown",
   "id": "7b617416",
   "metadata": {},
   "source": [
    "___"
   ]
  },
  {
   "cell_type": "markdown",
   "id": "4e7f1b8d",
   "metadata": {},
   "source": [
    "### Предобработка данных"
   ]
  },
  {
   "cell_type": "markdown",
   "id": "0b7eed41",
   "metadata": {},
   "source": [
    "**Заполнение пропусков**"
   ]
  },
  {
   "cell_type": "code",
   "execution_count": 29,
   "id": "8b8c4126",
   "metadata": {},
   "outputs": [],
   "source": [
    "def calc_missing_share():\n",
    "\n",
    "    #записываем датасеты в список\n",
    "    dfs_list = [df_full, df_test, df_train]\n",
    "    dfs_names = ['df_full', 'df_test', 'df_train']\n",
    "\n",
    "    missing = {}\n",
    "    i = 0\n",
    "\n",
    "    for df in dfs_list:\n",
    "\n",
    "        #считаем процент пропусков от общего количества данных в датасете / выборке\n",
    "        _ = df.isna().sum() / df.shape[0]\n",
    "\n",
    "        #берем только те, которые более 5% и записываем в словарь\n",
    "        _ = _[_>0.05]\n",
    "\n",
    "        missing[dfs_names[i]] = _\n",
    "\n",
    "        i +=1 \n",
    "        \n",
    "    #записываем в dataFrame для вывода\n",
    "    df_missing = pd.DataFrame(missing)\n",
    "    \n",
    "    return df_missing"
   ]
  },
  {
   "cell_type": "code",
   "execution_count": 30,
   "id": "2e2e03f6",
   "metadata": {},
   "outputs": [
    {
     "data": {
      "text/html": [
       "<div>\n",
       "<style scoped>\n",
       "    .dataframe tbody tr th:only-of-type {\n",
       "        vertical-align: middle;\n",
       "    }\n",
       "\n",
       "    .dataframe tbody tr th {\n",
       "        vertical-align: top;\n",
       "    }\n",
       "\n",
       "    .dataframe thead th {\n",
       "        text-align: right;\n",
       "    }\n",
       "</style>\n",
       "<table border=\"1\" class=\"dataframe\">\n",
       "  <thead>\n",
       "    <tr style=\"text-align: right;\">\n",
       "      <th></th>\n",
       "      <th>df_full</th>\n",
       "      <th>df_test</th>\n",
       "      <th>df_train</th>\n",
       "    </tr>\n",
       "  </thead>\n",
       "  <tbody>\n",
       "    <tr>\n",
       "      <th>secondary_cleaner.output.tail_sol</th>\n",
       "      <td>0.089922</td>\n",
       "      <td>NaN</td>\n",
       "      <td>NaN</td>\n",
       "    </tr>\n",
       "  </tbody>\n",
       "</table>\n",
       "</div>"
      ],
      "text/plain": [
       "                                    df_full  df_test  df_train\n",
       "secondary_cleaner.output.tail_sol  0.089922      NaN       NaN"
      ]
     },
     "execution_count": 30,
     "metadata": {},
     "output_type": "execute_result"
    }
   ],
   "source": [
    "df_missing = calc_missing_share()\n",
    "df_missing"
   ]
  },
  {
   "cell_type": "markdown",
   "id": "ee04bee8",
   "metadata": {},
   "source": [
    "* 8% пропусков имеется в показателе `secondary_cleaner.output.tail_sol`, который отсутствует как в обучающей, так и в тестовой выборках - данные пропуски можно игнорировать, они не окажут влияния на обучение и проверку модели\n",
    "* остальные пропуски - менее 5%, что несущественно. Учитывая то, что, согласно условиям:\n",
    "> Данные индексируются датой и временем получения информации (признак date). Соседние по времени параметры часто похожи.\n",
    "* можно заполнить пропуски из данных с ближайшей датой"
   ]
  },
  {
   "cell_type": "code",
   "execution_count": 31,
   "id": "0a9499b4",
   "metadata": {
    "scrolled": true
   },
   "outputs": [
    {
     "data": {
      "text/html": [
       "<div>\n",
       "<style scoped>\n",
       "    .dataframe tbody tr th:only-of-type {\n",
       "        vertical-align: middle;\n",
       "    }\n",
       "\n",
       "    .dataframe tbody tr th {\n",
       "        vertical-align: top;\n",
       "    }\n",
       "\n",
       "    .dataframe thead th {\n",
       "        text-align: right;\n",
       "    }\n",
       "</style>\n",
       "<table border=\"1\" class=\"dataframe\">\n",
       "  <thead>\n",
       "    <tr style=\"text-align: right;\">\n",
       "      <th></th>\n",
       "      <th>date</th>\n",
       "      <th>primary_cleaner.input.sulfate</th>\n",
       "    </tr>\n",
       "  </thead>\n",
       "  <tbody>\n",
       "    <tr>\n",
       "      <th>113</th>\n",
       "      <td>2016-01-21 09:00:00</td>\n",
       "      <td>182.179285</td>\n",
       "    </tr>\n",
       "    <tr>\n",
       "      <th>114</th>\n",
       "      <td>2016-01-21 10:00:00</td>\n",
       "      <td>NaN</td>\n",
       "    </tr>\n",
       "  </tbody>\n",
       "</table>\n",
       "</div>"
      ],
      "text/plain": [
       "                   date  primary_cleaner.input.sulfate\n",
       "113 2016-01-21 09:00:00                     182.179285\n",
       "114 2016-01-21 10:00:00                            NaN"
      ]
     },
     "execution_count": 31,
     "metadata": {},
     "output_type": "execute_result"
    }
   ],
   "source": [
    "#для проверки выведем одну пару ближайших дат\n",
    "df_train.iloc[113:115][['date', 'primary_cleaner.input.sulfate']]"
   ]
  },
  {
   "cell_type": "code",
   "execution_count": 32,
   "id": "8165352d",
   "metadata": {},
   "outputs": [],
   "source": [
    "#заполняем\n",
    "df_train = df_train.fillna(method='ffill')\n",
    "df_test = df_test.fillna(method='ffill')"
   ]
  },
  {
   "cell_type": "code",
   "execution_count": 33,
   "id": "5e3f5375",
   "metadata": {},
   "outputs": [
    {
     "data": {
      "text/html": [
       "<div>\n",
       "<style scoped>\n",
       "    .dataframe tbody tr th:only-of-type {\n",
       "        vertical-align: middle;\n",
       "    }\n",
       "\n",
       "    .dataframe tbody tr th {\n",
       "        vertical-align: top;\n",
       "    }\n",
       "\n",
       "    .dataframe thead th {\n",
       "        text-align: right;\n",
       "    }\n",
       "</style>\n",
       "<table border=\"1\" class=\"dataframe\">\n",
       "  <thead>\n",
       "    <tr style=\"text-align: right;\">\n",
       "      <th></th>\n",
       "      <th>date</th>\n",
       "      <th>primary_cleaner.input.sulfate</th>\n",
       "    </tr>\n",
       "  </thead>\n",
       "  <tbody>\n",
       "    <tr>\n",
       "      <th>113</th>\n",
       "      <td>2016-01-21 09:00:00</td>\n",
       "      <td>182.179285</td>\n",
       "    </tr>\n",
       "    <tr>\n",
       "      <th>114</th>\n",
       "      <td>2016-01-21 10:00:00</td>\n",
       "      <td>182.179285</td>\n",
       "    </tr>\n",
       "  </tbody>\n",
       "</table>\n",
       "</div>"
      ],
      "text/plain": [
       "                   date  primary_cleaner.input.sulfate\n",
       "113 2016-01-21 09:00:00                     182.179285\n",
       "114 2016-01-21 10:00:00                     182.179285"
      ]
     },
     "execution_count": 33,
     "metadata": {},
     "output_type": "execute_result"
    }
   ],
   "source": [
    "#для проверки выведем одну пару ближайших дат\n",
    "df_train.iloc[113:115][['date', 'primary_cleaner.input.sulfate']]"
   ]
  },
  {
   "cell_type": "markdown",
   "id": "fb152654",
   "metadata": {},
   "source": [
    "Заполнение отработало корректно"
   ]
  },
  {
   "cell_type": "code",
   "execution_count": 34,
   "id": "a63560a0",
   "metadata": {},
   "outputs": [
    {
     "data": {
      "text/plain": [
       "0"
      ]
     },
     "execution_count": 34,
     "metadata": {},
     "output_type": "execute_result"
    }
   ],
   "source": [
    "#проверяем, остались ли пропуски\n",
    "sum(df_train.isna().sum() + df_test.isna().sum())"
   ]
  },
  {
   "cell_type": "markdown",
   "id": "3d2d0c25",
   "metadata": {},
   "source": [
    "___"
   ]
  },
  {
   "cell_type": "markdown",
   "id": "3ef744c4",
   "metadata": {},
   "source": [
    "## Анализ данных"
   ]
  },
  {
   "cell_type": "markdown",
   "id": "70ff6230",
   "metadata": {},
   "source": [
    "### Изменение концентраций металлов на всех этапах процесса (Au, Ag, Pb) "
   ]
  },
  {
   "cell_type": "markdown",
   "id": "eaeebbbb",
   "metadata": {},
   "source": [
    "Существует 3 этапа очистки:\n",
    "\n",
    "* `rougher` — флотация\n",
    "* `primary_cleaner` — первичная очистка\n",
    "* `secondary_cleaner` — вторичная очистка\n",
    "\n",
    "* При этом, изначально имеется сырье - показатель `input` — параметры сырья\n",
    "* А также, в итоге формируются показатели этапа - `final` — финальные характеристики\n",
    "\n",
    "Так как в технологическом процессе мы обогащаем основной продукт и часть золота выпадает в хвосты, которые далее не используются, необходимо построить:\n",
    "* количество металлов на начальном этапе (в сырье)\n",
    "* распределение металлов только в итоговом продукте, который обозначается как `output.concentrate`\n"
   ]
  },
  {
   "cell_type": "code",
   "execution_count": 35,
   "id": "1125e351",
   "metadata": {},
   "outputs": [],
   "source": [
    "#функция для выбора данных для построения графика распределения металлов по этапам\n",
    "def select_metals_data(metal):\n",
    "    \n",
    "    #создаем список столбцов к выбору из полного датасета для каждого металла\n",
    "    _ = ['final.output.concentrate_' + metal,\n",
    "        'primary_cleaner.output.concentrate_' + metal,\n",
    "        'rougher.input.feed_' + metal, \n",
    "        'rougher.output.concentrate_' + metal]\n",
    "\n",
    "    #выбираем эти столбцы из общего датасета\n",
    "    df = df_full[_]\n",
    "    \n",
    "    return df"
   ]
  },
  {
   "cell_type": "code",
   "execution_count": 36,
   "id": "77d340f5",
   "metadata": {},
   "outputs": [
    {
     "data": {
      "image/png": "[encoded data removed]",
      "text/plain": [
       "<Figure size 1440x432 with 3 Axes>"
      ]
     },
     "metadata": {
      "needs_background": "light"
     },
     "output_type": "display_data"
    }
   ],
   "source": [
    "#define plotting region (1 rows, 3 columns)\n",
    "fig, axes = plt.subplots(1, 3)\n",
    "\n",
    "\n",
    "#define the size of figure and title\n",
    "fig.set_figwidth(20)\n",
    "fig.set_figheight(6)\n",
    "fig.suptitle('Концентрация металлов в зависимости от этапа')\n",
    "\n",
    "#define list of metals\n",
    "metals = ['au', 'pb', 'ag']\n",
    "\n",
    "#create kde plot in each subplot\n",
    "for i in range(3):\n",
    "    \n",
    "    #выбираем метал из списка\n",
    "    metal = metals[i]\n",
    "    \n",
    "    #выбираем показатели, относящиеся к этому металлу из данных общего датасета\n",
    "    df = select_metals_data(metal)\n",
    "    \n",
    "    #строим график\n",
    "    sns.kdeplot(data=df, ax=axes[i])\n",
    "    axes[i].set_title(metal.upper())\n",
    "    \n",
    "plt.show()    "
   ]
  },
  {
   "cell_type": "markdown",
   "id": "bbd52bca",
   "metadata": {},
   "source": [
    "**Выводы**\n",
    "\n",
    "* **Золото (Au):** Наглядно видно, что с каждым этапом концентрация золота увеличивается\n",
    "* **Медь (Pb):** Концентрация меди увеличивается от исходного сырья до получения финального продукта\n",
    "* **Серебро (Ag):** Концентрация серебра на этапах флотации и первичной очистки увеличивается, а после финальной очистки - падает\n",
    "\n"
   ]
  },
  {
   "cell_type": "markdown",
   "id": "11f982bb",
   "metadata": {},
   "source": [
    "___"
   ]
  },
  {
   "cell_type": "markdown",
   "id": "a205d3c0",
   "metadata": {},
   "source": [
    "###  Сравнение распределения размеров гранул сырья на обучающей и тестовой выборках"
   ]
  },
  {
   "cell_type": "markdown",
   "id": "dd46a80c",
   "metadata": {},
   "source": [
    "* Для корректного обучения модели необходимо, чтобы размер гранул сырья был относительно одинаковым на обучающей и на тестовой выборках. Чтобы сравнить, построим распределение на обеих выборках\n",
    "\n",
    "\n",
    "* размер гранул сырья хранится в переменных: `primary_cleaner.input.feed_size` и `rougher.input.feed_size`"
   ]
  },
  {
   "cell_type": "markdown",
   "id": "6364bcb3",
   "metadata": {},
   "source": [
    "**rougher.input.feed_size**"
   ]
  },
  {
   "cell_type": "code",
   "execution_count": 37,
   "id": "a31447d3",
   "metadata": {},
   "outputs": [
    {
     "data": {
      "image/png": "[encoded data removed]",
      "text/plain": [
       "<Figure size 1080x720 with 2 Axes>"
      ]
     },
     "metadata": {
      "needs_background": "light"
     },
     "output_type": "display_data"
    }
   ],
   "source": [
    "#define plotting region (1 rows, 2 columns)\n",
    "fig, axes = plt.subplots(2, 1)\n",
    "\n",
    "\n",
    "#define the size of figure and title\n",
    "fig.set_figwidth(15)\n",
    "fig.set_figheight(10)\n",
    "fig.suptitle('Размер гранул')\n",
    "\n",
    "sns.kdeplot(data=df_test['rougher.input.feed_size'], ax=axes[0])\n",
    "sns.kdeplot(data=df_train['rougher.input.feed_size'], ax=axes[0])\n",
    "\n",
    "sns.kdeplot(data=df_test['primary_cleaner.input.feed_size'], ax=axes[1])\n",
    "sns.kdeplot(data=df_train['primary_cleaner.input.feed_size'], ax=axes[1])\n",
    "\n",
    "for i in range(2):\n",
    "    axes[i].legend(['test', 'train'])\n",
    "\n",
    "plt.show()"
   ]
  },
  {
   "cell_type": "markdown",
   "id": "2873159f",
   "metadata": {},
   "source": [
    "**Вывод**\n",
    "\n",
    "Распределения гранул существенно не отличаются."
   ]
  },
  {
   "cell_type": "markdown",
   "id": "f716ffe4",
   "metadata": {},
   "source": [
    "___"
   ]
  },
  {
   "cell_type": "markdown",
   "id": "5c8f8dc8",
   "metadata": {},
   "source": [
    "###  Анализ суммарной концентрации всех веществ на разных стадиях: в сырье, в черновом и финальном концентратах"
   ]
  },
  {
   "cell_type": "markdown",
   "id": "b4ef953b",
   "metadata": {},
   "source": [
    "Основные стадии:\n",
    "* сырье - признаки `rougher.input.feed_**`\n",
    "* черновой концентрат - признаки `rougher.output.concentrate_**`\n",
    "* финальный концентрат - признаки `final.output.concentrate_**`\n",
    "\n",
    "Для их анализа нужно сложить данные по разным веществам"
   ]
  },
  {
   "cell_type": "code",
   "execution_count": 38,
   "id": "459abd1e",
   "metadata": {
    "scrolled": true
   },
   "outputs": [],
   "source": [
    "steps = ['rougher.input.feed', 'rougher.output.concentrate', 'final.output.concentrate']\n",
    "metals = ['au', 'pb', 'ag']\n",
    "\n",
    "for step in steps:\n",
    "    au =  df_full[step + '_' + metals[0]]\n",
    "    pb =  df_full[step + '_' + metals[1]]\n",
    "    ag =  df_full[step + '_' + metals[2]]\n",
    "    \n",
    "    df_full[step + '_' + 'sum_metals'] = au + pb + ag"
   ]
  },
  {
   "cell_type": "code",
   "execution_count": 39,
   "id": "b67128a8",
   "metadata": {},
   "outputs": [
    {
     "data": {
      "image/png": "[encoded data removed]",
      "text/plain": [
       "<Figure size 1080x504 with 3 Axes>"
      ]
     },
     "metadata": {
      "needs_background": "light"
     },
     "output_type": "display_data"
    }
   ],
   "source": [
    "#строим распределение для поиска аномальных значений\n",
    "\n",
    "#define plotting region (3 rows, 1 columns)\n",
    "fig, axes = plt.subplots(3, 1)\n",
    "\n",
    "#define the size of figure and title\n",
    "fig.set_figwidth(15)\n",
    "fig.set_figheight(7)\n",
    "fig.suptitle('Количество вещества')\n",
    "fig.tight_layout(pad=3)\n",
    "\n",
    "for i in range(3):\n",
    "    \n",
    "    step_name = steps[i] + '_' + 'sum_metals'\n",
    "    sns.boxplot(data=df_full[step_name], ax=axes[i], orient='h')\n",
    "    axes[i].set_title({step_name})\n",
    "    \n",
    "plt.show()"
   ]
  },
  {
   "cell_type": "markdown",
   "id": "81a551f3",
   "metadata": {},
   "source": [
    "**Вывод**\n",
    "\n",
    "* В данных присутствуют строки с аномально низкими значениями суммы металлов на всех трех этапах\n",
    "* Для этапа загрузки сырья (`rougher.input.feed`) - аномально низкими можно считать значения с показателем суммы металлов ниже 7.5\n",
    "* Для этапа флотации (`rougher.output.concentrate`) - аномально низкими можно считать значения с показателем суммы металлов ниже 32\n",
    "* Для этапа финальной очистки (`final.output.concentrate`) - аномально низкими можно считать значения с показателем суммы металлов ниже 57"
   ]
  },
  {
   "cell_type": "markdown",
   "id": "34c6ea02",
   "metadata": {},
   "source": []
  },
  {
   "cell_type": "code",
   "execution_count": 40,
   "id": "7fdb0c68",
   "metadata": {},
   "outputs": [],
   "source": [
    "#уровни аномальных значений\n",
    "ths = [7.5, 32, 57]\n",
    "dict_anomalies_share = {}\n",
    "dict_anomalies = {}\n",
    "dict_anomalies_count = {}\n",
    "\n",
    "for i in range(3):\n",
    "    \n",
    "    #выбираем название столбца\n",
    "    step_name = steps[i] + '_' + 'sum_metals'\n",
    "    \n",
    "    #делаем срез по данным и считаем долю аномальных\n",
    "    s = df_full[df_full[step_name] < ths[i]]\n",
    "    \n",
    "    #записываем сам срез данных в словарь\n",
    "    dict_anomalies[steps[i]] = s\n",
    "    \n",
    "    ss = s.count()[0]\n",
    "    \n",
    "    #записываем количество аномальных строк в словарь\n",
    "    dict_anomalies_count[steps[i]] = ss\n",
    "\n",
    "    #считаем долю\n",
    "    sss = round(ss / df_full.shape[0], 2)\n",
    "    \n",
    "    #записываем количество в словарь\n",
    "    dict_anomalies_share[steps[i]] = sss"
   ]
  },
  {
   "cell_type": "code",
   "execution_count": 41,
   "id": "262c1af4",
   "metadata": {
    "scrolled": true
   },
   "outputs": [
    {
     "data": {
      "text/plain": [
       "{'rougher.input.feed': 0.0,\n",
       " 'rougher.output.concentrate': 0.04,\n",
       " 'final.output.concentrate': 0.07}"
      ]
     },
     "execution_count": 41,
     "metadata": {},
     "output_type": "execute_result"
    }
   ],
   "source": [
    "#смотрим доли аномальных значений\n",
    "dict_anomalies_share"
   ]
  },
  {
   "cell_type": "markdown",
   "id": "1dd0ad14",
   "metadata": {},
   "source": [
    "**Вывод**\n",
    "\n",
    "Аномальные значения составляют:\n",
    "* <1% от данных этапа загрузки сырья (`rougher.input.feed`)\n",
    "* 4% от данных этапа флотации (`rougher.output.concentrate`)\n",
    "* 7% от данных этапа финальной очистки (`final.output.concentrate`)\n",
    "\n",
    "**Итог**\n",
    "* Данные аномалии необходимо удалить из обучающей и тестовой выборок для корректного обучения и проверки модели\n",
    "* Необходимо получить доп информацию о природе данных аномалий, чтобы подтвердить, что в данных ошибка"
   ]
  },
  {
   "cell_type": "code",
   "execution_count": 42,
   "id": "a3826314",
   "metadata": {},
   "outputs": [],
   "source": [
    "rows_before_drop = df_train.shape[0] + df_test.shape[0]"
   ]
  },
  {
   "cell_type": "code",
   "execution_count": 43,
   "id": "9f54b78c",
   "metadata": {},
   "outputs": [],
   "source": [
    "rows_to_drop = 0\n",
    "\n",
    "for step in steps:\n",
    "\n",
    "        #выбираем список id, которые надо будет удалить из выборки train\n",
    "        labels = df_train[df_train['date'].isin(dict_anomalies[step]['date'])].index\n",
    "         \n",
    "        #сохраняем в переменную для проверки - сколько строк удаляем\n",
    "        rows_to_drop += len(labels)\n",
    "        \n",
    "        #удаляем по индексу\n",
    "        df_train = df_train.drop(index=labels)\n",
    "        \n",
    "        #аналогично для test\n",
    "        labels = df_test[df_test['date'].isin(dict_anomalies[step]['date'])].index\n",
    "        rows_to_drop += len(labels)\n",
    "        df_test = df_test.drop(index=labels)"
   ]
  },
  {
   "cell_type": "code",
   "execution_count": 44,
   "id": "e6ed46e0",
   "metadata": {
    "scrolled": true
   },
   "outputs": [
    {
     "data": {
      "text/plain": [
       "True"
      ]
     },
     "execution_count": 44,
     "metadata": {},
     "output_type": "execute_result"
    }
   ],
   "source": [
    "rows_after_drop = df_train.shape[0] + df_test.shape[0]\n",
    "\n",
    "#проверка\n",
    "rows_before_drop - rows_to_drop == rows_after_drop"
   ]
  },
  {
   "cell_type": "markdown",
   "id": "8acb0366",
   "metadata": {},
   "source": [
    "Данные корректно удалены"
   ]
  },
  {
   "cell_type": "markdown",
   "id": "aafb3c02",
   "metadata": {},
   "source": [
    "___"
   ]
  },
  {
   "cell_type": "markdown",
   "id": "91c6bc32",
   "metadata": {},
   "source": [
    "## Построение моделей"
   ]
  },
  {
   "cell_type": "markdown",
   "id": "45efda1d",
   "metadata": {},
   "source": [
    "### Функция sMAPE"
   ]
  },
  {
   "cell_type": "markdown",
   "id": "cde93159",
   "metadata": {},
   "source": [
    "Для оценки качества модели необходимо создать свою метрику:\n",
    "\n",
    "* **routher** = эффективность обогащения чернового концентрата `rougher.output.recovery`;\n",
    "* **final** = эффективность обогащения финального концентрата `final.output.recovery`.\n",
    "\n",
    "Итоговая метрика качества модели:\n",
    "$ RESULT\\_sMAPE = sMAPE(rougher) * 25\\% + sMAPE(final) * 75\\% $ \n",
    "\n",
    "**Необходимо выбрать 2 модели с лучшими предсказаниями: по одной для каждого из двух целевых признаков**"
   ]
  },
  {
   "cell_type": "code",
   "execution_count": 45,
   "id": "5b307289",
   "metadata": {},
   "outputs": [],
   "source": [
    "#функция, которая будет расчитывать метрику sMAPE\n",
    "\n",
    "def sMAPE(y_true, y_pred):\n",
    "    a = abs(y_true-y_pred) #числитель\n",
    "    b = (abs(y_true) + abs(y_pred) + 0.0000000001) #знаменатель до деления на 2\n",
    "    c = b / 2 #знаменатель после деления на 2\n",
    "    d = (1 / len(y_true)) #деление на количество значений\n",
    "    \n",
    "    score = sum(a / c) * d * 100 #итоговая формула\n",
    "\n",
    "    return score"
   ]
  },
  {
   "cell_type": "code",
   "execution_count": 46,
   "id": "1108d79c",
   "metadata": {},
   "outputs": [],
   "source": [
    "#sklearn make_scorer for the sMAPE\n",
    "scorer_smape = make_scorer(sMAPE, greater_is_better=False)"
   ]
  },
  {
   "cell_type": "markdown",
   "id": "2dae4bcf",
   "metadata": {},
   "source": [
    "___"
   ]
  },
  {
   "cell_type": "markdown",
   "id": "6bfae2fb",
   "metadata": {},
   "source": [
    "### Сформируем массивы X_train, X_test, y_train, y_test"
   ]
  },
  {
   "cell_type": "code",
   "execution_count": 47,
   "id": "8bc9cca7",
   "metadata": {},
   "outputs": [],
   "source": [
    "targets = ['rougher.output.recovery', 'final.output.recovery']"
   ]
  },
  {
   "cell_type": "code",
   "execution_count": 48,
   "id": "c2508a8f",
   "metadata": {},
   "outputs": [],
   "source": [
    "X_train = df_train.drop(columns=targets + ['date'])"
   ]
  },
  {
   "cell_type": "code",
   "execution_count": 49,
   "id": "96ae1d4f",
   "metadata": {},
   "outputs": [],
   "source": [
    "X_test = df_test.drop(columns=targets + ['date'])"
   ]
  },
  {
   "cell_type": "code",
   "execution_count": 50,
   "id": "3f50c3c8",
   "metadata": {},
   "outputs": [],
   "source": [
    "#два целевых признака\n",
    "y_train_rougher = df_train[targets[0]]\n",
    "y_train_final = df_train[targets[1]]\n",
    "\n",
    "#два целевых признака\n",
    "y_test_rougher = df_test[targets[0]]\n",
    "y_test_final = df_test[targets[1]]"
   ]
  },
  {
   "cell_type": "markdown",
   "id": "10ad40fa",
   "metadata": {},
   "source": [
    "___"
   ]
  },
  {
   "cell_type": "markdown",
   "id": "9163fd70",
   "metadata": {},
   "source": [
    "### Линейная регрессия"
   ]
  },
  {
   "cell_type": "code",
   "execution_count": 51,
   "id": "ff5b1574",
   "metadata": {},
   "outputs": [],
   "source": [
    "#инициализируем модель\n",
    "linreg = LinearRegression()"
   ]
  },
  {
   "cell_type": "code",
   "execution_count": 52,
   "id": "724e0cf9",
   "metadata": {},
   "outputs": [],
   "source": [
    "#создадим объект трансформации данных (масштабирование)\n",
    "sc = StandardScaler()"
   ]
  },
  {
   "cell_type": "code",
   "execution_count": 53,
   "id": "8c4304e6",
   "metadata": {},
   "outputs": [],
   "source": [
    "#создадим пайплайн, который будет выполнять (1) трансформацию данных и затем (2) обучать модель\n",
    "pipe = make_pipeline(sc, linreg)"
   ]
  },
  {
   "cell_type": "code",
   "execution_count": 54,
   "id": "1bb1424e",
   "metadata": {},
   "outputs": [],
   "source": [
    "#обучим модель и проверим с помощью кросс-валидации результат (для всего пайплайна)\n",
    "cv_scores_rougher = cross_val_score(pipe, X_train, y_train_rougher, scoring=scorer_smape, cv=10)"
   ]
  },
  {
   "cell_type": "code",
   "execution_count": 55,
   "id": "2cb59f7b",
   "metadata": {},
   "outputs": [
    {
     "data": {
      "text/plain": [
       "array([-6.94264287, -8.35218698, -6.1139263 , -4.57606298, -5.91067581,\n",
       "       -4.65059364, -5.1563966 , -3.53512808, -6.73218417, -7.82055692])"
      ]
     },
     "execution_count": 55,
     "metadata": {},
     "output_type": "execute_result"
    }
   ],
   "source": [
    "cv_scores_rougher"
   ]
  },
  {
   "cell_type": "code",
   "execution_count": 56,
   "id": "8ba657be",
   "metadata": {},
   "outputs": [
    {
     "data": {
      "text/plain": [
       "-5.979035433752946"
      ]
     },
     "execution_count": 56,
     "metadata": {},
     "output_type": "execute_result"
    }
   ],
   "source": [
    "linreg_rougher = cv_scores_rougher.mean()\n",
    "linreg_rougher"
   ]
  },
  {
   "cell_type": "code",
   "execution_count": 57,
   "id": "93724612",
   "metadata": {},
   "outputs": [],
   "source": [
    "#обучим модель и проверим с помощью кросс-валидации результат (для всего пайплайна)\n",
    "cv_scores_final = cross_val_score(pipe, X_train, y_train_final, scoring=scorer_smape, cv=10)"
   ]
  },
  {
   "cell_type": "code",
   "execution_count": 58,
   "id": "20a8d7c1",
   "metadata": {},
   "outputs": [
    {
     "data": {
      "text/plain": [
       "array([ -8.89909024, -10.22793484, -10.56051311,  -7.01157446,\n",
       "        -8.12201096,  -9.15570295,  -9.74301115,  -7.73837209,\n",
       "        -9.68963008, -16.50868383])"
      ]
     },
     "execution_count": 58,
     "metadata": {},
     "output_type": "execute_result"
    }
   ],
   "source": [
    "cv_scores_final"
   ]
  },
  {
   "cell_type": "code",
   "execution_count": 59,
   "id": "3f71ac88",
   "metadata": {},
   "outputs": [
    {
     "data": {
      "text/plain": [
       "-9.765652368559486"
      ]
     },
     "execution_count": 59,
     "metadata": {},
     "output_type": "execute_result"
    }
   ],
   "source": [
    "linreg_final = cv_scores_final.mean()\n",
    "linreg_final"
   ]
  },
  {
   "cell_type": "code",
   "execution_count": 60,
   "id": "f1701877",
   "metadata": {},
   "outputs": [
    {
     "name": "stdout",
     "output_type": "stream",
     "text": [
      "Итоговый sMAPE(линейная регрессия) равен -8.82\n"
     ]
    }
   ],
   "source": [
    "print(f'Итоговый sMAPE(линейная регрессия) равен {round(0.25*linreg_rougher + 0.75*linreg_final,2)}')"
   ]
  },
  {
   "cell_type": "markdown",
   "id": "36a69837",
   "metadata": {},
   "source": [
    "___"
   ]
  },
  {
   "cell_type": "markdown",
   "id": "be7e9cf5",
   "metadata": {},
   "source": [
    "### Случайный лес"
   ]
  },
  {
   "cell_type": "code",
   "execution_count": 61,
   "id": "172fc08e",
   "metadata": {},
   "outputs": [],
   "source": [
    "#инициализируем модель\n",
    "rf = RandomForestRegressor(random_state=99)"
   ]
  },
  {
   "cell_type": "code",
   "execution_count": 62,
   "id": "0cd89cc5",
   "metadata": {},
   "outputs": [],
   "source": [
    "#создадим объект трансформации данных (масштабирование)\n",
    "sc = StandardScaler()"
   ]
  },
  {
   "cell_type": "code",
   "execution_count": 63,
   "id": "6a80eb0e",
   "metadata": {},
   "outputs": [],
   "source": [
    "#создадим пайплайн, который будет выполнять (1) трансформацию данных и затем (2) обучать модель\n",
    "pipe = make_pipeline(sc, rf)"
   ]
  },
  {
   "cell_type": "code",
   "execution_count": 64,
   "id": "14ac2429",
   "metadata": {},
   "outputs": [],
   "source": [
    "#словарь для гиперпараметров\n",
    "hp = dict(max_depth=np.array(range(1,20,5)),\n",
    "         n_estimators=np.array(range(50,151,50)))\n",
    "\n",
    "#создадим словарь гиперпараметров (для работы Pipeline должны состоять из \n",
    "# \"названия шага__параметр\")\n",
    "pipe_hp = {'randomforestregressor__' + key: hp[key] for key in hp}"
   ]
  },
  {
   "cell_type": "code",
   "execution_count": 65,
   "id": "6b2a039f",
   "metadata": {},
   "outputs": [
    {
     "data": {
      "text/plain": [
       "{'randomforestregressor__max_depth': array([ 1,  6, 11, 16]),\n",
       " 'randomforestregressor__n_estimators': array([ 50, 100, 150])}"
      ]
     },
     "execution_count": 65,
     "metadata": {},
     "output_type": "execute_result"
    }
   ],
   "source": [
    "#проверяемые гиперпараметры\n",
    "pipe_hp"
   ]
  },
  {
   "cell_type": "markdown",
   "id": "8b1c8f06",
   "metadata": {},
   "source": [
    "**rougher.output.recovery**"
   ]
  },
  {
   "cell_type": "code",
   "execution_count": 66,
   "id": "acc7f5b7",
   "metadata": {},
   "outputs": [
    {
     "name": "stdout",
     "output_type": "stream",
     "text": [
      "CPU times: total: 48min 24s\n",
      "Wall time: 55min 57s\n"
     ]
    },
    {
     "data": {
      "text/html": [
       "<style>#sk-container-id-1 {color: black;background-color: white;}#sk-container-id-1 pre{padding: 0;}#sk-container-id-1 div.sk-toggleable {background-color: white;}#sk-container-id-1 label.sk-toggleable__label {cursor: pointer;display: block;width: 100%;margin-bottom: 0;padding: 0.3em;box-sizing: border-box;text-align: center;}#sk-container-id-1 label.sk-toggleable__label-arrow:before {content: \"▸\";float: left;margin-right: 0.25em;color: #696969;}#sk-container-id-1 label.sk-toggleable__label-arrow:hover:before {color: black;}#sk-container-id-1 div.sk-estimator:hover label.sk-toggleable__label-arrow:before {color: black;}#sk-container-id-1 div.sk-toggleable__content {max-height: 0;max-width: 0;overflow: hidden;text-align: left;background-color: #f0f8ff;}#sk-container-id-1 div.sk-toggleable__content pre {margin: 0.2em;color: black;border-radius: 0.25em;background-color: #f0f8ff;}#sk-container-id-1 input.sk-toggleable__control:checked~div.sk-toggleable__content {max-height: 200px;max-width: 100%;overflow: auto;}#sk-container-id-1 input.sk-toggleable__control:checked~label.sk-toggleable__label-arrow:before {content: \"▾\";}#sk-container-id-1 div.sk-estimator input.sk-toggleable__control:checked~label.sk-toggleable__label {background-color: #d4ebff;}#sk-container-id-1 div.sk-label input.sk-toggleable__control:checked~label.sk-toggleable__label {background-color: #d4ebff;}#sk-container-id-1 input.sk-hidden--visually {border: 0;clip: rect(1px 1px 1px 1px);clip: rect(1px, 1px, 1px, 1px);height: 1px;margin: -1px;overflow: hidden;padding: 0;position: absolute;width: 1px;}#sk-container-id-1 div.sk-estimator {font-family: monospace;background-color: #f0f8ff;border: 1px dotted black;border-radius: 0.25em;box-sizing: border-box;margin-bottom: 0.5em;}#sk-container-id-1 div.sk-estimator:hover {background-color: #d4ebff;}#sk-container-id-1 div.sk-parallel-item::after {content: \"\";width: 100%;border-bottom: 1px solid gray;flex-grow: 1;}#sk-container-id-1 div.sk-label:hover label.sk-toggleable__label {background-color: #d4ebff;}#sk-container-id-1 div.sk-serial::before {content: \"\";position: absolute;border-left: 1px solid gray;box-sizing: border-box;top: 0;bottom: 0;left: 50%;z-index: 0;}#sk-container-id-1 div.sk-serial {display: flex;flex-direction: column;align-items: center;background-color: white;padding-right: 0.2em;padding-left: 0.2em;position: relative;}#sk-container-id-1 div.sk-item {position: relative;z-index: 1;}#sk-container-id-1 div.sk-parallel {display: flex;align-items: stretch;justify-content: center;background-color: white;position: relative;}#sk-container-id-1 div.sk-item::before, #sk-container-id-1 div.sk-parallel-item::before {content: \"\";position: absolute;border-left: 1px solid gray;box-sizing: border-box;top: 0;bottom: 0;left: 50%;z-index: -1;}#sk-container-id-1 div.sk-parallel-item {display: flex;flex-direction: column;z-index: 1;position: relative;background-color: white;}#sk-container-id-1 div.sk-parallel-item:first-child::after {align-self: flex-end;width: 50%;}#sk-container-id-1 div.sk-parallel-item:last-child::after {align-self: flex-start;width: 50%;}#sk-container-id-1 div.sk-parallel-item:only-child::after {width: 0;}#sk-container-id-1 div.sk-dashed-wrapped {border: 1px dashed gray;margin: 0 0.4em 0.5em 0.4em;box-sizing: border-box;padding-bottom: 0.4em;background-color: white;}#sk-container-id-1 div.sk-label label {font-family: monospace;font-weight: bold;display: inline-block;line-height: 1.2em;}#sk-container-id-1 div.sk-label-container {text-align: center;}#sk-container-id-1 div.sk-container {/* jupyter's `normalize.less` sets `[hidden] { display: none; }` but bootstrap.min.css set `[hidden] { display: none !important; }` so we also need the `!important` here to be able to override the default hidden behavior on the sphinx rendered scikit-learn.org. See: https://github.com/scikit-learn/scikit-learn/issues/21755 */display: inline-block !important;position: relative;}#sk-container-id-1 div.sk-text-repr-fallback {display: none;}</style><div id=\"sk-container-id-1\" class=\"sk-top-container\"><div class=\"sk-text-repr-fallback\"><pre>GridSearchCV(cv=KFold(n_splits=5, random_state=99, shuffle=True),\n",
       "             estimator=Pipeline(steps=[(&#x27;standardscaler&#x27;, StandardScaler()),\n",
       "                                       (&#x27;randomforestregressor&#x27;,\n",
       "                                        RandomForestRegressor(random_state=99))]),\n",
       "             param_grid={&#x27;randomforestregressor__max_depth&#x27;: array([ 1,  6, 11, 16]),\n",
       "                         &#x27;randomforestregressor__n_estimators&#x27;: array([ 50, 100, 150])},\n",
       "             scoring=make_scorer(sMAPE, greater_is_better=False))</pre><b>In a Jupyter environment, please rerun this cell to show the HTML representation or trust the notebook. <br />On GitHub, the HTML representation is unable to render, please try loading this page with nbviewer.org.</b></div><div class=\"sk-container\" hidden><div class=\"sk-item sk-dashed-wrapped\"><div class=\"sk-label-container\"><div class=\"sk-label sk-toggleable\"><input class=\"sk-toggleable__control sk-hidden--visually\" id=\"sk-estimator-id-1\" type=\"checkbox\" ><label for=\"sk-estimator-id-1\" class=\"sk-toggleable__label sk-toggleable__label-arrow\">GridSearchCV</label><div class=\"sk-toggleable__content\"><pre>GridSearchCV(cv=KFold(n_splits=5, random_state=99, shuffle=True),\n",
       "             estimator=Pipeline(steps=[(&#x27;standardscaler&#x27;, StandardScaler()),\n",
       "                                       (&#x27;randomforestregressor&#x27;,\n",
       "                                        RandomForestRegressor(random_state=99))]),\n",
       "             param_grid={&#x27;randomforestregressor__max_depth&#x27;: array([ 1,  6, 11, 16]),\n",
       "                         &#x27;randomforestregressor__n_estimators&#x27;: array([ 50, 100, 150])},\n",
       "             scoring=make_scorer(sMAPE, greater_is_better=False))</pre></div></div></div><div class=\"sk-parallel\"><div class=\"sk-parallel-item\"><div class=\"sk-item\"><div class=\"sk-label-container\"><div class=\"sk-label sk-toggleable\"><input class=\"sk-toggleable__control sk-hidden--visually\" id=\"sk-estimator-id-2\" type=\"checkbox\" ><label for=\"sk-estimator-id-2\" class=\"sk-toggleable__label sk-toggleable__label-arrow\">estimator: Pipeline</label><div class=\"sk-toggleable__content\"><pre>Pipeline(steps=[(&#x27;standardscaler&#x27;, StandardScaler()),\n",
       "                (&#x27;randomforestregressor&#x27;,\n",
       "                 RandomForestRegressor(random_state=99))])</pre></div></div></div><div class=\"sk-serial\"><div class=\"sk-item\"><div class=\"sk-serial\"><div class=\"sk-item\"><div class=\"sk-estimator sk-toggleable\"><input class=\"sk-toggleable__control sk-hidden--visually\" id=\"sk-estimator-id-3\" type=\"checkbox\" ><label for=\"sk-estimator-id-3\" class=\"sk-toggleable__label sk-toggleable__label-arrow\">StandardScaler</label><div class=\"sk-toggleable__content\"><pre>StandardScaler()</pre></div></div></div><div class=\"sk-item\"><div class=\"sk-estimator sk-toggleable\"><input class=\"sk-toggleable__control sk-hidden--visually\" id=\"sk-estimator-id-4\" type=\"checkbox\" ><label for=\"sk-estimator-id-4\" class=\"sk-toggleable__label sk-toggleable__label-arrow\">RandomForestRegressor</label><div class=\"sk-toggleable__content\"><pre>RandomForestRegressor(random_state=99)</pre></div></div></div></div></div></div></div></div></div></div></div></div>"
      ],
      "text/plain": [
       "GridSearchCV(cv=KFold(n_splits=5, random_state=99, shuffle=True),\n",
       "             estimator=Pipeline(steps=[('standardscaler', StandardScaler()),\n",
       "                                       ('randomforestregressor',\n",
       "                                        RandomForestRegressor(random_state=99))]),\n",
       "             param_grid={'randomforestregressor__max_depth': array([ 1,  6, 11, 16]),\n",
       "                         'randomforestregressor__n_estimators': array([ 50, 100, 150])},\n",
       "             scoring=make_scorer(sMAPE, greater_is_better=False))"
      ]
     },
     "execution_count": 66,
     "metadata": {},
     "output_type": "execute_result"
    }
   ],
   "source": [
    "%%time\n",
    "\n",
    "#подбираем гиперпараметры\n",
    "cv = KFold(n_splits = 5, shuffle = True, random_state=99)\n",
    "\n",
    "grid_pipe = GridSearchCV(pipe, param_grid=pipe_hp, cv=cv, scoring=scorer_smape)\n",
    "grid_pipe.fit(X_train, y_train_rougher)"
   ]
  },
  {
   "cell_type": "code",
   "execution_count": 67,
   "id": "4f050a9c",
   "metadata": {},
   "outputs": [
    {
     "name": "stdout",
     "output_type": "stream",
     "text": [
      "best max_depth: {'randomforestregressor__max_depth': 16, 'randomforestregressor__n_estimators': 150}\n",
      "best sMAPE score: -2.2948461056931713\n"
     ]
    }
   ],
   "source": [
    "print('best max_depth:',grid_pipe.best_params_)\n",
    "print('best sMAPE score:' ,grid_pipe.best_score_)"
   ]
  },
  {
   "cell_type": "code",
   "execution_count": 68,
   "id": "60071da6",
   "metadata": {},
   "outputs": [],
   "source": [
    "rf_score_rougher = grid_pipe.best_score_"
   ]
  },
  {
   "cell_type": "markdown",
   "id": "caa80570",
   "metadata": {},
   "source": [
    "**final.output.recovery**"
   ]
  },
  {
   "cell_type": "code",
   "execution_count": 69,
   "id": "7d0b2c8e",
   "metadata": {},
   "outputs": [
    {
     "name": "stdout",
     "output_type": "stream",
     "text": [
      "CPU times: total: 26min 39s\n",
      "Wall time: 27min 3s\n"
     ]
    },
    {
     "data": {
      "text/html": [
       "<style>#sk-container-id-2 {color: black;background-color: white;}#sk-container-id-2 pre{padding: 0;}#sk-container-id-2 div.sk-toggleable {background-color: white;}#sk-container-id-2 label.sk-toggleable__label {cursor: pointer;display: block;width: 100%;margin-bottom: 0;padding: 0.3em;box-sizing: border-box;text-align: center;}#sk-container-id-2 label.sk-toggleable__label-arrow:before {content: \"▸\";float: left;margin-right: 0.25em;color: #696969;}#sk-container-id-2 label.sk-toggleable__label-arrow:hover:before {color: black;}#sk-container-id-2 div.sk-estimator:hover label.sk-toggleable__label-arrow:before {color: black;}#sk-container-id-2 div.sk-toggleable__content {max-height: 0;max-width: 0;overflow: hidden;text-align: left;background-color: #f0f8ff;}#sk-container-id-2 div.sk-toggleable__content pre {margin: 0.2em;color: black;border-radius: 0.25em;background-color: #f0f8ff;}#sk-container-id-2 input.sk-toggleable__control:checked~div.sk-toggleable__content {max-height: 200px;max-width: 100%;overflow: auto;}#sk-container-id-2 input.sk-toggleable__control:checked~label.sk-toggleable__label-arrow:before {content: \"▾\";}#sk-container-id-2 div.sk-estimator input.sk-toggleable__control:checked~label.sk-toggleable__label {background-color: #d4ebff;}#sk-container-id-2 div.sk-label input.sk-toggleable__control:checked~label.sk-toggleable__label {background-color: #d4ebff;}#sk-container-id-2 input.sk-hidden--visually {border: 0;clip: rect(1px 1px 1px 1px);clip: rect(1px, 1px, 1px, 1px);height: 1px;margin: -1px;overflow: hidden;padding: 0;position: absolute;width: 1px;}#sk-container-id-2 div.sk-estimator {font-family: monospace;background-color: #f0f8ff;border: 1px dotted black;border-radius: 0.25em;box-sizing: border-box;margin-bottom: 0.5em;}#sk-container-id-2 div.sk-estimator:hover {background-color: #d4ebff;}#sk-container-id-2 div.sk-parallel-item::after {content: \"\";width: 100%;border-bottom: 1px solid gray;flex-grow: 1;}#sk-container-id-2 div.sk-label:hover label.sk-toggleable__label {background-color: #d4ebff;}#sk-container-id-2 div.sk-serial::before {content: \"\";position: absolute;border-left: 1px solid gray;box-sizing: border-box;top: 0;bottom: 0;left: 50%;z-index: 0;}#sk-container-id-2 div.sk-serial {display: flex;flex-direction: column;align-items: center;background-color: white;padding-right: 0.2em;padding-left: 0.2em;position: relative;}#sk-container-id-2 div.sk-item {position: relative;z-index: 1;}#sk-container-id-2 div.sk-parallel {display: flex;align-items: stretch;justify-content: center;background-color: white;position: relative;}#sk-container-id-2 div.sk-item::before, #sk-container-id-2 div.sk-parallel-item::before {content: \"\";position: absolute;border-left: 1px solid gray;box-sizing: border-box;top: 0;bottom: 0;left: 50%;z-index: -1;}#sk-container-id-2 div.sk-parallel-item {display: flex;flex-direction: column;z-index: 1;position: relative;background-color: white;}#sk-container-id-2 div.sk-parallel-item:first-child::after {align-self: flex-end;width: 50%;}#sk-container-id-2 div.sk-parallel-item:last-child::after {align-self: flex-start;width: 50%;}#sk-container-id-2 div.sk-parallel-item:only-child::after {width: 0;}#sk-container-id-2 div.sk-dashed-wrapped {border: 1px dashed gray;margin: 0 0.4em 0.5em 0.4em;box-sizing: border-box;padding-bottom: 0.4em;background-color: white;}#sk-container-id-2 div.sk-label label {font-family: monospace;font-weight: bold;display: inline-block;line-height: 1.2em;}#sk-container-id-2 div.sk-label-container {text-align: center;}#sk-container-id-2 div.sk-container {/* jupyter's `normalize.less` sets `[hidden] { display: none; }` but bootstrap.min.css set `[hidden] { display: none !important; }` so we also need the `!important` here to be able to override the default hidden behavior on the sphinx rendered scikit-learn.org. See: https://github.com/scikit-learn/scikit-learn/issues/21755 */display: inline-block !important;position: relative;}#sk-container-id-2 div.sk-text-repr-fallback {display: none;}</style><div id=\"sk-container-id-2\" class=\"sk-top-container\"><div class=\"sk-text-repr-fallback\"><pre>GridSearchCV(cv=KFold(n_splits=5, random_state=99, shuffle=True),\n",
       "             estimator=Pipeline(steps=[(&#x27;standardscaler&#x27;, StandardScaler()),\n",
       "                                       (&#x27;randomforestregressor&#x27;,\n",
       "                                        RandomForestRegressor(random_state=99))]),\n",
       "             param_grid={&#x27;randomforestregressor__max_depth&#x27;: array([ 1,  6, 11, 16]),\n",
       "                         &#x27;randomforestregressor__n_estimators&#x27;: array([ 50, 100, 150])},\n",
       "             scoring=make_scorer(sMAPE, greater_is_better=False))</pre><b>In a Jupyter environment, please rerun this cell to show the HTML representation or trust the notebook. <br />On GitHub, the HTML representation is unable to render, please try loading this page with nbviewer.org.</b></div><div class=\"sk-container\" hidden><div class=\"sk-item sk-dashed-wrapped\"><div class=\"sk-label-container\"><div class=\"sk-label sk-toggleable\"><input class=\"sk-toggleable__control sk-hidden--visually\" id=\"sk-estimator-id-5\" type=\"checkbox\" ><label for=\"sk-estimator-id-5\" class=\"sk-toggleable__label sk-toggleable__label-arrow\">GridSearchCV</label><div class=\"sk-toggleable__content\"><pre>GridSearchCV(cv=KFold(n_splits=5, random_state=99, shuffle=True),\n",
       "             estimator=Pipeline(steps=[(&#x27;standardscaler&#x27;, StandardScaler()),\n",
       "                                       (&#x27;randomforestregressor&#x27;,\n",
       "                                        RandomForestRegressor(random_state=99))]),\n",
       "             param_grid={&#x27;randomforestregressor__max_depth&#x27;: array([ 1,  6, 11, 16]),\n",
       "                         &#x27;randomforestregressor__n_estimators&#x27;: array([ 50, 100, 150])},\n",
       "             scoring=make_scorer(sMAPE, greater_is_better=False))</pre></div></div></div><div class=\"sk-parallel\"><div class=\"sk-parallel-item\"><div class=\"sk-item\"><div class=\"sk-label-container\"><div class=\"sk-label sk-toggleable\"><input class=\"sk-toggleable__control sk-hidden--visually\" id=\"sk-estimator-id-6\" type=\"checkbox\" ><label for=\"sk-estimator-id-6\" class=\"sk-toggleable__label sk-toggleable__label-arrow\">estimator: Pipeline</label><div class=\"sk-toggleable__content\"><pre>Pipeline(steps=[(&#x27;standardscaler&#x27;, StandardScaler()),\n",
       "                (&#x27;randomforestregressor&#x27;,\n",
       "                 RandomForestRegressor(random_state=99))])</pre></div></div></div><div class=\"sk-serial\"><div class=\"sk-item\"><div class=\"sk-serial\"><div class=\"sk-item\"><div class=\"sk-estimator sk-toggleable\"><input class=\"sk-toggleable__control sk-hidden--visually\" id=\"sk-estimator-id-7\" type=\"checkbox\" ><label for=\"sk-estimator-id-7\" class=\"sk-toggleable__label sk-toggleable__label-arrow\">StandardScaler</label><div class=\"sk-toggleable__content\"><pre>StandardScaler()</pre></div></div></div><div class=\"sk-item\"><div class=\"sk-estimator sk-toggleable\"><input class=\"sk-toggleable__control sk-hidden--visually\" id=\"sk-estimator-id-8\" type=\"checkbox\" ><label for=\"sk-estimator-id-8\" class=\"sk-toggleable__label sk-toggleable__label-arrow\">RandomForestRegressor</label><div class=\"sk-toggleable__content\"><pre>RandomForestRegressor(random_state=99)</pre></div></div></div></div></div></div></div></div></div></div></div></div>"
      ],
      "text/plain": [
       "GridSearchCV(cv=KFold(n_splits=5, random_state=99, shuffle=True),\n",
       "             estimator=Pipeline(steps=[('standardscaler', StandardScaler()),\n",
       "                                       ('randomforestregressor',\n",
       "                                        RandomForestRegressor(random_state=99))]),\n",
       "             param_grid={'randomforestregressor__max_depth': array([ 1,  6, 11, 16]),\n",
       "                         'randomforestregressor__n_estimators': array([ 50, 100, 150])},\n",
       "             scoring=make_scorer(sMAPE, greater_is_better=False))"
      ]
     },
     "execution_count": 69,
     "metadata": {},
     "output_type": "execute_result"
    }
   ],
   "source": [
    "%%time\n",
    "\n",
    "#подбираем гиперпараметры\n",
    "cv = KFold(n_splits = 5, shuffle = True, random_state=99)\n",
    "\n",
    "grid_pipe = GridSearchCV(pipe, param_grid=pipe_hp, cv=cv, scoring=scorer_smape)\n",
    "grid_pipe.fit(X_train, y_train_final)"
   ]
  },
  {
   "cell_type": "code",
   "execution_count": 70,
   "id": "f58a685d",
   "metadata": {},
   "outputs": [
    {
     "name": "stdout",
     "output_type": "stream",
     "text": [
      "best max_depth: {'randomforestregressor__max_depth': 16, 'randomforestregressor__n_estimators': 150}\n",
      "best sMAPE score: -5.390182097740983\n"
     ]
    }
   ],
   "source": [
    "print('best max_depth:',grid_pipe.best_params_)\n",
    "print('best sMAPE score:' ,grid_pipe.best_score_)"
   ]
  },
  {
   "cell_type": "code",
   "execution_count": 71,
   "id": "24ad4f12",
   "metadata": {},
   "outputs": [],
   "source": [
    "rf_score_final = grid_pipe.best_score_"
   ]
  },
  {
   "cell_type": "code",
   "execution_count": 72,
   "id": "7da29259",
   "metadata": {},
   "outputs": [
    {
     "name": "stdout",
     "output_type": "stream",
     "text": [
      "Итоговый sMAPE(случайный лес) равен -4.62\n"
     ]
    }
   ],
   "source": [
    "print(f'Итоговый sMAPE(случайный лес) равен {round(0.25*rf_score_rougher + 0.75*rf_score_final,2)}')"
   ]
  },
  {
   "cell_type": "markdown",
   "id": "14bf74c7",
   "metadata": {},
   "source": [
    "___"
   ]
  },
  {
   "cell_type": "markdown",
   "id": "59ec8927",
   "metadata": {},
   "source": [
    "### Дерево решений"
   ]
  },
  {
   "cell_type": "code",
   "execution_count": 73,
   "id": "d8c68e0b",
   "metadata": {},
   "outputs": [],
   "source": [
    "#инициализируем модель\n",
    "dt = DecisionTreeRegressor(random_state=99)"
   ]
  },
  {
   "cell_type": "code",
   "execution_count": 74,
   "id": "dfa5ea54",
   "metadata": {},
   "outputs": [],
   "source": [
    "#создадим объект трансформации данных (масштабирование)\n",
    "sc = StandardScaler()"
   ]
  },
  {
   "cell_type": "code",
   "execution_count": 75,
   "id": "e85e6a75",
   "metadata": {},
   "outputs": [],
   "source": [
    "#создадим пайплайн, который будет выполнять (1) трансформацию данных и затем (2) обучать модель\n",
    "pipe = make_pipeline(sc, dt)"
   ]
  },
  {
   "cell_type": "code",
   "execution_count": 76,
   "id": "d4d510ca",
   "metadata": {},
   "outputs": [],
   "source": [
    "#словарь для гиперпараметров\n",
    "hp = dict(max_depth=np.array(range(1,20,5)))\n",
    "\n",
    "#создадим словарь гиперпараметров (для работы Pipeline должны состоять из \n",
    "# \"названия шага__параметр\")\n",
    "pipe_hp = {'decisiontreeregressor__' + key: hp[key] for key in hp}"
   ]
  },
  {
   "cell_type": "markdown",
   "id": "63b16812",
   "metadata": {},
   "source": [
    "**rougher.output.recovery**"
   ]
  },
  {
   "cell_type": "code",
   "execution_count": 77,
   "id": "8079b0bd",
   "metadata": {
    "scrolled": true
   },
   "outputs": [
    {
     "name": "stdout",
     "output_type": "stream",
     "text": [
      "CPU times: total: 9.27 s\n",
      "Wall time: 9.34 s\n"
     ]
    },
    {
     "data": {
      "text/html": [
       "<style>#sk-container-id-3 {color: black;background-color: white;}#sk-container-id-3 pre{padding: 0;}#sk-container-id-3 div.sk-toggleable {background-color: white;}#sk-container-id-3 label.sk-toggleable__label {cursor: pointer;display: block;width: 100%;margin-bottom: 0;padding: 0.3em;box-sizing: border-box;text-align: center;}#sk-container-id-3 label.sk-toggleable__label-arrow:before {content: \"▸\";float: left;margin-right: 0.25em;color: #696969;}#sk-container-id-3 label.sk-toggleable__label-arrow:hover:before {color: black;}#sk-container-id-3 div.sk-estimator:hover label.sk-toggleable__label-arrow:before {color: black;}#sk-container-id-3 div.sk-toggleable__content {max-height: 0;max-width: 0;overflow: hidden;text-align: left;background-color: #f0f8ff;}#sk-container-id-3 div.sk-toggleable__content pre {margin: 0.2em;color: black;border-radius: 0.25em;background-color: #f0f8ff;}#sk-container-id-3 input.sk-toggleable__control:checked~div.sk-toggleable__content {max-height: 200px;max-width: 100%;overflow: auto;}#sk-container-id-3 input.sk-toggleable__control:checked~label.sk-toggleable__label-arrow:before {content: \"▾\";}#sk-container-id-3 div.sk-estimator input.sk-toggleable__control:checked~label.sk-toggleable__label {background-color: #d4ebff;}#sk-container-id-3 div.sk-label input.sk-toggleable__control:checked~label.sk-toggleable__label {background-color: #d4ebff;}#sk-container-id-3 input.sk-hidden--visually {border: 0;clip: rect(1px 1px 1px 1px);clip: rect(1px, 1px, 1px, 1px);height: 1px;margin: -1px;overflow: hidden;padding: 0;position: absolute;width: 1px;}#sk-container-id-3 div.sk-estimator {font-family: monospace;background-color: #f0f8ff;border: 1px dotted black;border-radius: 0.25em;box-sizing: border-box;margin-bottom: 0.5em;}#sk-container-id-3 div.sk-estimator:hover {background-color: #d4ebff;}#sk-container-id-3 div.sk-parallel-item::after {content: \"\";width: 100%;border-bottom: 1px solid gray;flex-grow: 1;}#sk-container-id-3 div.sk-label:hover label.sk-toggleable__label {background-color: #d4ebff;}#sk-container-id-3 div.sk-serial::before {content: \"\";position: absolute;border-left: 1px solid gray;box-sizing: border-box;top: 0;bottom: 0;left: 50%;z-index: 0;}#sk-container-id-3 div.sk-serial {display: flex;flex-direction: column;align-items: center;background-color: white;padding-right: 0.2em;padding-left: 0.2em;position: relative;}#sk-container-id-3 div.sk-item {position: relative;z-index: 1;}#sk-container-id-3 div.sk-parallel {display: flex;align-items: stretch;justify-content: center;background-color: white;position: relative;}#sk-container-id-3 div.sk-item::before, #sk-container-id-3 div.sk-parallel-item::before {content: \"\";position: absolute;border-left: 1px solid gray;box-sizing: border-box;top: 0;bottom: 0;left: 50%;z-index: -1;}#sk-container-id-3 div.sk-parallel-item {display: flex;flex-direction: column;z-index: 1;position: relative;background-color: white;}#sk-container-id-3 div.sk-parallel-item:first-child::after {align-self: flex-end;width: 50%;}#sk-container-id-3 div.sk-parallel-item:last-child::after {align-self: flex-start;width: 50%;}#sk-container-id-3 div.sk-parallel-item:only-child::after {width: 0;}#sk-container-id-3 div.sk-dashed-wrapped {border: 1px dashed gray;margin: 0 0.4em 0.5em 0.4em;box-sizing: border-box;padding-bottom: 0.4em;background-color: white;}#sk-container-id-3 div.sk-label label {font-family: monospace;font-weight: bold;display: inline-block;line-height: 1.2em;}#sk-container-id-3 div.sk-label-container {text-align: center;}#sk-container-id-3 div.sk-container {/* jupyter's `normalize.less` sets `[hidden] { display: none; }` but bootstrap.min.css set `[hidden] { display: none !important; }` so we also need the `!important` here to be able to override the default hidden behavior on the sphinx rendered scikit-learn.org. See: https://github.com/scikit-learn/scikit-learn/issues/21755 */display: inline-block !important;position: relative;}#sk-container-id-3 div.sk-text-repr-fallback {display: none;}</style><div id=\"sk-container-id-3\" class=\"sk-top-container\"><div class=\"sk-text-repr-fallback\"><pre>GridSearchCV(cv=KFold(n_splits=5, random_state=99, shuffle=True),\n",
       "             estimator=Pipeline(steps=[(&#x27;standardscaler&#x27;, StandardScaler()),\n",
       "                                       (&#x27;decisiontreeregressor&#x27;,\n",
       "                                        DecisionTreeRegressor(random_state=99))]),\n",
       "             param_grid={&#x27;decisiontreeregressor__max_depth&#x27;: array([ 1,  6, 11, 16])},\n",
       "             scoring=make_scorer(sMAPE, greater_is_better=False))</pre><b>In a Jupyter environment, please rerun this cell to show the HTML representation or trust the notebook. <br />On GitHub, the HTML representation is unable to render, please try loading this page with nbviewer.org.</b></div><div class=\"sk-container\" hidden><div class=\"sk-item sk-dashed-wrapped\"><div class=\"sk-label-container\"><div class=\"sk-label sk-toggleable\"><input class=\"sk-toggleable__control sk-hidden--visually\" id=\"sk-estimator-id-9\" type=\"checkbox\" ><label for=\"sk-estimator-id-9\" class=\"sk-toggleable__label sk-toggleable__label-arrow\">GridSearchCV</label><div class=\"sk-toggleable__content\"><pre>GridSearchCV(cv=KFold(n_splits=5, random_state=99, shuffle=True),\n",
       "             estimator=Pipeline(steps=[(&#x27;standardscaler&#x27;, StandardScaler()),\n",
       "                                       (&#x27;decisiontreeregressor&#x27;,\n",
       "                                        DecisionTreeRegressor(random_state=99))]),\n",
       "             param_grid={&#x27;decisiontreeregressor__max_depth&#x27;: array([ 1,  6, 11, 16])},\n",
       "             scoring=make_scorer(sMAPE, greater_is_better=False))</pre></div></div></div><div class=\"sk-parallel\"><div class=\"sk-parallel-item\"><div class=\"sk-item\"><div class=\"sk-label-container\"><div class=\"sk-label sk-toggleable\"><input class=\"sk-toggleable__control sk-hidden--visually\" id=\"sk-estimator-id-10\" type=\"checkbox\" ><label for=\"sk-estimator-id-10\" class=\"sk-toggleable__label sk-toggleable__label-arrow\">estimator: Pipeline</label><div class=\"sk-toggleable__content\"><pre>Pipeline(steps=[(&#x27;standardscaler&#x27;, StandardScaler()),\n",
       "                (&#x27;decisiontreeregressor&#x27;,\n",
       "                 DecisionTreeRegressor(random_state=99))])</pre></div></div></div><div class=\"sk-serial\"><div class=\"sk-item\"><div class=\"sk-serial\"><div class=\"sk-item\"><div class=\"sk-estimator sk-toggleable\"><input class=\"sk-toggleable__control sk-hidden--visually\" id=\"sk-estimator-id-11\" type=\"checkbox\" ><label for=\"sk-estimator-id-11\" class=\"sk-toggleable__label sk-toggleable__label-arrow\">StandardScaler</label><div class=\"sk-toggleable__content\"><pre>StandardScaler()</pre></div></div></div><div class=\"sk-item\"><div class=\"sk-estimator sk-toggleable\"><input class=\"sk-toggleable__control sk-hidden--visually\" id=\"sk-estimator-id-12\" type=\"checkbox\" ><label for=\"sk-estimator-id-12\" class=\"sk-toggleable__label sk-toggleable__label-arrow\">DecisionTreeRegressor</label><div class=\"sk-toggleable__content\"><pre>DecisionTreeRegressor(random_state=99)</pre></div></div></div></div></div></div></div></div></div></div></div></div>"
      ],
      "text/plain": [
       "GridSearchCV(cv=KFold(n_splits=5, random_state=99, shuffle=True),\n",
       "             estimator=Pipeline(steps=[('standardscaler', StandardScaler()),\n",
       "                                       ('decisiontreeregressor',\n",
       "                                        DecisionTreeRegressor(random_state=99))]),\n",
       "             param_grid={'decisiontreeregressor__max_depth': array([ 1,  6, 11, 16])},\n",
       "             scoring=make_scorer(sMAPE, greater_is_better=False))"
      ]
     },
     "execution_count": 77,
     "metadata": {},
     "output_type": "execute_result"
    }
   ],
   "source": [
    "%%time\n",
    "\n",
    "#подбираем гиперпараметры\n",
    "cv = KFold(n_splits = 5, shuffle = True, random_state=99)\n",
    "\n",
    "grid_pipe = GridSearchCV(pipe, param_grid=pipe_hp, cv=cv, scoring=scorer_smape)\n",
    "grid_pipe.fit(X_train, y_train_rougher)"
   ]
  },
  {
   "cell_type": "code",
   "execution_count": 78,
   "id": "f8191f1a",
   "metadata": {},
   "outputs": [
    {
     "name": "stdout",
     "output_type": "stream",
     "text": [
      "best max_depth: {'decisiontreeregressor__max_depth': 16}\n",
      "best sMAPE score: -3.144146743277833\n"
     ]
    }
   ],
   "source": [
    "print('best max_depth:',grid_pipe.best_params_)\n",
    "print('best sMAPE score:' ,grid_pipe.best_score_)"
   ]
  },
  {
   "cell_type": "code",
   "execution_count": 79,
   "id": "1d33c71c",
   "metadata": {},
   "outputs": [],
   "source": [
    "dt_score_rougher = grid_pipe.best_score_"
   ]
  },
  {
   "cell_type": "markdown",
   "id": "8c8e1b0f",
   "metadata": {},
   "source": [
    "**final.output.recovery**"
   ]
  },
  {
   "cell_type": "code",
   "execution_count": 80,
   "id": "c348fd9e",
   "metadata": {},
   "outputs": [
    {
     "name": "stdout",
     "output_type": "stream",
     "text": [
      "CPU times: total: 10.3 s\n",
      "Wall time: 10.7 s\n"
     ]
    },
    {
     "data": {
      "text/html": [
       "<style>#sk-container-id-4 {color: black;background-color: white;}#sk-container-id-4 pre{padding: 0;}#sk-container-id-4 div.sk-toggleable {background-color: white;}#sk-container-id-4 label.sk-toggleable__label {cursor: pointer;display: block;width: 100%;margin-bottom: 0;padding: 0.3em;box-sizing: border-box;text-align: center;}#sk-container-id-4 label.sk-toggleable__label-arrow:before {content: \"▸\";float: left;margin-right: 0.25em;color: #696969;}#sk-container-id-4 label.sk-toggleable__label-arrow:hover:before {color: black;}#sk-container-id-4 div.sk-estimator:hover label.sk-toggleable__label-arrow:before {color: black;}#sk-container-id-4 div.sk-toggleable__content {max-height: 0;max-width: 0;overflow: hidden;text-align: left;background-color: #f0f8ff;}#sk-container-id-4 div.sk-toggleable__content pre {margin: 0.2em;color: black;border-radius: 0.25em;background-color: #f0f8ff;}#sk-container-id-4 input.sk-toggleable__control:checked~div.sk-toggleable__content {max-height: 200px;max-width: 100%;overflow: auto;}#sk-container-id-4 input.sk-toggleable__control:checked~label.sk-toggleable__label-arrow:before {content: \"▾\";}#sk-container-id-4 div.sk-estimator input.sk-toggleable__control:checked~label.sk-toggleable__label {background-color: #d4ebff;}#sk-container-id-4 div.sk-label input.sk-toggleable__control:checked~label.sk-toggleable__label {background-color: #d4ebff;}#sk-container-id-4 input.sk-hidden--visually {border: 0;clip: rect(1px 1px 1px 1px);clip: rect(1px, 1px, 1px, 1px);height: 1px;margin: -1px;overflow: hidden;padding: 0;position: absolute;width: 1px;}#sk-container-id-4 div.sk-estimator {font-family: monospace;background-color: #f0f8ff;border: 1px dotted black;border-radius: 0.25em;box-sizing: border-box;margin-bottom: 0.5em;}#sk-container-id-4 div.sk-estimator:hover {background-color: #d4ebff;}#sk-container-id-4 div.sk-parallel-item::after {content: \"\";width: 100%;border-bottom: 1px solid gray;flex-grow: 1;}#sk-container-id-4 div.sk-label:hover label.sk-toggleable__label {background-color: #d4ebff;}#sk-container-id-4 div.sk-serial::before {content: \"\";position: absolute;border-left: 1px solid gray;box-sizing: border-box;top: 0;bottom: 0;left: 50%;z-index: 0;}#sk-container-id-4 div.sk-serial {display: flex;flex-direction: column;align-items: center;background-color: white;padding-right: 0.2em;padding-left: 0.2em;position: relative;}#sk-container-id-4 div.sk-item {position: relative;z-index: 1;}#sk-container-id-4 div.sk-parallel {display: flex;align-items: stretch;justify-content: center;background-color: white;position: relative;}#sk-container-id-4 div.sk-item::before, #sk-container-id-4 div.sk-parallel-item::before {content: \"\";position: absolute;border-left: 1px solid gray;box-sizing: border-box;top: 0;bottom: 0;left: 50%;z-index: -1;}#sk-container-id-4 div.sk-parallel-item {display: flex;flex-direction: column;z-index: 1;position: relative;background-color: white;}#sk-container-id-4 div.sk-parallel-item:first-child::after {align-self: flex-end;width: 50%;}#sk-container-id-4 div.sk-parallel-item:last-child::after {align-self: flex-start;width: 50%;}#sk-container-id-4 div.sk-parallel-item:only-child::after {width: 0;}#sk-container-id-4 div.sk-dashed-wrapped {border: 1px dashed gray;margin: 0 0.4em 0.5em 0.4em;box-sizing: border-box;padding-bottom: 0.4em;background-color: white;}#sk-container-id-4 div.sk-label label {font-family: monospace;font-weight: bold;display: inline-block;line-height: 1.2em;}#sk-container-id-4 div.sk-label-container {text-align: center;}#sk-container-id-4 div.sk-container {/* jupyter's `normalize.less` sets `[hidden] { display: none; }` but bootstrap.min.css set `[hidden] { display: none !important; }` so we also need the `!important` here to be able to override the default hidden behavior on the sphinx rendered scikit-learn.org. See: https://github.com/scikit-learn/scikit-learn/issues/21755 */display: inline-block !important;position: relative;}#sk-container-id-4 div.sk-text-repr-fallback {display: none;}</style><div id=\"sk-container-id-4\" class=\"sk-top-container\"><div class=\"sk-text-repr-fallback\"><pre>GridSearchCV(cv=KFold(n_splits=5, random_state=99, shuffle=True),\n",
       "             estimator=Pipeline(steps=[(&#x27;standardscaler&#x27;, StandardScaler()),\n",
       "                                       (&#x27;decisiontreeregressor&#x27;,\n",
       "                                        DecisionTreeRegressor(random_state=99))]),\n",
       "             param_grid={&#x27;decisiontreeregressor__max_depth&#x27;: array([ 1,  6, 11, 16])},\n",
       "             scoring=make_scorer(sMAPE, greater_is_better=False))</pre><b>In a Jupyter environment, please rerun this cell to show the HTML representation or trust the notebook. <br />On GitHub, the HTML representation is unable to render, please try loading this page with nbviewer.org.</b></div><div class=\"sk-container\" hidden><div class=\"sk-item sk-dashed-wrapped\"><div class=\"sk-label-container\"><div class=\"sk-label sk-toggleable\"><input class=\"sk-toggleable__control sk-hidden--visually\" id=\"sk-estimator-id-13\" type=\"checkbox\" ><label for=\"sk-estimator-id-13\" class=\"sk-toggleable__label sk-toggleable__label-arrow\">GridSearchCV</label><div class=\"sk-toggleable__content\"><pre>GridSearchCV(cv=KFold(n_splits=5, random_state=99, shuffle=True),\n",
       "             estimator=Pipeline(steps=[(&#x27;standardscaler&#x27;, StandardScaler()),\n",
       "                                       (&#x27;decisiontreeregressor&#x27;,\n",
       "                                        DecisionTreeRegressor(random_state=99))]),\n",
       "             param_grid={&#x27;decisiontreeregressor__max_depth&#x27;: array([ 1,  6, 11, 16])},\n",
       "             scoring=make_scorer(sMAPE, greater_is_better=False))</pre></div></div></div><div class=\"sk-parallel\"><div class=\"sk-parallel-item\"><div class=\"sk-item\"><div class=\"sk-label-container\"><div class=\"sk-label sk-toggleable\"><input class=\"sk-toggleable__control sk-hidden--visually\" id=\"sk-estimator-id-14\" type=\"checkbox\" ><label for=\"sk-estimator-id-14\" class=\"sk-toggleable__label sk-toggleable__label-arrow\">estimator: Pipeline</label><div class=\"sk-toggleable__content\"><pre>Pipeline(steps=[(&#x27;standardscaler&#x27;, StandardScaler()),\n",
       "                (&#x27;decisiontreeregressor&#x27;,\n",
       "                 DecisionTreeRegressor(random_state=99))])</pre></div></div></div><div class=\"sk-serial\"><div class=\"sk-item\"><div class=\"sk-serial\"><div class=\"sk-item\"><div class=\"sk-estimator sk-toggleable\"><input class=\"sk-toggleable__control sk-hidden--visually\" id=\"sk-estimator-id-15\" type=\"checkbox\" ><label for=\"sk-estimator-id-15\" class=\"sk-toggleable__label sk-toggleable__label-arrow\">StandardScaler</label><div class=\"sk-toggleable__content\"><pre>StandardScaler()</pre></div></div></div><div class=\"sk-item\"><div class=\"sk-estimator sk-toggleable\"><input class=\"sk-toggleable__control sk-hidden--visually\" id=\"sk-estimator-id-16\" type=\"checkbox\" ><label for=\"sk-estimator-id-16\" class=\"sk-toggleable__label sk-toggleable__label-arrow\">DecisionTreeRegressor</label><div class=\"sk-toggleable__content\"><pre>DecisionTreeRegressor(random_state=99)</pre></div></div></div></div></div></div></div></div></div></div></div></div>"
      ],
      "text/plain": [
       "GridSearchCV(cv=KFold(n_splits=5, random_state=99, shuffle=True),\n",
       "             estimator=Pipeline(steps=[('standardscaler', StandardScaler()),\n",
       "                                       ('decisiontreeregressor',\n",
       "                                        DecisionTreeRegressor(random_state=99))]),\n",
       "             param_grid={'decisiontreeregressor__max_depth': array([ 1,  6, 11, 16])},\n",
       "             scoring=make_scorer(sMAPE, greater_is_better=False))"
      ]
     },
     "execution_count": 80,
     "metadata": {},
     "output_type": "execute_result"
    }
   ],
   "source": [
    "%%time\n",
    "\n",
    "#подбираем гиперпараметры\n",
    "cv = KFold(n_splits = 5, shuffle = True, random_state=99)\n",
    "\n",
    "grid_pipe = GridSearchCV(pipe, param_grid=pipe_hp, cv=cv, scoring=scorer_smape)\n",
    "grid_pipe.fit(X_train, y_train_final)"
   ]
  },
  {
   "cell_type": "code",
   "execution_count": 81,
   "id": "5901a59f",
   "metadata": {},
   "outputs": [
    {
     "name": "stdout",
     "output_type": "stream",
     "text": [
      "best max_depth: {'decisiontreeregressor__max_depth': 11}\n",
      "best sMAPE score: -6.854831862050882\n"
     ]
    }
   ],
   "source": [
    "print('best max_depth:',grid_pipe.best_params_)\n",
    "print('best sMAPE score:' ,grid_pipe.best_score_)"
   ]
  },
  {
   "cell_type": "code",
   "execution_count": 82,
   "id": "0b7afaf2",
   "metadata": {},
   "outputs": [],
   "source": [
    "dt_score_final = grid_pipe.best_score_"
   ]
  },
  {
   "cell_type": "code",
   "execution_count": 83,
   "id": "aeff0481",
   "metadata": {},
   "outputs": [
    {
     "name": "stdout",
     "output_type": "stream",
     "text": [
      "Итоговый sMAPE(дерево решений) равен -5.93\n"
     ]
    }
   ],
   "source": [
    "print(f'Итоговый sMAPE(дерево решений) равен {round(0.25*dt_score_rougher + 0.75*dt_score_final,2)}')"
   ]
  },
  {
   "cell_type": "markdown",
   "id": "2adcaf11",
   "metadata": {},
   "source": [
    "___"
   ]
  },
  {
   "cell_type": "markdown",
   "id": "270e1c8d",
   "metadata": {},
   "source": [
    "### Dummy Regressor"
   ]
  },
  {
   "cell_type": "markdown",
   "id": "112672b7",
   "metadata": {},
   "source": [
    "Построим оценку метрики при прогнозе константы = среднего значения"
   ]
  },
  {
   "cell_type": "code",
   "execution_count": 84,
   "id": "c2c3f7b2",
   "metadata": {},
   "outputs": [],
   "source": [
    "#инициализация\n",
    "dummy_regr = DummyRegressor(strategy=\"mean\")"
   ]
  },
  {
   "cell_type": "code",
   "execution_count": 85,
   "id": "fbaedfaf",
   "metadata": {},
   "outputs": [
    {
     "data": {
      "text/plain": [
       "-6.9803008768261305"
      ]
     },
     "execution_count": 85,
     "metadata": {},
     "output_type": "execute_result"
    }
   ],
   "source": [
    "#считаем для показателя 'rougher.output.recovery'\n",
    "dummy_regr.fit(X_train, y_train_rougher)\n",
    "predictions = dummy_regr.predict(X_train)\n",
    "\n",
    "#домножение на -1 для сопоставления с sklearn scorer (он максимизирует потери, поэтому умножает на -1 результат скоринга)\n",
    "dummy_score_rougher = sMAPE(y_true=y_train_rougher, y_pred=predictions) * -1\n",
    "dummy_score_rougher"
   ]
  },
  {
   "cell_type": "code",
   "execution_count": 86,
   "id": "6c785d32",
   "metadata": {},
   "outputs": [
    {
     "data": {
      "text/plain": [
       "-9.610928880057374"
      ]
     },
     "execution_count": 86,
     "metadata": {},
     "output_type": "execute_result"
    }
   ],
   "source": [
    "##считаем для показателя 'final.output.recovery'\n",
    "dummy_regr.fit(X_train, y_train_final)\n",
    "predictions = dummy_regr.predict(X_train)\n",
    "\n",
    "#домножение на -1 для сопоставления с sklearn scorer (он максимизирует потери, поэтому умножает на -1 результат скоринга)\n",
    "dummy_score_final = sMAPE(y_true=y_train_final, y_pred=predictions) * -1\n",
    "dummy_score_final"
   ]
  },
  {
   "cell_type": "code",
   "execution_count": 87,
   "id": "01fe3bf7",
   "metadata": {
    "scrolled": true
   },
   "outputs": [
    {
     "name": "stdout",
     "output_type": "stream",
     "text": [
      "Итоговый sMAPE(dummy regressor) равен -8.95\n"
     ]
    }
   ],
   "source": [
    "print(f'Итоговый sMAPE(dummy regressor) равен {round(0.25*dummy_score_rougher + 0.75*dummy_score_final,2)}')"
   ]
  },
  {
   "cell_type": "markdown",
   "id": "d61a39ba",
   "metadata": {},
   "source": [
    "___"
   ]
  },
  {
   "cell_type": "code",
   "execution_count": 88,
   "id": "613c4308",
   "metadata": {},
   "outputs": [
    {
     "data": {
      "text/html": [
       "<div>\n",
       "<style scoped>\n",
       "    .dataframe tbody tr th:only-of-type {\n",
       "        vertical-align: middle;\n",
       "    }\n",
       "\n",
       "    .dataframe tbody tr th {\n",
       "        vertical-align: top;\n",
       "    }\n",
       "\n",
       "    .dataframe thead th {\n",
       "        text-align: right;\n",
       "    }\n",
       "</style>\n",
       "<table border=\"1\" class=\"dataframe\">\n",
       "  <thead>\n",
       "    <tr style=\"text-align: right;\">\n",
       "      <th></th>\n",
       "      <th>linreg</th>\n",
       "      <th>rand forest</th>\n",
       "      <th>decision tree</th>\n",
       "      <th>dummy regressor</th>\n",
       "    </tr>\n",
       "  </thead>\n",
       "  <tbody>\n",
       "    <tr>\n",
       "      <th>rougher.output.recovery</th>\n",
       "      <td>-5.98</td>\n",
       "      <td>-2.29</td>\n",
       "      <td>-3.14</td>\n",
       "      <td>-6.98</td>\n",
       "    </tr>\n",
       "    <tr>\n",
       "      <th>final.output.recovery</th>\n",
       "      <td>-9.77</td>\n",
       "      <td>-5.39</td>\n",
       "      <td>-6.85</td>\n",
       "      <td>-9.61</td>\n",
       "    </tr>\n",
       "  </tbody>\n",
       "</table>\n",
       "</div>"
      ],
      "text/plain": [
       "                         linreg  rand forest  decision tree  dummy regressor\n",
       "rougher.output.recovery   -5.98        -2.29          -3.14            -6.98\n",
       "final.output.recovery     -9.77        -5.39          -6.85            -9.61"
      ]
     },
     "execution_count": 88,
     "metadata": {},
     "output_type": "execute_result"
    }
   ],
   "source": [
    "#добавим все результаты в таблицу\n",
    "results = pd.DataFrame({\n",
    "    'linreg': [linreg_rougher, linreg_final],\n",
    "    'rand forest': [rf_score_rougher, rf_score_final],\n",
    "    'decision tree': [dt_score_rougher, dt_score_final],\n",
    "    'dummy regressor': [dummy_score_rougher, dummy_score_final]\n",
    "}, index=['rougher.output.recovery', 'final.output.recovery'])\n",
    "\n",
    "\n",
    "results = round(results,2)\n",
    "\n",
    "results"
   ]
  },
  {
   "cell_type": "markdown",
   "id": "cc5b2953",
   "metadata": {},
   "source": [
    "**Выводы**\n",
    "\n",
    "\n",
    "`rougher.output.recovery`\n",
    "* модель линейной регрессии показала значение sMAPE = -5.98\n",
    "* модель случайного леса показала значение sMAPE = -2.29 (с глубиной=16, количеством деревьев = 150)\n",
    "* модель дерева решений показала значение sMAPE = -3.14 (с глубиной=16)\n",
    "* модель, предсказывающая только среднее значение показателя показала значение sMAPE = -6.98\n",
    "\n",
    "Все модели предсказывают лучше, чем модель, предсказывающая только среднее значение.\n",
    "\n",
    "**Итого rougher.output.recovery**: для данного показателя выбрана модель случайного леса (с глубиной = 16, количеством деревьев = 150)\n",
    "\n",
    "`final.output.recovery`\n",
    "* модель линейной регрессии показала значение sMAPE = -9.77\n",
    "* модель случайного леса показала значение sMAPE = -5.39 (с глубиной=16, количеством деревьев = 150)\n",
    "* модель дерева решений показала значение sMAPE = -6.85 (с глубиной=16)\n",
    "* модель, предсказывающая только среднее значение показателя показала значение sMAPE = -9.61\n",
    "\n",
    "Модели случайного леса и дерева решений предсказывают лучше, чем модель, предсказывающая только среднее значение.\n",
    "\n",
    "**Итого final.output.recovery**: для данного показателя выбрана модель случайного леса (с глубиной = 16, количеством деревьев = 150)"
   ]
  },
  {
   "cell_type": "markdown",
   "id": "85f4a7f8",
   "metadata": {},
   "source": [
    "___"
   ]
  },
  {
   "cell_type": "markdown",
   "id": "9ca9e15e",
   "metadata": {},
   "source": [
    "### Проверка лучшей модели на тестовой выборке"
   ]
  },
  {
   "cell_type": "markdown",
   "id": "8888bf58",
   "metadata": {},
   "source": [
    "Для обоих показателей была выбрана модель случайного леса (с глубиной = 16, количеством деревьев = 150)"
   ]
  },
  {
   "cell_type": "markdown",
   "id": "63560d63",
   "metadata": {},
   "source": [
    "**rougher.output.recovery**"
   ]
  },
  {
   "cell_type": "code",
   "execution_count": 89,
   "id": "382dcd25",
   "metadata": {},
   "outputs": [],
   "source": [
    "#инициализируем модель\n",
    "rf = RandomForestRegressor(n_estimators=100, random_state=99, max_depth=16)\n",
    "\n",
    "#создадим объект трансформации данных (масштабирование)\n",
    "sc = StandardScaler()\n",
    "\n",
    "#создадим пайплайн, который будет выполнять (1) трансформацию данных и затем (2) обучать модель\n",
    "pipe = make_pipeline(sc, rf)\n",
    "\n",
    "#обучаем модель\n",
    "pipe.fit(X_train, y_train_rougher)\n",
    "\n",
    "#получаем предсказания целевого признака на тестовой выборке\n",
    "y_pred = pipe.predict(X_test)\n",
    "\n",
    "#считаем метрику качества\n",
    "score_smape_rougher = sMAPE(y_true=y_test_rougher, y_pred=y_pred)* -1"
   ]
  },
  {
   "cell_type": "markdown",
   "id": "33851907",
   "metadata": {},
   "source": [
    "**final.output.recovery**"
   ]
  },
  {
   "cell_type": "code",
   "execution_count": 90,
   "id": "9772cb7b",
   "metadata": {},
   "outputs": [],
   "source": [
    "#инициализируем модель\n",
    "rf = RandomForestRegressor(n_estimators=100, random_state=99, max_depth=16)\n",
    "\n",
    "#создадим объект трансформации данных (масштабирование)\n",
    "sc = StandardScaler()\n",
    "\n",
    "#создадим пайплайн, который будет выполнять (1) трансформацию данных и затем (2) обучать модель\n",
    "pipe = make_pipeline(sc, rf)\n",
    "\n",
    "#обучаем модель\n",
    "pipe.fit(X_train, y_train_final)\n",
    "\n",
    "#получаем предсказания целевого признака на тестовой выборке\n",
    "y_pred = pipe.predict(X_test)\n",
    "\n",
    "#считаем метрику качества\n",
    "score_smape_final = sMAPE(y_true=y_test_final, y_pred=y_pred)* -1"
   ]
  },
  {
   "cell_type": "code",
   "execution_count": 91,
   "id": "8d947c29",
   "metadata": {},
   "outputs": [
    {
     "name": "stdout",
     "output_type": "stream",
     "text": [
      "Итоговый sMAPE на тестовой выборке равен -6.51\n",
      "Итоговый sMAPE при обучении и выборе модели был равен -4.62\n"
     ]
    }
   ],
   "source": [
    "print(f'Итоговый sMAPE на тестовой выборке равен {round(0.25*score_smape_rougher + 0.75*score_smape_final,2)}')\n",
    "print(f'Итоговый sMAPE при обучении и выборе модели был равен {round(0.25*rf_score_rougher + 0.75*rf_score_final,2)}')"
   ]
  },
  {
   "cell_type": "markdown",
   "id": "f34a99a6",
   "metadata": {},
   "source": [
    "**Выводы**\n",
    "\n",
    "* Небольшое снижение метрики качества на тестовой выборке ожидаемо\n",
    "* Снижение качества не выглядит существенным, однако, чтобы дать корректную оценку, требуется подтверждение с экспертами в данном процессе."
   ]
  },
  {
   "cell_type": "markdown",
   "id": "f2fc9445",
   "metadata": {},
   "source": [
    "### Общие выводы\n",
    "\n",
    "**Вполненные шаги**\n",
    "\n",
    "`Предобработка данных:`\n",
    "* Признак дата переведен в формат даты\n",
    "* Подтверждена корректность расчета формулы эффективности обогащения руды с помощью пересчета данных созданной функцией\n",
    "* Количество признаков в обучающей и тестовой выборке приведены в соответствие друг другу (в тестовой отсутствуют те показатели, которые рассчитываются в последующих шагах процесса и недоступны на момент работы модели) \n",
    "* Пропуски заполнены близлежащими по дате значениями, согласно пониманию, что такие данные часто похожи\n",
    "\n",
    "`Анализ данных:`\n",
    "* Проанализированы изменения металлов по этапам:\n",
    "    * **Золото (Au):** Наглядно видно, что с каждым этапом концентрация золота увеличивается\n",
    "    * **Медь (Pb):** Концентрация меди увеличивается от исходного сырья до получения финального продукта\n",
    "    * **Серебро (Ag):** Концентрация серебра на этапах флотации и первичной очистки увеличивается, а после финальной очистки - падает\n",
    "* Подтверждена схожесть распределения размеров гранул сырья на обучающей и тестовой выборках\n",
    "* Выявлены аномалии: в данных присутствовали строки с аномально низкими значениями суммы металлов на всех трех этапах - аномальные значения удалены из обучающей и тестовой выборок\n",
    "\n",
    "`Построение моделей:`\n",
    "\n",
    "rougher.output.recovery\n",
    "* модель линейной регрессии показала значение sMAPE = -5.98\n",
    "* модель случайного леса показала значение sMAPE = -2.29 (с глубиной=16, количеством деревьев = 150)\n",
    "* модель дерева решений показала значение sMAPE = -3.14 (с глубиной=16)\n",
    "* модель, предсказывающая только среднее значение показателя показала значение sMAPE = -6.98\n",
    "\n",
    "Все модели предсказывают лучше, чем модель, предсказывающая только среднее значение.\n",
    "\n",
    "final.output.recovery\n",
    "* модель линейной регрессии показала значение sMAPE = -9.77\n",
    "* модель случайного леса показала значение sMAPE = -5.39 (с глубиной=16, количеством деревьев = 150)\n",
    "* модель дерева решений показала значение sMAPE = -6.85 (с глубиной=16)\n",
    "* модель, предсказывающая только среднее значение показателя показала значение sMAPE = -9.61\n",
    "\n",
    "Модели случайного леса и дерева решений предсказывают лучше, чем модель, предсказывающая только среднее значение.\n",
    "\n",
    "**Для обоих показателей была выбрана модель случайного леса (с глубиной = 16, количеством деревьев = 150)**\n",
    "\n",
    "\n",
    "`Проверка качества модели на тестовой выборке:`\n",
    "\n",
    "* Итоговый sMAPE:\n",
    "    * Итоговый sMAPE на тестовой выборке равен -6.51\n",
    "    * Итоговый sMAPE при обучении и выборе модели был равен -4.62\n",
    "\n",
    "* Небольшое снижение метрики качества на тестовой выборке ожидаемо\n",
    "* Снижение качества не выглядит существенным, однако, чтобы дать корректную оценку, требуется подтверждение с экспертами в данном процессе."
   ]
  }
 ],
 "metadata": {
  "kernelspec": {
   "display_name": "Python 3 (ipykernel)",
   "language": "python",
   "name": "python3"
  },
  "language_info": {
   "codemirror_mode": {
    "name": "ipython",
    "version": 3
   },
   "file_extension": ".py",
   "mimetype": "text/x-python",
   "name": "python",
   "nbconvert_exporter": "python",
   "pygments_lexer": "ipython3",
   "version": "3.9.13"
  },
  "toc": {
   "base_numbering": 1,
   "nav_menu": {},
   "number_sections": true,
   "sideBar": true,
   "skip_h1_title": true,
   "title_cell": "Table of Contents",
   "title_sidebar": "Contents",
   "toc_cell": true,
   "toc_position": {},
   "toc_section_display": true,
   "toc_window_display": true
  }
 },
 "nbformat": 4,
 "nbformat_minor": 5
}
